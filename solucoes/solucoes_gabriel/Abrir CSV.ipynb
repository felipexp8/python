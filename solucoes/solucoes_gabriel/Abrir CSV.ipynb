{
 "cells": [
  {
   "cell_type": "code",
   "execution_count": 15,
   "metadata": {},
   "outputs": [
    {
     "name": "stderr",
     "output_type": "stream",
     "text": [
      "IOPub data rate exceeded.\n",
      "The notebook server will temporarily stop sending output\n",
      "to the client in order to avoid crashing it.\n",
      "To change this limit, set the config variable\n",
      "`--NotebookApp.iopub_data_rate_limit`.\n",
      "\n",
      "Current values:\n",
      "NotebookApp.iopub_data_rate_limit=1000000.0 (bytes/sec)\n",
      "NotebookApp.rate_limit_window=3.0 (secs)\n",
      "\n"
     ]
    }
   ],
   "source": [
    "class Arquivo:\n",
    "\n",
    "    def __init__(self,arquivo):\n",
    "        \n",
    "        self.abrir = open(arquivo,\"r\")\n",
    "        self.qtd = 0\n",
    "        self.vetorflor = (self.abrir.readlines())\n",
    "        #self.vetorflor = [linha.strip(\"\\n\").split(' ') for linha in self.abrir]\n",
    "       \n",
    "    def get_lista(self):\n",
    "        print(self.vetorflor,\"\\n\")\n",
    "\n",
    "\n",
    "\n",
    "\n",
    "\n",
    "\n",
    "        \n",
    "        #self.vetorflor = [linha.strip(\"\\n\").split(' ') for linha in self.abrir]\n",
    "        #return self.vetorflor\n",
    "    \n",
    "    #def vazio(self):\n",
    "        \n",
    "        \n",
    "              \n",
    "    \n",
    "                           \n",
    "            \n",
    "    \n",
    "    \n",
    "    \n",
    "        #Coluna 1 = sepal_length\n",
    "        #Coluna 2 = sepal_width\n",
    "        #Coluna 3 = petal_length\n",
    "        #Coluna 4 = petal_width\n",
    "        #Coluna 5 = species\n",
    "        \n",
    "    \n",
    "a = Arquivo(\"arquivo.csv\")   \n",
    "a.get_lista()\n",
    "\n",
    "#a.vazio()\n"
   ]
  },
  {
   "cell_type": "code",
   "execution_count": null,
   "metadata": {},
   "outputs": [],
   "source": []
  },
  {
   "cell_type": "code",
   "execution_count": null,
   "metadata": {},
   "outputs": [],
   "source": []
  },
  {
   "cell_type": "code",
   "execution_count": null,
   "metadata": {},
   "outputs": [],
   "source": []
  }
 ],
 "metadata": {
  "kernelspec": {
   "display_name": "Python [conda env:exerc_python] *",
   "language": "python",
   "name": "conda-env-exerc_python-py"
  },
  "language_info": {
   "codemirror_mode": {
    "name": "ipython",
    "version": 3
   },
   "file_extension": ".py",
   "mimetype": "text/x-python",
   "name": "python",
   "nbconvert_exporter": "python",
   "pygments_lexer": "ipython3",
   "version": "3.7.3"
  }
 },
 "nbformat": 4,
 "nbformat_minor": 2
}
