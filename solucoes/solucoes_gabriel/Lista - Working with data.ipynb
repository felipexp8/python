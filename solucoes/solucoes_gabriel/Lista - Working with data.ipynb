{
 "cells": [
  {
   "cell_type": "markdown",
   "metadata": {},
   "source": [
    "**problem 1:** What will be the output of the following program?"
   ]
  },
  {
   "cell_type": "code",
   "execution_count": 1,
   "metadata": {},
   "outputs": [
    {
     "name": "stdout",
     "output_type": "stream",
     "text": [
      "[0, 1, [3]]\n",
      "[0, 1, [3, 4]]\n",
      "[0, 1, 2]\n"
     ]
    }
   ],
   "source": [
    "x = [0, 1, [2]]\n",
    "x[2][0] = 3 # muda o elemento de indice 0 para 3\n",
    "print (x)\n",
    "x[2].append(4) # adiciona um elemento ao final da lista x[2]\n",
    "print (x)\n",
    "x[2] = 2 # x[2] deixa de ser uma lista e vira apenas um elemento\n",
    "print (x)"
   ]
  },
  {
   "cell_type": "markdown",
   "metadata": {},
   "source": [
    "**problem 2:** Python has a built-in function sum to find sum of all elements of a list. Provide an implementation for sum."
   ]
  },
  {
   "cell_type": "code",
   "execution_count": 2,
   "metadata": {},
   "outputs": [
    {
     "name": "stdout",
     "output_type": "stream",
     "text": [
      "6\n"
     ]
    }
   ],
   "source": [
    "lista = [1,2,3]\n",
    "print(sum(lista))"
   ]
  },
  {
   "cell_type": "markdown",
   "metadata": {},
   "source": [
    "**problem 3:** What happens when the above sum function is called with a list of strings? Can you make your sum function work for a list of strings as well."
   ]
  },
  {
   "cell_type": "code",
   "execution_count": 1,
   "metadata": {},
   "outputs": [
    {
     "name": "stdout",
     "output_type": "stream",
     "text": [
      "HelloWorld\n",
      "aabbcc\n",
      "HelloWorld\n"
     ]
    }
   ],
   "source": [
    "#sum([\"hello\", \"world\"])\n",
    "l =[\"Hello\",\"World\"]\n",
    "y = [\"aa\",\"bb\",'cc']\n",
    "\n",
    "print(''.join(l))\n",
    "print(''.join(y))\n",
    "\n",
    "a  = l[0]\n",
    "b = l[1]\n",
    "print(a+b)\n"
   ]
  },
  {
   "cell_type": "markdown",
   "metadata": {},
   "source": [
    "**problem 4:** Implement a function product, to compute product of a list of numbers."
   ]
  },
  {
   "cell_type": "code",
   "execution_count": 23,
   "metadata": {},
   "outputs": [
    {
     "name": "stdout",
     "output_type": "stream",
     "text": [
      "720\n"
     ]
    }
   ],
   "source": [
    "lista = [1,2,3,4,5,6]\n",
    "mult = 1\n",
    "for i in range(len(lista)):\n",
    "    mult = mult*lista[i]\n",
    "print(mult)"
   ]
  },
  {
   "cell_type": "markdown",
   "metadata": {},
   "source": [
    "**problem 5:** Write a function factorial to compute factorial of a number. Can you use the product function defined in the previous example to compute factorial?"
   ]
  },
  {
   "cell_type": "code",
   "execution_count": 2,
   "metadata": {},
   "outputs": [
    {
     "name": "stdout",
     "output_type": "stream",
     "text": [
      "Entre com um valor: 6\n"
     ]
    },
    {
     "data": {
      "text/plain": [
       "720"
      ]
     },
     "execution_count": 2,
     "metadata": {},
     "output_type": "execute_result"
    }
   ],
   "source": [
    "n = int(input(\"Entre com um valor: \"))\n",
    "\n",
    "def fatorial(n):\n",
    "    m = 1\n",
    "    for x in range(n+1):\n",
    "        if x == 0:\n",
    "            x =1\n",
    "        else:\n",
    "            m = m * x\n",
    "    return m\n",
    "\n",
    "fatorial(n)"
   ]
  },
  {
   "cell_type": "markdown",
   "metadata": {},
   "source": [
    "**problem 6:** Write a function reverse to reverse a list. Can you do this without using list slicing?\n",
    "\n"
   ]
  },
  {
   "cell_type": "code",
   "execution_count": 26,
   "metadata": {},
   "outputs": [
    {
     "name": "stdout",
     "output_type": "stream",
     "text": [
      "Entre com a listagabriel teste\n",
      "['Teste', 'Gabriel']\n",
      "gabriel teste\n"
     ]
    }
   ],
   "source": [
    "l = [\"Gabriel\",\"Teste\"]\n",
    "l1 = []*len(l)\n",
    "\n",
    "n = len(l)\n",
    "\n",
    "for i in range(n-1,-1,-1):\n",
    "    l1.append(l[i])\n",
    "print(l1)"
   ]
  },
  {
   "cell_type": "markdown",
   "metadata": {},
   "source": [
    "**problem 7:** Python has built-in functions min and max to compute minimum and maximum of a given list. Provide an implementation for these functions. What happens when you call your min and max functions with a list of strings?"
   ]
  },
  {
   "cell_type": "code",
   "execution_count": 65,
   "metadata": {},
   "outputs": [
    {
     "name": "stdout",
     "output_type": "stream",
     "text": [
      "Teste\n",
      "Alo\n",
      "Alo\n",
      "Teste\n"
     ]
    }
   ],
   "source": [
    "lista = [\"Gabriel\",\"Teste\",\"Alo\",\"Cambio\"]\n",
    "\n",
    "print(max(lista))\n",
    "print(min(lista))\n",
    "\n",
    "lista.sort()\n",
    "print(lista[0]) # menor valor da lista\n",
    "print(lista[len(lista)-1]) # maior valor da lista\n"
   ]
  },
  {
   "cell_type": "markdown",
   "metadata": {},
   "source": [
    "**problem 8:** Cumulative sum of a list [a, b, c, ...] is defined as [a, a+b, a+b+c, ...]. Write a function cumulative_sum to compute cumulative sum of a list. Does your implementation work for a list of strings?\n",
    "\n"
   ]
  },
  {
   "cell_type": "code",
   "execution_count": 114,
   "metadata": {},
   "outputs": [
    {
     "name": "stdout",
     "output_type": "stream",
     "text": [
      "['Gabriel', 'GabrielRafael', 'GabrielRafaelLazaro', 'GabrielRafaelLazaroAlexandre']\n"
     ]
    }
   ],
   "source": [
    "lista = [\"Gabriel\", \"Rafael\",\"Lazaro\" ,\"Alexandre\"] # a lista pode ser de strings ou números\n",
    "soma = 0\n",
    "soma2 = ''\n",
    "\n",
    "if type(lista[0])==str:\n",
    "    for i in range(len(lista)):\n",
    "        soma2 = soma2 + lista[i]\n",
    "        l[i] = soma2\n",
    "    print(l)\n",
    "\n",
    "else:\n",
    "    for i in range(len(lista)):\n",
    "        soma = soma + lista[i]\n",
    "        l[i] = soma\n",
    "    print(l)\n"
   ]
  },
  {
   "cell_type": "markdown",
   "metadata": {},
   "source": [
    "**problem 9:** Write a function cumulative_product to compute cumulative product of a list of numbers."
   ]
  },
  {
   "cell_type": "code",
   "execution_count": 124,
   "metadata": {},
   "outputs": [
    {
     "data": {
      "text/plain": [
       "64"
      ]
     },
     "execution_count": 124,
     "metadata": {},
     "output_type": "execute_result"
    }
   ],
   "source": [
    "lista = [2, 2, 2, 2, 2, 2]\n",
    "\n",
    "\n",
    "def cumulative_product(lista):\n",
    "    mult = 1\n",
    "    for i in range(len(lista)):\n",
    "        mult = mult * lista[i]\n",
    "    return mult\n",
    "    print(mult)\n",
    "\n",
    "cumulative_product(lista)    \n"
   ]
  },
  {
   "cell_type": "markdown",
   "metadata": {},
   "source": [
    "**problem 10:** Write a function unique to find all the unique elements of a list."
   ]
  },
  {
   "cell_type": "code",
   "execution_count": 206,
   "metadata": {},
   "outputs": [
    {
     "name": "stdout",
     "output_type": "stream",
     "text": [
      "[1, 2, 3, 5]\n"
     ]
    }
   ],
   "source": [
    "lista = [1,2,1,3,2,5]\n",
    "l = []\n",
    "\n",
    "for i in lista:\n",
    "    if not i in l:\n",
    "        l.append(i)\n",
    "print(l)       "
   ]
  },
  {
   "cell_type": "markdown",
   "metadata": {},
   "source": [
    "**problem 11:** Write a function dups to find all duplicates in the list.\n"
   ]
  },
  {
   "cell_type": "code",
   "execution_count": 207,
   "metadata": {},
   "outputs": [
    {
     "name": "stdout",
     "output_type": "stream",
     "text": [
      "[1, 2]\n"
     ]
    }
   ],
   "source": [
    "lista = [1,2,1,3,2,5]\n",
    "\n",
    "l = []\n",
    "j = []\n",
    "for i in lista:\n",
    "    if not i in l:\n",
    "        l.append(i)\n",
    "    else:\n",
    "        j.append(i)\n",
    "print(j)      "
   ]
  },
  {
   "cell_type": "markdown",
   "metadata": {},
   "source": [
    "**problem 12:** Write a function group(list, size) that take a list and splits into smaller lists of given size."
   ]
  },
  {
   "cell_type": "code",
   "execution_count": 3,
   "metadata": {},
   "outputs": [
    {
     "name": "stdout",
     "output_type": "stream",
     "text": [
      "Entre com um valor: 3\n",
      "[[1, 2, 3], [4, 5]]\n"
     ]
    }
   ],
   "source": [
    "lista = [1, 2, 3, 4, 5]\n",
    "size = int(input(\"Entre com um valor: \"))\n",
    "\n",
    "def group(lista,size):\n",
    "    l1 = []\n",
    "    l2 = []\n",
    "    for i in lista:\n",
    "        l1.append(i)\n",
    "        if len(l1) == size:\n",
    "            l2.append(l1)\n",
    "            l1=[]\n",
    "    if len(l1) >=1:\n",
    "        l2.append(l1)\n",
    "    print(l2)\n",
    "    \n",
    "group(lista,size)\n",
    "    \n"
   ]
  },
  {
   "cell_type": "markdown",
   "metadata": {},
   "source": [
    "**problem 14:** Write a function lensort to sort a list of strings based on length."
   ]
  },
  {
   "cell_type": "code",
   "execution_count": 21,
   "metadata": {},
   "outputs": [
    {
     "name": "stdout",
     "output_type": "stream",
     "text": [
      "['ari', 'carlos', 'gabriel', 'alexandre']\n"
     ]
    }
   ],
   "source": [
    "def sorting(lista):\n",
    "    lista.sort(key=len)\n",
    "    return lista    \n",
    "\n",
    "lista = [\"gabriel\", \"carlos\",\"alexandre\",'ari']\n",
    "print(sorting(lista))\n",
    "\n",
    "\n"
   ]
  },
  {
   "cell_type": "markdown",
   "metadata": {},
   "source": [
    "**problem 15:** Improve the unique function written in previous problems to take an optional key function as argument and use the return value of the key function to check for uniqueness.\n"
   ]
  },
  {
   "cell_type": "code",
   "execution_count": 78,
   "metadata": {},
   "outputs": [
    {
     "name": "stdout",
     "output_type": "stream",
     "text": [
      "['legal', 'teste', 'alo', 'ole', 'al']\n"
     ]
    }
   ],
   "source": [
    "lista = ['Legal','Teste','Alo','Ole', 'Al','teste']\n",
    "\n",
    "\n",
    "def unique(lista,key):\n",
    "    l1 = []\n",
    "    for i in lista:\n",
    "        l1.append(key(i))\n",
    "    l2 = []\n",
    "    for i in l1:\n",
    "        if not i in l2:\n",
    "            l2.append(i)\n",
    "    print(l2)\n",
    "\n",
    "key = lambda s: str(s).lower()\n",
    "unique(lista,key)       \n",
    "           \n",
    " "
   ]
  },
  {
   "cell_type": "markdown",
   "metadata": {},
   "source": [
    "**problem 16:** Reimplement the unique function implemented in the earlier examples using sets."
   ]
  },
  {
   "cell_type": "code",
   "execution_count": 96,
   "metadata": {},
   "outputs": [
    {
     "name": "stdout",
     "output_type": "stream",
     "text": [
      "['teste', 'alo', 'al', 'ole', 'legal']\n"
     ]
    }
   ],
   "source": [
    "lista0 = {'Legal','Teste','Alo','Ole', 'Al','teste','Teste'}\n",
    "\n",
    "\n",
    "def unique(lista0,key1,key2):\n",
    "    \n",
    "    key2(lista0)\n",
    "    l1 = []\n",
    "    for i in lista:\n",
    "        l1.append(key1(i))\n",
    "    l2 = []\n",
    "    for i in l1:\n",
    "        if not i in l2:\n",
    "            l2.append(i)\n",
    "    print(l2)\n",
    "\n",
    "key2 = lambda x: set(x)\n",
    "key1 = lambda s: str(s).lower()\n",
    "unique(lista0,key1,key2)  \n"
   ]
  },
  {
   "cell_type": "markdown",
   "metadata": {},
   "source": [
    "**problem 17:** Write a function extsort to sort a list of files based on extension."
   ]
  },
  {
   "cell_type": "code",
   "execution_count": 19,
   "metadata": {},
   "outputs": [
    {
     "name": "stdout",
     "output_type": "stream",
     "text": [
      "['a.c', 'x.c', 'a.py', 'b.py', 'bar.txt', 'foo.txt', 'text.txt']\n"
     ]
    }
   ],
   "source": [
    "ext = ['a.c', 'x.c', 'a.py', 'b.py', 'bar.txt', 'foo.txt',\"text.txt\"]\n",
    "\n",
    "def pegaextensao(x):\n",
    "    extensao = x.split(\".\")\n",
    "    return(extensao[1])\n",
    "\n",
    "def extsort(lista):\n",
    "    lista.sort(key=pegaextensao)\n",
    "    print(lista)\n",
    "    \n",
    "extsort(ext)"
   ]
  },
  {
   "cell_type": "markdown",
   "metadata": {},
   "source": [
    "**problem 18:** Write a program reverse.py to print lines of a file in reverse order."
   ]
  },
  {
   "cell_type": "code",
   "execution_count": 159,
   "metadata": {},
   "outputs": [
    {
     "name": "stdout",
     "output_type": "stream",
     "text": [
      "-------------TEXTO MODIFICADO-------------\n",
      "I'm sure that the shells are seashore shells.\n",
      "So if she sells seashells on the seashore,\n",
      "The shells that she sells are seashells I'm sure.\n",
      "She sells seashells on the seashore;\n"
     ]
    }
   ],
   "source": [
    "abrir = open(\"she.txt\",'r')\n",
    "a = [linha for linha in abrir][::-1]\n",
    "vetor = (abrir.readlines()[::-1])\n",
    "print(\"-------------TEXTO MODIFICADO-------------\")\n",
    "qwert = [print(i.rstrip(\"\\n\")) for i in a]\n",
    "\n",
    "# outra forma:\n",
    "\n",
    "#abrir2 = open(\"she.txt\",'r')\n",
    "#b = [linha for linha in abrir2][::-1]\n",
    "#resultado = [print(i.rstrip('\\n')) for i in b]\n",
    "\n",
    "\n",
    "\n",
    "\n",
    "#print(\"-------------TEXTO MODIFICADO-------------\")\n",
    "#result = [print(i.rstrip(\"\\n\")) for i in vetor]\n",
    "#print(vetor)"
   ]
  },
  {
   "cell_type": "markdown",
   "metadata": {},
   "source": [
    "**problem 19:** Write a program to print each line of a file in reverse order.\n"
   ]
  },
  {
   "cell_type": "code",
   "execution_count": 161,
   "metadata": {},
   "outputs": [
    {
     "name": "stdout",
     "output_type": "stream",
     "text": [
      "10 9 8 7 6 5 4 3 2 1\n",
      " 1 2 3 4 5 6 7 8 9 10\n",
      "\n",
      ";erohsaes eht no sllehsaes slles ehS\n",
      "\n",
      ".erus m'I sllehsaes era slles ehs taht sllehs ehT\n",
      "\n",
      ",erohsaes eht no sllehsaes slles ehs fi oS\n",
      "\n",
      ".sllehs erohsaes era sllehs eht taht erus m'I\n"
     ]
    }
   ],
   "source": [
    "teste = open(\"out2.txt\",'r')\n",
    "vet = (teste.readlines()[::-1])\n",
    "teste = [print(i.rstrip(\"\\n\"))for i in vet]\n",
    "\n",
    "p = open(\"she.txt\",'r')\n",
    "invert = [linha[::-1] for linha in p]\n",
    "imprimi = [print(i.rstrip(\"\\n\")) for i in invert]"
   ]
  },
  {
   "cell_type": "markdown",
   "metadata": {},
   "source": [
    "**problem 20:** Implement unix commands head and tail. The head and tail commands take a file as argument and prints its first and last 10 lines of the file respectively."
   ]
  },
  {
   "cell_type": "code",
   "execution_count": 198,
   "metadata": {},
   "outputs": [
    {
     "name": "stdout",
     "output_type": "stream",
     "text": [
      "Linha 1\n",
      "Linha 2\n",
      "Linha 3\n",
      "Linha 4\n",
      "Linha 5\n",
      "Linha 6\n",
      "Linha 7\n",
      "Linha 8\n",
      "Linha 9\n",
      "Linha 10\n",
      " \n",
      "Linha 20\n",
      "Linha 19\n",
      "Linha 18\n",
      "Linha 17\n",
      "Linha 16\n",
      "Linha 15\n",
      "Linha 14\n",
      "Linha 13\n",
      "Linha 12\n",
      "Linha 11\n"
     ]
    },
    {
     "data": {
      "text/plain": [
       "[None, None, None, None, None, None, None, None, None, None, None]"
      ]
     },
     "execution_count": 198,
     "metadata": {},
     "output_type": "execute_result"
    }
   ],
   "source": [
    "def head():\n",
    "    teste = open(\"ex20.txt\",'r')\n",
    "    vet = (teste.readlines()[:10:1])\n",
    "    result = [print(i.rstrip(\"\\n\")) for i in vet]\n",
    "    return result\n",
    "\n",
    "def tail():\n",
    "    a = open(\"ex20.txt\",'r')\n",
    "    linhas = (a.readlines()[20:9:-1])\n",
    "    resultado = [print(j.rstrip('\\n')) for j in linhas]\n",
    "    return resultado\n",
    "\n",
    "head()\n",
    "tail()\n"
   ]
  },
  {
   "cell_type": "markdown",
   "metadata": {},
   "source": [
    "**problem 21:** Implement unix command grep. The grep command takes a string and a file as arguments and prints all lines in the file which contain the specified string."
   ]
  },
  {
   "cell_type": "code",
   "execution_count": 243,
   "metadata": {},
   "outputs": [
    {
     "name": "stdout",
     "output_type": "stream",
     "text": [
      "Texto modificado\n",
      "The shells that she sells are seashells I'm sure.\n",
      "I'm sure that the shells are seashore shells.\n",
      "\n",
      "\n",
      "Texto Original\n",
      "The shells that she sells are seashells I'm sure.\n",
      "I'm sure that the shells are seashore shells.\n",
      "TESTE - Essa linha não deve ser impressa!!!!!\n"
     ]
    }
   ],
   "source": [
    "def unix(string,arquivo):\n",
    "    print(\"Texto modificado\")    \n",
    "    a = open(arquivo,'r')\n",
    "    c = [linha for linha in a if string in linha]\n",
    "    result = [print(j.rstrip(\"\\n\")) for j in c]\n",
    "    \n",
    "\n",
    "unix(\"sure\",\"ex21.txt\")\n",
    "\n",
    "valor = open(\"ex21.txt\",'r')\n",
    "lin  = [x for x in valor]\n",
    "print(\"\\n\")\n",
    "print(\"Texto Original\")\n",
    "texto = [print(l.rstrip('\\n')) for l in lin]"
   ]
  },
  {
   "cell_type": "markdown",
   "metadata": {},
   "source": [
    "**problem 22:** Write a program wrap.py that takes filename and width as aruguments and wraps the lines longer than width."
   ]
  },
  {
   "cell_type": "code",
   "execution_count": 339,
   "metadata": {},
   "outputs": [
    {
     "name": "stdout",
     "output_type": "stream",
     "text": [
      "I'm sure that the shells are s\n",
      "eashore shells. \n",
      "So if she sells seashells on t\n",
      "he seashore\n",
      "The shells that she sells are \n",
      "seashells I'm sure.\n",
      "She sells seashells on the sea\n",
      "shore.\n",
      "Linha teste\n",
      "\n"
     ]
    }
   ],
   "source": [
    "def wrap(arquivo,tamanho):\n",
    "    ex = open(arquivo,'r')\n",
    "    vetor1 = [linha[0:tamanho:] for linha in ex]\n",
    "    ex1 = open(arquivo,'r')\n",
    "    vetor2 = [linha[tamanho::] for linha in ex1]\n",
    "    \n",
    "    final = []\n",
    "    for p in range(len(vetor1)):\n",
    "        final += vetor1[p],vetor2[p]\n",
    "    result = [print(z.rstrip(\"\\n\")) for z in final]\n",
    "    \n",
    "wrap(\"ex22.txt\",30)    \n",
    "\n",
    "\n",
    "\n",
    "#outra forma\n",
    "#def wraps(arquivo,tamanho):\n",
    "    #extern = open(arquivo,'r')\n",
    "    #vet = [linha[:tamanho]+\"\\n\"+linha[tamanho:] for linha in extern]\n",
    "    #result = [print(i.rstrip(\"\\n\")) for i in vet]\n",
    "    \n",
    "#wraps(\"ex22.txt\",30)\n"
   ]
  },
  {
   "cell_type": "markdown",
   "metadata": {},
   "source": [
    "**problem 23:** The above wrap program is not so nice because it is breaking the line at middle of any word. Can you write a new program wordwrap.py that works like wrap.py, but breaks the line only at the word boundaries?"
   ]
  },
  {
   "cell_type": "code",
   "execution_count": 110,
   "metadata": {},
   "outputs": [
    {
     "name": "stdout",
     "output_type": "stream",
     "text": [
      "I'm sure that the \n",
      "shellsare seashore \n",
      "shells.\n",
      "So if she sells \n",
      "seashellson the \n",
      "seashore\n",
      "The shells that \n",
      "shesells are \n",
      "seashellsI'm sure. \n",
      "She sells \n",
      "seashellson the \n",
      "seashore.\n",
      "Linha teste \n",
      " \n"
     ]
    }
   ],
   "source": [
    "def wordwrap(arquivo,barreira):\n",
    "    abrir = open(arquivo,'r')\n",
    "    lines = abrir.readlines() # transforma as linhas do arquivo em lista\n",
    "    \n",
    "    for line in lines:\n",
    "        words = line.replace(\"\\n\",\"\").split(\" \")\n",
    "        aux = \"\"\n",
    "        pr = \"\"\n",
    "        for word in words:\n",
    "            aux += \"{} \".format(word)\n",
    "            if len(aux) < barreira:\n",
    "                pr = aux\n",
    "            else:\n",
    "                print(pr)\n",
    "                aux = \"{}\".format(word)\n",
    "                pr = \"{}\".format(word)\n",
    "        print(pr)\n",
    "    \n",
    "wordwrap(\"ex23.txt\",20)"
   ]
  },
  {
   "cell_type": "markdown",
   "metadata": {},
   "source": [
    "**problem 24:** Write a program center_align.py to center align all lines in the given file."
   ]
  },
  {
   "cell_type": "code",
   "execution_count": 61,
   "metadata": {},
   "outputs": [
    {
     "name": "stdout",
     "output_type": "stream",
     "text": [
      "  I'm sure that the shells are seashore shells.   \n",
      "    So if she sells seashells on the seashore     \n",
      "The shells that she sells are seashells I'm sure. \n",
      "       She sells seashells on the seashore.       \n",
      "                   Linha teste                    \n",
      "                                                  \n"
     ]
    }
   ],
   "source": [
    "abrir = open(\"ex23.txt\",'r')\n",
    "vetor1 = [linhas for linhas in abrir]\n",
    "\n",
    "for i in range(len(vetor1)):\n",
    "    tamanho.append(len(vetor1[i]))\n",
    "maximo = max(tamanho)\n",
    "result = [print(z.rstrip(\"\\n\").center(maximo)) for z in vetor1]\n"
   ]
  },
  {
   "cell_type": "markdown",
   "metadata": {},
   "source": [
    "**problem 25:** Provide an implementation for zip function using list comprehensions.\n",
    "\n"
   ]
  },
  {
   "cell_type": "code",
   "execution_count": 177,
   "metadata": {},
   "outputs": [
    {
     "data": {
      "text/plain": [
       "[[1, 'a'], [2, 'b'], [3, 'c']]"
      ]
     },
     "execution_count": 177,
     "metadata": {},
     "output_type": "execute_result"
    }
   ],
   "source": [
    "#def zipfunction(vetor1,vetor2):\n",
    "    #final = []\n",
    "    #for i in range(len(vetor1)):\n",
    "        #final += [(vetor1[i],vetor2[i])]\n",
    "    #return final\n",
    "   \n",
    "vetor1 = [1, 2, 3]\n",
    "vetor2 = [\"a\", \"b\", \"c\"]\n",
    "#zipfunction(vetor1,vetor2)\n",
    "\n",
    "\n",
    "def ziplist(vetor1,vetor2):\n",
    "    vet = [([vetor1[x],vetor2[x]]) for x in range(len(vetor1))]\n",
    "    return vet\n",
    "ziplist(vetor1,vetor2)   \n",
    "    "
   ]
  },
  {
   "cell_type": "markdown",
   "metadata": {},
   "source": [
    "**problem 26:** Python provides a built-in function map that applies a function to each element of a list. Provide an implementation for map using list comprehensions."
   ]
  },
  {
   "cell_type": "code",
   "execution_count": 176,
   "metadata": {},
   "outputs": [
    {
     "name": "stdout",
     "output_type": "stream",
     "text": [
      "[0, 1, 4, 9, 16]\n",
      "[0, 1, 4, 9, 16]\n"
     ]
    }
   ],
   "source": [
    "def square(x): return x*x\n",
    "lista = [square(x) for x in range(5)]\n",
    "print(lista)\n",
    "lista1 = [square(x) for x in range(len(l1))]\n",
    "print(lista1)"
   ]
  },
  {
   "cell_type": "markdown",
   "metadata": {},
   "source": [
    "**problem 27:** Python provides a built-in function filter(f, a) that returns items of the list a for which f(item) returns true. Provide an implementation for filter using list comprehensions.\n",
    "\n"
   ]
  },
  {
   "cell_type": "code",
   "execution_count": 200,
   "metadata": {},
   "outputs": [
    {
     "data": {
      "text/plain": [
       "[True]"
      ]
     },
     "execution_count": 200,
     "metadata": {},
     "output_type": "execute_result"
    }
   ],
   "source": [
    "#listinha = [\"a\",\"b\",\"c\"]\n",
    "\n",
    "#def filtro(var,lista):\n",
    "    #if (var in lista):\n",
    "        #return True\n",
    "    #else: \n",
    "        #return False\n",
    "#filtro(\"a\",listinha)\n",
    "\n",
    "# Usando List Comprehensions\n",
    "def filtro(item,lista):\n",
    "    resultado = [True if item in lista else False]\n",
    "    return resultado\n",
    "\n",
    "filtro(\"a\",[\"a\",\"b\",\"c\"])"
   ]
  },
  {
   "cell_type": "markdown",
   "metadata": {},
   "source": [
    "**problem 28:** Write a function triplets that takes a number n as argument and returns a list of triplets such that sum of first two elements of the triplet equals the third element using numbers below n. Please note that (a, b, c) and (b, a, c) represent same triplet."
   ]
  },
  {
   "cell_type": "code",
   "execution_count": 362,
   "metadata": {},
   "outputs": [
    {
     "name": "stdout",
     "output_type": "stream",
     "text": [
      "[(1, 1, 2), (1, 2, 3), (2, 1, 3), (2, 2, 4), (3, 1, 4)]\n",
      "[(1, 1, 2), (1, 2, 3), (1, 3, 4), (2, 2, 4)]\n"
     ]
    }
   ],
   "source": [
    "vetor1 = [0,1,2,3,4]\n",
    "vetor2 = [0,1,2,3,4]\n",
    "\n",
    "\n",
    "final =[]\n",
    "soma = []\n",
    "for p in range(5):\n",
    "    for j in range(5//2 +1):\n",
    "        if   vetor1[p]==0 or vetor2[j]==0:\n",
    "            val = 1\n",
    "        else:\n",
    "            if vetor1[p]+vetor2[j] < 5:\n",
    "                #if vetor1[p]+vetor2[j] not in soma:\n",
    "                    #soma += [vetor1[p]+vetor2[j]]\n",
    "                #if (vetor1[p]+vetor2[j]) in soma:\n",
    "                    final +=[(vetor1[p],vetor2[j],vetor1[p]+vetor2[j])]\n",
    "                \n",
    "print(final)\n",
    "\n",
    "def filtro(valor):\n",
    "    resultado = [(a,c-a,c) for c in range(2,valor) for a in range (1,c//2+1)]\n",
    "    return resultado\n",
    "print(filtro(5))"
   ]
  },
  {
   "cell_type": "markdown",
   "metadata": {},
   "source": [
    "**problem 29:** Write a function enumerate that takes a list and returns a list of tuples containing (index,item) for each item in the list."
   ]
  },
  {
   "cell_type": "code",
   "execution_count": 395,
   "metadata": {},
   "outputs": [
    {
     "name": "stdout",
     "output_type": "stream",
     "text": [
      "[(0, 'a'), (1, 'b'), (2, 'c')]\n"
     ]
    },
    {
     "data": {
      "text/plain": [
       "[(0, 'a'), (1, 'b'), (2, 'c')]"
      ]
     },
     "execution_count": 395,
     "metadata": {},
     "output_type": "execute_result"
    }
   ],
   "source": [
    "lista = [\"a\",\"b\",\"c\"]\n",
    "soma =[]\n",
    "fim = []\n",
    "for p in range(len(lista)):\n",
    "    soma.append(p)\n",
    "for i in range(len(lista)):\n",
    "    fim += [(soma[i],lista[i])]\n",
    "print(fim)\n",
    "\n",
    "def conta(lista,item):\n",
    "    resul = [(i, j) for i,j in zip(range(len(lista)), lista)]\n",
    "    return resul\n",
    "\n",
    "conta(lista,5)"
   ]
  },
  {
   "cell_type": "markdown",
   "metadata": {},
   "source": [
    "**problem 30:** Write a function array to create an 2-dimensional array. The function should take both dimensions as arguments. Value of each element can be initialized to None:"
   ]
  },
  {
   "cell_type": "code",
   "execution_count": 419,
   "metadata": {},
   "outputs": [
    {
     "name": "stdout",
     "output_type": "stream",
     "text": [
      "[['None', 'None', 'None', 'None'], ['None', 'None', 'None', 'None']]\n",
      "[[5, 'None', 'None', 'None'], ['None', 'None', 'None', 'None']]\n"
     ]
    }
   ],
   "source": [
    "def array(v1,v2):\n",
    "    re = [[\"None\" for a in range(v1)] for b in range(v2)]\n",
    "    return re\n",
    "\n",
    "a = array(4,2)\n",
    "print(a)\n",
    "a[0][0] = 5\n",
    "print(a)"
   ]
  },
  {
   "cell_type": "markdown",
   "metadata": {},
   "source": [
    "**problem 31:** Write a python function parse_csv to parse csv (comma separated values) file"
   ]
  },
  {
   "cell_type": "code",
   "execution_count": null,
   "metadata": {},
   "outputs": [],
   "source": []
  },
  {
   "cell_type": "code",
   "execution_count": 453,
   "metadata": {},
   "outputs": [
    {
     "name": "stdout",
     "output_type": "stream",
     "text": [
      "[['a', 'b', 'c'], ['1', '2', '3'], ['2', '3', '4'], ['3', '4', '5']]\n",
      "[['a', 'b', 'c'], ['1', '2', '3'], ['2', '3', '4'], ['3', '4', '5']]\n"
     ]
    }
   ],
   "source": [
    "def parse2(arq):\n",
    "    abrir = open(arq,'r')\n",
    "    lines = abrir.readlines()\n",
    "    words = []\n",
    "    for line in lines:\n",
    "        words+=[line.replace(\"\\n\",\"\").split(\",\")]\n",
    "    return words\n",
    "print(parse2(\"a.csv\"))\n",
    "\n",
    "\n",
    "def parse(arq):\n",
    "    abr = open(arq,\"r\")\n",
    "    lines = abr.readlines()\n",
    "    resultado = [line.replace(\"\\n\",\"\").split(',') for line in lines]\n",
    "    return resultado\n",
    "\n",
    "print(parse(\"a.csv\"))"
   ]
  },
  {
   "cell_type": "markdown",
   "metadata": {},
   "source": [
    "**problem 32:** Generalize the above implementation of csv parser to support any delimiter and comments."
   ]
  },
  {
   "cell_type": "code",
   "execution_count": 462,
   "metadata": {},
   "outputs": [
    {
     "name": "stdout",
     "output_type": "stream",
     "text": [
      "[['1', '2', '3'], ['2', '3', '4'], ['3', '4', '5']]\n"
     ]
    }
   ],
   "source": [
    "def parser(arq,sep,nope):\n",
    "    abr = open(arq,\"r\")\n",
    "    lines = abr.readlines()\n",
    "    resultado = [line.replace(\"\\n\",\"\").split(sep) for line in lines if nope not in line]\n",
    "    return resultado\n",
    "print(parser(\"b.csv\",\"!\",\"#\"))"
   ]
  },
  {
   "cell_type": "markdown",
   "metadata": {},
   "source": [
    "**problem 33:** Write a function mutate to compute all words generated by a single mutation on a given word. A mutation is defined as inserting a character, deleting a character, replacing a character, or swapping 2 consecutive characters in a string. For simplicity consider only letters from a to z.\n",
    "\n"
   ]
  },
  {
   "cell_type": "code",
   "execution_count": 487,
   "metadata": {},
   "outputs": [
    {
     "name": "stdout",
     "output_type": "stream",
     "text": [
      "True\n",
      "True\n",
      "True\n"
     ]
    }
   ],
   "source": [
    "import string\n",
    "def f1(word):\n",
    "    return set(word[:i] + c + word[i:] for i in range(len(word) + 1) for c in string.ascii_lowercase)\n",
    "def f2(word):\n",
    "    return set((word[:i] + word[i + 1:]) for i in range(len(word)))\n",
    "def f3(word):\n",
    "    return set((word[:i] + c + word[i + 1:] for i in range(len(word)) for c in string.ascii_lowercase))\n",
    "def f4(word):\n",
    "    return set((word[:i] + word[i + 1] + word[i] + word[i + 2:]) for i in range(len(word) - 1))\n",
    "def mutate(word):\n",
    "    return set(f1(word) | f2(word) | f3(word) | f4(word))\n",
    "\n",
    "words = mutate('hello')\n",
    "print('helo' in words)\n",
    "print('cello' in words)\n",
    "print('helol' in words)\n"
   ]
  },
  {
   "cell_type": "markdown",
   "metadata": {},
   "source": [
    "**problem 34:** Write a function nearly_equal to test whether two strings are nearly equal. Two strings a and b are nearly equal when a can be generated by a single mutation on b."
   ]
  },
  {
   "cell_type": "code",
   "execution_count": 492,
   "metadata": {},
   "outputs": [
    {
     "name": "stdout",
     "output_type": "stream",
     "text": [
      "False\n",
      "True\n",
      "False\n"
     ]
    }
   ],
   "source": [
    "import string\n",
    "def f1(word):\n",
    "    return set(word[:i] + c + word[i:] for i in range(len(word) + 1) for c in string.ascii_lowercase)\n",
    "def f2(word):\n",
    "    return set((word[:i] + word[i + 1:]) for i in range(len(word)))\n",
    "def f3(word):\n",
    "    return set((word[:i] + c + word[i + 1:] for i in range(len(word)) for c in string.ascii_lowercase))\n",
    "def f4(word):\n",
    "    return set((word[:i] + word[i + 1] + word[i] + word[i + 2:]) for i in range(len(word) - 1))\n",
    "def mutate(word):\n",
    "    return set(f1(word) | f2(word) | f3(word) | f4(word))\n",
    "def quase_igual(string1,string2):\n",
    "    return string1 in mutate(string2)\n",
    "\n",
    "print(quase_igual('python','perl'))\n",
    "print(quase_igual('python','fython'))\n",
    "print(quase_igual('python','fyteon'))\n",
    "    "
   ]
  },
  {
   "cell_type": "markdown",
   "metadata": {},
   "source": [
    "**problem 36:** Write a program to count frequency of characters in a given file. Can you use character frequency to tell whether the given file is a Python program file, C program file or a text file?"
   ]
  },
  {
   "cell_type": "code",
   "execution_count": 527,
   "metadata": {
    "collapsed": true
   },
   "outputs": [
    {
     "data": {
      "text/plain": [
       "{'/': 34,\n",
       " ' ': 83,\n",
       " 'F': 1,\n",
       " 'u': 9,\n",
       " 'n': 25,\n",
       " 'c': 13,\n",
       " 'a': 29,\n",
       " 'o': 36,\n",
       " 'p': 7,\n",
       " 'i': 37,\n",
       " 'r': 27,\n",
       " 'v': 4,\n",
       " 'e': 22,\n",
       " 't': 25,\n",
       " '\\n': 22,\n",
       " '#': 1,\n",
       " 'l': 4,\n",
       " 'd': 15,\n",
       " '<': 4,\n",
       " 's': 13,\n",
       " '.': 3,\n",
       " 'h': 2,\n",
       " '>': 1,\n",
       " 'b': 2,\n",
       " 'I': 1,\n",
       " 'O': 1,\n",
       " 'g': 8,\n",
       " 'f': 16,\n",
       " 'C': 4,\n",
       " 'V': 15,\n",
       " '(': 8,\n",
       " ',': 16,\n",
       " '[': 9,\n",
       " ']': 9,\n",
       " ')': 8,\n",
       " '{': 5,\n",
       " 'j': 21,\n",
       " ';': 12,\n",
       " '=': 8,\n",
       " '0': 16,\n",
       " '1': 9,\n",
       " '2': 2,\n",
       " '…': 1,\n",
       " '-': 2,\n",
       " '+': 8,\n",
       " '}': 5,\n",
       " 'm': 10,\n",
       " 'ç': 2,\n",
       " 'õ': 1,\n",
       " 'z': 1,\n",
       " 'ã': 1,\n",
       " '\"': 2,\n",
       " '%': 1}"
      ]
     },
     "execution_count": 527,
     "metadata": {},
     "output_type": "execute_result"
    }
   ],
   "source": [
    "def histograma(file):\n",
    "    with open(file) as f:\n",
    "        hist = {}\n",
    "        while True:\n",
    "            c = f.read(1)\n",
    "            if not c:\n",
    "                return hist\n",
    "            elif c in hist:\n",
    "                hist[c] +=1\n",
    "            else:\n",
    "                hist[c] = 1\n",
    "histograma(\"progC.txt\")"
   ]
  },
  {
   "cell_type": "markdown",
   "metadata": {},
   "source": [
    "**problem 37:** Write a program to find anagrams in a given list of words. Two words are called anagrams if one word can be formed by rearranging letters of another. For example 'eat', 'ate' and 'tea' are anagrams."
   ]
  },
  {
   "cell_type": "code",
   "execution_count": 76,
   "metadata": {},
   "outputs": [
    {
     "name": "stdout",
     "output_type": "stream",
     "text": [
      "{'aet', 'ate', 'eat', 'tae', 'eta', 'tea'}\n"
     ]
    }
   ],
   "source": [
    "anagrams = ['eat', 'ate', 'done', 'tea', 'soup', 'node']\n",
    "import itertools\n",
    "\n",
    "\n",
    "for i in range(len(anagrams))\n",
    "\n",
    "a = set(\"\".join(perm) for perm in itertools.permutations('eat'))\n",
    "b = set(\"\".join(perm) for perm in itertools.permutations('ate'))\n",
    "final  = set(a|b)\n",
    "\n",
    "print(final)\n",
    "\n",
    "\n"
   ]
  },
  {
   "cell_type": "markdown",
   "metadata": {},
   "source": [
    "**problem 38:** Write a function valuesort to sort values of a dictionary based on the key.\n",
    "\n"
   ]
  },
  {
   "cell_type": "code",
   "execution_count": 641,
   "metadata": {},
   "outputs": [
    {
     "name": "stdout",
     "output_type": "stream",
     "text": [
      "[('a', 3), ('x', 1), ('y', 2)]\n",
      "[3, 1, 2]\n"
     ]
    }
   ],
   "source": [
    "dic = {'x': 1, 'y': 2, 'a': 3}\n",
    "\n",
    "ord = sorted((value,key) for (value,key) in dic.items()) #ordena a partir das letras\n",
    "print(ord)\n",
    "\n",
    "key = [i for i in dic]\n",
    "a = key.sort()\n",
    "b = [dic[j] for j in key]\n",
    "print(b)\n",
    "\n",
    "#ord = sorted((value,key) for (value,key) in dic.items()) #ordena a partir das letras\n",
    "#print(ord)\n",
    "#print(a)\n",
    "#b = [dic[i] for i in a] #trnasforma os valores dos parametros do dicion\n",
    "#print(b)\n",
    "\n",
    "#keys = [i for i in dic]\n",
    "    #keys.sort()\n",
    "    #return [dic[i] for i in keys]\n"
   ]
  },
  {
   "cell_type": "markdown",
   "metadata": {},
   "source": [
    "**problem 39:** Write a function invertdict to interchange keys and values in a dictionary. For simplicity, assume that all values are unique."
   ]
  },
  {
   "cell_type": "code",
   "execution_count": 31,
   "metadata": {},
   "outputs": [
    {
     "data": {
      "text/plain": [
       "{1: 'x', 2: 'y', 3: 'a'}"
      ]
     },
     "execution_count": 31,
     "metadata": {},
     "output_type": "execute_result"
    }
   ],
   "source": [
    "dic = {'x': 1, 'y': 2, 'a': 3}\n",
    "key = [i for i in dic]\n",
    "value = [dic[j] for j in key]\n",
    "vet=[]\n",
    "for x in range(len(key)):\n",
    "    vet += [value[x],key[x]]\n",
    "def convert(lista): \n",
    "    res_dct = {lista[i]: lista[i + 1] for i in range(0, len(lista), 2)} \n",
    "    return res_dct \n",
    "convert(vet)"
   ]
  },
  {
   "cell_type": "code",
   "execution_count": null,
   "metadata": {},
   "outputs": [],
   "source": []
  }
 ],
 "metadata": {
  "kernelspec": {
   "display_name": "Python [conda env:exerc_python] *",
   "language": "python",
   "name": "conda-env-exerc_python-py"
  },
  "language_info": {
   "codemirror_mode": {
    "name": "ipython",
    "version": 3
   },
   "file_extension": ".py",
   "mimetype": "text/x-python",
   "name": "python",
   "nbconvert_exporter": "python",
   "pygments_lexer": "ipython3",
   "version": "3.7.3"
  }
 },
 "nbformat": 4,
 "nbformat_minor": 2
}
