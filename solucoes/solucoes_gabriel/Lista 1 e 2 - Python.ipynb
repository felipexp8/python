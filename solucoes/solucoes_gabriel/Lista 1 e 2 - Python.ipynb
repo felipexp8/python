{
 "cells": [
  {
   "cell_type": "code",
   "execution_count": 1,
   "metadata": {},
   "outputs": [
    {
     "name": "stdout",
     "output_type": "stream",
     "text": [
      "5\n"
     ]
    }
   ],
   "source": [
    "#Exercício 1 - Lista 1 \n",
    "\n",
    "a = 2\n",
    "b = 3\n",
    "print (a+b)\n"
   ]
  },
  {
   "cell_type": "code",
   "execution_count": 3,
   "metadata": {},
   "outputs": [
    {
     "name": "stdout",
     "output_type": "stream",
     "text": [
      "hello, world hello, world hello, world hello, world \n"
     ]
    }
   ],
   "source": [
    "# Exercicio 2 - Lista 1\n",
    "\n",
    "str =  'hello, world '\n",
    "print(str*4)\n"
   ]
  },
  {
   "cell_type": "code",
   "execution_count": 4,
   "metadata": {},
   "outputs": [
    {
     "data": {
      "text/plain": [
       "3"
      ]
     },
     "execution_count": 4,
     "metadata": {},
     "output_type": "execute_result"
    }
   ],
   "source": [
    "#Exercício 3 - Lista 1\n",
    "\n",
    "1+2"
   ]
  },
  {
   "cell_type": "code",
   "execution_count": 5,
   "metadata": {},
   "outputs": [
    {
     "name": "stdout",
     "output_type": "stream",
     "text": [
      "2 5\n"
     ]
    }
   ],
   "source": [
    "#Exercício 4 - Lista 1\n",
    "\n",
    "x = 4\n",
    "y = x + 1\n",
    "x = 2\n",
    "print (x, y)"
   ]
  },
  {
   "cell_type": "code",
   "execution_count": 6,
   "metadata": {},
   "outputs": [
    {
     "name": "stdout",
     "output_type": "stream",
     "text": [
      "6 4\n"
     ]
    }
   ],
   "source": [
    "#Exercício 5 - Lista 1\n",
    "\n",
    "x, y = 2, 6\n",
    "x, y = y, x + 2\n",
    "print (x, y)\n"
   ]
  },
  {
   "cell_type": "code",
   "execution_count": 12,
   "metadata": {},
   "outputs": [
    {
     "name": "stdout",
     "output_type": "stream",
     "text": [
      "2 3 2\n"
     ]
    }
   ],
   "source": [
    "#Exercício 6 - Lista 1\n",
    "\n",
    "#não funciona\n",
    "#a, b = 2, 3\n",
    "#c, b = a, c + 1\n",
    "#print (a, b, c)\n",
    "\n",
    "#Funciona\n",
    "a, b = 2, 3\n",
    "c = a\n",
    "b = c+1\n",
    "print(a,b,c)\n"
   ]
  },
  {
   "cell_type": "code",
   "execution_count": 14,
   "metadata": {},
   "outputs": [
    {
     "name": "stdout",
     "output_type": "stream",
     "text": [
      "25\n",
      "100\n"
     ]
    }
   ],
   "source": [
    "#Exercício 7 - Lista 1\n",
    "\n",
    "numcalls = 0\n",
    "def square(x):\n",
    "    global numcalls\n",
    "    numcalls = numcalls + 1\n",
    "    return x * x\n",
    "\n",
    "print (square(5))\n",
    "print (square(2*5))\n",
    "\n",
    "# são executadas 3 multiplicações - 1o square(5) = 5*5; 2o (2*5); 3o square(2*5) = 10*10"
   ]
  },
  {
   "cell_type": "code",
   "execution_count": 18,
   "metadata": {},
   "outputs": [
    {
     "name": "stdout",
     "output_type": "stream",
     "text": [
      "1\n",
      "1\n"
     ]
    }
   ],
   "source": [
    "#Exercício 8 - Lista 1\n",
    "\n",
    "x = 1\n",
    "def f():\n",
    "    return x\n",
    "print(x)\n",
    "print(f())"
   ]
  },
  {
   "cell_type": "code",
   "execution_count": 20,
   "metadata": {},
   "outputs": [
    {
     "name": "stdout",
     "output_type": "stream",
     "text": [
      "1\n",
      "2\n",
      "1\n"
     ]
    }
   ],
   "source": [
    "#Exercício 9 - Lista 1\n",
    "\n",
    "x = 1\n",
    "def f():\n",
    "        x = 2\n",
    "        return x\n",
    "print (x)\n",
    "print (f())\n",
    "print (x)"
   ]
  },
  {
   "cell_type": "code",
   "execution_count": 26,
   "metadata": {},
   "outputs": [
    {
     "name": "stdout",
     "output_type": "stream",
     "text": [
      "1\n",
      "3\n",
      "1\n"
     ]
    }
   ],
   "source": [
    "#Exercício 10 - Lista 1\n",
    "\n",
    "x = 1\n",
    "def f():\n",
    "    x = 1 # adicionada essa linha para resolver o problema\n",
    "    y = x\n",
    "    x = 2\n",
    "    return x + y\n",
    "print (x)\n",
    "print (f())\n",
    "print (x)"
   ]
  },
  {
   "cell_type": "code",
   "execution_count": 29,
   "metadata": {},
   "outputs": [
    {
     "name": "stdout",
     "output_type": "stream",
     "text": [
      "2 9\n"
     ]
    }
   ],
   "source": [
    "#Exercício 11 - Lista 1\n",
    "\n",
    "x = 2\n",
    "def f(a):\n",
    "    x = a*a\n",
    "    return x\n",
    "y = f(3)\n",
    "print(x,y)\n"
   ]
  },
  {
   "cell_type": "code",
   "execution_count": 42,
   "metadata": {},
   "outputs": [
    {
     "name": "stdout",
     "output_type": "stream",
     "text": [
      "Entre com um valor: 12345678910\n",
      "Número de digitos: 11\n"
     ]
    }
   ],
   "source": [
    "#Exercício 12 - Lista 1\n",
    "\n",
    "def dig(num):\n",
    "    num = int(input(\"Entre com um valor: \"))\n",
    "    cont = 0\n",
    "    while (num > 0):\n",
    "        num = num // 10\n",
    "        cont = cont +1\n",
    "    return cont\n",
    "\n",
    "print(\"Número de digitos:\",dig(num))\n",
    "\n",
    "\n"
   ]
  },
  {
   "cell_type": "code",
   "execution_count": 62,
   "metadata": {},
   "outputs": [
    {
     "name": "stdout",
     "output_type": "stream",
     "text": [
      "Entre com a primeira string :Gabriel\n",
      "Entre com a segunda string : gabriel\n"
     ]
    },
    {
     "data": {
      "text/plain": [
       "True"
      ]
     },
     "execution_count": 62,
     "metadata": {},
     "output_type": "execute_result"
    }
   ],
   "source": [
    "#Exercício 13 - Lista 1\n",
    "\n",
    "\n",
    "def comp_string(a,b):\n",
    "    a = input(\"Entre com a primeira string :\")\n",
    "    b = input(\"Entre com a segunda string : \")\n",
    "    c = a.lower() # coloca tudo em minusculo \n",
    "    d = b.lower() # coloca tudo em minusculo\n",
    "    c == d\n",
    "    return c == d\n",
    "\n",
    "comp_string(a,b)"
   ]
  },
  {
   "cell_type": "code",
   "execution_count": 64,
   "metadata": {},
   "outputs": [
    {
     "name": "stdout",
     "output_type": "stream",
     "text": [
      "True\n",
      "True\n",
      "True\n",
      "False\n"
     ]
    }
   ],
   "source": [
    "#Exercício 14 - Lista 1\n",
    "\n",
    "print (2 < 3 and 3 > 1)\n",
    "print (2 < 3 or 3 > 1)\n",
    "print (2 < 3 or not 3 > 1)\n",
    "print (2 < 3 and not 3 > 1)\n"
   ]
  },
  {
   "cell_type": "code",
   "execution_count": 65,
   "metadata": {},
   "outputs": [
    {
     "name": "stdout",
     "output_type": "stream",
     "text": [
      "True\n"
     ]
    }
   ],
   "source": [
    "#Exercício 15 - Lista 1\n",
    "\n",
    "x = 4\n",
    "y = 5\n",
    "p = x < y or x < z\n",
    "print (p)"
   ]
  },
  {
   "cell_type": "code",
   "execution_count": 67,
   "metadata": {},
   "outputs": [
    {
     "ename": "IndentationError",
     "evalue": "unexpected indent (<ipython-input-67-f8d04d4334b5>, line 4)",
     "output_type": "error",
     "traceback": [
      "\u001b[0;36m  File \u001b[0;32m\"<ipython-input-67-f8d04d4334b5>\"\u001b[0;36m, line \u001b[0;32m4\u001b[0m\n\u001b[0;31m    print True, False\u001b[0m\n\u001b[0m    ^\u001b[0m\n\u001b[0;31mIndentationError\u001b[0m\u001b[0;31m:\u001b[0m unexpected indent\n"
     ]
    }
   ],
   "source": [
    "#Exercício 16 - Lista 1\n",
    "\n",
    "True, False = False, True\n",
    "    print True, False\n",
    "    print 2 < 3\n"
   ]
  },
  {
   "cell_type": "code",
   "execution_count": 72,
   "metadata": {},
   "outputs": [
    {
     "name": "stdout",
     "output_type": "stream",
     "text": [
      "2\n"
     ]
    }
   ],
   "source": [
    "#Exercício 17 - Lista 1\n",
    "\n",
    "\n",
    "x = 2\n",
    "if x == 2:\n",
    "    print(x)\n",
    "else:\n",
    "    print(y)\n",
    "\n",
    "# O programa utiliza o vlaor de y do programa anterior, caso fosse utilizado um comando    "
   ]
  },
  {
   "cell_type": "code",
   "execution_count": 73,
   "metadata": {},
   "outputs": [
    {
     "ename": "IndentationError",
     "evalue": "unexpected indent (<ipython-input-73-f71bbacddfbe>, line 3)",
     "output_type": "error",
     "traceback": [
      "\u001b[0;36m  File \u001b[0;32m\"<ipython-input-73-f71bbacddfbe>\"\u001b[0;36m, line \u001b[0;32m3\u001b[0m\n\u001b[0;31m    x = 2\u001b[0m\n\u001b[0m    ^\u001b[0m\n\u001b[0;31mIndentationError\u001b[0m\u001b[0;31m:\u001b[0m unexpected indent\n"
     ]
    }
   ],
   "source": [
    "#Exercício 18 - Lista 1\n",
    "\n",
    " x = 2\n",
    "    if x == 2:\n",
    "        print x\n",
    "    else:\n",
    "        x + # deve ser utilizado o comando x += 1"
   ]
  },
  {
   "cell_type": "markdown",
   "metadata": {},
   "source": [
    "## 1 Escreva um programa que, dados 2 números diferentes (a e b), encontre o menor deles"
   ]
  },
  {
   "cell_type": "code",
   "execution_count": 3,
   "metadata": {},
   "outputs": [
    {
     "name": "stdout",
     "output_type": "stream",
     "text": [
      "Entre com um valor :10\n",
      "Entre com um valor :11\n",
      "Menor valor : 10\n"
     ]
    }
   ],
   "source": [
    "#Exercício 1- Lista 2\n",
    "\n",
    "a = int(input(\"Entre com um valor :\"))\n",
    "b = int(input(\"Entre com um valor :\"))\n",
    "\n",
    "if a > b:\n",
    "    print (\"Menor valor :\", b)\n",
    "else:\n",
    "    print(\"Menor valor :\",a)\n"
   ]
  },
  {
   "cell_type": "markdown",
   "metadata": {},
   "source": [
    "## 2 Para doar sangue é necessário:\n",
    " * Ter entre 16 e 69 anos.\n",
    " * Pesar mais de 50 kg.\n",
    " * Estar descansado (ter dormido pelo menos 6 horas nas últimas 24 horas).\n",
    "Faça um programa que pergunte a idade, o peso e quanto dormiu nas últimas 24 h para uma pessoa e diga se ela pode doar sangue ou não."
   ]
  },
  {
   "cell_type": "code",
   "execution_count": 11,
   "metadata": {},
   "outputs": [
    {
     "name": "stdout",
     "output_type": "stream",
     "text": [
      "Entre com sua idade: 18\n",
      "Entre com seu peso: 80\n",
      "Entre com o numero de horas dormidas :60\n",
      "Você pode doar\n"
     ]
    }
   ],
   "source": [
    "#Exercício 2- Lista 2\n",
    "\n",
    "idade = int(input(\"Entre com sua idade: \"))\n",
    "peso = float(input(\"Entre com seu peso: \"))\n",
    "sono = int(input(\"Entre com o numero de horas dormidas :\"))\n",
    "\n",
    "if idade < 16 or idade > 69:\n",
    "    print(\"Desculpe, você não pode doar sangue\")\n",
    "else:\n",
    "    if peso < 50:\n",
    "        print(\"Desculpe, você não pode doar sangue\")\n",
    "    else:\n",
    "        if sono < 6:\n",
    "            print(\"Desculpe, você não pode doar sangue\")\n",
    "        else: \n",
    "            print(\"Você pode doar\")\n"
   ]
  },
  {
   "cell_type": "markdown",
   "metadata": {},
   "source": [
    "## 3 Considere uma equação do segundo grau f(x)=a⋅x2+b⋅x+c. A partir dos coeficientes, determine se a equação possui duas raízes reais, uma, ou se não possui."
   ]
  },
  {
   "cell_type": "code",
   "execution_count": 18,
   "metadata": {},
   "outputs": [
    {
     "name": "stdout",
     "output_type": "stream",
     "text": [
      "Entre com o valor do coeficiênte de x² :5\n",
      "Entre com o vaor do coeficiênte de x :3\n",
      "Entre com o valor do coeficênte c5\n",
      "A equação possui duas raízes complexas\n"
     ]
    }
   ],
   "source": [
    "#Exercício 3 - Lista 2\n",
    "\n",
    "a = float(input(\"Entre com o valor do coeficiênte de x² :\"))\n",
    "b = float(input(\"Entre com o vaor do coeficiênte de x :\"))\n",
    "c = float(input(\"Entre com o valor do coeficênte c\"))\n",
    "\n",
    "delta = b*b - 4 * a * c\n",
    "\n",
    "\n",
    "if a == 0:\n",
    "    print(\"A equaçao possui uma raiz\")\n",
    "else:\n",
    "    if delta == 0:\n",
    "        print(\"A equação possui duas raízes reais e iguais\")\n",
    "    else:\n",
    "        if delta < 0: \n",
    "            print(\"A equação possui duas raízes complexas\")\n",
    "        else:\n",
    "            print(\"A equação possui duas raízes reais\")\n",
    "        \n",
    "\n",
    "\n",
    "\n",
    "\n"
   ]
  },
  {
   "cell_type": "markdown",
   "metadata": {},
   "source": [
    "## 4 Leia dois números e efetue a adição. Caso o valor somado seja maior que 20, este deverá ser apresentado somando-se a ele mais 8; caso o valor somado seja menor ou igual a 20, este deverá ser apresentado subtraindo-se 5."
   ]
  },
  {
   "cell_type": "code",
   "execution_count": 20,
   "metadata": {},
   "outputs": [
    {
     "name": "stdout",
     "output_type": "stream",
     "text": [
      "Entre com um valor :12\n",
      "Entre com um valor :10\n",
      "30\n"
     ]
    }
   ],
   "source": [
    "#Exercício 4 - Lista 2\n",
    "\n",
    "a = int(input(\"Entre com um valor :\"))\n",
    "b = int(input(\"Entre com um valor :\"))\n",
    "\n",
    "soma = a + b\n",
    "\n",
    "if soma > 20:\n",
    "    print(soma+8)\n",
    "else:\n",
    "    print(soma-5)\n",
    "    "
   ]
  },
  {
   "cell_type": "markdown",
   "metadata": {},
   "source": [
    "## 5 Leia um número e imprima a raiz quadrada do número caso ele seja positivo ou igual a zero e o quadrado do número caso ele seja negativo."
   ]
  },
  {
   "cell_type": "code",
   "execution_count": 3,
   "metadata": {},
   "outputs": [
    {
     "name": "stdout",
     "output_type": "stream",
     "text": [
      "Entre com um valor :-4\n",
      "16.0\n"
     ]
    }
   ],
   "source": [
    "#Exercício 5 - Lista 2\n",
    "\n",
    "a = float(input(\"Entre com um valor :\"))\n",
    "\n",
    "if a >= 0:\n",
    "    print(a ** (1/2))\n",
    "else:\n",
    "    print(a*a)\n"
   ]
  },
  {
   "cell_type": "markdown",
   "metadata": {},
   "source": [
    "## 6 Leia um número inteiro entre 1 e 12 e escreva o mês correspondente. Caso o usuário digite um número fora desse intervalo, deverá aparecer uma mensagem informando que não existe mês com este número."
   ]
  },
  {
   "cell_type": "code",
   "execution_count": 14,
   "metadata": {},
   "outputs": [
    {
     "name": "stdout",
     "output_type": "stream",
     "text": [
      "Entre com um valor entre 1 e 12 :7\n",
      "Julho\n"
     ]
    }
   ],
   "source": [
    "meses = {1: \"Janeiro\", 2:\"Fevereiro\", 3:\"Março\",4:\"Abril\",5:\"Maio\",6:\"Junho\",7:\"Julho\",8:\"Agosto\",9:\"Setembro\",10:\"Outubro\",11:\"Novembro\",12:\"Dezembro\"}\n",
    "\n",
    "a = int(input(\"Entre com um valor entre 1 e 12 :\"))\n",
    "\n",
    "if a > 12 or a < 1:\n",
    "    print(\"O valor não está entre 1 e 12, tente novamente !\")\n",
    "else:\n",
    "    print(meses[a])\n"
   ]
  },
  {
   "cell_type": "code",
   "execution_count": null,
   "metadata": {},
   "outputs": [],
   "source": []
  }
 ],
 "metadata": {
  "kernelspec": {
   "display_name": "Python [conda env:exerc_python] *",
   "language": "python",
   "name": "conda-env-exerc_python-py"
  },
  "language_info": {
   "codemirror_mode": {
    "name": "ipython",
    "version": 3
   },
   "file_extension": ".py",
   "mimetype": "text/x-python",
   "name": "python",
   "nbconvert_exporter": "python",
   "pygments_lexer": "ipython3",
   "version": "3.7.3"
  }
 },
 "nbformat": 4,
 "nbformat_minor": 2
}
