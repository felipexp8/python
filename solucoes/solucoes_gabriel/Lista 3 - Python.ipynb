{
 "cells": [
  {
   "cell_type": "markdown",
   "metadata": {},
   "source": [
    "# Lista While, for e if"
   ]
  },
  {
   "cell_type": "markdown",
   "metadata": {},
   "source": [
    "## 1 Write a function that returns the maximum of two numbers."
   ]
  },
  {
   "cell_type": "code",
   "execution_count": 12,
   "metadata": {},
   "outputs": [
    {
     "name": "stdout",
     "output_type": "stream",
     "text": [
      "Entre com o primeiro valor: 10\n",
      "Entre com o segundo valor: 12\n",
      "Maior valor:  12.0\n"
     ]
    }
   ],
   "source": [
    "def maxim():\n",
    "    a = float(input(\"Entre com o primeiro valor: \"))\n",
    "    b = float(input(\"Entre com o segundo valor: \"))\n",
    "    \n",
    "    if a > b:\n",
    "        print(\"Maior valor: \",a)\n",
    "    else:\n",
    "        if a == b:\n",
    "            print(\"Valores iguais\")\n",
    "        else:\n",
    "            print(\"Maior valor: \",b)\n",
    "    return\n",
    "\n",
    "maxim()"
   ]
  },
  {
   "cell_type": "markdown",
   "metadata": {},
   "source": [
    "## 2 Write a function called fizz_buzz that takes a number\n",
    "* If the number is divisible by 3, it should return “Fizz”.\n",
    "* If it is divisible by 5, it should return “Buzz”.\n",
    "* If it is divisible by both 3 and 5, it should return “FizzBuzz”.\n",
    "* Otherwise, it should return the same number."
   ]
  },
  {
   "cell_type": "code",
   "execution_count": 29,
   "metadata": {},
   "outputs": [
    {
     "name": "stdout",
     "output_type": "stream",
     "text": [
      "Entre com um valor:3\n",
      "O número  3 é divisivel por 3 - FIZZ\n"
     ]
    }
   ],
   "source": [
    "def fizz_buzz():\n",
    "\n",
    "    a = int(input(\"Entre com um valor:\"))\n",
    "\n",
    "    if a % 3 == 0 and a % 5 == 0:\n",
    "        print(\"O número \",a,\"é divisível por 3 e por 5 - FIZZBUZZ\")\n",
    "    else:\n",
    "        if a % 3 == 0:\n",
    "            print(\"O número \", a, \"é divisivel por 3 - FIZZ\")\n",
    "        else:\n",
    "            if a % 5 == 0:\n",
    "                print(\"O número \", a, \"é divisivel por 5 - BUZZ\")\n",
    "            else:\n",
    "                print(a)            \n",
    "        \n",
    "fizz_buzz()\n",
    "    "
   ]
  },
  {
   "cell_type": "markdown",
   "metadata": {},
   "source": [
    "## 3. Write a function for checking the speed of drivers. This function should have one parameter: speed."
   ]
  },
  {
   "cell_type": "code",
   "execution_count": 50,
   "metadata": {},
   "outputs": [
    {
     "name": "stdout",
     "output_type": "stream",
     "text": [
      "Entre com a velocidade100\n",
      "Total de : 6.0 pontos\n"
     ]
    }
   ],
   "source": [
    "vel = float(input(\"Entre com a velocidade\"))\n",
    "\n",
    "def velocidade(vel):\n",
    "    \n",
    "    if vel < 70:\n",
    "        print(\"Ok\")\n",
    "    else:\n",
    "        if vel == 70:\n",
    "            print(\"Nenhum ponto\")\n",
    "        else:\n",
    "                vel1 = vel - 70\n",
    "                div = vel1//5\n",
    "                print(\"Total de :\",div ,\"pontos\")\n",
    "        \n",
    "velocidade(vel)\n",
    "        \n",
    "    \n"
   ]
  },
  {
   "cell_type": "markdown",
   "metadata": {},
   "source": [
    "##  4 .Write a function called showNumbers that takes a parameter called limit. It should print all the numbers between 0 and limit with a label to identify the even and odd numbers. For example, if the limit is 3, it should print:\n",
    " * 0 EVEN\n",
    " * 1 ODD\n",
    " * 2 EVEN\n",
    " * 3 ODD"
   ]
  },
  {
   "cell_type": "code",
   "execution_count": 63,
   "metadata": {},
   "outputs": [
    {
     "name": "stdout",
     "output_type": "stream",
     "text": [
      "Entre com um valor: 10\n",
      "0  :PAR\n",
      "1  :ÍMPAR\n",
      "2  :PAR\n",
      "3  :ÍMPAR\n",
      "4  :PAR\n",
      "5  :ÍMPAR\n",
      "6  :PAR\n",
      "7  :ÍMPAR\n",
      "8  :PAR\n",
      "9  :ÍMPAR\n",
      "10  :PAR\n"
     ]
    }
   ],
   "source": [
    "limit = int(input(\"Entre com um valor: \"))\n",
    "\n",
    "def showNumber(limit):\n",
    "\n",
    "    a = 0\n",
    "    for a in range(limit + 1):\n",
    "        if a%2 == 0:\n",
    "            print(a, \" :PAR\")\n",
    "        else:\n",
    "            print(a, \" :ÍMPAR\")\n",
    "        a = a + 1\n",
    "            \n",
    "showNumber(limit)\n",
    "        \n",
    "\n",
    "    \n"
   ]
  },
  {
   "cell_type": "markdown",
   "metadata": {},
   "source": [
    "## 5. Write a function that returns the sum of multiples of 3 and 5 between 0 and limit (parameter). For example, if limit is 20, it should return the sum of 3, 5, 6, 9, 10, 12, 15, 18, 20.\n"
   ]
  },
  {
   "cell_type": "code",
   "execution_count": 135,
   "metadata": {},
   "outputs": [
    {
     "name": "stdout",
     "output_type": "stream",
     "text": [
      "Entre com um valor: 20\n"
     ]
    },
    {
     "data": {
      "text/plain": [
       "([3, 5, 6, 9, 10, 12, 15, 18, 20], 98)"
      ]
     },
     "execution_count": 135,
     "metadata": {},
     "output_type": "execute_result"
    }
   ],
   "source": [
    "parametro = int(input(\"Entre com um valor: \"))\n",
    "\n",
    "def compara(parametro):\n",
    "    tres = [x for x in range(3,n+1,3)]\n",
    "    cinco = [x for x in range(5,n+1,5)]\n",
    "    quinze = [x for x in range (15,n+1,15)]\n",
    "    lista = tres+cinco+quinze\n",
    "    return lista\n",
    "\n",
    "def remove_repetidos(lista):\n",
    "    l=[]\n",
    "    for i in lista:\n",
    "        if i not in l:\n",
    "            l.append(i)\n",
    "    l.sort()\n",
    "    soma = sum(l)\n",
    "    return l, soma\n",
    "\n",
    "compara(parametro)\n",
    "remove_repetidos(lista)\n",
    "\n",
    "\n"
   ]
  },
  {
   "cell_type": "markdown",
   "metadata": {},
   "source": [
    "## 6. Write a function called show_stars(rows). If rows is 5, it should print the following:"
   ]
  },
  {
   "cell_type": "code",
   "execution_count": 95,
   "metadata": {},
   "outputs": [
    {
     "name": "stdout",
     "output_type": "stream",
     "text": [
      "Entre com um valor: 5\n",
      "\n",
      "\n",
      "* \n",
      "\n",
      "* * \n",
      "\n",
      "* * * \n",
      "\n",
      "* * * * \n",
      "\n",
      "* * * * * \n",
      "\n"
     ]
    }
   ],
   "source": [
    "rows = int(input(\"Entre com um valor: \"))\n",
    "for num in range(rows + 1):\n",
    "    for i in range(num):\n",
    "        print (\"*\", end=\" \")\n",
    "        print(\"\\n\")"
   ]
  },
  {
   "cell_type": "code",
   "execution_count": 38,
   "metadata": {},
   "outputs": [],
   "source": [
    "#Exemplo Prof. Silvio\n",
    "def show_stars(row1):\n",
    "    aux = 1\n",
    "    for i in range(row1):\n",
    "        for x in range(aux):\n",
    "            print('*', end=' ')\n",
    "        print(\"\\n\")\n",
    "        aux +=1"
   ]
  },
  {
   "cell_type": "code",
   "execution_count": 41,
   "metadata": {},
   "outputs": [
    {
     "name": "stdout",
     "output_type": "stream",
     "text": [
      "* \n",
      "\n",
      "* * \n",
      "\n",
      "* * * \n",
      "\n",
      "* * * * \n",
      "\n",
      "* * * * * \n",
      "\n",
      "* * * * * * \n",
      "\n",
      "* * * * * * * \n",
      "\n",
      "* * * * * * * * \n",
      "\n",
      "* * * * * * * * * \n",
      "\n",
      "* * * * * * * * * * \n",
      "\n"
     ]
    }
   ],
   "source": [
    "show_stars(10)\n"
   ]
  },
  {
   "cell_type": "code",
   "execution_count": 43,
   "metadata": {},
   "outputs": [
    {
     "name": "stdout",
     "output_type": "stream",
     "text": [
      "*\n",
      "**\n",
      "***\n",
      "****\n",
      "*****\n"
     ]
    }
   ],
   "source": [
    "#exemplo Duan\n",
    "def show_stars(rows):\n",
    "    i = 0\n",
    "    var = ''\n",
    "    while i < rows:\n",
    "        var = var+'*'\n",
    "        print(var)\n",
    "        i+=1\n",
    "\n",
    "show_stars(5)"
   ]
  },
  {
   "cell_type": "markdown",
   "metadata": {},
   "source": [
    "## 7.Write a function that prints all the prime numbers between 0 and limit where limit is a parameter."
   ]
  },
  {
   "cell_type": "code",
   "execution_count": 141,
   "metadata": {},
   "outputs": [
    {
     "name": "stdout",
     "output_type": "stream",
     "text": [
      "Entre com um valor: 20\n",
      "2\n",
      "3\n",
      "5\n",
      "7\n",
      "11\n",
      "13\n",
      "17\n",
      "19\n"
     ]
    }
   ],
   "source": [
    "parametro = int(input(\"Entre com um valor: \"))\n",
    "\n",
    "for x in range(2,parametro+1):\n",
    "    cont = 0\n",
    "    for y in range(1,x+1):\n",
    "        if x % y == 0:\n",
    "            cont=cont+1\n",
    "    if cont==2:\n",
    "        print(x)     "
   ]
  },
  {
   "cell_type": "code",
   "execution_count": null,
   "metadata": {},
   "outputs": [],
   "source": [
    "2,3,5,7,11,"
   ]
  }
 ],
 "metadata": {
  "kernelspec": {
   "display_name": "Python [conda env:exerc_python]",
   "language": "python",
   "name": "conda-env-exerc_python-py"
  },
  "language_info": {
   "codemirror_mode": {
    "name": "ipython",
    "version": 3
   },
   "file_extension": ".py",
   "mimetype": "text/x-python",
   "name": "python",
   "nbconvert_exporter": "python",
   "pygments_lexer": "ipython3",
   "version": "3.7.3"
  }
 },
 "nbformat": 4,
 "nbformat_minor": 2
}
