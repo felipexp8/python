{
 "cells": [
  {
   "cell_type": "markdown",
   "metadata": {},
   "source": [
    "# Lista de Exercícíos 1 - Python"
   ]
  },
  {
   "cell_type": "markdown",
   "metadata": {},
   "source": [
    "As listas de exercícios foram obtidas dos seguintes sites:\n",
    "* https://anandology.com/python-practice-book/\n",
    "* https://curso-intro-python.readthedocs.io"
   ]
  },
  {
   "cell_type": "markdown",
   "metadata": {},
   "source": [
    "## Running Python Interpreter\n",
    "\n",
    "**Problem 1** \n",
    "<br> Open a new Python interpreter and use it to find the value of ``2 + 3``."
   ]
  },
  {
   "cell_type": "code",
   "execution_count": 4,
   "metadata": {},
   "outputs": [
    {
     "name": "stdout",
     "output_type": "stream",
     "text": [
      "O valor da soma de 2+3 é 5 .\n"
     ]
    }
   ],
   "source": [
    "prob1 = 2+3\n",
    "print(\"O valor da soma de 2+3 é\", prob1,\".\")"
   ]
  },
  {
   "cell_type": "markdown",
   "metadata": {},
   "source": [
    "## Running Python Scripts\n",
    "\n",
    "**Problem 2**\n",
    "<br> Create a python script to print hello, world! four times."
   ]
  },
  {
   "cell_type": "code",
   "execution_count": 14,
   "metadata": {},
   "outputs": [
    {
     "name": "stdout",
     "output_type": "stream",
     "text": [
      "Hello word!\n"
     ]
    }
   ],
   "source": [
    "def helloword():\n",
    "\tprob2 = \"Hello word!\"\n",
    "\treturn(prob2)\n",
    "\n",
    "print(helloword())"
   ]
  },
  {
   "cell_type": "markdown",
   "metadata": {},
   "source": [
    "**Problem 3**\n",
    "<br> Create a python script with the following text and see the output.\n",
    "\n",
    "``1 + 2``\n",
    "\n",
    "If it doesn't print anything, what changes can you make to the program to print the value?​"
   ]
  },
  {
   "cell_type": "code",
   "execution_count": 15,
   "metadata": {},
   "outputs": [
    {
     "name": "stdout",
     "output_type": "stream",
     "text": [
      "O valor da soma de 1+2 é 3 .\n"
     ]
    }
   ],
   "source": [
    "prob3 = 1+2\n",
    "print(\"O valor da soma de 1+2 é\", prob3,\".\")"
   ]
  },
  {
   "cell_type": "markdown",
   "metadata": {},
   "source": [
    "## Assignments\n",
    "\n",
    "**Problem 4**\n",
    "<br> What will be output of the following program.\n",
    "\n",
    "``\n",
    "x = 4\n",
    "y = x + 1\n",
    "x = 2\n",
    "print x, y\n",
    "``"
   ]
  },
  {
   "cell_type": "code",
   "execution_count": 19,
   "metadata": {},
   "outputs": [
    {
     "name": "stdout",
     "output_type": "stream",
     "text": [
      "Os valores de x e y são: (2, 5)\n"
     ]
    }
   ],
   "source": [
    "def equation(x):\n",
    "\ty = x + 1\n",
    "\tx = 2\n",
    "\treturn(x,y)\n",
    "\n",
    "x = 4\n",
    "\n",
    "print(\"Os valores de x e y são:\", equation(x))\n"
   ]
  },
  {
   "cell_type": "markdown",
   "metadata": {},
   "source": [
    "**Problem 5**\n",
    "<br> What will be the output of the following program.\n",
    "\n",
    "``\n",
    "x, y = 2, 6\n",
    "x, y = y, x + 2\n",
    "print x, y\n",
    "``"
   ]
  },
  {
   "cell_type": "code",
   "execution_count": 20,
   "metadata": {},
   "outputs": [
    {
     "name": "stdout",
     "output_type": "stream",
     "text": [
      "Os valores de x e y são: (6, 4)\n"
     ]
    }
   ],
   "source": [
    "def equation(x,y):\n",
    "\tx,y = y,x+2\n",
    "\treturn(x,y)\n",
    "\n",
    "x,y = 2,6\n",
    "print(\"Os valores de x e y são:\", equation(x,y))"
   ]
  },
  {
   "cell_type": "markdown",
   "metadata": {},
   "source": [
    "**Problem 6**\n",
    "<br> What will be the output of the following program.\n",
    "\n",
    "``\n",
    "a, b = 2, 3\n",
    "c, b = a, c + 1\n",
    "print a, b, c\n",
    "``"
   ]
  },
  {
   "cell_type": "code",
   "execution_count": 25,
   "metadata": {},
   "outputs": [
    {
     "ename": "UnboundLocalError",
     "evalue": "local variable 'c' referenced before assignment",
     "output_type": "error",
     "traceback": [
      "\u001b[0;31m---------------------------------------------------------------------------\u001b[0m",
      "\u001b[0;31mUnboundLocalError\u001b[0m                         Traceback (most recent call last)",
      "\u001b[0;32m<ipython-input-25-99a8d219c6ab>\u001b[0m in \u001b[0;36m<module>\u001b[0;34m\u001b[0m\n\u001b[1;32m      4\u001b[0m \u001b[0;34m\u001b[0m\u001b[0m\n\u001b[1;32m      5\u001b[0m \u001b[0ma\u001b[0m\u001b[0;34m,\u001b[0m\u001b[0mb\u001b[0m \u001b[0;34m=\u001b[0m \u001b[0;36m2\u001b[0m\u001b[0;34m,\u001b[0m\u001b[0;36m3\u001b[0m\u001b[0;34m\u001b[0m\u001b[0;34m\u001b[0m\u001b[0m\n\u001b[0;32m----> 6\u001b[0;31m \u001b[0mequation\u001b[0m\u001b[0;34m(\u001b[0m\u001b[0ma\u001b[0m\u001b[0;34m,\u001b[0m\u001b[0mb\u001b[0m\u001b[0;34m)\u001b[0m\u001b[0;34m\u001b[0m\u001b[0;34m\u001b[0m\u001b[0m\n\u001b[0m\u001b[1;32m      7\u001b[0m \u001b[0;31m#print(\"Os valores de a,b e c são:\",a,\",\",equation(a,b))\u001b[0m\u001b[0;34m\u001b[0m\u001b[0;34m\u001b[0m\u001b[0;34m\u001b[0m\u001b[0m\n",
      "\u001b[0;32m<ipython-input-25-99a8d219c6ab>\u001b[0m in \u001b[0;36mequation\u001b[0;34m(a, b)\u001b[0m\n\u001b[1;32m      1\u001b[0m \u001b[0;32mdef\u001b[0m \u001b[0mequation\u001b[0m\u001b[0;34m(\u001b[0m\u001b[0ma\u001b[0m\u001b[0;34m,\u001b[0m\u001b[0mb\u001b[0m\u001b[0;34m)\u001b[0m\u001b[0;34m:\u001b[0m\u001b[0;34m\u001b[0m\u001b[0;34m\u001b[0m\u001b[0m\n\u001b[0;32m----> 2\u001b[0;31m         \u001b[0mc\u001b[0m\u001b[0;34m,\u001b[0m\u001b[0mb\u001b[0m \u001b[0;34m=\u001b[0m \u001b[0ma\u001b[0m\u001b[0;34m,\u001b[0m\u001b[0mc\u001b[0m\u001b[0;34m+\u001b[0m\u001b[0;36m1\u001b[0m\u001b[0;34m\u001b[0m\u001b[0;34m\u001b[0m\u001b[0m\n\u001b[0m\u001b[1;32m      3\u001b[0m         \u001b[0;32mreturn\u001b[0m\u001b[0;34m(\u001b[0m\u001b[0mc\u001b[0m\u001b[0;34m,\u001b[0m\u001b[0mb\u001b[0m\u001b[0;34m)\u001b[0m\u001b[0;34m\u001b[0m\u001b[0;34m\u001b[0m\u001b[0m\n\u001b[1;32m      4\u001b[0m \u001b[0;34m\u001b[0m\u001b[0m\n\u001b[1;32m      5\u001b[0m \u001b[0ma\u001b[0m\u001b[0;34m,\u001b[0m\u001b[0mb\u001b[0m \u001b[0;34m=\u001b[0m \u001b[0;36m2\u001b[0m\u001b[0;34m,\u001b[0m\u001b[0;36m3\u001b[0m\u001b[0;34m\u001b[0m\u001b[0;34m\u001b[0m\u001b[0m\n",
      "\u001b[0;31mUnboundLocalError\u001b[0m: local variable 'c' referenced before assignment"
     ]
    }
   ],
   "source": [
    "def equation(a,b):\n",
    "\tc,b = a,c+1\n",
    "\treturn(c,b)\n",
    "\n",
    "a,b = 2,3\n",
    "print(\"Os valores de a,b e c são:\",a,\",\",equation(a,b))"
   ]
  },
  {
   "cell_type": "markdown",
   "metadata": {},
   "source": [
    "O código dá erro porque a variável ``c`` não foi previamente definida. Caso resolva separando a sequência este dará certo."
   ]
  },
  {
   "cell_type": "code",
   "execution_count": 26,
   "metadata": {},
   "outputs": [
    {
     "name": "stdout",
     "output_type": "stream",
     "text": [
      "Os valores de a,b e c são: 2 , (2, 3)\n"
     ]
    }
   ],
   "source": [
    "def equation(a,b):\n",
    "\tc= a\n",
    "\tb=c+1\n",
    "\treturn(c,b)\n",
    "\n",
    "a,b = 2,3\n",
    "print(\"Os valores de a,b e c são:\",a,\",\",equation(a,b))"
   ]
  },
  {
   "cell_type": "markdown",
   "metadata": {},
   "source": [
    "## Functions\n",
    "\n",
    "**Problem 7**\n",
    "<br> How many multiplications are performed when each of the following lines of code is executed?\n",
    "\n",
    "``numcalls = 0\n",
    "def square(x):\n",
    "    global numcalls\n",
    "    numcalls = numcalls + 1\n",
    "    return x * x\n",
    "print square(5)\n",
    "print square(2*5)\n",
    "``"
   ]
  },
  {
   "cell_type": "code",
   "execution_count": 34,
   "metadata": {},
   "outputs": [
    {
     "name": "stdout",
     "output_type": "stream",
     "text": [
      "Primeira multiplicação: 25\n",
      "\n",
      "No segundo caso, tem-se duas multiplicações:\n",
      "- 2*5 #será a variável a ser inclusa\n",
      "- Resultado de x = 2*5 = 10, que será 100\n"
     ]
    }
   ],
   "source": [
    "numcalls = 0\n",
    "\n",
    "def square(x):\n",
    "\tglobal numcalls\n",
    "\tnumcalls = numcalls + 1\n",
    "\treturn(x*x)\n",
    "\n",
    "print(\"Primeira multiplicação:\",square(5))\n",
    "print(\"\")\n",
    "print(\"No segundo caso, tem-se duas multiplicações:\")\n",
    "print(\"- 2*5 #será a variável a ser inclusa\")\n",
    "print(\"- Resultado de x = 2*5 = 10, que será\",square(2*5))"
   ]
  },
  {
   "cell_type": "markdown",
   "metadata": {},
   "source": [
    "**Problem 8**\n",
    "<br> What will be the output of the following program?\n",
    "\n",
    "``\n",
    "x = 1\n",
    "\tdef f():\n",
    "            return x\n",
    "\tprint x\n",
    "\tprint f()\n",
    "``"
   ]
  },
  {
   "cell_type": "code",
   "execution_count": 38,
   "metadata": {},
   "outputs": [
    {
     "name": "stdout",
     "output_type": "stream",
     "text": [
      "1 #Este print retorna o valor da variável x.\n",
      "1 #Este print retorna o valor da função f(), que será o retorno de x previamente definido.\n"
     ]
    }
   ],
   "source": [
    "x = 1\n",
    "    \n",
    "def f():\n",
    "\treturn x\n",
    "\n",
    "print(x, \"#Este print retorna o valor da variável x.\")\n",
    "print(f(), \"#Este print retorna o valor da função f(), que será o retorno de x previamente definido.\")"
   ]
  },
  {
   "cell_type": "markdown",
   "metadata": {},
   "source": [
    "**Problem 9**\n",
    "<br> What will be the output of the following program?\n",
    "\n",
    "``\n",
    "x = 1\n",
    "\tdef f():\n",
    "            x = 2\n",
    "            return x\n",
    "\tprint x\n",
    "\tprint f()\n",
    "\tprint x\n",
    "``"
   ]
  },
  {
   "cell_type": "code",
   "execution_count": 41,
   "metadata": {},
   "outputs": [
    {
     "name": "stdout",
     "output_type": "stream",
     "text": [
      "1 #Retorna o valor da variável definida x.\n",
      "2 #Retorna o novo valor de x retornado pela função f().\n",
      "1 #Retorna o valor de x definido anteriormente, sem considerar o retorno da função.\n"
     ]
    }
   ],
   "source": [
    "x = 1\n",
    "\n",
    "def f():\n",
    "\tx = 2\n",
    "\treturn x\n",
    "\n",
    "print(x, \"#Retorna o valor da variável definida x.\")\n",
    "print(f(), \"#Retorna o novo valor de x retornado pela função f().\")\n",
    "print(x, \"#Retorna o valor de x definido anteriormente, sem considerar o retorno da função.\")"
   ]
  },
  {
   "cell_type": "markdown",
   "metadata": {},
   "source": [
    "**Problem 10**\n",
    "<br> What will be the output of the following program?\n",
    "\n",
    "``\n",
    "x = 1\n",
    "\tdef f():\n",
    "\t\ty = x\n",
    "\t\tx = 2\n",
    "\t\treturn x + y\n",
    "\tprint x\n",
    "\tprint f()\n",
    "\tprint x\n",
    "``"
   ]
  },
  {
   "cell_type": "code",
   "execution_count": 43,
   "metadata": {},
   "outputs": [
    {
     "name": "stdout",
     "output_type": "stream",
     "text": [
      "1\n"
     ]
    },
    {
     "ename": "UnboundLocalError",
     "evalue": "local variable 'x' referenced before assignment",
     "output_type": "error",
     "traceback": [
      "\u001b[0;31m---------------------------------------------------------------------------\u001b[0m",
      "\u001b[0;31mUnboundLocalError\u001b[0m                         Traceback (most recent call last)",
      "\u001b[0;32m<ipython-input-43-68032aef4627>\u001b[0m in \u001b[0;36m<module>\u001b[0;34m\u001b[0m\n\u001b[1;32m      7\u001b[0m \u001b[0;34m\u001b[0m\u001b[0m\n\u001b[1;32m      8\u001b[0m \u001b[0mprint\u001b[0m\u001b[0;34m(\u001b[0m\u001b[0mx\u001b[0m\u001b[0;34m)\u001b[0m\u001b[0;34m\u001b[0m\u001b[0;34m\u001b[0m\u001b[0m\n\u001b[0;32m----> 9\u001b[0;31m \u001b[0mprint\u001b[0m\u001b[0;34m(\u001b[0m\u001b[0mf\u001b[0m\u001b[0;34m(\u001b[0m\u001b[0;34m)\u001b[0m\u001b[0;34m)\u001b[0m\u001b[0;34m\u001b[0m\u001b[0;34m\u001b[0m\u001b[0m\n\u001b[0m\u001b[1;32m     10\u001b[0m \u001b[0mprint\u001b[0m\u001b[0;34m(\u001b[0m\u001b[0mx\u001b[0m\u001b[0;34m)\u001b[0m\u001b[0;34m\u001b[0m\u001b[0;34m\u001b[0m\u001b[0m\n",
      "\u001b[0;32m<ipython-input-43-68032aef4627>\u001b[0m in \u001b[0;36mf\u001b[0;34m()\u001b[0m\n\u001b[1;32m      2\u001b[0m \u001b[0;34m\u001b[0m\u001b[0m\n\u001b[1;32m      3\u001b[0m \u001b[0;32mdef\u001b[0m \u001b[0mf\u001b[0m\u001b[0;34m(\u001b[0m\u001b[0;34m)\u001b[0m\u001b[0;34m:\u001b[0m\u001b[0;34m\u001b[0m\u001b[0;34m\u001b[0m\u001b[0m\n\u001b[0;32m----> 4\u001b[0;31m         \u001b[0my\u001b[0m \u001b[0;34m=\u001b[0m \u001b[0mx\u001b[0m\u001b[0;34m\u001b[0m\u001b[0;34m\u001b[0m\u001b[0m\n\u001b[0m\u001b[1;32m      5\u001b[0m         \u001b[0mx\u001b[0m \u001b[0;34m=\u001b[0m \u001b[0;36m2\u001b[0m\u001b[0;34m\u001b[0m\u001b[0;34m\u001b[0m\u001b[0m\n\u001b[1;32m      6\u001b[0m         \u001b[0;32mreturn\u001b[0m\u001b[0;34m(\u001b[0m\u001b[0mx\u001b[0m \u001b[0;34m+\u001b[0m \u001b[0my\u001b[0m\u001b[0;34m)\u001b[0m\u001b[0;34m\u001b[0m\u001b[0;34m\u001b[0m\u001b[0m\n",
      "\u001b[0;31mUnboundLocalError\u001b[0m: local variable 'x' referenced before assignment"
     ]
    }
   ],
   "source": [
    "x = 1\n",
    "    \n",
    "def f():\n",
    "\ty = x\n",
    "\tx = 2\n",
    "\treturn(x + y)\n",
    "\n",
    "print(x)\n",
    "print(f())\n",
    "print(x)"
   ]
  },
  {
   "cell_type": "markdown",
   "metadata": {},
   "source": [
    "Este exemplo mencionou erro, pois não foram referenciadas as variáveis na função. Como ela utiliza mais de uma função, ocasiona erro."
   ]
  },
  {
   "cell_type": "code",
   "execution_count": 47,
   "metadata": {},
   "outputs": [
    {
     "name": "stdout",
     "output_type": "stream",
     "text": [
      "1 #Retorna valor de x.\n",
      "3 #Retorna o valor da função f(x).\n",
      "1 Retorna primeiro valor definido de x.\n"
     ]
    }
   ],
   "source": [
    "x = 1\n",
    "    \n",
    "def f(x):\n",
    "\ty = x\n",
    "\tx = 2\n",
    "\treturn(x + y)\n",
    "\n",
    "print(x, \"#Retorna valor de x.\")\n",
    "print(f(x), \"#Retorna o valor da função f(x).\")\n",
    "print(x, \"Retorna primeiro valor definido de x.\")"
   ]
  },
  {
   "cell_type": "markdown",
   "metadata": {},
   "source": [
    "**Problem 11**\n",
    "<br> What will be the output of the following program?\n",
    "\n",
    "``\n",
    "x = 2\n",
    "    def f(a):\n",
    "        x = a * a\n",
    "        return x\n",
    "    y = f(3)\n",
    "    print x, y\n",
    "``"
   ]
  },
  {
   "cell_type": "code",
   "execution_count": 49,
   "metadata": {},
   "outputs": [
    {
     "name": "stdout",
     "output_type": "stream",
     "text": [
      "Retorna os respectivos valor de x e y: 2 9\n"
     ]
    }
   ],
   "source": [
    "x = 2\n",
    "\n",
    "def f(a):\n",
    "\tx = a * a\n",
    "\treturn x\n",
    "\n",
    "y = f(3)\n",
    "print(\"Retorna os respectivos valor de x e y:\",x, y)"
   ]
  },
  {
   "cell_type": "markdown",
   "metadata": {},
   "source": [
    "**Problem 12**\n",
    "<br> Write a function ``count_digits`` to find number of digits in the given number.\n",
    "\n",
    "\n",
    "``>>>count_digits(5)``\n",
    "<br>``1``\n",
    "<br>``>>> count_digits(12345)``\n",
    "<br>``5``"
   ]
  },
  {
   "cell_type": "code",
   "execution_count": 55,
   "metadata": {},
   "outputs": [
    {
     "name": "stdout",
     "output_type": "stream",
     "text": [
      "Valor de count_digits(5) será: 1\n",
      "Valor de count_digits(12345) será: 5\n",
      "\n",
      "len() somente será para o caso de integer.\n"
     ]
    }
   ],
   "source": [
    "def count_digits(x):\n",
    "\tlength = len(str(x))\n",
    "\treturn(length)\n",
    "\n",
    "print(\"Valor de count_digits(5) será:\", count_digits(5))\n",
    "print(\"Valor de count_digits(12345) será:\", count_digits(12345))\n",
    "print(\"\")\n",
    "print(\"len() somente será para o caso de integer.\")"
   ]
  },
  {
   "cell_type": "markdown",
   "metadata": {},
   "source": [
    "**Problem 13**\n",
    "<br>Write a function ``istrcmp`` to compare two strings, ignoring the case.\n",
    "\n",
    "`` >>> istrcmp('python', 'Python')``\n",
    "<br>``True``\n",
    "<br>``>>> istrcmp('LaTeX', 'Latex')``\n",
    "<br>``True``\n",
    "<br>``>>> istrcmp('a', 'b')``\n",
    "<br>``False``"
   ]
  },
  {
   "cell_type": "code",
   "execution_count": 60,
   "metadata": {},
   "outputs": [
    {
     "name": "stdout",
     "output_type": "stream",
     "text": [
      "Caso 1:\n",
      "Compara-se python e python : True\n",
      "\n",
      "Caso 2:\n",
      "Compara-se LaTeX e Latex : False\n",
      "\n",
      "Caso 3:\n",
      "Compara-se a e b: False\n"
     ]
    }
   ],
   "source": [
    "def istrcmp(a,b):\n",
    "\tcomp = (a==b)\n",
    "\treturn(comp)\n",
    "\n",
    "a = 'python'\n",
    "b  = 'python'\n",
    "\n",
    "print(\"Caso 1:\")\n",
    "print(\"Compara-se\",a,\"e\",b,\":\",istrcmp(a,b))\n",
    "print(\"\")\n",
    "\n",
    "a = 'LaTeX'\n",
    "b = 'Latex'\n",
    "print(\"Caso 2:\")\n",
    "print(\"Compara-se\",a,\"e\",b,\":\",istrcmp(a,b))\n",
    "\n",
    "print(\"\")\n",
    "\n",
    "print(\"Caso 3:\")\n",
    "print(\"Compara-se a e b:\",istrcmp('a','b'))"
   ]
  },
  {
   "cell_type": "markdown",
   "metadata": {},
   "source": [
    "## Conditional Expressions\n",
    "\n",
    "**Problem 14**\n",
    "<br> What will be output of the following program?\n",
    "\n",
    "``\n",
    "print 2 < 3 and 3 > 1\n",
    "print 2 < 3 or 3 > 1\n",
    "print 2 < 3 or not 3 > 1\n",
    "print 2 < 3 and not 3 > 1\n",
    "``"
   ]
  },
  {
   "cell_type": "code",
   "execution_count": 63,
   "metadata": {},
   "outputs": [
    {
     "name": "stdout",
     "output_type": "stream",
     "text": [
      "2 < 3 and 3 > 1 retorna: True\n",
      "2 < 3 or 3 > 1 retorna: True\n",
      "2 < 3 or not 3 > 1 retorna: True\n",
      "2 < 3 and not 3 > 1 retorna: False\n"
     ]
    }
   ],
   "source": [
    "print(\"2 < 3 and 3 > 1 retorna:\",2 < 3 and 3 > 1)\n",
    "print(\"2 < 3 or 3 > 1 retorna:\",2 < 3 or 3 > 1)\n",
    "print(\"2 < 3 or not 3 > 1 retorna:\",2 < 3 or not 3 > 1)\n",
    "print(\"2 < 3 and not 3 > 1 retorna:\",2 < 3 and not 3 > 1)"
   ]
  },
  {
   "cell_type": "markdown",
   "metadata": {},
   "source": [
    "**Problem 15**\n",
    "<br> What will be output of the following program?\n",
    "\n",
    "``\n",
    "x = 4\n",
    "y = 5\n",
    "p = x < y or x < z\n",
    "print p\n",
    "``"
   ]
  },
  {
   "cell_type": "code",
   "execution_count": 65,
   "metadata": {},
   "outputs": [
    {
     "name": "stdout",
     "output_type": "stream",
     "text": [
      "A variável p retorna: True\n"
     ]
    }
   ],
   "source": [
    "x = 4\n",
    "y = 5\n",
    "p = x < y or x < z\n",
    "\n",
    "print(\"A variável p retorna:\",p)"
   ]
  },
  {
   "cell_type": "markdown",
   "metadata": {},
   "source": [
    "**Problem 16**\n",
    "<br> What will be output of the following program?\n",
    "\n",
    "``\n",
    "True, False = False, True\n",
    "print True, False\n",
    "print 2 < 3\n",
    "``"
   ]
  },
  {
   "cell_type": "code",
   "execution_count": 68,
   "metadata": {},
   "outputs": [
    {
     "ename": "SyntaxError",
     "evalue": "can't assign to keyword (<ipython-input-68-5559ce159e5a>, line 1)",
     "output_type": "error",
     "traceback": [
      "\u001b[0;36m  File \u001b[0;32m\"<ipython-input-68-5559ce159e5a>\"\u001b[0;36m, line \u001b[0;32m1\u001b[0m\n\u001b[0;31m    True, False = False, True\u001b[0m\n\u001b[0m                             ^\u001b[0m\n\u001b[0;31mSyntaxError\u001b[0m\u001b[0;31m:\u001b[0m can't assign to keyword\n"
     ]
    }
   ],
   "source": [
    "True, False = False, True\n",
    "print(True, False)\n",
    "print(2 < 3)"
   ]
  },
  {
   "cell_type": "markdown",
   "metadata": {},
   "source": [
    "**Problem 17**\n",
    "<br> What happens when the following code is executed? Will it give any error? Explain the reasons.\n",
    "\n",
    "``\n",
    "x = 2\n",
    "if x == 2:\n",
    "    print x\n",
    "else:\n",
    "    print y\n",
    "``"
   ]
  },
  {
   "cell_type": "code",
   "execution_count": 70,
   "metadata": {},
   "outputs": [
    {
     "name": "stdout",
     "output_type": "stream",
     "text": [
      "5\n"
     ]
    }
   ],
   "source": [
    "x = 2\n",
    "if x == 2:\n",
    "\tprint(x)\n",
    "else:\n",
    "\tprint(y)"
   ]
  },
  {
   "cell_type": "markdown",
   "metadata": {},
   "source": [
    "O programa executa o retorno do if, como valor de x é 2, retorna-se o valor de x. Caso contrário retorna y, porém não há valor de y, no programa, retornou o ultimo valor acrescido no exercício."
   ]
  },
  {
   "cell_type": "markdown",
   "metadata": {},
   "source": [
    "**Problem 18**\n",
    "<br>What happens the following code is executed? Will it give any error? Explain the reasons.\n",
    "\n",
    "``\n",
    "x = 2\n",
    "if x == 2:\n",
    "    print x\n",
    "else:\n",
    "    x +\n",
    "``"
   ]
  },
  {
   "cell_type": "code",
   "execution_count": 72,
   "metadata": {},
   "outputs": [
    {
     "ename": "SyntaxError",
     "evalue": "invalid syntax (<ipython-input-72-f8ae0a9f1c9b>, line 5)",
     "output_type": "error",
     "traceback": [
      "\u001b[0;36m  File \u001b[0;32m\"<ipython-input-72-f8ae0a9f1c9b>\"\u001b[0;36m, line \u001b[0;32m5\u001b[0m\n\u001b[0;31m    x +\u001b[0m\n\u001b[0m       ^\u001b[0m\n\u001b[0;31mSyntaxError\u001b[0m\u001b[0;31m:\u001b[0m invalid syntax\n"
     ]
    }
   ],
   "source": [
    "x = 2\n",
    "if x == 2:\n",
    "\tprint(x)\n",
    "else:\n",
    "\tx +"
   ]
  },
  {
   "cell_type": "markdown",
   "metadata": {},
   "source": [
    "A sintaxe x+ é uma sintaze incorreta, no python não existe contador. Caso queira fazer um contador, usa-se:"
   ]
  },
  {
   "cell_type": "code",
   "execution_count": 95,
   "metadata": {},
   "outputs": [
    {
     "name": "stdout",
     "output_type": "stream",
     "text": [
      "4\n"
     ]
    }
   ],
   "source": [
    "x = 3\n",
    "if x == 2:\n",
    "\tprint(x)\n",
    "else:\n",
    "\tx+=1 #Colocar a quantia que deseja acrescentar a x\n",
    "\tprint(x)"
   ]
  }
 ],
 "metadata": {
  "kernelspec": {
   "display_name": "Python [conda env:HubSenai] *",
   "language": "python",
   "name": "conda-env-HubSenai-py"
  },
  "language_info": {
   "codemirror_mode": {
    "name": "ipython",
    "version": 3
   },
   "file_extension": ".py",
   "mimetype": "text/x-python",
   "name": "python",
   "nbconvert_exporter": "python",
   "pygments_lexer": "ipython3",
   "version": "3.7.4"
  }
 },
 "nbformat": 4,
 "nbformat_minor": 2
}
