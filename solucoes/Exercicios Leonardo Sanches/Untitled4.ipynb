{
 "cells": [
  {
   "cell_type": "code",
   "execution_count": 4,
   "metadata": {},
   "outputs": [
    {
     "ename": "IndentationError",
     "evalue": "unindent does not match any outer indentation level (<ipython-input-4-2e357e358d05>, line 33)",
     "output_type": "error",
     "traceback": [
      "\u001b[0;36m  File \u001b[0;32m\"<ipython-input-4-2e357e358d05>\"\u001b[0;36m, line \u001b[0;32m33\u001b[0m\n\u001b[0;31m    .\u001b[0m\n\u001b[0m     ^\u001b[0m\n\u001b[0;31mIndentationError\u001b[0m\u001b[0;31m:\u001b[0m unindent does not match any outer indentation level\n"
     ]
    }
   ],
   "source": [
    "def rotateMatrix(mat): \n",
    "  \n",
    "    if not len(mat): \n",
    "        return\n",
    "      \n",
    "    \"\"\" \n",
    "        top : starting row index \n",
    "        bottom : ending row index \n",
    "        left : starting column index \n",
    "        right : ending column index \n",
    "    \"\"\"\n",
    "  \n",
    "    top = 0\n",
    "    bottom = len(mat)-1\n",
    "  \n",
    "    left = 0\n",
    "    right = len(mat[0])-1\n",
    "  \n",
    "    while left < right and top < bottom: \n",
    "  \n",
    "        # Store the first element of next row, \n",
    "        # this element will replace first element of \n",
    "        # current row \n",
    "        prev = mat[top+1][left] \n",
    "  \n",
    "        # Move elements of top row one step right \n",
    "        for i in range(left, right+1): \n",
    "            curr = mat[top][i] \n",
    "            mat[top][i] = prev \n",
    "            prev = curr \n",
    "  \n",
    "        top += 1\n",
    "  .\n",
    "        # Move elements of rightmost column one step downwards \n",
    "        for i in range(top, bottom+1): \n",
    "            curr = mat[i][right] \n",
    "            mat[i][right] = prev \n",
    "            prev = curr \n",
    "  \n",
    "        right -= 1\n",
    "  \n",
    "        # Move elements of bottom row one step left \n",
    "        for i in range(right, left-1, -1): \n",
    "            curr = mat[bottom][i] \n",
    "            mat[bottom][i] = prev \n",
    "            prev = curr \n",
    "  \n",
    "        bottom -= 1\n",
    "  \n",
    "        # Move elements of leftmost column one step upwards \n",
    "        for i in range(bottom, top-1, -1): \n",
    "            curr = mat[i][left] \n",
    "            mat[i][left] = prev \n",
    "            prev = curr \n",
    "  \n",
    "        left += 1\n",
    "  \n",
    "    return mat \n",
    "\n",
    "def printMatrix(mat): \n",
    "    for row in mat: \n",
    "        print row \n",
    "  \n",
    "  \n",
    "# Test case 1 \n",
    "matrix =[  \n",
    "            [1,  2,  3,  4 ], \n",
    "            [5,  6,  7,  8 ], \n",
    "            [9,  10, 11, 12 ], \n",
    "            [13, 14, 15, 16 ]   \n",
    "\n",
    "  \n",
    "matrix = rotateMatrix(matrix) \n",
    "# Print modified matrix \n",
    "printMatrix(matrix) "
   ]
  },
  {
   "cell_type": "code",
   "execution_count": null,
   "metadata": {},
   "outputs": [],
   "source": []
  }
 ],
 "metadata": {
  "kernelspec": {
   "display_name": "Python [conda env:Env1] *",
   "language": "python",
   "name": "conda-env-Env1-py"
  },
  "language_info": {
   "codemirror_mode": {
    "name": "ipython",
    "version": 3
   },
   "file_extension": ".py",
   "mimetype": "text/x-python",
   "name": "python",
   "nbconvert_exporter": "python",
   "pygments_lexer": "ipython3",
   "version": "3.7.1"
  }
 },
 "nbformat": 4,
 "nbformat_minor": 2
}
