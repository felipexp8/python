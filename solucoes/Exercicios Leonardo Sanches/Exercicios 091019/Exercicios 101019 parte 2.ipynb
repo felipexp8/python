{
 "cells": [
  {
   "cell_type": "code",
   "execution_count": 4,
   "metadata": {},
   "outputs": [
    {
     "name": "stdout",
     "output_type": "stream",
     "text": [
      "[0, 1, [3]]\n",
      "[0, 1, [3, 4]]\n",
      "[0, 1, 2]\n"
     ]
    }
   ],
   "source": [
    "#1\n",
    "\n",
    "x = [0, 1, [2]]\n",
    "x[2][0] = 3\n",
    "print(x)\n",
    "x[2].append(4)\n",
    "print(x)\n",
    "x[2] = 2\n",
    "print(x)"
   ]
  },
  {
   "cell_type": "code",
   "execution_count": 11,
   "metadata": {},
   "outputs": [
    {
     "data": {
      "text/plain": [
       "10"
      ]
     },
     "execution_count": 11,
     "metadata": {},
     "output_type": "execute_result"
    }
   ],
   "source": [
    "# 2 \n",
    "lista1 = [1, 2, 3, 4]\n",
    "sum(lista1)"
   ]
  },
  {
   "cell_type": "code",
   "execution_count": 121,
   "metadata": {},
   "outputs": [
    {
     "name": "stdout",
     "output_type": "stream",
     "text": [
      "hello\n",
      "world\n",
      "helloworld\n"
     ]
    }
   ],
   "source": [
    "#3 Soma palavras\n",
    "#def sum1(x1, y1):\n",
    "    #sum1 = x1 + y1\n",
    "    #return\n",
    "x = input()\n",
    "x1 = str(x)\n",
    "y = input()\n",
    "y1 = str(y)\n",
    "print(x1 + y1)"
   ]
  },
  {
   "cell_type": "code",
   "execution_count": 147,
   "metadata": {},
   "outputs": [
    {
     "name": "stdout",
     "output_type": "stream",
     "text": [
      "3\n",
      "6\n"
     ]
    }
   ],
   "source": [
    "#5 fatorial\n",
    "n = input()\n",
    "fact = 1\n",
    "for i in range(1, int(n)+1):\n",
    "    fact = fact * i\n",
    "print(fact)"
   ]
  },
  {
   "cell_type": "code",
   "execution_count": 166,
   "metadata": {},
   "outputs": [
    {
     "name": "stdout",
     "output_type": "stream",
     "text": [
      "[4, 3, 2, 1] [1, 2, 3, 4]\n"
     ]
    }
   ],
   "source": [
    "#6 inverter lista\n",
    "L = [1, 2, 3, 4]\n",
    "\n",
    "print(L[::-1], L[::-1][::-1])"
   ]
  },
  {
   "cell_type": "code",
   "execution_count": 21,
   "metadata": {},
   "outputs": [
    {
     "name": "stdout",
     "output_type": "stream",
     "text": [
      "['c', 'd', 'f', 'a', 'b', 'v', 'g']\n",
      "Minimo da lista:  a\n",
      "Maximo da lista:  v\n"
     ]
    }
   ],
   "source": [
    "#7 min e max de str\n",
    "\n",
    "ll = ['c', 'd', 'f', 'a', 'b', 'v', 'g']\n",
    "print(ll)\n",
    "print(\"Minimo da lista: \", min(ll))\n",
    "print('Maximo da lista: ', max(ll))"
   ]
  },
  {
   "cell_type": "code",
   "execution_count": 25,
   "metadata": {},
   "outputs": [
    {
     "name": "stdout",
     "output_type": "stream",
     "text": [
      "[1, 3, 6, 10]\n"
     ]
    }
   ],
   "source": [
    "#8 cumulative sum\n",
    "\n",
    "Lista11 = [1, 2, 3, 4]\n",
    "Lista111 = []\n",
    "count = 0 \n",
    "while (count < len(Lista11)):\n",
    "    jjj = sum(Lista11[0:count +1])\n",
    "    Lista111.append(jjj)\n",
    "    count +=1\n",
    "print(Lista111)"
   ]
  },
  {
   "cell_type": "code",
   "execution_count": 117,
   "metadata": {},
   "outputs": [
    {
     "name": "stdout",
     "output_type": "stream",
     "text": [
      "24\n"
     ]
    }
   ],
   "source": [
    "#4\n",
    "L1 = [1, 2, 3, 4]\n",
    "x = 1\n",
    "\n",
    "for i in L1:\n",
    "    x = x*i\n",
    "\n",
    "print(x)\n",
    "    "
   ]
  },
  {
   "cell_type": "code",
   "execution_count": 120,
   "metadata": {},
   "outputs": [
    {
     "name": "stdout",
     "output_type": "stream",
     "text": [
      "[1, 2, 6, 24]\n"
     ]
    }
   ],
   "source": [
    "#9 Cumulative product\n",
    "LLL1 = [1, 2, 3, 4]\n",
    "TTT = []\n",
    "\n",
    "x = 1\n",
    "for i in LLL1:\n",
    "    x = x*i\n",
    "    TTT.append(x)\n",
    "print(TTT)"
   ]
  },
  {
   "cell_type": "code",
   "execution_count": 127,
   "metadata": {},
   "outputs": [
    {
     "name": "stdout",
     "output_type": "stream",
     "text": [
      "[1, 2, 3, 4, 10, 'aa', 'cachorro']\n"
     ]
    }
   ],
   "source": [
    "#10\n",
    "\n",
    "Lista111 = [1, 2, 3, 1, 3, 4, 10, \"aa\", 'cachorro', \"cachorro\"]\n",
    "\n",
    "Lista112 = []\n",
    "\n",
    "for x in Lista111:\n",
    "    if x not in Lista112:\n",
    "        Lista112.append(x)\n",
    "print(Lista112)\n",
    "    "
   ]
  },
  {
   "cell_type": "code",
   "execution_count": 24,
   "metadata": {},
   "outputs": [
    {
     "name": "stdout",
     "output_type": "stream",
     "text": [
      "[1, 2, 4, 8]\n"
     ]
    }
   ],
   "source": [
    "#11\n",
    "seen = set()\n",
    "uniq = []\n",
    "LLLL = [1, 2, 1, 2, 4, 4, 5, 6, 7, 8, 8]\n",
    "\n",
    "\n",
    "for x in LLLL:\n",
    "    if x not in seen:\n",
    "        seen.add(x)\n",
    "    else:\n",
    "        uniq.append(x)\n",
    "\n",
    "print(uniq)\n"
   ]
  },
  {
   "cell_type": "code",
   "execution_count": 78,
   "metadata": {},
   "outputs": [
    {
     "name": "stdout",
     "output_type": "stream",
     "text": [
      "Numero de elementos: 12\n",
      "Elementos: 1\n",
      "Elementos: 2\n",
      "Elementos: 3\n",
      "Elementos: 1\n",
      "Elementos: 2\n",
      "Elementos: 3\n",
      "Elementos: 1\n",
      "Elementos: 2\n",
      "Elementos: 3\n",
      "Elementos: 1\n",
      "Elementos: 2\n",
      "Elementos: 3\n",
      "Numero de Splits: 1\n"
     ]
    },
    {
     "data": {
      "text/plain": [
       "[[1], [2], [3], [1], [2], [3], [1], [2], [3], [1], [2], [3]]"
      ]
     },
     "execution_count": 78,
     "metadata": {},
     "output_type": "execute_result"
    }
   ],
   "source": [
    "#12\n",
    "\n",
    "\n",
    "l1 = []\n",
    "l11 = int(input(\"Numero de elementos: \"))\n",
    "\n",
    "for i in range (0, l11):\n",
    "    l12 = int(input(\"Elementos: \"))\n",
    "    l1.append(l12)\n",
    "    \n",
    "l13 = int(input(\"Numero de Splits: \"))\n",
    "\n",
    "\n",
    "[l1[j:j+l13] for j in range(0, len(l1), l13)]"
   ]
  },
  {
   "cell_type": "code",
   "execution_count": 46,
   "metadata": {},
   "outputs": [
    {
     "name": "stdout",
     "output_type": "stream",
     "text": [
      "['ave', 'peixe', 'macaco', 'cavalo', 'batata', 'cachorro', 'capivara', 'paralelepipedo']\n"
     ]
    }
   ],
   "source": [
    "#14\n",
    "lstr1 = [\"macaco\",'paralelepipedo', \"cachorro\", 'cavalo', 'peixe', 'batata', 'ave','capivara']\n",
    "\n",
    "lstr1.sort(key=len)\n",
    "print(lstr1)"
   ]
  },
  {
   "cell_type": "code",
   "execution_count": 88,
   "metadata": {
    "scrolled": true
   },
   "outputs": [
    {
     "name": "stdout",
     "output_type": "stream",
     "text": [
      "['macaco', 'paralelepipedo', 'cachorro']\n"
     ]
    }
   ],
   "source": [
    "#15\n",
    "\n",
    "seen = set()\n",
    "uniq = []\n",
    "lstr1 = [\"macaco\",'paralelepipedo', \"cachorro\", \"macaco\",'paralelepipedo', \"cachorro\",'papagaio']\n",
    "\n",
    "\n",
    "for x in lstr1:\n",
    "    if x not in seen:\n",
    "        seen.add(x)\n",
    "    else:\n",
    "        uniq.append(x)\n",
    "\n",
    "print(uniq) "
   ]
  },
  {
   "cell_type": "code",
   "execution_count": 89,
   "metadata": {},
   "outputs": [
    {
     "name": "stdout",
     "output_type": "stream",
     "text": [
      "{'a', 'c'}\n",
      "{'b', 'a', 'c'}\n"
     ]
    }
   ],
   "source": [
    "#16\n",
    "\n",
    "seen = set()\n",
    "uniq = set()\n",
    "ListaTeste = ['a', 'a', 'b','c','c', 'c']\n",
    "\n",
    "for x in ListaTeste:\n",
    "    if x not in seen:\n",
    "        seen.add(x)\n",
    "    else:\n",
    "        uniq.add(x)\n",
    "\n",
    "print(uniq)\n",
    "print(seen)\n"
   ]
  },
  {
   "cell_type": "code",
   "execution_count": 86,
   "metadata": {},
   "outputs": [
    {
     "data": {
      "text/plain": [
       "['.java', '.java', '.py', '.py']"
      ]
     },
     "execution_count": 86,
     "metadata": {},
     "output_type": "execute_result"
    }
   ],
   "source": [
    "# 17 \n",
    "\n",
    "lista = {\"abacaxi\":\".py\", 'laranja':'.py', 'batata':'.java', 'cenoura':'.java'}\n",
    "\n",
    "sorted(lista.values())\n"
   ]
  },
  {
   "cell_type": "code",
   "execution_count": 97,
   "metadata": {},
   "outputs": [
    {
     "name": "stdout",
     "output_type": "stream",
     "text": [
      "Digite seu texto aqui: aaaaaAAAAAAAAA\n",
      "Digite seu texto aqui: bbbBBBBBBBBBBB\n",
      "Digite seu texto aqui: ccccCCCCCCCCC\n",
      "CCCCCCCCCcccc \n",
      " BBBBBBBBBBBbbb \n",
      " CCCCCCCCCcccc\n"
     ]
    }
   ],
   "source": [
    "# 18\n",
    "\n",
    "def girador(s):\n",
    "    return s[::-1]\n",
    "\n",
    "texto = str(input(\"Digite seu texto aqui: \"))\n",
    "texto2 = str(input('Digite seu texto aqui: '))\n",
    "texto3 = str(input('Digite seu texto aqui: '))\n",
    "            \n",
    "print(girador(texto3),'\\n', girador(texto2), '\\n', girador(texto3))"
   ]
  },
  {
   "cell_type": "code",
   "execution_count": 4,
   "metadata": {
    "scrolled": true
   },
   "outputs": [
    {
     "name": "stdout",
     "output_type": "stream",
     "text": [
      "Paragrafo 1: Primeiro paragrafo teste\n",
      "Paragrafo 2: segundo paragrafo teste\n",
      "Paragrafo3:  terceiro paragrafo teste\n",
      "\n"
     ]
    }
   ],
   "source": [
    "#18.2\n",
    "\n",
    "file = open(\"testfile.txt\",'w')\n",
    "file.write(str(input(\"Paragrafo 1: \")))\n",
    "file.write('\\n')\n",
    "file.write(str(input(\"Paragrafo 2: \")))\n",
    "file.write('\\n')\n",
    "file.write(str(input(\"Paragrafo3:  \")))\n",
    "\n",
    "file.close\n",
    "\n",
    "file1 = open(\"testfile.txt\", 'r')\n",
    "    \n",
    "print(file1.read()[::-1])\n"
   ]
  },
  {
   "cell_type": "code",
   "execution_count": 64,
   "metadata": {
    "scrolled": true
   },
   "outputs": [
    {
     "name": "stdout",
     "output_type": "stream",
     "text": [
      "Numero de paragrafos : 12\n",
      "Escreva algo :primeira linha\n",
      "Escreva algo :segunda linha\n",
      "Escreva algo :tereira linha\n",
      "Escreva algo :quarta linha\n",
      "Escreva algo :quinta linha\n",
      "Escreva algo :sexta linha\n",
      "Escreva algo :setima linha\n",
      "Escreva algo :oitava linha\n",
      "Escreva algo :nona linha\n",
      "Escreva algo :dez\n",
      "Escreva algo :onze\n",
      "Escreva algo :doze\n",
      "\n",
      "p\n",
      "ri\n",
      "mei\n",
      "ra l\n",
      "inha\n",
      "\n",
      "segund\n",
      "a linha\n",
      "\n",
      "\n",
      "tereira l\n"
     ]
    }
   ],
   "source": [
    "#20\n",
    "arq1 = open('aqr1.txt', 'w')\n",
    "a1 = int(input('Numero de paragrafos : '))\n",
    "\n",
    "for i in range(0, a1):\n",
    "    arq1.write(str(input('Escreva algo :')))\n",
    "    arq1.write('\\n')\n",
    "arq1.close()\n",
    "    \n",
    "arq2 = open('aqr1.txt', 'r')\n",
    "\n",
    "for j in range(0, 10):\n",
    "    print(arq2.readline(j))\n"
   ]
  },
  {
   "cell_type": "code",
   "execution_count": 85,
   "metadata": {
    "scrolled": true
   },
   "outputs": [
    {
     "name": "stdout",
     "output_type": "stream",
     "text": [
      "Numero de paragrafos: 12\n",
      "Escreva algo: 1\n",
      "Escreva algo: 2\n",
      "Escreva algo: 3\n",
      "Escreva algo: 4\n",
      "Escreva algo: 1\n",
      "Escreva algo: 2\n",
      "Escreva algo: 3\n",
      "Escreva algo: 4\n",
      "Escreva algo: 1\n",
      "Escreva algo: 2\n",
      "Escreva algo: 3\n",
      "Escreva algo: 4\n",
      "1\n",
      "\n",
      "2\n",
      "\n",
      "3\n",
      "\n",
      "4\n",
      "\n",
      "1\n",
      "\n",
      "2\n",
      "\n",
      "3\n",
      "\n",
      "4\n",
      "\n",
      "1\n",
      "\n",
      "2\n",
      "\n"
     ]
    }
   ],
   "source": [
    "#20.2\n",
    "\n",
    "arq3 = open('arq3.txt','w')\n",
    "a1 = int(input('Numero de paragrafos: '))\n",
    "\n",
    "for i in range(0, a1):\n",
    "    arq3.write(str(input('Escreva algo: ')))\n",
    "    arq3.write('\\n')\n",
    "arq3.close()\n",
    "\n",
    "arq4 = open('arq3.txt', 'r')\n",
    "\n",
    "count = 0\n",
    "while count < 10:\n",
    "    print(arq4.readline())\n",
    "    count += 1"
   ]
  },
  {
   "cell_type": "code",
   "execution_count": 124,
   "metadata": {},
   "outputs": [
    {
     "name": "stdout",
     "output_type": "stream",
     "text": [
      "Numero de paragrafos: 3\n",
      "Escreva algo: alo quem fala\n",
      "Escreva algo: sou eu leo\n",
      "Escreva algo: e vc\n",
      "Palavra :quem\n",
      "\n"
     ]
    }
   ],
   "source": [
    "#21 \n",
    "\n",
    "arq5 = open('arq5.txt','w')\n",
    "a1 = int(input('Numero de paragrafos: '))\n",
    "\n",
    "for i in range(0, a1):\n",
    "    arq5.write(str(input('Escreva algo: ')))\n",
    "    arq5.write('\\n')\n",
    "arq5.close()\n",
    "\n",
    "arq6 = open('arq5.txt', 'r')\n",
    "palavra = str(input('Palavra :'))\n",
    "if palavra in arq6.read():\n",
    "      print(\"Existe\")\n",
    "else:\n",
    "    print(\"nao encontrado.\")\n",
    "\n",
    "#Nao consigo printar a linha com determinada palavra no txt"
   ]
  },
  {
   "cell_type": "code",
   "execution_count": 128,
   "metadata": {
    "scrolled": true
   },
   "outputs": [
    {
     "name": "stdout",
     "output_type": "stream",
     "text": [
      "Numero de paragrafos: 3\n",
      "Escreva algo: alo alo alo\n",
      "Escreva algo: qm\n",
      "Escreva algo: qm\n"
     ]
    },
    {
     "ename": "AttributeError",
     "evalue": "'_io.TextIOWrapper' object has no attribute 'split'",
     "output_type": "error",
     "traceback": [
      "\u001b[0;31m---------------------------------------------------------------------------\u001b[0m",
      "\u001b[0;31mAttributeError\u001b[0m                            Traceback (most recent call last)",
      "\u001b[0;32m<ipython-input-128-e25e18915663>\u001b[0m in \u001b[0;36m<module>\u001b[0;34m()\u001b[0m\n\u001b[1;32m      9\u001b[0m \u001b[0;34m\u001b[0m\u001b[0m\n\u001b[1;32m     10\u001b[0m \u001b[0marq8\u001b[0m \u001b[0;34m=\u001b[0m \u001b[0mopen\u001b[0m\u001b[0;34m(\u001b[0m\u001b[0;34m'arq7.txt'\u001b[0m\u001b[0;34m,\u001b[0m\u001b[0;34m'w'\u001b[0m\u001b[0;34m)\u001b[0m\u001b[0;34m\u001b[0m\u001b[0;34m\u001b[0m\u001b[0m\n\u001b[0;32m---> 11\u001b[0;31m \u001b[0marq8\u001b[0m\u001b[0;34m.\u001b[0m\u001b[0msplit\u001b[0m\u001b[0;34m(\u001b[0m\u001b[0;34m)\u001b[0m\u001b[0;34m\u001b[0m\u001b[0;34m\u001b[0m\u001b[0m\n\u001b[0m",
      "\u001b[0;31mAttributeError\u001b[0m: '_io.TextIOWrapper' object has no attribute 'split'"
     ]
    }
   ],
   "source": [
    "#22\n",
    "arq7 = open('arq7.txt','w')\n",
    "np = int(input('Numero de paragrafos: '))\n",
    "\n",
    "for i in range(0, np):\n",
    "    arq7.write(str(input('Escreva algo: ')))\n",
    "    arq7.write('\\n')\n",
    "arq7.close()\n",
    "\n",
    "arq8 = open('arq7.txt','w')\n",
    "arq8.split()"
   ]
  },
  {
   "cell_type": "code",
   "execution_count": 138,
   "metadata": {},
   "outputs": [
    {
     "name": "stdout",
     "output_type": "stream",
     "text": [
      "Numero de parametros: 4\n",
      "Parametros 1: a\n",
      "Paranetros 2: 1\n",
      "Parametros 1: b\n",
      "Paranetros 2: 2\n",
      "Parametros 1: c\n",
      "Paranetros 2: 3\n",
      "Parametros 1: d\n",
      "Paranetros 2: 4\n",
      "[['a', '1'], ['b', '2'], ['c', '3'], ['d', '4']]\n"
     ]
    }
   ],
   "source": [
    "#25\n",
    "\n",
    "n1 = int(input('Numero de parametros: '))\n",
    "lista1 =[]\n",
    "lista2 =[]\n",
    "lista3 = []\n",
    "\n",
    "for i in range(0, n1):\n",
    "    lista1.append(str(input(\"Parametros 1: \")))\n",
    "    lista2.append(str(input('Paranetros 2: ')))\n",
    "\n",
    "for j in range(0, n1):\n",
    "    lista3.append([lista1[j],lista2[j]])\n",
    "print(lista3)"
   ]
  },
  {
   "cell_type": "code",
   "execution_count": 6,
   "metadata": {},
   "outputs": [
    {
     "name": "stdout",
     "output_type": "stream",
     "text": [
      "[1, 4, 9, 16, 25, 36, 49, 64, 81, 100] [1, 4, 9, 16, 25, 36, 49, 64, 81, 100]\n"
     ]
    }
   ],
   "source": [
    "#26\n",
    "\n",
    "nlist = [1, 2, 3, 4, 5, 6, 7, 8, 9, 10]\n",
    "\n",
    "def f(x):\n",
    "    return x*x\n",
    "\n",
    "mapa1 =[f(x) for x in nlist]\n",
    "mapa = map(lambda x: x**2, nlist)\n",
    "print(list(mapa), mapa1)"
   ]
  },
  {
   "cell_type": "code",
   "execution_count": 26,
   "metadata": {
    "scrolled": true
   },
   "outputs": [
    {
     "name": "stdout",
     "output_type": "stream",
     "text": [
      "[0, 2, 4, 6, 8, 10, 12, 14, 16, 18]\n"
     ]
    }
   ],
   "source": [
    "#27\n",
    "\n",
    "LL1 = range(20)\n",
    "LL2 =list(LL1)\n",
    "LL3 = []\n",
    "for item in LL2:\n",
    "    if item %2 ==0:\n",
    "        LL3.append(item)\n",
    "    \n",
    "print(LL3)"
   ]
  },
  {
   "cell_type": "code",
   "execution_count": 58,
   "metadata": {},
   "outputs": [
    {
     "name": "stdout",
     "output_type": "stream",
     "text": [
      "Numero :10\n",
      "[1, 2, 3, 4, 5, 6, 7, 8, 9] [9, 8, 7, 6, 5, 4, 3, 2, 1] [10, 10, 10, 10, 10, 10, 10, 10, 10]\n",
      "[[1, 9, 10], [2, 8, 10], [3, 7, 10], [4, 6, 10], [5, 5, 10], [6, 4, 10], [7, 3, 10], [8, 2, 10], [9, 1, 10]]\n"
     ]
    }
   ],
   "source": [
    "#28 \n",
    "a1 = int(input(\"Numero :\"))\n",
    "a2 = []\n",
    "a3 = []\n",
    "a4 = []\n",
    "for x in range(0, a1):\n",
    "    for y in range(0, a1):\n",
    "        if x + y == a1:\n",
    "            a2.append(x)\n",
    "            a3.append(y)\n",
    "            a4.append(x + y)\n",
    "print(a2, a3, a4)\n",
    "a5 = []\n",
    "\n",
    "for i in range(0, len(a2)):\n",
    "    a5.append([a2[i], a3[i], a4[i]])\n",
    "print(a5)\n",
    "    \n"
   ]
  },
  {
   "cell_type": "code",
   "execution_count": 64,
   "metadata": {},
   "outputs": [
    {
     "name": "stdout",
     "output_type": "stream",
     "text": [
      "Numero de itens: 4\n",
      "Itens :a\n",
      "Itens :b\n",
      "Itens :c\n",
      "Itens :d\n",
      "[[1, 'a'], [2, 'b'], [3, 'c'], [4, 'd']]\n"
     ]
    }
   ],
   "source": [
    "#28 \n",
    "\n",
    "l1 = []\n",
    "n1 = int(input(\"Numero de itens: \"))\n",
    "\n",
    "for x in range(0, n1):\n",
    "    l1.append([x +1 ,str(input(\"Itens :\"))])\n",
    "print(l1)"
   ]
  },
  {
   "cell_type": "code",
   "execution_count": 93,
   "metadata": {
    "scrolled": true
   },
   "outputs": [
    {
     "name": "stdout",
     "output_type": "stream",
     "text": [
      "Numero de itens: 3\n",
      "Numeros lista 1 :1\n",
      "Numeros lista 2 :1\n",
      "Numeros lista 1 :2\n",
      "Numeros lista 2 :2\n",
      "Numeros lista 1 :3\n",
      "Numeros lista 2 :3\n",
      "[[[1, 2, 3], [1, 2, 3]]]\n",
      "Qual item deseja ver? : 1\n",
      "Qual item deseja ver? : 2\n"
     ]
    },
    {
     "data": {
      "text/plain": [
       "3"
      ]
     },
     "execution_count": 93,
     "metadata": {},
     "output_type": "execute_result"
    }
   ],
   "source": [
    "#30 \n",
    "\n",
    "b1 = []\n",
    "b2 = []\n",
    "n1 = int(input(\"Numero de itens: \"))\n",
    "\n",
    "for i in range(0, n1):\n",
    "    b1.append(int(input(\"Numeros lista 1 :\")))\n",
    "    b2.append(int(input(\"Numeros lista 2 :\")))\n",
    "\n",
    "b3 = []\n",
    "b3.append([b1,b2])\n",
    "print(b3)\n",
    "\n",
    "x = int(input(\"Qual item deseja ver? : \"))\n",
    "y = int(input(\"Qual item deseja ver? : \"))\n",
    "b3[0][x][y]"
   ]
  },
  {
   "cell_type": "markdown",
   "metadata": {},
   "source": [
    "### "
   ]
  },
  {
   "cell_type": "code",
   "execution_count": 98,
   "metadata": {
    "scrolled": true
   },
   "outputs": [
    {
     "name": "stdout",
     "output_type": "stream",
     "text": [
      "Numero de itens dentro da lista: 5\n",
      "item lista 1: 1\n",
      "item lista 2: 2\n",
      "item lista 3: 3\n",
      "item lista 1: 1\n",
      "item lista 2: 2\n",
      "item lista 3: 3\n",
      "item lista 1: 1\n",
      "item lista 2: 2\n",
      "item lista 3: 3\n",
      "item lista 1: 1\n",
      "item lista 2: 2\n",
      "item lista 3: 3\n",
      "item lista 1: 1\n",
      "item lista 2: 2\n",
      "item lista 3: 3\n",
      "[[['1', '1', '1', '1', '1'], ['2', '2', '2', '2', '2'], ['3', '3', '3', '3', '3']]]\n"
     ]
    }
   ],
   "source": [
    "#31\n",
    "v1 = []\n",
    "v2 = []\n",
    "v3 = []\n",
    "n2 = int(input(\"Numero de itens dentro da lista: \"))\n",
    "\n",
    "for x in range(0, n2):\n",
    "    v1.append(str(input(\"item lista 1: \")))\n",
    "    v2.append(str(input(\"item lista 2: \")))\n",
    "    v3.append(str(input(\"item lista 3: \")))\n",
    "\n",
    "v4 = []\n",
    "v4.append([v1, v2, v3])\n",
    "print(v4)\n",
    "\n",
    "\n",
    "\n",
    "\n",
    "\n"
   ]
  },
  {
   "cell_type": "code",
   "execution_count": 139,
   "metadata": {},
   "outputs": [
    {
     "name": "stdout",
     "output_type": "stream",
     "text": [
      "Numero de Pessoas: 3\n",
      "Nome: leonardo\n",
      "Profissao: fisico\n",
      "idade: 24\n",
      "Nome: pedro\n",
      "Profissao: atleta\n",
      "idade: 30\n",
      "Nome: claudio\n",
      "Profissao: desempregado\n",
      "idade: 40\n",
      "[[\"['leonardo', 'pedro', 'claudio']\", \"['fisico', 'atleta', 'desempregado']\", \"['24', '30', '40']\"]]\n"
     ]
    }
   ],
   "source": [
    "#31.1\n",
    "import csv\n",
    "\n",
    "v1 = []\n",
    "v2 = []\n",
    "v3 = []\n",
    "n2 = int(input(\"Numero de Pessoas: \"))\n",
    "\n",
    "for x in range(0, n2):\n",
    "    v1.append(str(input(\"Nome: \")))\n",
    "    v2.append(str(input(\"Profissao: \")))\n",
    "    v3.append(str(input(\"idade: \")))\n",
    "\n",
    "v4 = []\n",
    "v4.append([v1, v2, v3])\n",
    "\n",
    "with open('t1.csv', 'wb') as csvfile:\n",
    "    filewriter = csv.writer(csvfile, delimiter=',', quotechar='|', quoting=csv.QUOTE_MINIMAL)\n",
    "\n",
    "\n",
    "#row = ['1', 'Leonardo', 'Physics']\n",
    "\n",
    "with open('t1.csv', 'r') as readFile:\n",
    "    reader = csv.reader(readFile)\n",
    "    lines = list(reader)\n",
    "    \n",
    "with open('t1.csv', 'w') as writeFile:\n",
    "    writer = csv.writer(writeFile)\n",
    "    writer.writerows(lines)\n",
    "    writer.writerows(v4)\n",
    "readFile.close()\n",
    "writeFile.close()\n",
    "csvfile.close()\n",
    "\n",
    "with open('t1.csv', 'r') as f:\n",
    "    reader = csv.reader(f)\n",
    "    print(list(reader))\n",
    "    "
   ]
  },
  {
   "cell_type": "code",
   "execution_count": 186,
   "metadata": {
    "scrolled": false
   },
   "outputs": [
    {
     "name": "stdout",
     "output_type": "stream",
     "text": [
      "Digite uma frase: alo quem fala\n",
      "Letra: a\n",
      "troca por: b\n",
      "alo quem fala\n",
      "blo quem fblb\n"
     ]
    }
   ],
   "source": [
    "#32\n",
    "s = list(s)\n",
    "s = str(input(\"Digite uma frase: \"))\n",
    "\n",
    "x = str(input(\"Letra: \"))\n",
    "y = input(\"troca por: \")\n",
    "\n",
    "for i in range(0, len(s)):\n",
    "    if s[i] == x:\n",
    "        a1 = s.replace(x, y)\n",
    "print(s)\n",
    "print(a1)\n",
    "\n"
   ]
  },
  {
   "cell_type": "code",
   "execution_count": 196,
   "metadata": {},
   "outputs": [
    {
     "name": "stdout",
     "output_type": "stream",
     "text": [
      "alo quem fala\n",
      "W\n",
      "nd a ve\n"
     ]
    }
   ],
   "source": [
    "#33\n",
    "\n",
    "a1 = str(input(\"\"))\n",
    "a2 = str(input(\"\"))\n",
    "\n",
    "a3 = set(sorted(list(a1)))\n",
    "a4 = set(sorted(list(a2)))\n",
    "\n",
    "if a3 == a4:\n",
    "    print(\"Identicos\")\n",
    "elif a3 <= a4:\n",
    "        print(\"parece\")\n",
    "elif a4 <=a3:\n",
    "        print(\"parece\")\n",
    "else: \n",
    "    print('nd a ve')"
   ]
  },
  {
   "cell_type": "code",
   "execution_count": 206,
   "metadata": {},
   "outputs": [
    {
     "name": "stdout",
     "output_type": "stream",
     "text": [
      " Paragrafo 1:\n",
      " alo alo alo\n",
      " Paragrafo 2:\n",
      " alo alo alo\n",
      " Paragrafo 3: \n",
      " alo alo alo\n",
      "{'alo': 9}\n"
     ]
    }
   ],
   "source": [
    "#36\n",
    "#Contador de palavras num txt\n",
    "\n",
    "file = open(\"te.txt\",'w')\n",
    "file.write(str(input(\" Paragrafo 1:\\n \")))\n",
    "file.write(\"\\n\")\n",
    "file.write(str(input(\" Paragrafo 2:\\n \")))\n",
    "file.write('\\n')\n",
    "file.write(str(input(\" Paragrafo 3: \\n \")))\n",
    "file.write('\\n')\n",
    "file.close()\n",
    "\n",
    "f = open(\"te.txt\", 'r')\n",
    "\n",
    "contador={}\n",
    "for palavras in f.read().split():\n",
    "    if palavras not in contador:\n",
    "        contador[palavras] = 1\n",
    "    else:\n",
    "        contador[palavras] += 1\n",
    "print(contador)\n",
    "f.close()"
   ]
  },
  {
   "cell_type": "code",
   "execution_count": 210,
   "metadata": {},
   "outputs": [
    {
     "name": "stdout",
     "output_type": "stream",
     "text": [
      "alo\n",
      "ola\n",
      "{'l', 'o', 'a'}\n",
      "{'l', 'o', 'a'}\n",
      "Isso e um anagrama\n"
     ]
    }
   ],
   "source": [
    "#37\n",
    "\n",
    "a1 = str(input(\"\"))\n",
    "a2 = str(input(\"\"))\n",
    "\n",
    "a3 = set(sorted(list(a1)))\n",
    "a4 = set(sorted(list(a2)))\n",
    "\n",
    "if a3 == a4:\n",
    "    print(\"Isso e um anagrama\")\n",
    "else:\n",
    "    print(\"N e um anagrama\")"
   ]
  },
  {
   "cell_type": "code",
   "execution_count": 4,
   "metadata": {
    "scrolled": true
   },
   "outputs": [
    {
     "name": "stdout",
     "output_type": "stream",
     "text": [
      "Numero de palavras: 2\n",
      "Palavras: alo\n",
      "Palavras: ola\n"
     ]
    },
    {
     "ename": "TypeError",
     "evalue": "unhashable type: 'list'",
     "output_type": "error",
     "traceback": [
      "\u001b[0;31m---------------------------------------------------------------------------\u001b[0m",
      "\u001b[0;31mTypeError\u001b[0m                                 Traceback (most recent call last)",
      "\u001b[0;32m<ipython-input-4-dd2e450352e3>\u001b[0m in \u001b[0;36m<module>\u001b[0;34m()\u001b[0m\n\u001b[1;32m     11\u001b[0m \u001b[0;32mfor\u001b[0m \u001b[0mj\u001b[0m \u001b[0;32min\u001b[0m \u001b[0mrange\u001b[0m\u001b[0;34m(\u001b[0m\u001b[0;36m0\u001b[0m \u001b[0;34m,\u001b[0m \u001b[0mnn\u001b[0m\u001b[0;34m)\u001b[0m\u001b[0;34m:\u001b[0m\u001b[0;34m\u001b[0m\u001b[0;34m\u001b[0m\u001b[0m\n\u001b[1;32m     12\u001b[0m     \u001b[0msorted\u001b[0m\u001b[0;34m(\u001b[0m\u001b[0mlista11\u001b[0m\u001b[0;34m[\u001b[0m\u001b[0mj\u001b[0m\u001b[0;34m]\u001b[0m\u001b[0;34m)\u001b[0m\u001b[0;34m\u001b[0m\u001b[0;34m\u001b[0m\u001b[0m\n\u001b[0;32m---> 13\u001b[0;31m     \u001b[0mlista12\u001b[0m\u001b[0;34m.\u001b[0m\u001b[0madd\u001b[0m\u001b[0;34m(\u001b[0m\u001b[0msorted\u001b[0m\u001b[0;34m(\u001b[0m\u001b[0mlista11\u001b[0m\u001b[0;34m[\u001b[0m\u001b[0mj\u001b[0m\u001b[0;34m]\u001b[0m\u001b[0;34m)\u001b[0m\u001b[0;34m)\u001b[0m\u001b[0;34m\u001b[0m\u001b[0;34m\u001b[0m\u001b[0m\n\u001b[0m\u001b[1;32m     14\u001b[0m \u001b[0mprint\u001b[0m\u001b[0;34m(\u001b[0m\u001b[0mlista12\u001b[0m\u001b[0;34m)\u001b[0m\u001b[0;34m\u001b[0m\u001b[0;34m\u001b[0m\u001b[0m\n\u001b[1;32m     15\u001b[0m \u001b[0;34m\u001b[0m\u001b[0m\n",
      "\u001b[0;31mTypeError\u001b[0m: unhashable type: 'list'"
     ]
    }
   ],
   "source": [
    "#37.1\n",
    "\n",
    "nn = int(input(\"Numero de palavras: \"))\n",
    "lista11 = []\n",
    "for i in range(0, nn):\n",
    "    lista11.append(str(input(\"Palavras: \")))\n",
    "    \n",
    "    \n",
    "lista12 = set()\n",
    "    \n",
    "for j in range(0 , nn):\n",
    "    sorted(lista11[j])\n",
    "    lista12.add(sorted(lista11[j]))\n",
    "print(lista12)\n",
    "    \n",
    "lista3 = set(sorted(list(lista11)))\n",
    "print(lista3)\n"
   ]
  },
  {
   "cell_type": "code",
   "execution_count": null,
   "metadata": {
    "collapsed": true
   },
   "outputs": [],
   "source": []
  },
  {
   "cell_type": "code",
   "execution_count": null,
   "metadata": {},
   "outputs": [],
   "source": []
  }
 ],
 "metadata": {
  "kernelspec": {
   "display_name": "Python [conda env:Env1] *",
   "language": "python",
   "name": "conda-env-Env1-py"
  },
  "language_info": {
   "codemirror_mode": {
    "name": "ipython",
    "version": 3
   },
   "file_extension": ".py",
   "mimetype": "text/x-python",
   "name": "python",
   "nbconvert_exporter": "python",
   "pygments_lexer": "ipython3",
   "version": "3.7.1"
  }
 },
 "nbformat": 4,
 "nbformat_minor": 2
}
