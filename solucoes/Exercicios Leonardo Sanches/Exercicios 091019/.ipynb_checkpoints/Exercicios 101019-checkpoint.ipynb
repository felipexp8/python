{
 "cells": [
  {
   "cell_type": "code",
   "execution_count": 11,
   "metadata": {},
   "outputs": [
    {
     "name": "stdout",
     "output_type": "stream",
     "text": [
      "Primeiro numero: \n",
      "25\n",
      "Segundo Numero: \n",
      "25\n",
      "Menor numero: \n",
      "25\n"
     ]
    }
   ],
   "source": [
    "# numeros diferentes, encontre o menor\n",
    "\n",
    "print(\"Primeiro numero: \")\n",
    "n1 = input()\n",
    "\n",
    "print(\"Segundo Numero: \")\n",
    "n2 = input()\n",
    "\n",
    "print(\"Menor numero: \")\n",
    "if n1 > n2:\n",
    "    print(n2)\n",
    "else:\n",
    "    print(n1)\n"
   ]
  },
  {
   "cell_type": "code",
   "execution_count": 34,
   "metadata": {},
   "outputs": [
    {
     "name": "stdout",
     "output_type": "stream",
     "text": [
      "Sua idade: \n",
      "15\n",
      "Peso: \n",
      "4\n",
      "Horas de sono: \n",
      "3\n",
      "Voce nao pode doar sangue\n"
     ]
    }
   ],
   "source": [
    "# Para doar....\n",
    "print(\"Sua idade: \")\n",
    "a1 = input()\n",
    "print(\"Peso: \")\n",
    "a2 = input()\n",
    "print(\"Horas de sono: \")\n",
    "a3 = input()\n",
    "\n",
    "if int(a1) > 16:\n",
    "    if int(a1) < 69:    \n",
    "        if int(a2) > 50:\n",
    "            if int(a3) > 6:\n",
    "                print(\"Voce pode doar sangue\")\n",
    "else:\n",
    "    print(\"Voce nao pode doar sangue\")\n",
    "\n"
   ]
  },
  {
   "cell_type": "code",
   "execution_count": 38,
   "metadata": {},
   "outputs": [],
   "source": [
    "def f(x, a, b, c):\n",
    "    a * x**2 + b * x + c\n"
   ]
  },
  {
   "cell_type": "code",
   "execution_count": 46,
   "metadata": {},
   "outputs": [
    {
     "name": "stdout",
     "output_type": "stream",
     "text": [
      "10\n",
      "11\n",
      "29\n"
     ]
    }
   ],
   "source": [
    "# 4\n",
    "\n",
    "nn1 = input()\n",
    "nn2 = input()\n",
    "nn3 = int(nn1) + int(nn2)\n",
    "if int(nn3) > 20:\n",
    "    print(int(nn3) + 8)\n",
    "else:\n",
    "    print(int(nn3) - 5)"
   ]
  },
  {
   "cell_type": "code",
   "execution_count": 51,
   "metadata": {},
   "outputs": [
    {
     "name": "stdout",
     "output_type": "stream",
     "text": [
      "-10\n",
      "100\n"
     ]
    }
   ],
   "source": [
    "#5 \n",
    "from math import sqrt\n",
    "\n",
    "b1 = input()\n",
    "if int(b1) >= 0:\n",
    "    print(sqrt(int(b1)))\n",
    "else:\n",
    "    print(int(b1) * int(b1))\n"
   ]
  },
  {
   "cell_type": "code",
   "execution_count": 93,
   "metadata": {},
   "outputs": [
    {
     "name": "stdout",
     "output_type": "stream",
     "text": [
      "12\n",
      "dez\n"
     ]
    }
   ],
   "source": [
    "#6\n",
    "\n",
    "bb1 = input()\n",
    "mes = int(bb1)\n",
    "\n",
    "mes1 = ['Jan', 'Feb', 'Mar', 'Abr', 'Mai','jun', 'jul', 'ago', 'set', 'out', 'nov', 'dez']\n",
    "\n",
    "if mes <= 12:\n",
    "    if mes >= 1:\n",
    "        print(mes1[mes - 1])\n",
    "else:\n",
    "    print(\"Nao existe mes com esse numero\")"
   ]
  },
  {
   "cell_type": "code",
   "execution_count": null,
   "metadata": {},
   "outputs": [],
   "source": []
  }
 ],
 "metadata": {
  "kernelspec": {
   "display_name": "Python [conda env:Env1] *",
   "language": "python",
   "name": "conda-env-Env1-py"
  },
  "language_info": {
   "codemirror_mode": {
    "name": "ipython",
    "version": 3
   },
   "file_extension": ".py",
   "mimetype": "text/x-python",
   "name": "python",
   "nbconvert_exporter": "python",
   "pygments_lexer": "ipython3",
   "version": "3.7.1"
  }
 },
 "nbformat": 4,
 "nbformat_minor": 2
}
