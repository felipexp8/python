{
 "cells": [
  {
   "cell_type": "code",
   "execution_count": 11,
   "metadata": {},
   "outputs": [
    {
     "name": "stdout",
     "output_type": "stream",
     "text": [
      "1\n",
      "2\n",
      "None\n"
     ]
    }
   ],
   "source": [
    "#1 \n",
    "a1 = input()\n",
    "a2 = input()\n",
    "\n",
    "def Max(a1,a2):\n",
    "    int(a1) + int(a2)+int(a1) - int(a2)\n",
    "    return \n",
    "\n",
    "print(Max(a1,a2))\n"
   ]
  },
  {
   "cell_type": "code",
   "execution_count": 70,
   "metadata": {},
   "outputs": [
    {
     "name": "stdout",
     "output_type": "stream",
     "text": [
      "Digite um numero: 11\n"
     ]
    }
   ],
   "source": [
    "# 2 \n",
    "fizz_buzz = int(input(\"Digite um numero: \"))\n",
    "\n",
    "if(fizz_buzz%3==0):\n",
    "    print(\"Fizz\")\n",
    "if(fizz_buzz%5==0):\n",
    "        print(\"Buzz\")\n",
    "    "
   ]
  },
  {
   "cell_type": "code",
   "execution_count": 85,
   "metadata": {},
   "outputs": [
    {
     "name": "stdout",
     "output_type": "stream",
     "text": [
      "140\n",
      "Pontos:  14\n",
      "Busted\n"
     ]
    }
   ],
   "source": [
    "#3\n",
    "\n",
    "speed = int(input())\n",
    "Over = speed - 70\n",
    "Multa = int(Over / 5)\n",
    "if speed <= 70:\n",
    "    print('ok')\n",
    "\n",
    "else:\n",
    "    print(\"Pontos: \", Multa)\n",
    "    \n",
    "if Multa > 12:\n",
    "    print(\"Busted\")"
   ]
  },
  {
   "cell_type": "code",
   "execution_count": 4,
   "metadata": {
    "scrolled": true
   },
   "outputs": [
    {
     "name": "stdout",
     "output_type": "stream",
     "text": [
      "20\n",
      "1  is Odd\n",
      "2  is even\n",
      "3  is Odd\n",
      "4  is even\n",
      "5  is Odd\n",
      "6  is even\n",
      "7  is Odd\n",
      "8  is even\n",
      "9  is Odd\n",
      "10  is even\n",
      "11  is Odd\n",
      "12  is even\n",
      "13  is Odd\n",
      "14  is even\n",
      "15  is Odd\n",
      "16  is even\n",
      "17  is Odd\n",
      "18  is even\n",
      "19  is Odd\n",
      "20  is even\n"
     ]
    }
   ],
   "source": [
    "#4 \n",
    "nn = int(input())\n",
    "\n",
    "count = 0\n",
    "while(count<nn):\n",
    "    count += 1\n",
    "    if (count%2==0):\n",
    "        print( count,\" is Even\".format(nn))\n",
    "    else:\n",
    "        print(count, \" is Odd\".format(nn))"
   ]
  },
  {
   "cell_type": "code",
   "execution_count": 28,
   "metadata": {
    "scrolled": true
   },
   "outputs": [
    {
     "name": "stdout",
     "output_type": "stream",
     "text": [
      "20\n",
      "Soma:  98\n",
      "[3, 5, 6, 9, 10, 12, 15, 18, 20]\n"
     ]
    }
   ],
   "source": [
    "# 5\n",
    "mm = int(input())\n",
    "aa = []\n",
    "i = 0 \n",
    "while (i < mm):\n",
    "    i +=1\n",
    "    if (i%3==0 or i%5==0):\n",
    "        aa.append(i)\n",
    "        \n",
    "print(\"Soma: \", sum(aa))\n",
    "print(aa)"
   ]
  },
  {
   "cell_type": "code",
   "execution_count": 3,
   "metadata": {},
   "outputs": [
    {
     "name": "stdout",
     "output_type": "stream",
     "text": [
      "Numero de estrelas: \n",
      "8\n",
      "*\n",
      "**\n",
      "***\n",
      "****\n",
      "*****\n",
      "******\n",
      "*******\n",
      "********\n"
     ]
    }
   ],
   "source": [
    "#6 \n",
    "print('Numero de estrelas: ')\n",
    "oo = int(input())\n",
    "\n",
    "for i in range(0, oo):\n",
    "    for j in range(0, i + 1):\n",
    "        print('*', end='')\n",
    "        \n",
    "    print(\"\\r\")"
   ]
  },
  {
   "cell_type": "code",
   "execution_count": 49,
   "metadata": {},
   "outputs": [
    {
     "name": "stdout",
     "output_type": "stream",
     "text": [
      "094310923809128309210981230128\n",
      "94310923809128309210981230128 Nao e primo\n"
     ]
    }
   ],
   "source": [
    "#7\n",
    "pp = int(input())\n",
    "\n",
    "for i in range(2, pp//2):\n",
    "        if (pp%i)==0:\n",
    "            print(pp, \"Nao e primo\")\n",
    "            break\n",
    "else:\n",
    "    print(pp,\"e primo\")\n"
   ]
  },
  {
   "cell_type": "code",
   "execution_count": null,
   "metadata": {},
   "outputs": [],
   "source": []
  }
 ],
 "metadata": {
  "kernelspec": {
   "display_name": "Python [conda env:Env1] *",
   "language": "python",
   "name": "conda-env-Env1-py"
  },
  "language_info": {
   "codemirror_mode": {
    "name": "ipython",
    "version": 3
   },
   "file_extension": ".py",
   "mimetype": "text/x-python",
   "name": "python",
   "nbconvert_exporter": "python",
   "pygments_lexer": "ipython3",
   "version": "3.7.1"
  }
 },
 "nbformat": 4,
 "nbformat_minor": 2
}
