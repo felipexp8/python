{
 "cells": [
  {
   "cell_type": "code",
   "execution_count": 4,
   "metadata": {},
   "outputs": [
    {
     "ename": "IndentationError",
     "evalue": "unindent does not match any outer indentation level (<ipython-input-4-b544a720b748>, line 33)",
     "output_type": "error",
     "traceback": [
      "\u001b[0;36m  File \u001b[0;32m\"<ipython-input-4-b544a720b748>\"\u001b[0;36m, line \u001b[0;32m33\u001b[0m\n\u001b[0;31m    .\u001b[0m\n\u001b[0m     ^\u001b[0m\n\u001b[0;31mIndentationError\u001b[0m\u001b[0;31m:\u001b[0m unindent does not match any outer indentation level\n"
     ]
    }
   ],
   "source": [
    "def rotateMatrix(mat): \n",
    "  \n",
    "    if not len(mat): \n",
    "        return\n",
    "      \n",
    "    \"\"\" \n",
    "        top : starting row index \n",
    "        bottom : ending row index \n",
    "        left : starting column index \n",
    "        right : ending column index \n",
    "    \"\"\"\n",
    "  \n",
    "    top = 0\n",
    "    bottom = len(mat)-1\n",
    "  \n",
    "    left = 0\n",
    "    right = len(mat[0])-1\n",
    "  \n",
    "    while left < right and top < bottom: \n",
    "  \n",
    "        # Store the first element of next row, \n",
    "        # this element will replace first element of \n",
    "        # current row \n",
    "        prev = mat[top+1][left] \n",
    "  \n",
    "        # Move elements of top row one step right \n",
    "        for i in range(left, right+1): \n",
    "            curr = mat[top][i] \n",
    "            mat[top][i] = prev \n",
    "            prev = curr \n",
    "  \n",
    "        top -= 1\n",
    "  .\n",
    "        # Move elements of rightmost column one step downwards \n",
    "        for i in range(top, bottom+1): \n",
    "            curr = mat[i][right] \n",
    "            mat[i][right] = prev \n",
    "            prev = curr \n",
    "  \n",
    "        right += 1\n",
    "  \n",
    "        # Move elements of bottom row one step left \n",
    "        for i in range(right, left-1, -1): \n",
    "            curr = mat[bottom][i] \n",
    "            mat[bottom][i] = prev \n",
    "            prev = curr \n",
    "  \n",
    "        bottom += 1\n",
    "  \n",
    "        # Move elements of leftmost column one step upwards \n",
    "        for i in range(bottom, top-1, -1): \n",
    "            curr = mat[i][left] \n",
    "            mat[i][left] = prev \n",
    "            prev = curr \n",
    "  \n",
    "        left -= 1\n",
    "  \n",
    "    return mat \n",
    "        "
   ]
  },
  {
   "cell_type": "code",
   "execution_count": 6,
   "metadata": {},
   "outputs": [
    {
     "ename": "NameError",
     "evalue": "name 'rotateMatrix' is not defined",
     "output_type": "error",
     "traceback": [
      "\u001b[0;31m---------------------------------------------------------------------------\u001b[0m",
      "\u001b[0;31mNameError\u001b[0m                                 Traceback (most recent call last)",
      "\u001b[0;32m<ipython-input-6-13a0e8079f1e>\u001b[0m in \u001b[0;36m<module>\u001b[0;34m()\u001b[0m\n\u001b[1;32m      1\u001b[0m \u001b[0ma\u001b[0m \u001b[0;34m=\u001b[0m \u001b[0;34m[\u001b[0m\u001b[0;34m[\u001b[0m\u001b[0;36m1\u001b[0m \u001b[0;34m,\u001b[0m\u001b[0;36m2\u001b[0m \u001b[0;34m,\u001b[0m\u001b[0;36m3\u001b[0m \u001b[0;34m,\u001b[0m\u001b[0;36m4\u001b[0m\u001b[0;34m]\u001b[0m\u001b[0;34m,\u001b[0m \u001b[0;34m[\u001b[0m\u001b[0;36m5\u001b[0m\u001b[0;34m,\u001b[0m \u001b[0;36m6\u001b[0m\u001b[0;34m,\u001b[0m \u001b[0;36m7\u001b[0m\u001b[0;34m,\u001b[0m \u001b[0;36m8\u001b[0m\u001b[0;34m]\u001b[0m\u001b[0;34m,\u001b[0m \u001b[0;34m[\u001b[0m\u001b[0;36m9\u001b[0m\u001b[0;34m,\u001b[0m \u001b[0;36m10\u001b[0m\u001b[0;34m,\u001b[0m \u001b[0;36m11\u001b[0m\u001b[0;34m,\u001b[0m \u001b[0;36m12\u001b[0m\u001b[0;34m]\u001b[0m\u001b[0;34m,\u001b[0m \u001b[0;34m[\u001b[0m\u001b[0;36m13\u001b[0m\u001b[0;34m,\u001b[0m \u001b[0;36m14\u001b[0m\u001b[0;34m,\u001b[0m \u001b[0;36m15\u001b[0m\u001b[0;34m,\u001b[0m \u001b[0;36m16\u001b[0m\u001b[0;34m]\u001b[0m\u001b[0;34m]\u001b[0m\u001b[0;34m\u001b[0m\u001b[0;34m\u001b[0m\u001b[0m\n\u001b[1;32m      2\u001b[0m \u001b[0;34m\u001b[0m\u001b[0m\n\u001b[0;32m----> 3\u001b[0;31m \u001b[0mmatrix\u001b[0m \u001b[0;34m=\u001b[0m \u001b[0mrotateMatrix\u001b[0m\u001b[0;34m(\u001b[0m\u001b[0ma\u001b[0m\u001b[0;34m)\u001b[0m\u001b[0;34m\u001b[0m\u001b[0;34m\u001b[0m\u001b[0m\n\u001b[0m\u001b[1;32m      4\u001b[0m \u001b[0mprint\u001b[0m\u001b[0;34m(\u001b[0m\u001b[0mmatrix\u001b[0m\u001b[0;34m)\u001b[0m\u001b[0;34m\u001b[0m\u001b[0;34m\u001b[0m\u001b[0m\n",
      "\u001b[0;31mNameError\u001b[0m: name 'rotateMatrix' is not defined"
     ]
    }
   ],
   "source": [
    "a = [[1 ,2 ,3 ,4], [5, 6, 7, 8], [9, 10, 11, 12], [13, 14, 15, 16]]\n",
    "\n",
    "matrix = rotateMatrix(a)\n",
    "print(matrix)"
   ]
  },
  {
   "cell_type": "code",
   "execution_count": null,
   "metadata": {},
   "outputs": [],
   "source": []
  }
 ],
 "metadata": {
  "kernelspec": {
   "display_name": "Python [conda env:Env1] *",
   "language": "python",
   "name": "conda-env-Env1-py"
  },
  "language_info": {
   "codemirror_mode": {
    "name": "ipython",
    "version": 3
   },
   "file_extension": ".py",
   "mimetype": "text/x-python",
   "name": "python",
   "nbconvert_exporter": "python",
   "pygments_lexer": "ipython3",
   "version": "3.7.1"
  }
 },
 "nbformat": 4,
 "nbformat_minor": 2
}
