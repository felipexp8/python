{
 "cells": [
  {
   "cell_type": "markdown",
   "metadata": {
    "slideshow": {
     "slide_type": "slide"
    }
   },
   "source": [
    "# Introducao a estatistica"
   ]
  },
  {
   "cell_type": "markdown",
   "metadata": {
    "slideshow": {
     "slide_type": "subslide"
    }
   },
   "source": [
    "## Objetivo:\n",
    "\n",
    "Aprender os elementos básicos da estatística aplicados a projetos de aprendizagem de máquina. Este curso introduz técnicas para amostragem e o teorema de Bayes. Também serão discutidos aspectos relacionados a testes estatísticos de hipótese e interpretação de p-valores."
   ]
  },
  {
   "cell_type": "markdown",
   "metadata": {
    "slideshow": {
     "slide_type": "slide"
    }
   },
   "source": [
    "## Topicos\n"
   ]
  },
  {
   "cell_type": "markdown",
   "metadata": {
    "slideshow": {
     "slide_type": "slide"
    }
   },
   "source": [
    "\n",
    "* Amostragem\n",
    " \n",
    "    Espaço Amostral\n",
    "    \n",
    "    Eventos Aleatórios\n",
    "    \n",
    "    Amostragem Aleatória Simples\n",
    "    \n",
    "    Amostragem Aleatória Estratificada\n"
   ]
  },
  {
   "cell_type": "markdown",
   "metadata": {
    "slideshow": {
     "slide_type": "slide"
    }
   },
   "source": [
    "* Probabilidade\n",
    "\n",
    "    Função de Probabilidade\n",
    "    \n",
    "    Axiomas de Probabilidade\n",
    "    \n",
    "    Eventos Independentes\n",
    "    \n",
    "    Probabilidade Condicional\n",
    "    \n",
    "    Teorema de Bayes\n",
    "    \n",
    "    Teorema Central do Limite\n",
    "\n"
   ]
  },
  {
   "cell_type": "markdown",
   "metadata": {
    "slideshow": {
     "slide_type": "slide"
    }
   },
   "source": [
    "* Medidas de Posição\n",
    "\n",
    "    Média\n",
    "    \n",
    "    Moda\n",
    "    \n",
    "    Mediana\n",
    "\n"
   ]
  }
 ],
 "metadata": {
  "celltoolbar": "Slideshow",
  "kernelspec": {
   "display_name": "Python [conda env:Env1] *",
   "language": "python",
   "name": "conda-env-Env1-py"
  },
  "language_info": {
   "codemirror_mode": {
    "name": "ipython",
    "version": 3
   },
   "file_extension": ".py",
   "mimetype": "text/x-python",
   "name": "python",
   "nbconvert_exporter": "python",
   "pygments_lexer": "ipython3",
   "version": "3.7.1"
  }
 },
 "nbformat": 4,
 "nbformat_minor": 2
}
