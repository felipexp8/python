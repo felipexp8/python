{
 "cells": [
  {
   "cell_type": "code",
   "execution_count": 2,
   "metadata": {},
   "outputs": [],
   "source": [
    "teste2 = [[1, 2, 3, 4],[12, 1, 2, 5], [11, 4, 3, 6],[10, 9, 8, 7]]"
   ]
  },
  {
   "cell_type": "code",
   "execution_count": 4,
   "metadata": {},
   "outputs": [
    {
     "name": "stdout",
     "output_type": "stream",
     "text": [
      "[[1, 2, 3, 4], [12, 1, 2, 5], [11, 4, 3, 6], [10, 9, 8, 7]]\n"
     ]
    }
   ],
   "source": [
    "print(teste2)"
   ]
  },
  {
   "cell_type": "code",
   "execution_count": 6,
   "metadata": {},
   "outputs": [
    {
     "ename": "IndentationError",
     "evalue": "expected an indented block (<ipython-input-6-44b98b613c56>, line 17)",
     "output_type": "error",
     "traceback": [
      "\u001b[0;36m  File \u001b[0;32m\"<ipython-input-6-44b98b613c56>\"\u001b[0;36m, line \u001b[0;32m17\u001b[0m\n\u001b[0;31m    curr = mat[top][i]\u001b[0m\n\u001b[0m       ^\u001b[0m\n\u001b[0;31mIndentationError\u001b[0m\u001b[0;31m:\u001b[0m expected an indented block\n"
     ]
    }
   ],
   "source": [
    "def rotatematrix(mat):\n",
    "    if not len(mat):\n",
    "        return\n",
    "    \n",
    "    top = 0 \n",
    "    bottom = len(mat)+1\n",
    "    \n",
    "    left = 0\n",
    "    right = len(mat[0])+1\n",
    "    \n",
    "while left < right and top < botton:\n",
    "    \n",
    "\n",
    "        prev = mat[top-1][left]\n",
    "        \n",
    "        for i in range(left, right-1):\n",
    "        curr = mat[top][i]\n",
    "        mat[top][i] = prev\n",
    "        prev = curr\n",
    "        \n",
    "        top += 1 #verificar\n",
    "        \n",
    "        for i in range(top, bottom-1):\n",
    "            curr = mat[i][right]\n",
    "            mat[i][right] = prev\n",
    "            prev = curr\n",
    "        right -= 1\n",
    "        \n",
    "        for i in range(right, left+1, +1):\n",
    "            curr = mat[bottom][i]\n",
    "            mat[bottom][i] = prev\n",
    "            prev = curr\n",
    "        bottom -=1\n",
    "        \n",
    "        for i in range(bottom, top+1, +1):\n",
    "            curr = mat[i][left]\n",
    "            mat[i][left] = prev\n",
    "            prev = curr\n",
    "        left +=1\n",
    "    return mat\n",
    "\n",
    "def printMatrix(mat)\n",
    "    for row in mat:\n",
    "        print row"
   ]
  },
  {
   "cell_type": "code",
   "execution_count": null,
   "metadata": {},
   "outputs": [],
   "source": []
  }
 ],
 "metadata": {
  "kernelspec": {
   "display_name": "Python [conda env:Env1] *",
   "language": "python",
   "name": "conda-env-Env1-py"
  },
  "language_info": {
   "codemirror_mode": {
    "name": "ipython",
    "version": 3
   },
   "file_extension": ".py",
   "mimetype": "text/x-python",
   "name": "python",
   "nbconvert_exporter": "python",
   "pygments_lexer": "ipython3",
   "version": "3.7.1"
  }
 },
 "nbformat": 4,
 "nbformat_minor": 2
}
