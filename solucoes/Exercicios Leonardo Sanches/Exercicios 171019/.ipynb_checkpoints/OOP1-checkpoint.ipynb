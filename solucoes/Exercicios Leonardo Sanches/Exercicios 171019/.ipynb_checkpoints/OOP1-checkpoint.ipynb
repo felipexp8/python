{
 "cells": [
  {
   "cell_type": "code",
   "execution_count": 18,
   "metadata": {},
   "outputs": [
    {
     "name": "stdout",
     "output_type": "stream",
     "text": [
      "['Exercicios Orientacao a Objeto\\n', 'Modele uma classe que realiza as seguintes operacoes em um arquivo texto\\n', 'represente individualmente cada palavra do texto conte a quantidade de ocorrencias de cada palavra do texto\\n', 'retorne as 10 palavras mais frequentes']\n",
      "{'Exercicios': 1, 'Orientacao': 1, 'a': 2, 'Objeto': 1, 'Modele': 1, 'uma': 1, 'classe': 1, 'que': 1, 'realiza': 1, 'as': 2, 'seguintes': 1, 'operacoes': 1, 'em': 1, 'um': 1, 'arquivo': 1, 'texto': 3, 'represente': 1, 'individualmente': 1, 'cada': 2, 'palavra': 2, 'do': 2, 'conte': 1, 'quantidade': 1, 'de': 2, 'ocorrencias': 1, 'retorne': 1, '10': 1, 'palavras': 1, 'mais': 1, 'frequentes': 1}\n"
     ]
    }
   ],
   "source": [
    "class Teste:\n",
    "    def __init__(self, caminho):\n",
    "        self.caminho = caminho\n",
    "        self.texto = open(self.caminho,'r')\n",
    "      \n",
    "\n",
    "    \n",
    "    def contar_palavra(self):\n",
    "        contador = {}\n",
    "        Abrir = open(self.caminho, 'r')    \n",
    "        for palavras in Abrir.read().split():\n",
    "            if palavras not in contador:\n",
    "                contador[palavras] = 1\n",
    "            else:\n",
    "                contador[palavras] += 1\n",
    "        return contador\n",
    "    \n",
    "   # def maior_freq(self):\n",
    "  #      Contador = {}\n",
    "   #     Abrir = open(self.caminho, 'r')\n",
    "    #        for palavras in Abir.read().split():\n",
    "     #           if palavras \n",
    "        \n",
    "    \n",
    "    \n",
    "    \n",
    "    \n",
    "    \n",
    "    \n",
    "    \n",
    "    \n",
    "    \n",
    "t = Teste(\"untitled1.txt\")\n",
    "ff = list(t.texto)\n",
    "print(ff)\n",
    "jj = t.contar_palavra()\n",
    "print(jj)\n",
    "\n"
   ]
  },
  {
   "cell_type": "code",
   "execution_count": null,
   "metadata": {},
   "outputs": [],
   "source": []
  },
  {
   "cell_type": "code",
   "execution_count": 60,
   "metadata": {},
   "outputs": [
    {
     "name": "stdin",
     "output_type": "stream",
     "text": [
      " Paragrafo 1:\n",
      "  alo quem fala\n",
      " Paragrafo 2:\n",
      "  eu \n",
      " Paragrafo 3: \n",
      "  leo\n"
     ]
    },
    {
     "name": "stdout",
     "output_type": "stream",
     "text": [
      "{'alo': 1, 'quem': 1, 'fala': 1, 'eu': 1, 'leo': 1}\n"
     ]
    }
   ],
   "source": [
    "\n",
    "\n",
    "file = open(\"te.txt\",'w')\n",
    "file.write(str(input(\" Paragrafo 1:\\n \")))\n",
    "file.write(\"\\n\")\n",
    "file.write(str(input(\" Paragrafo 2:\\n \")))\n",
    "file.write('\\n')\n",
    "file.write(str(input(\" Paragrafo 3: \\n \")))\n",
    "file.write('\\n')\n",
    "file.close()\n",
    "\n",
    "f = open(\"te.txt\", 'r')\n",
    "\n",
    "contador={}\n",
    "for palavras in f.read().split():\n",
    "    if palavras not in contador:\n",
    "        contador[palavras] = 1\n",
    "    else:\n",
    "        contador[palavras] += 1\n",
    "print(contador)\n",
    "f.close()"
   ]
  }
 ],
 "metadata": {
  "kernelspec": {
   "display_name": "Python 3",
   "language": "python",
   "name": "python3"
  },
  "language_info": {
   "codemirror_mode": {
    "name": "ipython",
    "version": 3
   },
   "file_extension": ".py",
   "mimetype": "text/x-python",
   "name": "python",
   "nbconvert_exporter": "python",
   "pygments_lexer": "ipython3",
   "version": "3.7.1"
  }
 },
 "nbformat": 4,
 "nbformat_minor": 2
}
