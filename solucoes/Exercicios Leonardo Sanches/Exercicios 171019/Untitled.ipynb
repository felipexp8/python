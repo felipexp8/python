{
 "cells": [
  {
   "cell_type": "code",
   "execution_count": 4,
   "metadata": {},
   "outputs": [
    {
     "ename": "IndentationError",
     "evalue": "expected an indented block (<ipython-input-4-be6636657dfc>, line 7)",
     "output_type": "error",
     "traceback": [
      "\u001b[0;36m  File \u001b[0;32m\"<ipython-input-4-be6636657dfc>\"\u001b[0;36m, line \u001b[0;32m7\u001b[0m\n\u001b[0;31m    self.texto = open(self.caminho, 'r')\u001b[0m\n\u001b[0m       ^\u001b[0m\n\u001b[0;31mIndentationError\u001b[0m\u001b[0;31m:\u001b[0m expected an indented block\n"
     ]
    }
   ],
   "source": [
    "class Palavras_Operator:\n",
    "    def __init__(self, caminho):\n",
    "        self.caminho = caminho\n",
    "        self.texto = None\n",
    "        \n",
    "    def load_texto(self):\n",
    "    self.texto = open(self.caminho, 'r')\n",
    "    self.textoStr = [list(map(str,sub.split(\" \"))) for sub in texto]\n",
    "    print(textoStr)\n",
    "    \n",
    "     \n",
    "    def contar_palavra(self):\n",
    "        contador={}\n",
    "        for palavras in self.texto.read().split():\n",
    "            if palavras not in contador:\n",
    "                contador[palavras] = 1\n",
    "            else:\n",
    "                contador[palavras] += 1\n",
    "        return contador\n",
    "    \n",
    "    def __del__(self):\n",
    "        self.texto.close()\n",
    "        print(\" O arquivo foi encerrado\")\n",
    "\n",
    "t = Palavras_Operator(\"untitled1.txt\")\n",
    "print(t.textoLista)\n",
    "t.carregar_texto()\n",
    "    \n",
    "    \n",
    "    "
   ]
  },
  {
   "cell_type": "code",
   "execution_count": null,
   "metadata": {},
   "outputs": [],
   "source": []
  }
 ],
 "metadata": {
  "kernelspec": {
   "display_name": "Python 3",
   "language": "python",
   "name": "python3"
  },
  "language_info": {
   "codemirror_mode": {
    "name": "ipython",
    "version": 3
   },
   "file_extension": ".py",
   "mimetype": "text/x-python",
   "name": "python",
   "nbconvert_exporter": "python",
   "pygments_lexer": "ipython3",
   "version": "3.7.1"
  }
 },
 "nbformat": 4,
 "nbformat_minor": 2
}
