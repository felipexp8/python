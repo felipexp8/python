{
 "cells": [
  {
   "cell_type": "code",
   "execution_count": 1,
   "metadata": {},
   "outputs": [
    {
     "name": "stdout",
     "output_type": "stream",
     "text": [
      "/home/leleopc/Documentos/Exercicios Hub/Exercicios 181019\n"
     ]
    }
   ],
   "source": [
    "import pandas as pd\n",
    "import os\n",
    "print(os.getcwd())\n",
    "data = pd.read_csv(\"./portalbio_export_16-10-2019-14-39-54.csv\", sep=\";\")\n",
    "\n",
    "#print(data.loc[:,[\"Latitude\"]])\n",
    "#print(data.iloc[:,[0]])"
   ]
  },
  {
   "cell_type": "code",
   "execution_count": 2,
   "metadata": {},
   "outputs": [
    {
     "name": "stdout",
     "output_type": "stream",
     "text": [
      "Nome da instituicao - media de: 100.0% de campos nulos ou vazios.\n",
      "Responsavel pelo registro - media de: 0.08% de campos nulos ou vazios.\n",
      "Numero do registro na base de dados - media de: 6.01% de campos nulos ou vazios.\n",
      "Data do registro - media de: 3.5% de campos nulos ou vazios.\n",
      "Data do evento - media de: 54.45% de campos nulos ou vazios.\n",
      "Nome cientifico - media de: 1.69% de campos nulos ou vazios.\n",
      "Nome comum - media de: 74.21% de campos nulos ou vazios.\n",
      "Nivel taxonomico - media de: 1.69% de campos nulos ou vazios.\n",
      "Numero de individuos - media de: 51.35% de campos nulos ou vazios.\n",
      "Reino - media de: 100.0% de campos nulos ou vazios.\n",
      "Filo - media de: 3.17% de campos nulos ou vazios.\n",
      "Classe - media de: 3.76% de campos nulos ou vazios.\n",
      "Ordem - media de: 4.29% de campos nulos ou vazios.\n",
      "Familia - media de: 4.73% de campos nulos ou vazios.\n",
      "Genero - media de: 16.51% de campos nulos ou vazios.\n",
      "Especie - media de: 37.45% de campos nulos ou vazios.\n",
      "Categoria de Ameaca - media de: 85.12% de campos nulos ou vazios.\n",
      "Localidade - media de: 1.94% de campos nulos ou vazios.\n",
      "Pais - media de: 3.43% de campos nulos ou vazios.\n",
      "Estado/Provincia - media de: 10.56% de campos nulos ou vazios.\n",
      "Municipio - media de: 42.13% de campos nulos ou vazios.\n",
      "Outras informacoes da localidade - media de: 55.8% de campos nulos ou vazios.\n",
      "Jurisdicao - media de: 100.0% de campos nulos ou vazios.\n",
      "Destino do Material - media de: 55.01% de campos nulos ou vazios.\n"
     ]
    }
   ],
   "source": [
    "#Para cada coluna identique a quantidade de linhas com dados faltantes \n",
    "#(em alguns casos, o dado faltante é uma string vazia, em outros casos é uma string contendo \n",
    "#algum valor do tipo: \"sem informação\"). \n",
    "#Faça um método que retorna a média de dados faltantes por coluna\n",
    "\n",
    "def itemFatante(itensValues):\n",
    "    faltantePorColuna = {}\n",
    "    for row in itensValues:\n",
    "        for i in range(len(row)):\n",
    "            if row[i] == \"\" or str(row[i]).lower() == \"sem informações\":\n",
    "                if i in faltantePorColuna:\n",
    "                    faltantePorColuna[i] += 1\n",
    "                else:\n",
    "                    faltantePorColuna[i] = 1\n",
    "    return faltantePorColuna\n",
    "\n",
    "itensDataFaltante = itemFatante(data.values)\n",
    "itensHash = data.keys()\n",
    "\n",
    "for i in range(len(itensHash)):\n",
    "    if i in list(itensDataFaltante.keys()):\n",
    "        print(itensHash[i]+ \" - media de: \" + str(round(((itensDataFaltante[i] / int(len(data.values))) * 100),2)) + \"% de campos nulos ou vazios.\")"
   ]
  },
  {
   "cell_type": "code",
   "execution_count": 38,
   "metadata": {},
   "outputs": [],
   "source": [
    "def buscaPorEstadoEspecieAmeaca(data, estado, especie, ameaca):\n",
    "    for row in data.values:\n",
    "        if row[26] == estado and row[22] == ameaca and row[11] == especie:\n",
    "            return [row[29], row[30], row[27]]\n",
    "            break\n",
    "    return \"Nao encontrada.\"\n",
    "        \n",
    "def buscaTodosMarcacoes(data):\n",
    "    latLong = []\n",
    "    for row in data.values:\n",
    "        latLong.append([row[29], row[30], row[27]])\n",
    "    return latLong\n",
    "    \n",
    "busca = buscaTodosMarcacoes(data)"
   ]
  },
  {
   "cell_type": "code",
   "execution_count": 48,
   "metadata": {},
   "outputs": [
    {
     "data": {
      "application/vnd.jupyter.widget-view+json": {
       "model_id": "eadc24b7814748698e3488c034df5613",
       "version_major": 2,
       "version_minor": 0
      },
      "text/plain": [
       "Map(basemap={'url': 'https://{s}.tile.openstreetmap.org/{z}/{x}/{y}.png', 'max_zoom': 19, 'attribution': 'Map …"
      ]
     },
     "metadata": {},
     "output_type": "display_data"
    }
   ],
   "source": [
    "from opencage.geocoder import OpenCageGeocode\n",
    "from pprint import pprint\n",
    "from ipywidgets import HTML\n",
    "from ipyleaflet import Popup\n",
    "\n",
    "key = '0573d875005f45bebe452ff81c26b684'\n",
    "geocoder = OpenCageGeocode(key)\n",
    "\n",
    "i = 0\n",
    "map = Map(center=center, zoom=12)\n",
    "for item in busca:\n",
    "    if i <= 150:\n",
    "        center = (item[0], item[1])\n",
    "        marker = Marker(location=center, draggable=True)\n",
    "        teste = HTML()\n",
    "        teste.value = \"<b>\" + item[2] + \"</b>\"\n",
    "        popup = Popup(\n",
    "            location = center,\n",
    "            child = teste,\n",
    "            close_button = False,\n",
    "            auto_close = False,\n",
    "            close_on_escape_key = True\n",
    "        )\n",
    "        map.add_layer(marker)\n",
    "        map.add_layer(popup)\n",
    "    i+=1\n",
    "map\n"
   ]
  },
  {
   "cell_type": "code",
   "execution_count": null,
   "metadata": {},
   "outputs": [],
   "source": []
  }
 ],
 "metadata": {
  "kernelspec": {
   "display_name": "Python 3",
   "language": "python",
   "name": "python3"
  },
  "language_info": {
   "codemirror_mode": {
    "name": "ipython",
    "version": 3
   },
   "file_extension": ".py",
   "mimetype": "text/x-python",
   "name": "python",
   "nbconvert_exporter": "python",
   "pygments_lexer": "ipython3",
   "version": "3.7.1"
  }
 },
 "nbformat": 4,
 "nbformat_minor": 2
}
