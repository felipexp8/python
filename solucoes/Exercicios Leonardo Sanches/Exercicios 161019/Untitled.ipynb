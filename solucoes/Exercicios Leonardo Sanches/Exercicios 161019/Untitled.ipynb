{
 "cells": [
  {
   "cell_type": "code",
   "execution_count": 3,
   "metadata": {},
   "outputs": [],
   "source": [
    "class Cliente:\n",
    "    def __init__(self, name):\n",
    "        self.name = name\n",
    "        \n",
    "class ClienteF(Cliente):\n",
    "    def __init__(self, name, cpf):\n",
    "        super.__init__(self, name)\n",
    "        self.cpf = cpf\n",
    "        \n",
    "class ClienteJ(Cliente):\n",
    "    def __init__(self, name, cnpj):\n",
    "        super.__init__(self, name)\n",
    "        self.cnpj = cnpj\n",
    "        \n",
    "class Accont():\n",
    "    def __init__(self, name, cliente):\n",
    "        self.saldo = saldo\n",
    "        self.cliente = cliente\n",
    "\n",
    "    def saque(dinheiros):\n",
    "        saldo -= dinheiros\n",
    "        return dinheiros\n",
    "    \n",
    "    def deposito(dinheiros):\n",
    "        saldo += dinheiros\n",
    "      #  return dinheiros\n",
    "    \n",
    "class CC(Accont):\n",
    "    def __init__(self, saldo, cliente):\n",
    "        super.__init__(self, saldo, cliente)\n",
    "    \n",
    "class CP(Accont):\n",
    "    def __init__(self, saldo, cliente):\n",
    "        super.__init__(self, saldo, cliente)\n",
    "\n",
    "        "
   ]
  },
  {
   "cell_type": "code",
   "execution_count": 26,
   "metadata": {},
   "outputs": [
    {
     "data": {
      "text/plain": [
       "['__class__',\n",
       " '__contains__',\n",
       " '__delattr__',\n",
       " '__delitem__',\n",
       " '__dir__',\n",
       " '__doc__',\n",
       " '__eq__',\n",
       " '__format__',\n",
       " '__ge__',\n",
       " '__getattribute__',\n",
       " '__getitem__',\n",
       " '__gt__',\n",
       " '__hash__',\n",
       " '__init__',\n",
       " '__init_subclass__',\n",
       " '__iter__',\n",
       " '__le__',\n",
       " '__len__',\n",
       " '__lt__',\n",
       " '__ne__',\n",
       " '__new__',\n",
       " '__reduce__',\n",
       " '__reduce_ex__',\n",
       " '__repr__',\n",
       " '__setattr__',\n",
       " '__setitem__',\n",
       " '__sizeof__',\n",
       " '__str__',\n",
       " '__subclasshook__',\n",
       " 'clear',\n",
       " 'copy',\n",
       " 'fromkeys',\n",
       " 'get',\n",
       " 'items',\n",
       " 'keys',\n",
       " 'pop',\n",
       " 'popitem',\n",
       " 'setdefault',\n",
       " 'update',\n",
       " 'values']"
      ]
     },
     "execution_count": 26,
     "metadata": {},
     "output_type": "execute_result"
    }
   ],
   "source": [
    "dir(Cliente)"
   ]
  },
  {
   "cell_type": "code",
   "execution_count": null,
   "metadata": {},
   "outputs": [],
   "source": [
    "|"
   ]
  }
 ],
 "metadata": {
  "kernelspec": {
   "display_name": "Python 3",
   "language": "python",
   "name": "python3"
  },
  "language_info": {
   "codemirror_mode": {
    "name": "ipython",
    "version": 3
   },
   "file_extension": ".py",
   "mimetype": "text/x-python",
   "name": "python",
   "nbconvert_exporter": "python",
   "pygments_lexer": "ipython3",
   "version": "3.7.1"
  }
 },
 "nbformat": 4,
 "nbformat_minor": 2
}
