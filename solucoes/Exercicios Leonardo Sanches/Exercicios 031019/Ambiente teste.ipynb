{
 "cells": [
  {
   "cell_type": "code",
   "execution_count": 1,
   "metadata": {
    "slideshow": {
     "slide_type": "slide"
    }
   },
   "outputs": [
    {
     "name": "stdout",
     "output_type": "stream",
     "text": [
      "Hello World!\n"
     ]
    }
   ],
   "source": [
    "print(\"Hello World!\")"
   ]
  },
  {
   "cell_type": "markdown",
   "metadata": {
    "slideshow": {
     "slide_type": "slide"
    }
   },
   "source": [
    "### Hello World"
   ]
  },
  {
   "cell_type": "markdown",
   "metadata": {
    "slideshow": {
     "slide_type": "slide"
    }
   },
   "source": [
    "##### Hello World"
   ]
  },
  {
   "cell_type": "markdown",
   "metadata": {
    "slideshow": {
     "slide_type": "fragment"
    }
   },
   "source": [
    "1. hello world\n",
    "1. hello world\n",
    "1. 2. hello world"
   ]
  },
  {
   "cell_type": "code",
   "execution_count": 5,
   "metadata": {
    "slideshow": {
     "slide_type": "fragment"
    }
   },
   "outputs": [
    {
     "name": "stdout",
     "output_type": "stream",
     "text": [
      "[1, 2, 3]\n"
     ]
    }
   ],
   "source": [
    "lista = [1, 2, 3]\n",
    "print(lista)"
   ]
  },
  {
   "cell_type": "markdown",
   "metadata": {
    "slideshow": {
     "slide_type": "fragment"
    }
   },
   "source": [
    "![M31](http://www.astrocruise.com/galaxies/M31_0811.jpg)"
   ]
  },
  {
   "cell_type": "markdown",
   "metadata": {
    "slideshow": {
     "slide_type": "subslide"
    }
   },
   "source": [
    "![Bullet Cluster](https://apod.nasa.gov/apod/image/0608/bulletcluster_comp_f2048.jpg)"
   ]
  },
  {
   "cell_type": "code",
   "execution_count": 5,
   "metadata": {},
   "outputs": [
    {
     "data": {
      "text/plain": [
       "5.0"
      ]
     },
     "execution_count": 5,
     "metadata": {},
     "output_type": "execute_result"
    }
   ],
   "source": [
    "from math import sqrt\n",
    "sqrt(25)"
   ]
  },
  {
   "cell_type": "markdown",
   "metadata": {},
   "source": [
    "# Comandos do sistema"
   ]
  },
  {
   "cell_type": "markdown",
   "metadata": {},
   "source": []
  },
  {
   "cell_type": "code",
   "execution_count": 6,
   "metadata": {},
   "outputs": [
    {
     "name": "stdout",
     "output_type": "stream",
     "text": [
      "\u001b[?1h\u001b=\u001b[H\u001b[2J\u001b[mtop - 15:54:25 up  2:43,  1 user,  load average: 3,30, 3,50, 3,57\u001b[m\u001b[m\u001b[m\u001b[m\u001b[K\n",
      "Tarefas:\u001b[m\u001b[m\u001b[1m 367 \u001b[m\u001b[mtotal,\u001b[m\u001b[m\u001b[1m   3 \u001b[m\u001b[mem exec.,\u001b[m\u001b[m\u001b[1m 274 \u001b[m\u001b[mdormindo,\u001b[m\u001b[m\u001b[1m   0 \u001b[m\u001b[mparado,\u001b[m\u001b[m\u001b[1m   1 \u001b[m\u001b[mzumbi\u001b[m\u001b[m\u001b[m\u001b[m\u001b[K\n",
      "%CPU(s):\u001b[m\u001b[m\u001b[1m  6,1 \u001b[m\u001b[mus,\u001b[m\u001b[m\u001b[1m  5,3 \u001b[m\u001b[msis,\u001b[m\u001b[m\u001b[1m  0,0 \u001b[m\u001b[mni,\u001b[m\u001b[m\u001b[1m 86,3 \u001b[m\u001b[moc,\u001b[m\u001b[m\u001b[1m  0,4 \u001b[m\u001b[mag,\u001b[m\u001b[m\u001b[1m  0,0 \u001b[m\u001b[mih,\u001b[m\u001b[m\u001b[1m  1,9 \u001b[m\u001b[mis\u001b[m\u001b[m\u001b[1m  0,0 \u001b[m\u001b[mtr\u001b[m\u001b[m\u001b[m\u001b[m\u001b[K\n",
      "KB mem :\u001b[m\u001b[m\u001b[1m 16223732 \u001b[m\u001b[mtotal,\u001b[m\u001b[m\u001b[1m 10144124 \u001b[m\u001b[mlivre,\u001b[m\u001b[m\u001b[1m  2454332 \u001b[m\u001b[musados,\u001b[m\u001b[m\u001b[1m  3625276 \u001b[m\u001b[mbuff/cache\u001b[m\u001b[m\u001b[m\u001b[m\u001b[K\n",
      "KB swap:\u001b[m\u001b[m\u001b[1m  2097148 \u001b[m\u001b[mtotal,\u001b[m\u001b[m\u001b[1m  2097148 \u001b[m\u001b[mlivre,\u001b[m\u001b[m\u001b[1m        0 \u001b[m\u001b[musados,\u001b[m\u001b[m\u001b[1m 12977428 \u001b[m\u001b[mmem dispon.\u001b[m\u001b[m\u001b[m\u001b[m\u001b[K\n",
      "\u001b[K\n",
      "\u001b[7m  PID USUARIO   PR  NI    VIRT    RES    SHR S  %CPU %MEM    TEMPO+ COMANDO     \u001b[m\u001b[m\u001b[K\n",
      "\u001b[m\u001b[1m  431 root      20   0  305636 258988   3132 R  93,8  1,6  51:43.17 systemd-ud+ \u001b[m\u001b[m\u001b[K\n",
      "\u001b[m 4054 leleopc   20   0 5323028 492548 102008 S  31,2  3,0  49:57.48 zoom        \u001b[m\u001b[m\u001b[K\n",
      "\u001b[m19952 leleopc   20   0 3026548 414192 118948 S  18,8  2,6   0:56.60 file:// Co+ \u001b[m\u001b[m\u001b[K\n",
      "\u001b[m 3172 leleopc    9 -11 1697092  15724  12272 S  12,5  0,1  15:41.97 pulseaudio  \u001b[m\u001b[m\u001b[K\n",
      "\u001b[m\u001b[1m 8253 root      20   0   31852    844    776 R  12,5  0,0   0:00.02 modprobe    \u001b[m\u001b[m\u001b[K\n",
      "\u001b[m 1010 root      20   0 2488564  27204  13408 S   6,2  0,2   2:24.17 snapd       \u001b[m\u001b[m\u001b[K\n",
      "\u001b[m 2949 leleopc   20   0  558384 121844  91384 S   6,2  0,8   5:59.58 Xorg        \u001b[m\u001b[m\u001b[K\n",
      "\u001b[m\u001b[1m 8250 leleopc   20   0   51564   4244   3452 R   6,2  0,0   0:00.01 top         \u001b[m\u001b[m\u001b[K\n",
      "\u001b[m19886 leleopc   20   0 3414424 321720 141148 S   6,2  2,0   0:57.10 firefox     \u001b[m\u001b[m\u001b[K\n",
      "\u001b[m    1 root      20   0  225580   9408   6704 S   0,0  0,1   2:05.98 systemd     \u001b[m\u001b[m\u001b[K\n",
      "\u001b[m    2 root      20   0       0      0      0 S   0,0  0,0   0:00.02 kthreadd    \u001b[m\u001b[m\u001b[K\n",
      "\u001b[m    3 root       0 -20       0      0      0 I   0,0  0,0   0:00.00 rcu_gp      \u001b[m\u001b[m\u001b[K\n",
      "\u001b[m    4 root       0 -20       0      0      0 I   0,0  0,0   0:00.00 rcu_par_gp  \u001b[m\u001b[m\u001b[K\n",
      "\u001b[m    6 root       0 -20       0      0      0 I   0,0  0,0   0:00.00 kworker/0:+ \u001b[m\u001b[m\u001b[K\n",
      "\u001b[m    8 root       0 -20       0      0      0 I   0,0  0,0   0:00.00 mm_percpu_+ \u001b[m\u001b[m\u001b[K\n",
      "\u001b[m    9 root      20   0       0      0      0 S   0,0  0,0   0:01.71 ksoftirqd/0 \u001b[m\u001b[m\u001b[K\n",
      "\u001b[m   10 root      20   0       0      0      0 I   0,0  0,0   0:29.58 rcu_sched   \u001b[m\u001b[m\u001b[K\u001b[H\u001b[mtop - 15:54:28 up  2:43,  1 user,  load average: 3,52, 3,54, 3,59\u001b[m\u001b[m\u001b[m\u001b[m\u001b[K\n",
      "Tarefas:\u001b[m\u001b[m\u001b[1m 366 \u001b[m\u001b[mtotal,\u001b[m\u001b[m\u001b[1m   2 \u001b[m\u001b[mem exec.,\u001b[m\u001b[m\u001b[1m 274 \u001b[m\u001b[mdormindo,\u001b[m\u001b[m\u001b[1m   0 \u001b[m\u001b[mparado,\u001b[m\u001b[m\u001b[1m   1 \u001b[m\u001b[mzumbi\u001b[m\u001b[m\u001b[m\u001b[m\u001b[K\n",
      "%CPU(s):\u001b[m\u001b[m\u001b[1m 10,1 \u001b[m\u001b[mus,\u001b[m\u001b[m\u001b[1m  4,9 \u001b[m\u001b[msis,\u001b[m\u001b[m\u001b[1m  0,0 \u001b[m\u001b[mni,\u001b[m\u001b[m\u001b[1m 82,7 \u001b[m\u001b[moc,\u001b[m\u001b[m\u001b[1m  0,4 \u001b[m\u001b[mag,\u001b[m\u001b[m\u001b[1m  0,0 \u001b[m\u001b[mih,\u001b[m\u001b[m\u001b[1m  1,9 \u001b[m\u001b[mis\u001b[m\u001b[m\u001b[1m  0,0 \u001b[m\u001b[mtr\u001b[m\u001b[m\u001b[m\u001b[m\u001b[K\n",
      "KB mem :\u001b[m\u001b[m\u001b[1m 16223732 \u001b[m\u001b[mtotal,\u001b[m\u001b[m\u001b[1m 10146524 \u001b[m\u001b[mlivre,\u001b[m\u001b[m\u001b[1m  2447168 \u001b[m\u001b[musados,\u001b[m\u001b[m\u001b[1m  3630040 \u001b[m\u001b[mbuff/cache\u001b[m\u001b[m\u001b[m\u001b[m\u001b[K\n",
      "KB swap:\u001b[m\u001b[m\u001b[1m  2097148 \u001b[m\u001b[mtotal,\u001b[m\u001b[m\u001b[1m  2097148 \u001b[m\u001b[mlivre,\u001b[m\u001b[m\u001b[1m        0 \u001b[m\u001b[musados,\u001b[m\u001b[m\u001b[1m 12980216 \u001b[m\u001b[mmem dispon.\u001b[m\u001b[m\u001b[m\u001b[m\u001b[K\n",
      "\u001b[K\n",
      "\n",
      "\u001b[m\u001b[1m  431 root      20   0  305768 259252   3132 R  81,7  1,6  51:45.62 systemd-ud+ \u001b[m\u001b[m\u001b[K\n",
      "\u001b[m 4054 leleopc   20   0 5323028 492444 102008 S  28,0  3,0  49:58.32 zoom        \u001b[m\u001b[m\u001b[K\n",
      "\u001b[m 3172 leleopc    9 -11 1697092  15724  12272 S   8,3  0,1  15:42.22 pulseaudio  \u001b[m\u001b[m\u001b[K\n",
      "\u001b[m 3159 leleopc   20   0 4134612 239040 121020 S   4,7  1,5  10:17.01 gnome-shell \u001b[m\u001b[m\u001b[K\n",
      "\u001b[m 2949 leleopc   20   0  558384 121844  91384 S   2,7  0,8   5:59.66 Xorg        \u001b[m\u001b[m\u001b[K\n",
      "\u001b[m 8302 root      20   0   31852    876    808 D   2,7  0,0   0:00.08 modprobe    \u001b[m\u001b[m\u001b[K\n",
      "\u001b[m19952 leleopc   20   0 3030732 419588 123288 S   2,7  2,6   0:56.68 file:// Co+ \u001b[m\u001b[m\u001b[K\n",
      "\u001b[m 1010 root      20   0 2488564  27204  13408 S   1,7  0,2   2:24.22 snapd       \u001b[m\u001b[m\u001b[K\n",
      "\u001b[m19886 leleopc   20   0 3418608 324892 145516 S   1,3  2,0   0:57.14 firefox     \u001b[m\u001b[m\u001b[K\n",
      "\u001b[m21765 leleopc   20   0  542928  45912  14056 S   1,3  0,3   0:00.42 python      \u001b[m\u001b[m\u001b[K\n",
      "\u001b[m  448 root      20   0   46020   6272   5100 S   1,0  0,0   1:23.18 systemd-ud+ \u001b[m\u001b[m\u001b[K\n",
      "\u001b[m    1 root      20   0  225580   9408   6704 S   0,7  0,1   2:06.00 systemd     \u001b[m\u001b[m\u001b[K\n",
      "\u001b[m  393 root      19  -1  508816 313496 307524 S   0,7  1,9   1:02.08 systemd-jo+ \u001b[m\u001b[m\u001b[K\n",
      "\u001b[m 1736 root      20   0  315672   9572   8540 S   0,7  0,1   0:32.90 boltd       \u001b[m\u001b[m\u001b[K\n",
      "\u001b[m   10 root      20   0       0      0      0 I   0,3  0,0   0:29.59 rcu_sched   \u001b[m\u001b[m\u001b[K\n",
      "\u001b[m  457 root      20   0   46020   5084   3904 S   0,3  0,0   0:46.01 systemd-ud+ \u001b[m\u001b[m\u001b[K\n",
      "\u001b[m  465 root      20   0   46276   5620   4320 S   0,3  0,0   1:13.50 systemd-ud+ \u001b[m\u001b[m\u001b[K\u001b[H\u001b[mtop - 15:54:31 up  2:43,  1 user,  load average: 4,52, 3,75, 3,65\u001b[m\u001b[m\u001b[m\u001b[m\u001b[K\n",
      "Tarefas:\u001b[m\u001b[m\u001b[1m 366 \u001b[m\u001b[mtotal,\u001b[m\u001b[m\u001b[1m   3 \u001b[m\u001b[mem exec.,\u001b[m\u001b[m\u001b[1m 272 \u001b[m\u001b[mdormindo,\u001b[m\u001b[m\u001b[1m   0 \u001b[m\u001b[mparado,\u001b[m\u001b[m\u001b[1m   1 \u001b[m\u001b[mzumbi\u001b[m\u001b[m\u001b[m\u001b[m\u001b[K\n",
      "%CPU(s):\u001b[m\u001b[m\u001b[1m 10,4 \u001b[m\u001b[mus,\u001b[m\u001b[m\u001b[1m  5,5 \u001b[m\u001b[msis,\u001b[m\u001b[m\u001b[1m  0,0 \u001b[m\u001b[mni,\u001b[m\u001b[m\u001b[1m 81,9 \u001b[m\u001b[moc,\u001b[m\u001b[m\u001b[1m  0,2 \u001b[m\u001b[mag,\u001b[m\u001b[m\u001b[1m  0,0 \u001b[m\u001b[mih,\u001b[m\u001b[m\u001b[1m  2,1 \u001b[m\u001b[mis\u001b[m\u001b[m\u001b[1m  0,0 \u001b[m\u001b[mtr\u001b[m\u001b[m\u001b[m\u001b[m\u001b[K\n",
      "KB mem :\u001b[m\u001b[m\u001b[1m 16223732 \u001b[m\u001b[mtotal,\u001b[m\u001b[m\u001b[1m 10136420 \u001b[m\u001b[mlivre,\u001b[m\u001b[m\u001b[1m  2454560 \u001b[m\u001b[musados,\u001b[m\u001b[m\u001b[1m  3632752 \u001b[m\u001b[mbuff/cache\u001b[m\u001b[m\u001b[m\u001b[m\u001b[K\n",
      "KB swap:\u001b[m\u001b[m\u001b[1m  2097148 \u001b[m\u001b[mtotal,\u001b[m\u001b[m\u001b[1m  2097148 \u001b[m\u001b[mlivre,\u001b[m\u001b[m\u001b[1m        0 \u001b[m\u001b[musados,\u001b[m\u001b[m\u001b[1m 12970636 \u001b[m\u001b[mmem dispon.\u001b[m\u001b[m\u001b[m\u001b[m\u001b[K\n",
      "\u001b[K\n",
      "\n",
      "\u001b[m  431 root      20   0  305768 259252   3132 S  87,7  1,6  51:48.26 systemd-ud+ \u001b[m\u001b[m\u001b[K\n",
      "\u001b[m 4054 leleopc   20   0 5323044 492396 102012 S  27,6  3,0  49:59.15 zoom        \u001b[m\u001b[m\u001b[K\n",
      "\u001b[m 3172 leleopc    9 -11 1697092  15724  12272 S   8,0  0,1  15:42.46 pulseaudio  \u001b[m\u001b[m\u001b[K\n",
      "\u001b[m 3159 leleopc   20   0 4134632 239040 121020 S   5,3  1,5  10:17.17 gnome-shell \u001b[m\u001b[m\u001b[K\n",
      "\u001b[m 2949 leleopc   20   0  558392 121844  91384 S   4,3  0,8   5:59.79 Xorg        \u001b[m\u001b[m\u001b[K\n",
      "\u001b[m19952 leleopc   20   0 3032788 422704 125344 S   3,3  2,6   0:56.78 file:// Co+ \u001b[m\u001b[m\u001b[K\n",
      "\u001b[m19886 leleopc   20   0 3420664 323156 143780 S   3,0  2,0   0:57.23 firefox     \u001b[m\u001b[m\u001b[K\n",
      "\u001b[m\u001b[1m 8359 root      20   0   31852    932    868 R   2,7  0,0   0:00.08 modprobe    \u001b[m\u001b[m\u001b[K\n",
      "\u001b[m    1 root      20   0  225580   9408   6704 S   1,3  0,1   2:06.04 systemd     \u001b[m\u001b[m\u001b[K\n",
      "\u001b[m 1010 root      20   0 2488564  27204  13408 S   1,3  0,2   2:24.26 snapd       \u001b[m\u001b[m\u001b[K\n",
      "\u001b[m21765 leleopc   20   0  542928  45944  14056 S   1,3  0,3   0:00.46 python      \u001b[m\u001b[m\u001b[K\n",
      "\u001b[m  448 root      20   0   46020   6272   5100 S   0,7  0,0   1:23.20 systemd-ud+ \u001b[m\u001b[m\u001b[K\n",
      "\u001b[m  457 root      20   0   46020   5084   3904 S   0,7  0,0   0:46.03 systemd-ud+ \u001b[m\u001b[m\u001b[K\n",
      "\u001b[m 1005 syslog    20   0  263032   4844   3448 S   0,7  0,0   0:39.40 rsyslogd    \u001b[m\u001b[m\u001b[K\n",
      "\u001b[m   10 root      20   0       0      0      0 I   0,3  0,0   0:29.60 rcu_sched   \u001b[m\u001b[m\u001b[K\n",
      "\u001b[m  393 root      19  -1  508816 313644 307668 S   0,3  1,9   1:02.09 systemd-jo+ \u001b[m\u001b[m\u001b[K\n",
      "\u001b[m  465 root      20   0   46276   5620   4320 S   0,3  0,0   1:13.51 systemd-ud+ \u001b[m\u001b[m\u001b[K\u001b[H\u001b[mtop - 15:54:34 up  2:43,  1 user,  load average: 4,52, 3,75, 3,65\u001b[m\u001b[m\u001b[m\u001b[m\u001b[K\n",
      "Tarefas:\u001b[m\u001b[m\u001b[1m 366 \u001b[m\u001b[mtotal,\u001b[m\u001b[m\u001b[1m   4 \u001b[m\u001b[mem exec.,\u001b[m\u001b[m\u001b[1m 270 \u001b[m\u001b[mdormindo,\u001b[m\u001b[m\u001b[1m   0 \u001b[m\u001b[mparado,\u001b[m\u001b[m\u001b[1m   1 \u001b[m\u001b[mzumbi\u001b[m\u001b[m\u001b[m\u001b[m\u001b[K\n",
      "%CPU(s):\u001b[m\u001b[m\u001b[1m 10,7 \u001b[m\u001b[mus,\u001b[m\u001b[m\u001b[1m  5,2 \u001b[m\u001b[msis,\u001b[m\u001b[m\u001b[1m  0,0 \u001b[m\u001b[mni,\u001b[m\u001b[m\u001b[1m 82,0 \u001b[m\u001b[moc,\u001b[m\u001b[m\u001b[1m  0,0 \u001b[m\u001b[mag,\u001b[m\u001b[m\u001b[1m  0,0 \u001b[m\u001b[mih,\u001b[m\u001b[m\u001b[1m  2,1 \u001b[m\u001b[mis\u001b[m\u001b[m\u001b[1m  0,0 \u001b[m\u001b[mtr\u001b[m\u001b[m\u001b[m\u001b[m\u001b[K\n",
      "KB mem :\u001b[m\u001b[m\u001b[1m 16223732 \u001b[m\u001b[mtotal,\u001b[m\u001b[m\u001b[1m 10141924 \u001b[m\u001b[mlivre,\u001b[m\u001b[m\u001b[1m  2448972 \u001b[m\u001b[musados,\u001b[m\u001b[m\u001b[1m  3632836 \u001b[m\u001b[mbuff/cache\u001b[m\u001b[m\u001b[m\u001b[m\u001b[K\n",
      "KB swap:\u001b[m\u001b[m\u001b[1m  2097148 \u001b[m\u001b[mtotal,\u001b[m\u001b[m\u001b[1m  2097148 \u001b[m\u001b[mlivre,\u001b[m\u001b[m\u001b[1m        0 \u001b[m\u001b[musados,\u001b[m\u001b[m\u001b[1m 12976208 \u001b[m\u001b[mmem dispon.\u001b[m\u001b[m\u001b[m\u001b[m\u001b[K\n",
      "\u001b[K\n",
      "\n",
      "\u001b[m\u001b[1m  431 root      20   0  305900 259252   3132 R  87,7  1,6  51:50.90 systemd-ud+ \u001b[m\u001b[m\u001b[K\n",
      "\u001b[m 4054 leleopc   20   0 5323032 492344 102012 S  29,2  3,0  50:00.03 zoom        \u001b[m\u001b[m\u001b[K\n",
      "\u001b[m\u001b[1m 3172 leleopc    9 -11 1697092  15724  12272 R   7,6  0,1  15:42.69 pulseaudio  \u001b[m\u001b[m\u001b[K\n",
      "\u001b[m19886 leleopc   20   0 3420664 327316 147940 S   6,0  2,0   0:57.41 firefox     \u001b[m\u001b[m\u001b[K\n",
      "\u001b[m\u001b[1m 2949 leleopc   20   0  558384 121844  91384 R   5,6  0,8   5:59.96 Xorg        \u001b[m\u001b[m\u001b[K\n",
      "\u001b[m 3159 leleopc   20   0 4134624 239052 121028 S   5,3  1,5  10:17.33 gnome-shell \u001b[m\u001b[m\u001b[K\n",
      "\u001b[m19952 leleopc   20   0 3032788 421852 125344 S   4,7  2,6   0:56.92 file:// Co+ \u001b[m\u001b[m\u001b[K\n",
      "\u001b[m 8403 root      20   0   31852    936    868 D   2,7  0,0   0:00.08 modprobe    \u001b[m\u001b[m\u001b[K\n",
      "\u001b[m 1010 root      20   0 2488564  27204  13408 S   1,7  0,2   2:24.31 snapd       \u001b[m\u001b[m\u001b[K\n",
      "\u001b[m  393 root      19  -1  508816 313784 307808 S   1,0  1,9   1:02.12 systemd-jo+ \u001b[m\u001b[m\u001b[K\n",
      "\u001b[m  448 root      20   0   46020   6272   5100 S   1,0  0,0   1:23.23 systemd-ud+ \u001b[m\u001b[m\u001b[K\n",
      "\u001b[m  494 root     -51   0       0      0      0 S   1,0  0,0   0:12.90 irq/51-DEL+ \u001b[m\u001b[m\u001b[K\n",
      "\u001b[m21765 leleopc   20   0  542928  45944  14056 S   1,0  0,3   0:00.49 python      \u001b[m\u001b[m\u001b[K\n",
      "\u001b[m    1 root      20   0  225580   9408   6704 S   0,7  0,1   2:06.06 systemd     \u001b[m\u001b[m\u001b[K\n",
      "\u001b[m 1009 root      20   0  186988   9492   8676 S   0,7  0,1   0:27.25 thermald    \u001b[m\u001b[m\u001b[K\n",
      "\u001b[m12745 root      20   0       0      0      0 I   0,7  0,0   0:06.77 kworker/u2+ \u001b[m\u001b[m\u001b[K\n"
     ]
    },
    {
     "name": "stdout",
     "output_type": "stream",
     "text": [
      "\u001b[m   10 root      20   0       0      0      0 I   0,3  0,0   0:29.61 rcu_sched   \u001b[m\u001b[m\u001b[K\u001b[H\u001b[mtop - 15:54:37 up  2:43,  1 user,  load average: 4,56, 3,77, 3,66\u001b[m\u001b[m\u001b[m\u001b[m\u001b[K\n",
      "Tarefas:\u001b[m\u001b[m\u001b[1m 366 \u001b[m\u001b[mtotal,\u001b[m\u001b[m\u001b[1m   3 \u001b[m\u001b[mem exec.,\u001b[m\u001b[m\u001b[1m 272 \u001b[m\u001b[mdormindo,\u001b[m\u001b[m\u001b[1m   0 \u001b[m\u001b[mparado,\u001b[m\u001b[m\u001b[1m   1 \u001b[m\u001b[mzumbi\u001b[m\u001b[m\u001b[m\u001b[m\u001b[K\n",
      "%CPU(s):\u001b[m\u001b[m\u001b[1m 10,0 \u001b[m\u001b[mus,\u001b[m\u001b[m\u001b[1m  4,5 \u001b[m\u001b[msis,\u001b[m\u001b[m\u001b[1m  0,0 \u001b[m\u001b[mni,\u001b[m\u001b[m\u001b[1m 83,2 \u001b[m\u001b[moc,\u001b[m\u001b[m\u001b[1m  0,2 \u001b[m\u001b[mag,\u001b[m\u001b[m\u001b[1m  0,0 \u001b[m\u001b[mih,\u001b[m\u001b[m\u001b[1m  2,2 \u001b[m\u001b[mis\u001b[m\u001b[m\u001b[1m  0,0 \u001b[m\u001b[mtr\u001b[m\u001b[m\u001b[m\u001b[m\u001b[K\n",
      "KB mem :\u001b[m\u001b[m\u001b[1m 16223732 \u001b[m\u001b[mtotal,\u001b[m\u001b[m\u001b[1m 10130920 \u001b[m\u001b[mlivre,\u001b[m\u001b[m\u001b[1m  2459840 \u001b[m\u001b[musados,\u001b[m\u001b[m\u001b[1m  3632972 \u001b[m\u001b[mbuff/cache\u001b[m\u001b[m\u001b[m\u001b[m\u001b[K\n",
      "KB swap:\u001b[m\u001b[m\u001b[1m  2097148 \u001b[m\u001b[mtotal,\u001b[m\u001b[m\u001b[1m  2097148 \u001b[m\u001b[mlivre,\u001b[m\u001b[m\u001b[1m        0 \u001b[m\u001b[musados,\u001b[m\u001b[m\u001b[1m 12965380 \u001b[m\u001b[mmem dispon.\u001b[m\u001b[m\u001b[m\u001b[m\u001b[K\n",
      "\u001b[K\n",
      "\n",
      "\u001b[m\u001b[1m  431 root      20   0  306028 259552   3132 R  82,5  1,6  51:53.39 systemd-ud+ \u001b[m\u001b[m\u001b[K\n",
      "\u001b[m 4054 leleopc   20   0 5323044 492516 102024 S  29,1  3,0  50:00.91 zoom        \u001b[m\u001b[m\u001b[K\n",
      "\u001b[m 3172 leleopc    9 -11 1697092  15724  12272 S   7,9  0,1  15:42.93 pulseaudio  \u001b[m\u001b[m\u001b[K\n",
      "\u001b[m 3159 leleopc   20   0 4134624 239076 121028 S   5,0  1,5  10:17.48 gnome-shell \u001b[m\u001b[m\u001b[K\n",
      "\u001b[m 2949 leleopc   20   0  558436 121844  91384 S   3,3  0,8   6:00.06 Xorg        \u001b[m\u001b[m\u001b[K\n",
      "\u001b[m 1010 root      20   0 2488564  27204  13408 S   2,0  0,2   2:24.37 snapd       \u001b[m\u001b[m\u001b[K\n",
      "\u001b[m19952 leleopc   20   0 3032788 421900 125344 S   2,0  2,6   0:56.98 file:// Co+ \u001b[m\u001b[m\u001b[K\n",
      "\u001b[m21765 leleopc   20   0  542928  45956  14056 S   1,7  0,3   0:00.54 python      \u001b[m\u001b[m\u001b[K\n",
      "\u001b[m19886 leleopc   20   0 3420664 328712 147940 S   1,3  2,0   0:57.45 firefox     \u001b[m\u001b[m\u001b[K\n",
      "\u001b[m  448 root      20   0   46020   6272   5100 S   1,0  0,0   1:23.26 systemd-ud+ \u001b[m\u001b[m\u001b[K\n",
      "\u001b[m    1 root      20   0  225580   9408   6704 S   0,7  0,1   2:06.08 systemd     \u001b[m\u001b[m\u001b[K\n",
      "\u001b[m  457 root      20   0   46020   5084   3904 S   0,7  0,0   0:46.06 systemd-ud+ \u001b[m\u001b[m\u001b[K\n",
      "\u001b[m\u001b[1m 8447 root      20   0   31852    864    800 R   0,7  0,0   0:00.02 modprobe    \u001b[m\u001b[m\u001b[K\n",
      "\u001b[m   10 root      20   0       0      0      0 I   0,3  0,0   0:29.62 rcu_sched   \u001b[m\u001b[m\u001b[K\n",
      "\u001b[m   24 root      20   0       0      0      0 S   0,3  0,0   0:00.55 ksoftirqd/2 \u001b[m\u001b[m\u001b[K\n",
      "\u001b[m  393 root      19  -1  508816 314060 308084 S   0,3  1,9   1:02.13 systemd-jo+ \u001b[m\u001b[m\u001b[K\n",
      "\u001b[m  465 root      20   0   46276   5620   4320 S   0,3  0,0   1:13.53 systemd-ud+ \u001b[m\u001b[m\u001b[K\u001b[H\u001b[mtop - 15:54:40 up  2:43,  1 user,  load average: 4,56, 3,77, 3,66\u001b[m\u001b[m\u001b[m\u001b[m\u001b[K\n",
      "Tarefas:\u001b[m\u001b[m\u001b[1m 365 \u001b[m\u001b[mtotal,\u001b[m\u001b[m\u001b[1m   2 \u001b[m\u001b[mem exec.,\u001b[m\u001b[m\u001b[1m 272 \u001b[m\u001b[mdormindo,\u001b[m\u001b[m\u001b[1m   0 \u001b[m\u001b[mparado,\u001b[m\u001b[m\u001b[1m   1 \u001b[m\u001b[mzumbi\u001b[m\u001b[m\u001b[m\u001b[m\u001b[K\n",
      "%CPU(s):\u001b[m\u001b[m\u001b[1m 10,1 \u001b[m\u001b[mus,\u001b[m\u001b[m\u001b[1m  5,3 \u001b[m\u001b[msis,\u001b[m\u001b[m\u001b[1m  0,0 \u001b[m\u001b[mni,\u001b[m\u001b[m\u001b[1m 82,6 \u001b[m\u001b[moc,\u001b[m\u001b[m\u001b[1m  0,0 \u001b[m\u001b[mag,\u001b[m\u001b[m\u001b[1m  0,0 \u001b[m\u001b[mih,\u001b[m\u001b[m\u001b[1m  1,9 \u001b[m\u001b[mis\u001b[m\u001b[m\u001b[1m  0,0 \u001b[m\u001b[mtr\u001b[m\u001b[m\u001b[m\u001b[m\u001b[K\n",
      "KB mem :\u001b[m\u001b[m\u001b[1m 16223732 \u001b[m\u001b[mtotal,\u001b[m\u001b[m\u001b[1m 10160444 \u001b[m\u001b[mlivre,\u001b[m\u001b[m\u001b[1m  2430220 \u001b[m\u001b[musados,\u001b[m\u001b[m\u001b[1m  3633068 \u001b[m\u001b[mbuff/cache\u001b[m\u001b[m\u001b[m\u001b[m\u001b[K\n",
      "KB swap:\u001b[m\u001b[m\u001b[1m  2097148 \u001b[m\u001b[mtotal,\u001b[m\u001b[m\u001b[1m  2097148 \u001b[m\u001b[mlivre,\u001b[m\u001b[m\u001b[1m        0 \u001b[m\u001b[musados,\u001b[m\u001b[m\u001b[1m 12995008 \u001b[m\u001b[mmem dispon.\u001b[m\u001b[m\u001b[m\u001b[m\u001b[K\n",
      "\u001b[K\n",
      "\n",
      "\u001b[m\u001b[1m  431 root      20   0  306028 259552   3132 R  88,0  1,6  51:56.04 systemd-ud+ \u001b[m\u001b[m\u001b[K\n",
      "\u001b[m 4054 leleopc   20   0 5323044 492412 102024 S  27,2  3,0  50:01.73 zoom        \u001b[m\u001b[m\u001b[K\n",
      "\u001b[m 3172 leleopc    9 -11 1697092  15724  12272 S   8,6  0,1  15:43.19 pulseaudio  \u001b[m\u001b[m\u001b[K\n",
      "\u001b[m 3159 leleopc   20   0 4134624 239076 121028 S   4,7  1,5  10:17.62 gnome-shell \u001b[m\u001b[m\u001b[K\n",
      "\u001b[m 2949 leleopc   20   0  558436 121844  91384 S   2,3  0,8   6:00.13 Xorg        \u001b[m\u001b[m\u001b[K\n",
      "\u001b[m 1010 root      20   0 2488564  27204  13408 S   1,7  0,2   2:24.42 snapd       \u001b[m\u001b[m\u001b[K\n",
      "\u001b[m    1 root      20   0  225580   9408   6704 S   1,3  0,1   2:06.12 systemd     \u001b[m\u001b[m\u001b[K\n",
      "\u001b[m19952 leleopc   20   0 3032788 421532 125344 S   1,3  2,6   0:57.02 file:// Co+ \u001b[m\u001b[m\u001b[K\n",
      "\u001b[m  448 root      20   0   46020   6272   5100 S   1,0  0,0   1:23.29 systemd-ud+ \u001b[m\u001b[m\u001b[K\n",
      "\u001b[m21765 leleopc   20   0  542928  45956  14056 S   1,0  0,3   0:00.57 python      \u001b[m\u001b[m\u001b[K\n",
      "\u001b[m  457 root      20   0   46020   5084   3904 S   0,7  0,0   0:46.08 systemd-ud+ \u001b[m\u001b[m\u001b[K\n",
      "\u001b[m  465 root      20   0   46276   5620   4320 S   0,7  0,0   1:13.55 systemd-ud+ \u001b[m\u001b[m\u001b[K\n",
      "\u001b[m  600 root      -2   0       0      0      0 S   0,7  0,0   0:34.11 i915/signa+ \u001b[m\u001b[m\u001b[K\n",
      "\u001b[m  986 message+  20   0   51720   6288   4032 S   0,7  0,0   0:22.39 dbus-daemon \u001b[m\u001b[m\u001b[K\n",
      "\u001b[m 1005 syslog    20   0  263032   4844   3448 S   0,7  0,0   0:39.43 rsyslogd    \u001b[m\u001b[m\u001b[K\n",
      "\u001b[m 1736 root      20   0  315672   9572   8540 S   0,7  0,1   0:32.94 boltd       \u001b[m\u001b[m\u001b[K\n",
      "\u001b[m19886 leleopc   20   0 3420664 328712 147940 S   0,7  2,0   0:57.47 firefox     \u001b[m\u001b[m\u001b[K\u001b[H\u001b[mtop - 15:54:43 up  2:43,  1 user,  load average: 4,43, 3,75, 3,66\u001b[m\u001b[m\u001b[m\u001b[m\u001b[K\n",
      "Tarefas:\u001b[m\u001b[m\u001b[1m 366 \u001b[m\u001b[mtotal,\u001b[m\u001b[m\u001b[1m   2 \u001b[m\u001b[mem exec.,\u001b[m\u001b[m\u001b[1m 273 \u001b[m\u001b[mdormindo,\u001b[m\u001b[m\u001b[1m   0 \u001b[m\u001b[mparado,\u001b[m\u001b[m\u001b[1m   1 \u001b[m\u001b[mzumbi\u001b[m\u001b[m\u001b[m\u001b[m\u001b[K\n",
      "%CPU(s):\u001b[m\u001b[m\u001b[1m  9,9 \u001b[m\u001b[mus,\u001b[m\u001b[m\u001b[1m  4,9 \u001b[m\u001b[msis,\u001b[m\u001b[m\u001b[1m  0,0 \u001b[m\u001b[mni,\u001b[m\u001b[m\u001b[1m 80,8 \u001b[m\u001b[moc,\u001b[m\u001b[m\u001b[1m  1,3 \u001b[m\u001b[mag,\u001b[m\u001b[m\u001b[1m  0,0 \u001b[m\u001b[mih,\u001b[m\u001b[m\u001b[1m  3,0 \u001b[m\u001b[mis\u001b[m\u001b[m\u001b[1m  0,0 \u001b[m\u001b[mtr\u001b[m\u001b[m\u001b[m\u001b[m\u001b[K\n",
      "KB mem :\u001b[m\u001b[m\u001b[1m 16223732 \u001b[m\u001b[mtotal,\u001b[m\u001b[m\u001b[1m 10135528 \u001b[m\u001b[mlivre,\u001b[m\u001b[m\u001b[1m  2455012 \u001b[m\u001b[musados,\u001b[m\u001b[m\u001b[1m  3633192 \u001b[m\u001b[mbuff/cache\u001b[m\u001b[m\u001b[m\u001b[m\u001b[K\n",
      "KB swap:\u001b[m\u001b[m\u001b[1m  2097148 \u001b[m\u001b[mtotal,\u001b[m\u001b[m\u001b[1m  2097148 \u001b[m\u001b[mlivre,\u001b[m\u001b[m\u001b[1m        0 \u001b[m\u001b[musados,\u001b[m\u001b[m\u001b[1m 12970152 \u001b[m\u001b[mmem dispon.\u001b[m\u001b[m\u001b[m\u001b[m\u001b[K\n",
      "\u001b[K\n",
      "\n",
      "\u001b[m  431 root      20   0  306160 259552   3132 S  85,0  1,6  51:58.60 systemd-ud+ \u001b[m\u001b[m\u001b[K\n",
      "\u001b[m 4054 leleopc   20   0 5323044 492364 102024 S  29,9  3,0  50:02.63 zoom        \u001b[m\u001b[m\u001b[K\n",
      "\u001b[m 3172 leleopc    9 -11 1697092  15724  12272 S   8,3  0,1  15:43.44 pulseaudio  \u001b[m\u001b[m\u001b[K\n",
      "\u001b[m 3159 leleopc   20   0 4134624 239076 121028 S   4,3  1,5  10:17.75 gnome-shell \u001b[m\u001b[m\u001b[K\n",
      "\u001b[m 2949 leleopc   20   0  558436 121844  91384 S   2,7  0,8   6:00.21 Xorg        \u001b[m\u001b[m\u001b[K\n",
      "\u001b[m 1010 root      20   0 2488564  27204  13408 S   1,7  0,2   2:24.47 snapd       \u001b[m\u001b[m\u001b[K\n",
      "\u001b[m\u001b[1m 8555 root      20   0   31852    836    768 R   1,7  0,0   0:00.05 modprobe    \u001b[m\u001b[m\u001b[K\n",
      "\u001b[m19952 leleopc   20   0 3032788 421532 125344 S   1,7  2,6   0:57.07 file:// Co+ \u001b[m\u001b[m\u001b[K\n",
      "\u001b[m21765 leleopc   20   0  542928  45956  14056 S   1,3  0,3   0:00.61 python      \u001b[m\u001b[m\u001b[K\n",
      "\u001b[m19886 leleopc   20   0 3420664 327180 147940 S   1,0  2,0   0:57.50 firefox     \u001b[m\u001b[m\u001b[K\n",
      "\u001b[m  393 root      19  -1  508816 314484 308500 S   0,7  1,9   1:02.16 systemd-jo+ \u001b[m\u001b[m\u001b[K\n",
      "\u001b[m  448 root      20   0   46020   6272   5100 S   0,7  0,0   1:23.31 systemd-ud+ \u001b[m\u001b[m\u001b[K\n",
      "\u001b[m20295 root      20   0       0      0      0 D   0,7  0,0   0:02.80 kworker/u2+ \u001b[m\u001b[m\u001b[K\n",
      "\u001b[m    1 root      20   0  225580   9408   6704 S   0,3  0,1   2:06.13 systemd     \u001b[m\u001b[m\u001b[K\n",
      "\u001b[m   10 root      20   0       0      0      0 I   0,3  0,0   0:29.63 rcu_sched   \u001b[m\u001b[m\u001b[K\n",
      "\u001b[m  457 root      20   0   46020   5084   3904 S   0,3  0,0   0:46.09 systemd-ud+ \u001b[m\u001b[m\u001b[K\n",
      "\u001b[m  465 root      20   0   46276   5620   4320 S   0,3  0,0   1:13.56 systemd-ud+ \u001b[m\u001b[m\u001b[K\u001b[H\u001b[mtop - 15:54:46 up  2:43,  1 user,  load average: 4,48, 3,77, 3,66\u001b[m\u001b[m\u001b[m\u001b[m\u001b[K\n",
      "Tarefas:\u001b[m\u001b[m\u001b[1m 365 \u001b[m\u001b[mtotal,\u001b[m\u001b[m\u001b[1m   4 \u001b[m\u001b[mem exec.,\u001b[m\u001b[m\u001b[1m 271 \u001b[m\u001b[mdormindo,\u001b[m\u001b[m\u001b[1m   0 \u001b[m\u001b[mparado,\u001b[m\u001b[m\u001b[1m   1 \u001b[m\u001b[mzumbi\u001b[m\u001b[m\u001b[m\u001b[m\u001b[K\n",
      "%CPU(s):\u001b[m\u001b[m\u001b[1m  9,8 \u001b[m\u001b[mus,\u001b[m\u001b[m\u001b[1m  4,7 \u001b[m\u001b[msis,\u001b[m\u001b[m\u001b[1m  0,0 \u001b[m\u001b[mni,\u001b[m\u001b[m\u001b[1m 82,0 \u001b[m\u001b[moc,\u001b[m\u001b[m\u001b[1m  0,2 \u001b[m\u001b[mag,\u001b[m\u001b[m\u001b[1m  0,0 \u001b[m\u001b[mih,\u001b[m\u001b[m\u001b[1m  3,2 \u001b[m\u001b[mis\u001b[m\u001b[m\u001b[1m  0,0 \u001b[m\u001b[mtr\u001b[m\u001b[m\u001b[m\u001b[m\u001b[K\n",
      "KB mem :\u001b[m\u001b[m\u001b[1m 16223732 \u001b[m\u001b[mtotal,\u001b[m\u001b[m\u001b[1m 10136644 \u001b[m\u001b[mlivre,\u001b[m\u001b[m\u001b[1m  2452588 \u001b[m\u001b[musados,\u001b[m\u001b[m\u001b[1m  3634500 \u001b[m\u001b[mbuff/cache\u001b[m\u001b[m\u001b[m\u001b[m\u001b[K\n",
      "KB swap:\u001b[m\u001b[m\u001b[1m  2097148 \u001b[m\u001b[mtotal,\u001b[m\u001b[m\u001b[1m  2097148 \u001b[m\u001b[mlivre,\u001b[m\u001b[m\u001b[1m        0 \u001b[m\u001b[musados,\u001b[m\u001b[m\u001b[1m 12971328 \u001b[m\u001b[mmem dispon.\u001b[m\u001b[m\u001b[m\u001b[m\u001b[K\n",
      "\u001b[K\n",
      "\n",
      "\u001b[m\u001b[1m  431 root      20   0  306160 259812   3132 R  85,4  1,6  52:01.17 systemd-ud+ \u001b[m\u001b[m\u001b[K\n",
      "\u001b[m 4054 leleopc   20   0 5323044 492364 102024 S  26,9  3,0  50:03.44 zoom        \u001b[m\u001b[m\u001b[K\n",
      "\u001b[m 3172 leleopc    9 -11 1697092  15724  12272 S   8,0  0,1  15:43.68 pulseaudio  \u001b[m\u001b[m\u001b[K\n",
      "\u001b[m 3159 leleopc   20   0 4134624 239080 121028 S   5,0  1,5  10:17.90 gnome-shell \u001b[m\u001b[m\u001b[K\n",
      "\u001b[m 2949 leleopc   20   0  558384 121844  91384 S   4,0  0,8   6:00.33 Xorg        \u001b[m\u001b[m\u001b[K\n",
      "\u001b[m19886 leleopc   20   0 3420664 327180 147940 S   2,3  2,0   0:57.57 firefox     \u001b[m\u001b[m\u001b[K\n",
      "\u001b[m19952 leleopc   20   0 3032788 421532 125344 S   2,3  2,6   0:57.14 file:// Co+ \u001b[m\u001b[m\u001b[K\n",
      "\u001b[m 1010 root      20   0 2488564  27204  13408 S   1,7  0,2   2:24.52 snapd       \u001b[m\u001b[m\u001b[K\n",
      "\u001b[m\u001b[1m 8599 root      20   0   31852    920    856 R   1,3  0,0   0:00.04 modprobe    \u001b[m\u001b[m\u001b[K\n",
      "\u001b[m21765 leleopc   20   0  542928  45956  14056 S   1,3  0,3   0:00.65 python      \u001b[m\u001b[m\u001b[K\n",
      "\u001b[m  448 root      20   0   46020   6272   5100 S   1,0  0,0   1:23.34 systemd-ud+ \u001b[m\u001b[m\u001b[K\n",
      "\u001b[m    1 root      20   0  225580   9408   6704 S   0,7  0,1   2:06.15 systemd     \u001b[m\u001b[m\u001b[K\n",
      "\u001b[m  457 root      20   0   46020   5084   3904 S   0,7  0,0   0:46.11 systemd-ud+ \u001b[m\u001b[m\u001b[K\n",
      "\u001b[m 1736 root      20   0  315672   9572   8540 S   0,7  0,1   0:32.96 boltd       \u001b[m\u001b[m\u001b[K\n",
      "\u001b[m   10 root      20   0       0      0      0 I   0,3  0,0   0:29.64 rcu_sched   \u001b[m\u001b[m\u001b[K\n",
      "\u001b[m  393 root      19  -1  508816 314552 308568 S   0,3  1,9   1:02.17 systemd-jo+ \u001b[m\u001b[m\u001b[K\n"
     ]
    },
    {
     "name": "stdout",
     "output_type": "stream",
     "text": [
      "\u001b[m  465 root      20   0   46276   5620   4320 S   0,3  0,0   1:13.57 systemd-ud+ \u001b[m\u001b[m\u001b[K\u001b[H\u001b[mtop - 15:54:49 up  2:43,  1 user,  load average: 4,48, 3,77, 3,66\u001b[m\u001b[m\u001b[m\u001b[m\u001b[K\n",
      "Tarefas:\u001b[m\u001b[m\u001b[1m 369 \u001b[m\u001b[mtotal,\u001b[m\u001b[m\u001b[1m   6 \u001b[m\u001b[mem exec.,\u001b[m\u001b[m\u001b[1m 275 \u001b[m\u001b[mdormindo,\u001b[m\u001b[m\u001b[1m   0 \u001b[m\u001b[mparado,\u001b[m\u001b[m\u001b[1m   1 \u001b[m\u001b[mzumbi\u001b[m\u001b[m\u001b[m\u001b[m\u001b[K\n",
      "%CPU(s):\u001b[m\u001b[m\u001b[1m 10,7 \u001b[m\u001b[mus,\u001b[m\u001b[m\u001b[1m  5,3 \u001b[m\u001b[msis,\u001b[m\u001b[m\u001b[1m  0,0 \u001b[m\u001b[mni,\u001b[m\u001b[m\u001b[1m 81,1 \u001b[m\u001b[moc,\u001b[m\u001b[m\u001b[1m  0,0 \u001b[m\u001b[mag,\u001b[m\u001b[m\u001b[1m  0,0 \u001b[m\u001b[mih,\u001b[m\u001b[m\u001b[1m  3,0 \u001b[m\u001b[mis\u001b[m\u001b[m\u001b[1m  0,0 \u001b[m\u001b[mtr\u001b[m\u001b[m\u001b[m\u001b[m\u001b[K\n",
      "KB mem :\u001b[m\u001b[m\u001b[1m 16223732 \u001b[m\u001b[mtotal,\u001b[m\u001b[m\u001b[1m 10111568 \u001b[m\u001b[mlivre,\u001b[m\u001b[m\u001b[1m  2475256 \u001b[m\u001b[musados,\u001b[m\u001b[m\u001b[1m  3636908 \u001b[m\u001b[mbuff/cache\u001b[m\u001b[m\u001b[m\u001b[m\u001b[K\n",
      "KB swap:\u001b[m\u001b[m\u001b[1m  2097148 \u001b[m\u001b[mtotal,\u001b[m\u001b[m\u001b[1m  2097148 \u001b[m\u001b[mlivre,\u001b[m\u001b[m\u001b[1m        0 \u001b[m\u001b[musados,\u001b[m\u001b[m\u001b[1m 12946596 \u001b[m\u001b[mmem dispon.\u001b[m\u001b[m\u001b[m\u001b[m\u001b[K\n",
      "\u001b[K\n",
      "\n",
      "\u001b[m\u001b[1m  431 root      20   0  306292 259812   3132 R  89,7  1,6  52:03.87 systemd-ud+ \u001b[m\u001b[m\u001b[K\n",
      "\u001b[m\u001b[1m 4054 leleopc   20   0 5323044 492524 102024 R  29,2  3,0  50:04.32 zoom        \u001b[m\u001b[m\u001b[K\n",
      "\u001b[m 3172 leleopc    9 -11 1697092  15724  12272 S   8,3  0,1  15:43.93 pulseaudio  \u001b[m\u001b[m\u001b[K\n",
      "\u001b[m 3159 leleopc   20   0 4134620 239080 121028 S   5,3  1,5  10:18.06 gnome-shell \u001b[m\u001b[m\u001b[K\n",
      "\u001b[m 2949 leleopc   20   0  558384 121844  91384 S   5,0  0,8   6:00.48 Xorg        \u001b[m\u001b[m\u001b[K\n",
      "\u001b[m19886 leleopc   20   0 3427316 330452 150928 S   4,7  2,0   0:57.71 firefox     \u001b[m\u001b[m\u001b[K\n",
      "\u001b[m19952 leleopc   20   0 3039440 425184 128572 S   3,7  2,6   0:57.25 file:// Co+ \u001b[m\u001b[m\u001b[K\n",
      "\u001b[m 8644 root      20   0   31852    856    792 D   2,7  0,0   0:00.08 modprobe    \u001b[m\u001b[m\u001b[K\n",
      "\u001b[m\u001b[1m 8647 root      20   0   31852    868    800 R   2,0  0,0   0:00.06 modprobe    \u001b[m\u001b[m\u001b[K\n",
      "\u001b[m 1010 root      20   0 2488564  27204  13408 S   1,7  0,2   2:24.57 snapd       \u001b[m\u001b[m\u001b[K\n",
      "\u001b[m21765 leleopc   20   0  542928  45956  14056 S   1,3  0,3   0:00.69 python      \u001b[m\u001b[m\u001b[K\n",
      "\u001b[m    1 root      20   0  225580   9408   6704 S   1,0  0,1   2:06.18 systemd     \u001b[m\u001b[m\u001b[K\n",
      "\u001b[m  448 root      20   0   46020   6272   5100 S   1,0  0,0   1:23.37 systemd-ud+ \u001b[m\u001b[m\u001b[K\n",
      "\u001b[m  393 root      19  -1  508816 314656 308672 S   0,7  1,9   1:02.19 systemd-jo+ \u001b[m\u001b[m\u001b[K\n",
      "\u001b[m   10 root      20   0       0      0      0 I   0,3  0,0   0:29.65 rcu_sched   \u001b[m\u001b[m\u001b[K\n",
      "\u001b[m  465 root      20   0   46276   5620   4320 S   0,3  0,0   1:13.58 systemd-ud+ \u001b[m\u001b[m\u001b[K\n",
      "\u001b[m  494 root     -51   0       0      0      0 S   0,3  0,0   0:12.93 irq/51-DEL+ \u001b[m\u001b[m\u001b[K\u001b[H\u001b[mtop - 15:54:52 up  2:43,  1 user,  load average: 4,44, 3,78, 3,67\u001b[m\u001b[m\u001b[m\u001b[m\u001b[K\n",
      "Tarefas:\u001b[m\u001b[m\u001b[1m 367 \u001b[m\u001b[mtotal,\u001b[m\u001b[m\u001b[1m   3 \u001b[m\u001b[mem exec.,\u001b[m\u001b[m\u001b[1m 274 \u001b[m\u001b[mdormindo,\u001b[m\u001b[m\u001b[1m   0 \u001b[m\u001b[mparado,\u001b[m\u001b[m\u001b[1m   1 \u001b[m\u001b[mzumbi\u001b[m\u001b[m\u001b[m\u001b[m\u001b[K\n",
      "%CPU(s):\u001b[m\u001b[m\u001b[1m 11,2 \u001b[m\u001b[mus,\u001b[m\u001b[m\u001b[1m  5,0 \u001b[m\u001b[msis,\u001b[m\u001b[m\u001b[1m  0,0 \u001b[m\u001b[mni,\u001b[m\u001b[m\u001b[1m 81,2 \u001b[m\u001b[moc,\u001b[m\u001b[m\u001b[1m  0,2 \u001b[m\u001b[mag,\u001b[m\u001b[m\u001b[1m  0,0 \u001b[m\u001b[mih,\u001b[m\u001b[m\u001b[1m  2,4 \u001b[m\u001b[mis\u001b[m\u001b[m\u001b[1m  0,0 \u001b[m\u001b[mtr\u001b[m\u001b[m\u001b[m\u001b[m\u001b[K\n",
      "KB mem :\u001b[m\u001b[m\u001b[1m 16223732 \u001b[m\u001b[mtotal,\u001b[m\u001b[m\u001b[1m 10125116 \u001b[m\u001b[mlivre,\u001b[m\u001b[m\u001b[1m  2458344 \u001b[m\u001b[musados,\u001b[m\u001b[m\u001b[1m  3640272 \u001b[m\u001b[mbuff/cache\u001b[m\u001b[m\u001b[m\u001b[m\u001b[K\n",
      "KB swap:\u001b[m\u001b[m\u001b[1m  2097148 \u001b[m\u001b[mtotal,\u001b[m\u001b[m\u001b[1m  2097148 \u001b[m\u001b[mlivre,\u001b[m\u001b[m\u001b[1m        0 \u001b[m\u001b[musados,\u001b[m\u001b[m\u001b[1m 12960132 \u001b[m\u001b[mmem dispon.\u001b[m\u001b[m\u001b[m\u001b[m\u001b[K\n",
      "\u001b[K\n",
      "\n",
      "\u001b[m\u001b[1m  431 root      20   0  306424 259812   3132 R  84,7  1,6  52:06.42 systemd-ud+ \u001b[m\u001b[m\u001b[K\n",
      "\u001b[m 4054 leleopc   20   0 5323044 492524 102024 S  27,2  3,0  50:05.14 zoom        \u001b[m\u001b[m\u001b[K\n",
      "\u001b[m19886 leleopc   20   0 3427340 335380 154168 S   8,3  2,1   0:57.96 firefox     \u001b[m\u001b[m\u001b[K\n",
      "\u001b[m 3172 leleopc    9 -11 1697092  15724  12272 S   8,0  0,1  15:44.17 pulseaudio  \u001b[m\u001b[m\u001b[K\n",
      "\u001b[m19952 leleopc   20   0 3039464 428608 131788 S   7,0  2,6   0:57.46 file:// Co+ \u001b[m\u001b[m\u001b[K\n",
      "\u001b[m 2949 leleopc   20   0  558384 121844  91384 S   6,3  0,8   6:00.67 Xorg        \u001b[m\u001b[m\u001b[K\n",
      "\u001b[m 3159 leleopc   20   0 4134620 239080 121028 S   5,6  1,5  10:18.23 gnome-shell \u001b[m\u001b[m\u001b[K\n",
      "\u001b[m 1010 root      20   0 2488564  27204  13408 S   1,7  0,2   2:24.62 snapd       \u001b[m\u001b[m\u001b[K\n",
      "\u001b[m    1 root      20   0  225580   9408   6704 S   1,3  0,1   2:06.22 systemd     \u001b[m\u001b[m\u001b[K\n",
      "\u001b[m  494 root     -51   0       0      0      0 S   1,3  0,0   0:12.97 irq/51-DEL+ \u001b[m\u001b[m\u001b[K\n",
      "\u001b[m\u001b[1m 8699 root      20   0   31852    868    804 R   1,3  0,0   0:00.04 modprobe    \u001b[m\u001b[m\u001b[K\n",
      "\u001b[m  393 root      19  -1  508816 314932 308944 S   1,0  1,9   1:02.22 systemd-jo+ \u001b[m\u001b[m\u001b[K\n",
      "\u001b[m21765 leleopc   20   0  542928  45956  14056 S   1,0  0,3   0:00.72 python      \u001b[m\u001b[m\u001b[K\n",
      "\u001b[m  448 root      20   0   46020   6272   5100 S   0,7  0,0   1:23.39 systemd-ud+ \u001b[m\u001b[m\u001b[K\n",
      "\u001b[m  457 root      20   0   46020   5084   3904 S   0,7  0,0   0:46.13 systemd-ud+ \u001b[m\u001b[m\u001b[K\n",
      "\u001b[m  465 root      20   0   46276   5620   4320 S   0,7  0,0   1:13.60 systemd-ud+ \u001b[m\u001b[m\u001b[K\n",
      "\u001b[m   10 root      20   0       0      0      0 I   0,3  0,0   0:29.66 rcu_sched   \u001b[m\u001b[m\u001b[K\u001b[H\u001b[mtop - 15:54:55 up  2:43,  1 user,  load average: 4,44, 3,78, 3,67\u001b[m\u001b[m\u001b[m\u001b[m\u001b[K\n",
      "Tarefas:\u001b[m\u001b[m\u001b[1m 367 \u001b[m\u001b[mtotal,\u001b[m\u001b[m\u001b[1m   4 \u001b[m\u001b[mem exec.,\u001b[m\u001b[m\u001b[1m 273 \u001b[m\u001b[mdormindo,\u001b[m\u001b[m\u001b[1m   0 \u001b[m\u001b[mparado,\u001b[m\u001b[m\u001b[1m   1 \u001b[m\u001b[mzumbi\u001b[m\u001b[m\u001b[m\u001b[m\u001b[K\n",
      "%CPU(s):\u001b[m\u001b[m\u001b[1m 10,8 \u001b[m\u001b[mus,\u001b[m\u001b[m\u001b[1m  5,2 \u001b[m\u001b[msis,\u001b[m\u001b[m\u001b[1m  0,0 \u001b[m\u001b[mni,\u001b[m\u001b[m\u001b[1m 81,8 \u001b[m\u001b[moc,\u001b[m\u001b[m\u001b[1m  0,0 \u001b[m\u001b[mag,\u001b[m\u001b[m\u001b[1m  0,0 \u001b[m\u001b[mih,\u001b[m\u001b[m\u001b[1m  2,2 \u001b[m\u001b[mis\u001b[m\u001b[m\u001b[1m  0,0 \u001b[m\u001b[mtr\u001b[m\u001b[m\u001b[m\u001b[m\u001b[K\n",
      "KB mem :\u001b[m\u001b[m\u001b[1m 16223732 \u001b[m\u001b[mtotal,\u001b[m\u001b[m\u001b[1m 10122452 \u001b[m\u001b[mlivre,\u001b[m\u001b[m\u001b[1m  2459356 \u001b[m\u001b[musados,\u001b[m\u001b[m\u001b[1m  3641924 \u001b[m\u001b[mbuff/cache\u001b[m\u001b[m\u001b[m\u001b[m\u001b[K\n",
      "KB swap:\u001b[m\u001b[m\u001b[1m  2097148 \u001b[m\u001b[mtotal,\u001b[m\u001b[m\u001b[1m  2097148 \u001b[m\u001b[mlivre,\u001b[m\u001b[m\u001b[1m        0 \u001b[m\u001b[musados,\u001b[m\u001b[m\u001b[1m 12957516 \u001b[m\u001b[mmem dispon.\u001b[m\u001b[m\u001b[m\u001b[m\u001b[K\n",
      "\u001b[K\n",
      "\n",
      "\u001b[m\u001b[1m  431 root      20   0  306424 259812   3132 R  86,4  1,6  52:09.02 systemd-ud+ \u001b[m\u001b[m\u001b[K\n",
      "\u001b[m 4054 leleopc   20   0 5323044 492524 102024 S  26,2  3,0  50:05.93 zoom        \u001b[m\u001b[m\u001b[K\n",
      "\u001b[m19886 leleopc   20   0 3427340 335380 154168 S   9,6  2,1   0:58.25 firefox     \u001b[m\u001b[m\u001b[K\n",
      "\u001b[m 3172 leleopc    9 -11 1697092  15724  12272 S   8,3  0,1  15:44.42 pulseaudio  \u001b[m\u001b[m\u001b[K\n",
      "\u001b[m 2949 leleopc   20   0  558384 121844  91384 S   6,3  0,8   6:00.86 Xorg        \u001b[m\u001b[m\u001b[K\n",
      "\u001b[m19952 leleopc   20   0 3039464 428512 131788 S   6,3  2,6   0:57.65 file:// Co+ \u001b[m\u001b[m\u001b[K\n",
      "\u001b[m\u001b[1m 3159 leleopc   20   0 4134620 239080 121028 R   5,6  1,5  10:18.40 gnome-shell \u001b[m\u001b[m\u001b[K\n",
      "\u001b[m 1010 root      20   0 2488564  27204  13408 S   1,7  0,2   2:24.67 snapd       \u001b[m\u001b[m\u001b[K\n",
      "\u001b[m\u001b[1m 8743 root      20   0   31852    872    804 R   1,7  0,0   0:00.05 modprobe    \u001b[m\u001b[m\u001b[K\n",
      "\u001b[m21765 leleopc   20   0  543076  45956  14056 S   1,7  0,3   0:00.77 python      \u001b[m\u001b[m\u001b[K\n",
      "\u001b[m  448 root      20   0   46020   6272   5100 S   1,3  0,0   1:23.43 systemd-ud+ \u001b[m\u001b[m\u001b[K\n",
      "\u001b[m  494 root     -51   0       0      0      0 S   1,0  0,0   0:13.00 irq/51-DEL+ \u001b[m\u001b[m\u001b[K\n",
      "\u001b[m    1 root      20   0  225580   9408   6704 S   0,7  0,1   2:06.24 systemd     \u001b[m\u001b[m\u001b[K\n",
      "\u001b[m  465 root      20   0   46276   5620   4320 S   0,7  0,0   1:13.62 systemd-ud+ \u001b[m\u001b[m\u001b[K\n",
      "\u001b[m   10 root      20   0       0      0      0 I   0,3  0,0   0:29.67 rcu_sched   \u001b[m\u001b[m\u001b[K\n",
      "\u001b[m  393 root      19  -1  508816 314992 309004 S   0,3  1,9   1:02.23 systemd-jo+ \u001b[m\u001b[m\u001b[K\n",
      "\u001b[m  457 root      20   0   46020   5084   3904 S   0,3  0,0   0:46.14 systemd-ud+ \u001b[m\u001b[m\u001b[K\u001b[H\u001b[mtop - 15:54:58 up  2:43,  1 user,  load average: 4,48, 3,80, 3,67\u001b[m\u001b[m\u001b[m\u001b[m\u001b[K\n",
      "Tarefas:\u001b[m\u001b[m\u001b[1m 367 \u001b[m\u001b[mtotal,\u001b[m\u001b[m\u001b[1m   2 \u001b[m\u001b[mem exec.,\u001b[m\u001b[m\u001b[1m 275 \u001b[m\u001b[mdormindo,\u001b[m\u001b[m\u001b[1m   0 \u001b[m\u001b[mparado,\u001b[m\u001b[m\u001b[1m   1 \u001b[m\u001b[mzumbi\u001b[m\u001b[m\u001b[m\u001b[m\u001b[K\n",
      "%CPU(s):\u001b[m\u001b[m\u001b[1m 10,8 \u001b[m\u001b[mus,\u001b[m\u001b[m\u001b[1m  5,3 \u001b[m\u001b[msis,\u001b[m\u001b[m\u001b[1m  0,0 \u001b[m\u001b[mni,\u001b[m\u001b[m\u001b[1m 81,9 \u001b[m\u001b[moc,\u001b[m\u001b[m\u001b[1m  0,2 \u001b[m\u001b[mag,\u001b[m\u001b[m\u001b[1m  0,0 \u001b[m\u001b[mih,\u001b[m\u001b[m\u001b[1m  1,9 \u001b[m\u001b[mis\u001b[m\u001b[m\u001b[1m  0,0 \u001b[m\u001b[mtr\u001b[m\u001b[m\u001b[m\u001b[m\u001b[K\n",
      "KB mem :\u001b[m\u001b[m\u001b[1m 16223732 \u001b[m\u001b[mtotal,\u001b[m\u001b[m\u001b[1m 10132468 \u001b[m\u001b[mlivre,\u001b[m\u001b[m\u001b[1m  2454200 \u001b[m\u001b[musados,\u001b[m\u001b[m\u001b[1m  3637064 \u001b[m\u001b[mbuff/cache\u001b[m\u001b[m\u001b[m\u001b[m\u001b[K\n",
      "KB swap:\u001b[m\u001b[m\u001b[1m  2097148 \u001b[m\u001b[mtotal,\u001b[m\u001b[m\u001b[1m  2097148 \u001b[m\u001b[mlivre,\u001b[m\u001b[m\u001b[1m        0 \u001b[m\u001b[musados,\u001b[m\u001b[m\u001b[1m 12967620 \u001b[m\u001b[mmem dispon.\u001b[m\u001b[m\u001b[m\u001b[m\u001b[K\n",
      "\u001b[K\n",
      "\n",
      "\u001b[m\u001b[1m  431 root      20   0  306552 260104   3132 R  87,7  1,6  52:11.67 systemd-ud+ \u001b[m\u001b[m\u001b[K\n",
      "\u001b[m 4054 leleopc   20   0 5323044 492524 102024 S  26,8  3,0  50:06.74 zoom        \u001b[m\u001b[m\u001b[K\n",
      "\u001b[m 3172 leleopc    9 -11 1697092  15724  12272 S   7,9  0,1  15:44.66 pulseaudio  \u001b[m\u001b[m\u001b[K\n",
      "\u001b[m19886 leleopc   20   0 3427340 331484 150184 S   7,9  2,0   0:58.49 firefox     \u001b[m\u001b[m\u001b[K\n",
      "\u001b[m 3159 leleopc   20   0 4134620 239096 121028 S   5,6  1,5  10:18.57 gnome-shell \u001b[m\u001b[m\u001b[K\n",
      "\u001b[m 2949 leleopc   20   0  558384 121844  91384 S   5,3  0,8   6:01.02 Xorg        \u001b[m\u001b[m\u001b[K\n",
      "\u001b[m19952 leleopc   20   0 3039464 425664 128804 S   3,6  2,6   0:57.76 file:// Co+ \u001b[m\u001b[m\u001b[K\n",
      "\u001b[m 8789 root      20   0   31852    980    916 D   2,6  0,0   0:00.08 modprobe    \u001b[m\u001b[m\u001b[K\n",
      "\u001b[m 1010 root      20   0 2488564  27204  13408 S   1,7  0,2   2:24.72 snapd       \u001b[m\u001b[m\u001b[K\n",
      "\u001b[m21765 leleopc   20   0  543076  45956  14056 S   1,3  0,3   0:00.81 python      \u001b[m\u001b[m\u001b[K\n",
      "\u001b[m    1 root      20   0  225580   9408   6704 S   1,0  0,1   2:06.27 systemd     \u001b[m\u001b[m\u001b[K\n",
      "\u001b[m  448 root      20   0   46020   6272   5100 S   0,7  0,0   1:23.45 systemd-ud+ \u001b[m\u001b[m\u001b[K\n",
      "\u001b[m  457 root      20   0   46020   5084   3904 S   0,7  0,0   0:46.16 systemd-ud+ \u001b[m\u001b[m\u001b[K\n",
      "\u001b[m  494 root     -51   0       0      0      0 S   0,7  0,0   0:13.02 irq/51-DEL+ \u001b[m\u001b[m\u001b[K\n",
      "\u001b[m 1736 root      20   0  315672   9572   8540 S   0,7  0,1   0:33.00 boltd       \u001b[m\u001b[m\u001b[K\n",
      "\u001b[m20295 root      20   0       0      0      0 D   0,7  0,0   0:02.85 kworker/u2+ \u001b[m\u001b[m\u001b[K\n"
     ]
    },
    {
     "name": "stdout",
     "output_type": "stream",
     "text": [
      "\u001b[m   54 root      20   0       0      0      0 S   0,3  0,0   0:00.44 ksoftirqd/7 \u001b[m\u001b[m\u001b[K\u001b[H\u001b[mtop - 15:55:01 up  2:43,  1 user,  load average: 4,53, 3,82, 3,68\u001b[m\u001b[m\u001b[m\u001b[m\u001b[K\n",
      "Tarefas:\u001b[m\u001b[m\u001b[1m 367 \u001b[m\u001b[mtotal,\u001b[m\u001b[m\u001b[1m   5 \u001b[m\u001b[mem exec.,\u001b[m\u001b[m\u001b[1m 273 \u001b[m\u001b[mdormindo,\u001b[m\u001b[m\u001b[1m   0 \u001b[m\u001b[mparado,\u001b[m\u001b[m\u001b[1m   1 \u001b[m\u001b[mzumbi\u001b[m\u001b[m\u001b[m\u001b[m\u001b[K\n",
      "%CPU(s):\u001b[m\u001b[m\u001b[1m 10,5 \u001b[m\u001b[mus,\u001b[m\u001b[m\u001b[1m  5,2 \u001b[m\u001b[msis,\u001b[m\u001b[m\u001b[1m  0,0 \u001b[m\u001b[mni,\u001b[m\u001b[m\u001b[1m 81,4 \u001b[m\u001b[moc,\u001b[m\u001b[m\u001b[1m  0,1 \u001b[m\u001b[mag,\u001b[m\u001b[m\u001b[1m  0,0 \u001b[m\u001b[mih,\u001b[m\u001b[m\u001b[1m  2,8 \u001b[m\u001b[mis\u001b[m\u001b[m\u001b[1m  0,0 \u001b[m\u001b[mtr\u001b[m\u001b[m\u001b[m\u001b[m\u001b[K\n",
      "KB mem :\u001b[m\u001b[m\u001b[1m 16223732 \u001b[m\u001b[mtotal,\u001b[m\u001b[m\u001b[1m 10129640 \u001b[m\u001b[mlivre,\u001b[m\u001b[m\u001b[1m  2456668 \u001b[m\u001b[musados,\u001b[m\u001b[m\u001b[1m  3637424 \u001b[m\u001b[mbuff/cache\u001b[m\u001b[m\u001b[m\u001b[m\u001b[K\n",
      "KB swap:\u001b[m\u001b[m\u001b[1m  2097148 \u001b[m\u001b[mtotal,\u001b[m\u001b[m\u001b[1m  2097148 \u001b[m\u001b[mlivre,\u001b[m\u001b[m\u001b[1m        0 \u001b[m\u001b[musados,\u001b[m\u001b[m\u001b[1m 12964980 \u001b[m\u001b[mmem dispon.\u001b[m\u001b[m\u001b[m\u001b[m\u001b[K\n",
      "\u001b[K\n",
      "\n",
      "\u001b[m\u001b[1m  431 root      20   0  306684 260104   3132 R  88,7  1,6  52:14.33 systemd-ud+ \u001b[m\u001b[m\u001b[K\n",
      "\u001b[m 4054 leleopc   20   0 5323044 492476 102024 S  26,7  3,0  50:07.54 zoom        \u001b[m\u001b[m\u001b[K\n",
      "\u001b[m 3172 leleopc    9 -11 1697092  15724  12272 S   8,0  0,1  15:44.90 pulseaudio  \u001b[m\u001b[m\u001b[K\n",
      "\u001b[m\u001b[1m 3159 leleopc   20   0 4134628 239116 121036 R   5,3  1,5  10:18.73 gnome-shell \u001b[m\u001b[m\u001b[K\n",
      "\u001b[m19886 leleopc   20   0 3427356 332500 151032 S   5,3  2,0   0:58.65 firefox     \u001b[m\u001b[m\u001b[K\n",
      "\u001b[m 2949 leleopc   20   0  558384 121844  91384 S   4,3  0,8   6:01.15 Xorg        \u001b[m\u001b[m\u001b[K\n",
      "\u001b[m19952 leleopc   20   0 3038860 425708 128616 S   3,3  2,6   0:57.86 file:// Co+ \u001b[m\u001b[m\u001b[K\n",
      "\u001b[m 1010 root      20   0 2488564  27204  13408 S   1,7  0,2   2:24.77 snapd       \u001b[m\u001b[m\u001b[K\n",
      "\u001b[m    1 root      20   0  225580   9408   6704 S   1,3  0,1   2:06.31 systemd     \u001b[m\u001b[m\u001b[K\n",
      "\u001b[m  448 root      20   0   46020   6272   5100 S   1,0  0,0   1:23.48 systemd-ud+ \u001b[m\u001b[m\u001b[K\n",
      "\u001b[m21765 leleopc   20   0  543076  45956  14056 S   1,0  0,3   0:00.84 python      \u001b[m\u001b[m\u001b[K\n",
      "\u001b[m  393 root      19  -1  508816 315256 309264 S   0,7  1,9   1:02.26 systemd-jo+ \u001b[m\u001b[m\u001b[K\n",
      "\u001b[m  457 root      20   0   46020   5084   3904 S   0,7  0,0   0:46.18 systemd-ud+ \u001b[m\u001b[m\u001b[K\n",
      "\u001b[m  465 root      20   0   46276   5620   4320 S   0,7  0,0   1:13.64 systemd-ud+ \u001b[m\u001b[m\u001b[K\n",
      "\u001b[m 1005 syslog    20   0  263032   4844   3448 S   0,7  0,0   0:39.51 rsyslogd    \u001b[m\u001b[m\u001b[K\n",
      "\u001b[m\u001b[1m 8850 root      20   0   31852    868    804 R   0,7  0,0   0:00.02 modprobe    \u001b[m\u001b[m\u001b[K\n",
      "\u001b[m   10 root      20   0       0      0      0 I   0,3  0,0   0:29.68 rcu_sched   \u001b[m\u001b[m\u001b[K\u001b[H\u001b[mtop - 15:55:04 up  2:43,  1 user,  load average: 4,53, 3,82, 3,68\u001b[m\u001b[m\u001b[m\u001b[m\u001b[K\n",
      "Tarefas:\u001b[m\u001b[m\u001b[1m 365 \u001b[m\u001b[mtotal,\u001b[m\u001b[m\u001b[1m   4 \u001b[m\u001b[mem exec.,\u001b[m\u001b[m\u001b[1m 270 \u001b[m\u001b[mdormindo,\u001b[m\u001b[m\u001b[1m   0 \u001b[m\u001b[mparado,\u001b[m\u001b[m\u001b[1m   1 \u001b[m\u001b[mzumbi\u001b[m\u001b[m\u001b[m\u001b[m\u001b[K\n",
      "%CPU(s):\u001b[m\u001b[m\u001b[1m 10,3 \u001b[m\u001b[mus,\u001b[m\u001b[m\u001b[1m  5,0 \u001b[m\u001b[msis,\u001b[m\u001b[m\u001b[1m  0,0 \u001b[m\u001b[mni,\u001b[m\u001b[m\u001b[1m 82,6 \u001b[m\u001b[moc,\u001b[m\u001b[m\u001b[1m  0,0 \u001b[m\u001b[mag,\u001b[m\u001b[m\u001b[1m  0,0 \u001b[m\u001b[mih,\u001b[m\u001b[m\u001b[1m  2,0 \u001b[m\u001b[mis\u001b[m\u001b[m\u001b[1m  0,0 \u001b[m\u001b[mtr\u001b[m\u001b[m\u001b[m\u001b[m\u001b[K\n",
      "KB mem :\u001b[m\u001b[m\u001b[1m 16223732 \u001b[m\u001b[mtotal,\u001b[m\u001b[m\u001b[1m 10132004 \u001b[m\u001b[mlivre,\u001b[m\u001b[m\u001b[1m  2452696 \u001b[m\u001b[musados,\u001b[m\u001b[m\u001b[1m  3639032 \u001b[m\u001b[mbuff/cache\u001b[m\u001b[m\u001b[m\u001b[m\u001b[K\n",
      "KB swap:\u001b[m\u001b[m\u001b[1m  2097148 \u001b[m\u001b[mtotal,\u001b[m\u001b[m\u001b[1m  2097148 \u001b[m\u001b[mlivre,\u001b[m\u001b[m\u001b[1m        0 \u001b[m\u001b[musados,\u001b[m\u001b[m\u001b[1m 12967396 \u001b[m\u001b[mmem dispon.\u001b[m\u001b[m\u001b[m\u001b[m\u001b[K\n",
      "\u001b[K\n",
      "\n",
      "\u001b[m\u001b[1m  431 root      20   0  306684 260104   3132 R  81,8  1,6  52:16.80 systemd-ud+ \u001b[m\u001b[m\u001b[K\n",
      "\u001b[m 4054 leleopc   20   0 5323044 492424 102024 S  27,2  3,0  50:08.36 zoom        \u001b[m\u001b[m\u001b[K\n",
      "\u001b[m 3172 leleopc    9 -11 1697092  15724  12272 S   8,3  0,1  15:45.15 pulseaudio  \u001b[m\u001b[m\u001b[K\n",
      "\u001b[m19886 leleopc   20   0 3429068 331508 150096 S   7,6  2,0   0:58.88 firefox     \u001b[m\u001b[m\u001b[K\n",
      "\u001b[m 2949 leleopc   20   0  558384 121844  91384 S   6,0  0,8   6:01.33 Xorg        \u001b[m\u001b[m\u001b[K\n",
      "\u001b[m\u001b[1m 3159 leleopc   20   0 4134620 239108 121028 R   5,0  1,5  10:18.88 gnome-shell \u001b[m\u001b[m\u001b[K\n",
      "\u001b[m19952 leleopc   20   0 3040572 427976 130328 S   5,0  2,6   0:58.01 file:// Co+ \u001b[m\u001b[m\u001b[K\n",
      "\u001b[m 1010 root      20   0 2488564  27204  13408 S   1,7  0,2   2:24.82 snapd       \u001b[m\u001b[m\u001b[K\n",
      "\u001b[m21765 leleopc   20   0  543076  45956  14056 S   1,7  0,3   0:00.89 python      \u001b[m\u001b[m\u001b[K\n",
      "\u001b[m  448 root      20   0   46020   6272   5100 S   1,0  0,0   1:23.51 systemd-ud+ \u001b[m\u001b[m\u001b[K\n",
      "\u001b[m    1 root      20   0  225580   9408   6704 S   0,7  0,1   2:06.33 systemd     \u001b[m\u001b[m\u001b[K\n",
      "\u001b[m  494 root     -51   0       0      0      0 S   0,7  0,0   0:13.05 irq/51-DEL+ \u001b[m\u001b[m\u001b[K\n",
      "\u001b[m    9 root      20   0       0      0      0 S   0,3  0,0   0:01.72 ksoftirqd/0 \u001b[m\u001b[m\u001b[K\n",
      "\u001b[m   10 root      20   0       0      0      0 I   0,3  0,0   0:29.69 rcu_sched   \u001b[m\u001b[m\u001b[K\n",
      "\u001b[m  345 root       0 -20       0      0      0 I   0,3  0,0   0:00.89 kworker/8:+ \u001b[m\u001b[m\u001b[K\n",
      "\u001b[m  361 root       0 -20       0      0      0 I   0,3  0,0   0:00.67 kworker/9:+ \u001b[m\u001b[m\u001b[K\n",
      "\u001b[m  393 root      19  -1  508816 315328 309336 S   0,3  1,9   1:02.27 systemd-jo+ \u001b[m\u001b[m\u001b[K\u001b[H\u001b[mtop - 15:55:07 up  2:43,  1 user,  load average: 4,56, 3,84, 3,69\u001b[m\u001b[m\u001b[m\u001b[m\u001b[K\n",
      "Tarefas:\u001b[m\u001b[m\u001b[1m 367 \u001b[m\u001b[mtotal,\u001b[m\u001b[m\u001b[1m   4 \u001b[m\u001b[mem exec.,\u001b[m\u001b[m\u001b[1m 274 \u001b[m\u001b[mdormindo,\u001b[m\u001b[m\u001b[1m   0 \u001b[m\u001b[mparado,\u001b[m\u001b[m\u001b[1m   1 \u001b[m\u001b[mzumbi\u001b[m\u001b[m\u001b[m\u001b[m\u001b[K\n",
      "%CPU(s):\u001b[m\u001b[m\u001b[1m 11,0 \u001b[m\u001b[mus,\u001b[m\u001b[m\u001b[1m  5,2 \u001b[m\u001b[msis,\u001b[m\u001b[m\u001b[1m  0,0 \u001b[m\u001b[mni,\u001b[m\u001b[m\u001b[1m 81,5 \u001b[m\u001b[moc,\u001b[m\u001b[m\u001b[1m  0,1 \u001b[m\u001b[mag,\u001b[m\u001b[m\u001b[1m  0,0 \u001b[m\u001b[mih,\u001b[m\u001b[m\u001b[1m  2,1 \u001b[m\u001b[mis\u001b[m\u001b[m\u001b[1m  0,0 \u001b[m\u001b[mtr\u001b[m\u001b[m\u001b[m\u001b[m\u001b[K\n",
      "KB mem :\u001b[m\u001b[m\u001b[1m 16223732 \u001b[m\u001b[mtotal,\u001b[m\u001b[m\u001b[1m 10124280 \u001b[m\u001b[mlivre,\u001b[m\u001b[m\u001b[1m  2459832 \u001b[m\u001b[musados,\u001b[m\u001b[m\u001b[1m  3639620 \u001b[m\u001b[mbuff/cache\u001b[m\u001b[m\u001b[m\u001b[m\u001b[K\n",
      "KB swap:\u001b[m\u001b[m\u001b[1m  2097148 \u001b[m\u001b[mtotal,\u001b[m\u001b[m\u001b[1m  2097148 \u001b[m\u001b[mlivre,\u001b[m\u001b[m\u001b[1m        0 \u001b[m\u001b[musados,\u001b[m\u001b[m\u001b[1m 12959872 \u001b[m\u001b[mmem dispon.\u001b[m\u001b[m\u001b[m\u001b[m\u001b[K\n",
      "\u001b[K\n",
      "\n",
      "\u001b[m\u001b[1m  431 root      20   0  306816 260364   3132 R  86,7  1,6  52:19.41 systemd-ud+ \u001b[m\u001b[m\u001b[K\n",
      "\u001b[m 4054 leleopc   20   0 5323044 492424 102024 S  26,9  3,0  50:09.17 zoom        \u001b[m\u001b[m\u001b[K\n",
      "\u001b[m 3172 leleopc    9 -11 1697092  15724  12272 S   7,6  0,1  15:45.38 pulseaudio  \u001b[m\u001b[m\u001b[K\n",
      "\u001b[m19886 leleopc   20   0 3429420 331532 150096 S   7,0  2,0   0:59.09 firefox     \u001b[m\u001b[m\u001b[K\n",
      "\u001b[m 2949 leleopc   20   0  558384 121844  91384 S   6,0  0,8   6:01.51 Xorg        \u001b[m\u001b[m\u001b[K\n",
      "\u001b[m 3159 leleopc   20   0 4134616 238844 121024 S   6,0  1,5  10:19.06 gnome-shell \u001b[m\u001b[m\u001b[K\n",
      "\u001b[m19952 leleopc   20   0 3040924 428524 130740 S   5,3  2,6   0:58.17 file:// Co+ \u001b[m\u001b[m\u001b[K\n",
      "\u001b[m 1010 root      20   0 2488564  27204  13408 S   2,0  0,2   2:24.88 snapd       \u001b[m\u001b[m\u001b[K\n",
      "\u001b[m21765 leleopc   20   0  543076  45956  14056 S   1,3  0,3   0:00.93 python      \u001b[m\u001b[m\u001b[K\n",
      "\u001b[m  448 root      20   0   46020   6272   5100 S   1,0  0,0   1:23.54 systemd-ud+ \u001b[m\u001b[m\u001b[K\n",
      "\u001b[m  494 root     -51   0       0      0      0 D   1,0  0,0   0:13.08 irq/51-DEL+ \u001b[m\u001b[m\u001b[K\n",
      "\u001b[m    1 root      20   0  225580   9408   6704 S   0,7  0,1   2:06.35 systemd     \u001b[m\u001b[m\u001b[K\n",
      "\u001b[m  393 root      19  -1  508816 315368 309376 S   0,7  1,9   1:02.29 systemd-jo+ \u001b[m\u001b[m\u001b[K\n",
      "\u001b[m  457 root      20   0   46020   5084   3904 S   0,7  0,0   0:46.21 systemd-ud+ \u001b[m\u001b[m\u001b[K\n",
      "\u001b[m\u001b[1m 8938 root      20   0   31852    840    780 R   0,7  0,0   0:00.02 modprobe    \u001b[m\u001b[m\u001b[K\n",
      "\u001b[m20295 root      20   0       0      0      0 D   0,7  0,0   0:02.88 kworker/u2+ \u001b[m\u001b[m\u001b[K\n",
      "\u001b[m   10 root      20   0       0      0      0 I   0,3  0,0   0:29.70 rcu_sched   \u001b[m\u001b[m\u001b[K\u001b[H\u001b[mtop - 15:55:10 up  2:43,  1 user,  load average: 4,56, 3,84, 3,69\u001b[m\u001b[m\u001b[m\u001b[m\u001b[K\n",
      "\n",
      "%CPU(s):\u001b[m\u001b[m\u001b[1m 11,1 \u001b[m\u001b[mus,\u001b[m\u001b[m\u001b[1m  5,3 \u001b[m\u001b[msis,\u001b[m\u001b[m\u001b[1m  0,0 \u001b[m\u001b[mni,\u001b[m\u001b[m\u001b[1m 82,0 \u001b[m\u001b[moc,\u001b[m\u001b[m\u001b[1m  0,0 \u001b[m\u001b[mag,\u001b[m\u001b[m\u001b[1m  0,0 \u001b[m\u001b[mih,\u001b[m\u001b[m\u001b[1m  1,6 \u001b[m\u001b[mis\u001b[m\u001b[m\u001b[1m  0,0 \u001b[m\u001b[mtr\u001b[m\u001b[m\u001b[m\u001b[m\u001b[K\n",
      "KB mem :\u001b[m\u001b[m\u001b[1m 16223732 \u001b[m\u001b[mtotal,\u001b[m\u001b[m\u001b[1m 10124412 \u001b[m\u001b[mlivre,\u001b[m\u001b[m\u001b[1m  2459408 \u001b[m\u001b[musados,\u001b[m\u001b[m\u001b[1m  3639912 \u001b[m\u001b[mbuff/cache\u001b[m\u001b[m\u001b[m\u001b[m\u001b[K\n",
      "KB swap:\u001b[m\u001b[m\u001b[1m  2097148 \u001b[m\u001b[mtotal,\u001b[m\u001b[m\u001b[1m  2097148 \u001b[m\u001b[mlivre,\u001b[m\u001b[m\u001b[1m        0 \u001b[m\u001b[musados,\u001b[m\u001b[m\u001b[1m 12960148 \u001b[m\u001b[mmem dispon.\u001b[m\u001b[m\u001b[m\u001b[m\u001b[K\n",
      "\u001b[K\n",
      "\n",
      "\u001b[m\u001b[1m  431 root      20   0  306948 260364   3132 R  81,7  1,6  52:21.87 systemd-ud+ \u001b[m\u001b[m\u001b[K\n",
      "\u001b[m 4054 leleopc   20   0 5323044 492424 102024 S  28,2  3,0  50:10.02 zoom        \u001b[m\u001b[m\u001b[K\n",
      "\u001b[m19886 leleopc   20   0 3429404 334592 153028 S   9,0  2,1   0:59.36 firefox     \u001b[m\u001b[m\u001b[K\n",
      "\u001b[m 3172 leleopc    9 -11 1697092  15724  12272 S   8,6  0,1  15:45.64 pulseaudio  \u001b[m\u001b[m\u001b[K\n",
      "\u001b[m 2949 leleopc   20   0  558384 121844  91384 S   6,6  0,8   6:01.71 Xorg        \u001b[m\u001b[m\u001b[K\n",
      "\u001b[m19952 leleopc   20   0 3040924 428780 130740 S   6,0  2,6   0:58.35 file:// Co+ \u001b[m\u001b[m\u001b[K\n",
      "\u001b[m 3159 leleopc   20   0 4134620 238848 121028 S   5,6  1,5  10:19.23 gnome-shell \u001b[m\u001b[m\u001b[K\n",
      "\u001b[m    1 root      20   0  225580   9408   6704 S   1,3  0,1   2:06.39 systemd     \u001b[m\u001b[m\u001b[K\n",
      "\u001b[m 1010 root      20   0 2488564  27204  13408 S   1,3  0,2   2:24.92 snapd       \u001b[m\u001b[m\u001b[K\n",
      "\u001b[m21765 leleopc   20   0  543076  45956  14056 S   1,3  0,3   0:00.97 python      \u001b[m\u001b[m\u001b[K\n",
      "\u001b[m  494 root     -51   0       0      0      0 S   1,0  0,0   0:13.11 irq/51-DEL+ \u001b[m\u001b[m\u001b[K\n",
      "\u001b[m  393 root      19  -1  508816 315472 309476 S   0,7  1,9   1:02.31 systemd-jo+ \u001b[m\u001b[m\u001b[K\n",
      "\u001b[m  448 root      20   0   46020   6272   5100 S   0,7  0,0   1:23.56 systemd-ud+ \u001b[m\u001b[m\u001b[K\n",
      "\u001b[m  465 root      20   0   46276   5620   4320 S   0,7  0,0   1:13.68 systemd-ud+ \u001b[m\u001b[m\u001b[K\n",
      "\u001b[m\u001b[1m 8250 leleopc   20   0   51564   4244   3452 R   0,7  0,0   0:00.15 top         \u001b[m\u001b[m\u001b[K\n",
      "\u001b[m   10 root      20   0       0      0      0 I   0,3  0,0   0:29.71 rcu_sched   \u001b[m\u001b[m\u001b[K\n"
     ]
    },
    {
     "name": "stdout",
     "output_type": "stream",
     "text": [
      "\u001b[m   95 root      20   0       0      0      0 D   0,3  0,0   0:01.22 kworker/9:+ \u001b[m\u001b[m\u001b[K\u001b[?1l\u001b>\u001b[25;1H\r\n",
      "\u001b[K"
     ]
    }
   ],
   "source": [
    "!top"
   ]
  },
  {
   "cell_type": "code",
   "execution_count": null,
   "metadata": {},
   "outputs": [],
   "source": []
  }
 ],
 "metadata": {
  "celltoolbar": "Slideshow",
  "kernelspec": {
   "display_name": "Python [conda env:Env1] *",
   "language": "python",
   "name": "conda-env-Env1-py"
  },
  "language_info": {
   "codemirror_mode": {
    "name": "ipython",
    "version": 3
   },
   "file_extension": ".py",
   "mimetype": "text/x-python",
   "name": "python",
   "nbconvert_exporter": "python",
   "pygments_lexer": "ipython3",
   "version": "3.7.1"
  }
 },
 "nbformat": 4,
 "nbformat_minor": 2
}
