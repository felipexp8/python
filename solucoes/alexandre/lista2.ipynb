{
 "cells": [
  {
   "cell_type": "markdown",
   "metadata": {},
   "source": [
    "ExercÃ­cios\n",
    "\n",
    "### 1 Escreva um programa que, dados 2 números diferentes (a e b), encontre o menor deles."
   ]
  },
  {
   "cell_type": "markdown",
   "metadata": {},
   "source": [
    "**Solução:**"
   ]
  },
  {
   "cell_type": "code",
   "execution_count": 2,
   "metadata": {},
   "outputs": [
    {
     "name": "stdout",
     "output_type": "stream",
     "text": [
      "a é maior\n"
     ]
    }
   ],
   "source": [
    "a = 2\n",
    "b = 1\n",
    "\n",
    "if (a>b):\n",
    "    print(\"a é maior\")\n",
    "else:\n",
    "    print(\"b é maior\")"
   ]
  },
  {
   "cell_type": "markdown",
   "metadata": {},
   "source": [
    "### 2 Para doar sangue é necessário:\n",
    "* Ter entre 16 e 69 anos.\n",
    "* Pesar mais de 50 kg.\n",
    "* Estar descansado (ter dormido pelo menos 6 horas nas últimas 24 horas).\n",
    "\n",
    "Faça um programa que pergunte a idade, o peso e quanto dormiu nas últimas 24 h para uma pessoa e diga se ela pode doar sangue ou não."
   ]
  },
  {
   "cell_type": "markdown",
   "metadata": {},
   "source": [
    "**Solução:**"
   ]
  },
  {
   "cell_type": "code",
   "execution_count": 6,
   "metadata": {},
   "outputs": [
    {
     "name": "stdout",
     "output_type": "stream",
     "text": [
      "Digite sua idade: 16\n",
      "Digite seu peso: 50\n",
      "Digite quantas horas você dormiu nas últimas 24 horas? 6\n",
      "Você pode doar sangue.\n"
     ]
    }
   ],
   "source": [
    "idade = int(input(\"Digite sua idade: \"))\n",
    "peso = float(input(\"Digite seu peso: \"))\n",
    "sono = float(input(\"Digite quantas horas você dormiu nas últimas 24 horas? \"))\n",
    "\n",
    "if idade>=16 and idade<69 and peso>=50 and sono>=6:\n",
    "    print(\"Você pode doar sangue.\")\n",
    "else:\n",
    "    print(\"Você não pode doar sangue.\")"
   ]
  },
  {
   "cell_type": "markdown",
   "metadata": {},
   "source": [
    "### 3 Considere uma equação do segundo grau f(x)=ax^2+bx+c. A partir dos coeficientes, determine se a equação possui duas raízes reais, uma, ou se não possui."
   ]
  },
  {
   "cell_type": "markdown",
   "metadata": {},
   "source": [
    "**Solução:**"
   ]
  },
  {
   "cell_type": "code",
   "execution_count": 12,
   "metadata": {},
   "outputs": [
    {
     "name": "stdout",
     "output_type": "stream",
     "text": [
      "Digite os coeficientes a, b e c de uma equação de segundo grau (ax^2+bx+c): \n",
      "Coeficiente a: 2\n",
      "Coeficiente b: 5\n",
      "Coeficiente c: 1\n",
      "A equação tem duas raízes.\n"
     ]
    }
   ],
   "source": [
    "print(\"Digite os coeficientes a, b e c de uma equação de segundo grau (ax^2+bx+c): \")\n",
    "a = float(input(\"Coeficiente a: \"))\n",
    "b = float(input(\"Coeficiente b: \"))\n",
    "c = float(input(\"Coeficiente c: \"))\n",
    "delta = b*b-4*a*c\n",
    "if delta>0:\n",
    "    print(\"A equação tem duas raízes.\")\n",
    "elif delta==0:\n",
    "    print(\"A equação tem uma raiz.\")\n",
    "else:\n",
    "    print(\"A equação tem raízes complexas.\")"
   ]
  },
  {
   "cell_type": "markdown",
   "metadata": {},
   "source": [
    "### 4 Leia dois números e efetue a adição. Caso o valor somado seja maior que 20, este deverá ser apresentado somando-se a ele mais 8; caso o valor somado seja menor ou igual a 20, este deverá ser apresentado subtraindo-se 5."
   ]
  },
  {
   "cell_type": "markdown",
   "metadata": {},
   "source": [
    "**Solução:**"
   ]
  },
  {
   "cell_type": "code",
   "execution_count": 13,
   "metadata": {},
   "outputs": [
    {
     "name": "stdout",
     "output_type": "stream",
     "text": [
      "Digite um número: 5\n",
      "Digite outro número: 7\n",
      "7.0\n"
     ]
    }
   ],
   "source": [
    "a = float(input(\"Digite um número: \"))\n",
    "b = float(input(\"Digite outro número: \"))\n",
    "\n",
    "soma = a+b\n",
    "\n",
    "if soma>20:\n",
    "    soma += 8\n",
    "else:\n",
    "    soma -= 5\n",
    "    \n",
    "print(soma)"
   ]
  },
  {
   "cell_type": "markdown",
   "metadata": {},
   "source": [
    "### 5 Leia um número e imprima a raiz quadrada do número caso ele seja positivo ou igual a zero e o quadrado do número caso ele seja negativo."
   ]
  },
  {
   "cell_type": "markdown",
   "metadata": {},
   "source": [
    "**Solução:**"
   ]
  },
  {
   "cell_type": "code",
   "execution_count": 16,
   "metadata": {},
   "outputs": [
    {
     "name": "stdout",
     "output_type": "stream",
     "text": [
      "Digite um número:-5\n",
      "25.0\n"
     ]
    }
   ],
   "source": [
    "import math\n",
    "\n",
    "num = float(input(\"Digite um número:\"))\n",
    "\n",
    "if num>=0:\n",
    "    print(math.sqrt(num))\n",
    "else:\n",
    "    print(num*num)"
   ]
  },
  {
   "cell_type": "markdown",
   "metadata": {},
   "source": [
    "### 6 Leia um número inteiro entre 1 e 12 e escreva o mês correspondente. Caso o usuário digite um número fora desse intervalo, deverá aparecer uma mensagem informando que não existe mês com este número."
   ]
  },
  {
   "cell_type": "code",
   "execution_count": 18,
   "metadata": {},
   "outputs": [
    {
     "name": "stdout",
     "output_type": "stream",
     "text": [
      "Digite um número:5\n",
      "Maio\n"
     ]
    }
   ],
   "source": [
    "a = int(input(\"Digite um número:\"))\n",
    "\n",
    "if a==1:\n",
    "    print(\"Janeiro\")\n",
    "elif a==2:\n",
    "    print(\"Fevereiro\")\n",
    "elif a==3:\n",
    "    print(\"Março\")\n",
    "elif a==4:\n",
    "    print(\"Abril\")\n",
    "elif a==5:\n",
    "    print(\"Maio\")\n",
    "elif a==6:\n",
    "    print(\"Junho\")\n",
    "elif a==7:\n",
    "    print(\"Julho\")\n",
    "elif a==8:\n",
    "    print(\"Agosto\")\n",
    "elif a==9:\n",
    "    print(\"Setembro\")\n",
    "elif a==10:\n",
    "    print(\"Outubro\")\n",
    "elif a==11:\n",
    "    print(\"Novembro\")\n",
    "elif a==12:\n",
    "    print(\"Dezembro\")\n",
    "else:\n",
    "    print(\"Não corresponde a um mÊs\")"
   ]
  }
 ],
 "metadata": {
  "kernelspec": {
   "display_name": "Python [conda env:python_practice] *",
   "language": "python",
   "name": "conda-env-python_practice-py"
  },
  "language_info": {
   "codemirror_mode": {
    "name": "ipython",
    "version": 3
   },
   "file_extension": ".py",
   "mimetype": "text/x-python",
   "name": "python",
   "nbconvert_exporter": "python",
   "pygments_lexer": "ipython3",
   "version": "3.7.4"
  }
 },
 "nbformat": 4,
 "nbformat_minor": 2
}
