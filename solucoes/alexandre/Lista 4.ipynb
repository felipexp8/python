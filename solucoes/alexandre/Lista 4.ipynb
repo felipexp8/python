{
 "cells": [
  {
   "cell_type": "markdown",
   "metadata": {},
   "source": [
    "# Atividade 4 - Python"
   ]
  },
  {
   "cell_type": "markdown",
   "metadata": {},
   "source": [
    "## Alexandre Marcondes"
   ]
  },
  {
   "cell_type": "markdown",
   "metadata": {},
   "source": [
    "### 1: What will be the output of the following program?\n",
    "\n",
    "```\n",
    "x = [0, 1, [2]]\n",
    "x[2][0] = 3\n",
    "print (x)\n",
    "x[2].append(4)\n",
    "print (x)\n",
    "x[2] = 2\n",
    "print (x)\n",
    "```\n",
    "\n",
    "**Solução:**\n",
    "\n",
    "Em cada print o último termo da lista é substituido por outro termo."
   ]
  },
  {
   "cell_type": "code",
   "execution_count": 2,
   "metadata": {},
   "outputs": [
    {
     "name": "stdout",
     "output_type": "stream",
     "text": [
      "[0, 1, [3]]\n",
      "[0, 1, [3, 4]]\n",
      "[0, 1, 2]\n"
     ]
    }
   ],
   "source": [
    "x = [0, 1, [2]]\n",
    "x[2][0] = 3\n",
    "print (x)\n",
    "x[2].append(4)\n",
    "print (x)\n",
    "x[2] = 2\n",
    "print (x)"
   ]
  },
  {
   "cell_type": "markdown",
   "metadata": {},
   "source": [
    "# 2. Python has a built-in function `sum` to find sum of all elements of a list. Provide an implementation for sum."
   ]
  },
  {
   "cell_type": "code",
   "execution_count": 8,
   "metadata": {},
   "outputs": [
    {
     "name": "stdout",
     "output_type": "stream",
     "text": [
      "44\n"
     ]
    }
   ],
   "source": [
    "def my_sum(lst):\n",
    "    soma = 0\n",
    "    for element in lst:\n",
    "        soma+=element\n",
    "    return soma\n",
    "\n",
    "lista = [0, 5, 8, 7, 8, 7, 9]\n",
    "print(my_sum(lista))"
   ]
  },
  {
   "cell_type": "markdown",
   "metadata": {},
   "source": [
    "# 3. What happens when the above sum function is called with a list of strings? Can you make your sum function work for a list of strings as well."
   ]
  },
  {
   "cell_type": "markdown",
   "metadata": {},
   "source": [
    "A função `sum()` do Python não permite a soma de strings. Porém, nossa função `my+sum()` pode permitir, como apresentado abaixo:"
   ]
  },
  {
   "cell_type": "code",
   "execution_count": 20,
   "metadata": {},
   "outputs": [
    {
     "name": "stdout",
     "output_type": "stream",
     "text": [
      "Olá, tudo bem?\n"
     ]
    }
   ],
   "source": [
    "def my_sum(lst):\n",
    "    soma = lst[0]\n",
    "    for i in range(1, len(lst)):\n",
    "        soma += lst[i]\n",
    "    return soma\n",
    "\n",
    "lista = [\"Olá, \", \"tudo \", \"bem?\"]\n",
    "print(my_sum(lista))"
   ]
  },
  {
   "cell_type": "markdown",
   "metadata": {},
   "source": [
    "# 4.  Implement a function product, to compute product of a list of numbers."
   ]
  },
  {
   "cell_type": "code",
   "execution_count": 24,
   "metadata": {},
   "outputs": [
    {
     "name": "stdout",
     "output_type": "stream",
     "text": [
      "70\n"
     ]
    }
   ],
   "source": [
    "def my_prod(lst):\n",
    "    if len(lst)>1:\n",
    "        prod = 1\n",
    "        for element in lst:\n",
    "            prod=prod*element\n",
    "    else:\n",
    "        prod = \"Lista com somente um elemento.\"\n",
    "    return prod\n",
    "\n",
    "lista = [1, 2, 5, 7]\n",
    "print(my_prod(lista))"
   ]
  },
  {
   "cell_type": "markdown",
   "metadata": {},
   "source": [
    "# 5. Write a function factorial to compute factorial of a number. Can you use the product function defined in the previous example to compute factorial?"
   ]
  },
  {
   "cell_type": "markdown",
   "metadata": {},
   "source": [
    "Sim, é possível utilizar a função `product` para o cálculo do fatorial."
   ]
  },
  {
   "cell_type": "code",
   "execution_count": 31,
   "metadata": {},
   "outputs": [
    {
     "name": "stdout",
     "output_type": "stream",
     "text": [
      "Digite um número: 10\n",
      "Fatorial:  3628800\n"
     ]
    }
   ],
   "source": [
    "def my_fact(num):\n",
    "    if num==0:\n",
    "        fact = 1\n",
    "    elif num>0:\n",
    "        fact = 1\n",
    "        for i in range(2, num+1):\n",
    "            fact=fact*i\n",
    "    else:\n",
    "        fact = \"Número inválido\"\n",
    "    return fact\n",
    "\n",
    "a = int(input(\"Digite um número: \"))\n",
    "print(\"Fatorial: \", my_fact(a))"
   ]
  },
  {
   "cell_type": "markdown",
   "metadata": {},
   "source": [
    "# 6. Write a function `reverse` to reverse a list. Can you do this without using list slicing? "
   ]
  },
  {
   "cell_type": "markdown",
   "metadata": {},
   "source": [
    "Sim, é possível fazer utilizando `while`, sem utilizar slice."
   ]
  },
  {
   "cell_type": "code",
   "execution_count": 34,
   "metadata": {},
   "outputs": [
    {
     "name": "stdout",
     "output_type": "stream",
     "text": [
      "[5, 4, 3, 2, 1, 0]\n"
     ]
    }
   ],
   "source": [
    "def reverse(lst):\n",
    "    i = len(lst)\n",
    "    rvlist = []\n",
    "    while i>0:\n",
    "        rvlist.append(lst[i-1])\n",
    "        i+=-1\n",
    "    return rvlist\n",
    "lista = [0, 1, 2, 3, 4, 5]\n",
    "print(reverse(lista))"
   ]
  },
  {
   "cell_type": "markdown",
   "metadata": {},
   "source": [
    "Porém, utilizar slicing facilita o procedimento."
   ]
  },
  {
   "cell_type": "code",
   "execution_count": 59,
   "metadata": {},
   "outputs": [
    {
     "name": "stdout",
     "output_type": "stream",
     "text": [
      "[5, 4, 3, 2, 1, 0]\n"
     ]
    }
   ],
   "source": [
    "def reverse(lst):\n",
    "    rvlist = lst[::-1]\n",
    "    return rvlist\n",
    "lista = [0, 1, 2, 3, 4, 5]\n",
    "print(reverse(lista))"
   ]
  },
  {
   "cell_type": "markdown",
   "metadata": {},
   "source": [
    "# 7. Python has built-in functions min and max to compute minimum and maximum of a given list. Provide an implementation for these functions. What happens when you call your min and max functions with a list of strings?"
   ]
  },
  {
   "cell_type": "code",
   "execution_count": 69,
   "metadata": {},
   "outputs": [
    {
     "name": "stdout",
     "output_type": "stream",
     "text": [
      "Valor máximo:  a\n",
      "Valor mínimo:  3\n"
     ]
    }
   ],
   "source": [
    "def find_max(lst):\n",
    "    maxvalue = lst[0]\n",
    "    for element in lst[1:]:\n",
    "        if element>maxvalue:\n",
    "            maxvalue = element\n",
    "    return maxvalue\n",
    "\n",
    "def find_min(lst):\n",
    "    minvalue = lst[0]\n",
    "    for element in lst[1:]:\n",
    "        if element<minvalue:\n",
    "            minvalue = element\n",
    "    return minvalue\n",
    "\n",
    "lista = [\"a\", \"=\", \"3\"]\n",
    "print(\"Valor máximo: \", find_max(lista))\n",
    "print(\"Valor mínimo: \", find_min(lista))"
   ]
  },
  {
   "cell_type": "markdown",
   "metadata": {},
   "source": [
    "Quando colocamos listas com strings a ordenação é realizada segundo o código ASCII."
   ]
  },
  {
   "cell_type": "markdown",
   "metadata": {},
   "source": [
    "# 8.  Cumulative sum of a list `[a, b, c, ...]` is defined as `[a, a+b, a+b+c, ...]`. Write a function cumulative_sum to compute cumulative sum of a list. Does your implementation work for a list of strings?"
   ]
  },
  {
   "cell_type": "code",
   "execution_count": 81,
   "metadata": {},
   "outputs": [
    {
     "name": "stdout",
     "output_type": "stream",
     "text": [
      "23\n",
      "abc\n"
     ]
    }
   ],
   "source": [
    "def cumulative_sum(lst):\n",
    "    soma = lst[0]\n",
    "    for i in range(1,len(lst)):\n",
    "        soma = soma+lst[i]\n",
    "    return soma\n",
    "\n",
    "lista = [8, 1, 2, 3, 4, 5]\n",
    "str_lista = [\"a\", \"b\", \"c\"]\n",
    "print(cumulative_sum(lista))\n",
    "print(cumulative_sum(str_lista))"
   ]
  },
  {
   "cell_type": "markdown",
   "metadata": {},
   "source": [
    "Da maneira que foi implementada, a função funciona também para strings. Porém, a lista não pode misturar elementos de diferentes tipos."
   ]
  },
  {
   "cell_type": "markdown",
   "metadata": {},
   "source": [
    "# 9. Write a function `cumulative_product` to compute cumulative product of a list of numbers."
   ]
  },
  {
   "cell_type": "code",
   "execution_count": 85,
   "metadata": {},
   "outputs": [
    {
     "name": "stdout",
     "output_type": "stream",
     "text": [
      "240\n"
     ]
    }
   ],
   "source": [
    "def cumulative_product(lst):\n",
    "    product = 1\n",
    "    for element in lst:\n",
    "        product *=element\n",
    "    return product\n",
    "\n",
    "lista = [2, 1, 2, 3, 4, 5]\n",
    "print(cumulative_product(lista))"
   ]
  },
  {
   "cell_type": "markdown",
   "metadata": {},
   "source": [
    "# 10. Write a function `unique` to find all the unique elements of a list."
   ]
  },
  {
   "cell_type": "code",
   "execution_count": 7,
   "metadata": {},
   "outputs": [
    {
     "name": "stdout",
     "output_type": "stream",
     "text": [
      "[4, 2, 1, 3, 5, 85, 10]\n"
     ]
    }
   ],
   "source": [
    "def unique(lst, key = lambda lst:squared(lst)):\n",
    "    unique_list = [lst[0]]\n",
    "    for i in lst:\n",
    "        unique_check = 0\n",
    "        for j in unique_list:\n",
    "            if i==j:\n",
    "                unique_check = 1\n",
    "        if unique_check==0:\n",
    "            unique_list.append(i)\n",
    "    return unique_list\n",
    "            \n",
    "lista = [4, 2, 1, 1, 1, 1, 2, 3, 4, 5, 3, 5, 1, 85, 10]\n",
    "print(unique(lista))"
   ]
  },
  {
   "cell_type": "markdown",
   "metadata": {},
   "source": [
    "# 11. Write a function `dups` to find all duplicates in the list."
   ]
  },
  {
   "cell_type": "code",
   "execution_count": 115,
   "metadata": {},
   "outputs": [
    {
     "name": "stdout",
     "output_type": "stream",
     "text": [
      "[5, 2, 85]\n"
     ]
    }
   ],
   "source": [
    "def dups(lst):\n",
    "    dups_list = []\n",
    "    for i in range(0, len(lst)): #Compara cada elemento com o restante da lista\n",
    "        already_in = 0\n",
    "        dups_cgroupheck = 0\n",
    "        for k in range(0, len(dups_list)): #Verificada se o elemento já está presente na lista de duplicados\n",
    "            if lst[i]==dups_list[k]:\n",
    "                already_in = 1\n",
    "        if already_in==0: #Caso não esteja na lista de duplicados, verifica se o elemento é duplicado\n",
    "            for j in range(0, i):\n",
    "                if lst[i]==lst[j]:\n",
    "                    dups_check = 1\n",
    "                    break\n",
    "            if dups_check==0:    \n",
    "                for j in range(i+1,len(lst)):\n",
    "                    if lst[i]==lst[j]:\n",
    "        group                dups_check = 1\n",
    "                        break\n",
    "            if dups_check==1:\n",
    "                dups_list.append(lst[i]) #Adiciona o elemento duplicado na lsita de duplicados\n",
    "    return dups_list\n",
    "            \n",
    "lista = [5, 2, 3, 85, 10, 5, 2, 85, 100]\n",
    "print(dups(lista))"
   ]
  },
  {
   "cell_type": "markdown",
   "metadata": {},
   "source": [
    "# 12. Write a function `group(list, size)` that take a list and splits into smaller lists of given size."
   ]
  },
  {
   "cell_type": "code",
   "execution_count": 53,
   "metadata": {},
   "outputs": [
    {
     "name": "stdout",
     "output_type": "stream",
     "text": [
      "[[1, 2, 3, 4, 5], [6, 7]]\n"
     ]
    }
   ],
   "source": [
    "def group(lst, size):\n",
    "    new_list = []\n",
    "    count = int(len(lst)/size)+1\n",
    "    k = 0\n",
    "  def unique(lst):\n",
    "    unique_list = []\n",
    "    unique_check = 0\n",
    "    for i in range(0, len(lst)):\n",
    "        unique_check = 0\n",
    "        for j in range(0, i):\n",
    "            if lst[i]==lst[j]:\n",
    "                unique_check = 1\n",
    "                break\n",
    "        if unique_check==0:    \n",
    "            for j in range(i+1,len(lst)):\n",
    "                if lst[i]==lst[j]:\n",
    "                    unique_check = 1\n",
    "                    break\n",
    "        if unique_check==0:\n",
    "            unique_list.append(lst[i])\n",
    "    return unique_list\n",
    "            \n",
    "lista = [4, 2, 1, 2, 3, 4, 5, 3, 5, 1, 85, 10]\n",
    "print(unique(lista))  small_list = []\n",
    "    for j in range(0, len(lst)):\n",
    "        small_list.append(lst[j])\n",
    "        k = k+1\n",
    "        if j==len(lst)-1:\n",
    "            new_list.append(small_list)\n",
    "            break\n",
    "        elif k==size:\n",
    "            k = 0\n",
    "            new_list.append(small_list)\n",
    "            small_list = []\n",
    "    return new_list\n",
    "        \n",
    "lista = [1, 2, 3, 4, 5, 6, 7]\n",
    "tamanho = 5\n",
    "print(group(lista, tamanho))\n",
    "    "
   ]
  },
  {
   "cell_type": "markdown",
   "metadata": {},
   "source": [
    "# 14. Write a function `lensort` to sort a list of strings based on length."
   ]
  },
  {
   "cell_type": "code",
   "execution_count": 22,
   "metadata": {},
   "outputs": [
    {
     "name": "stdout",
     "output_type": "stream",
     "text": [
      "['ola', 'Abacate', 'olá gente']\n"
     ]
    }
   ],
   "source": [
    "def lensort(str_list):\n",
    "    str_list.sort(key=len)\n",
    "    return str_list\n",
    "\n",
    "lista = [\"olá gente\", \"ola\", \"Abacate\"]\n",
    "print(lensort(lista))"
   ]
  },
  {
   "cell_type": "markdown",
   "metadata": {},
   "source": [
    "# 15. Improve the `unique` function written in previous problems to take an optional key function as argument and use the return value of the key function to check for uniqueness."
   ]
  },
  {
   "cell_type": "code",
   "execution_count": 23,
   "metadata": {},
   "outputs": [
    {
     "name": "stdout",
     "output_type": "stream",
     "text": [
      "['Python', 'PyThon', 'oi', 'OI']\n"
     ]
    }
   ],
   "source": [
    "import numpy as np\n",
    "\n",
    "def unique(lst, key):\n",
    "    unique_list = [lst[0]]\n",
    "    for i in lst:\n",
    "        unique_check = 0\n",
    "        for j in unique_list:\n",
    "            if i==j:\n",
    "                unique_check = 1\n",
    "        if unique_check==0:\n",
    "            unique_list.append(i)\n",
    "    return unique_list\n",
    "\n",
    "lista = [\"Python\", \"PyThon\", \"oi\", \"OI\"]\n",
    "#  print(squaraed(lista))\n",
    "print(unique(lista, key=lambda lst:lst.lower()))"
   ]
  },
  {
   "cell_type": "markdown",
   "metadata": {},
   "source": [
    "# Problem 16: Reimplement the unique function implemented in the earlier examples using sets."
   ]
  },
  {
   "cell_type": "code",
   "execution_count": 218,
   "metadata": {},
   "outputs": [
    {
     "name": "stdout",
     "output_type": "stream",
     "text": [
      "{'Python', 'PyThon', 'OI', 'oi'}\n"
     ]
    }
   ],
   "source": [
    "print(set(lista))\n",
    "\n",
    "lista = [\"Python\", \"PyThon\", \"oi\", \"OI\", \"PyThon\", \"oi\", \"OI\"]"
   ]
  },
  {
   "cell_type": "markdown",
   "metadata": {},
   "source": [
    "# Problem 17: Write a function `extsort` to sort a list of files based on extension."
   ]
  },
  {
   "cell_type": "code",
   "execution_count": 30,
   "metadata": {},
   "outputs": [
    {
     "name": "stdout",
     "output_type": "stream",
     "text": [
      "['a.c', 'x.c', 'a.py', 'b.py', 'bar.txt', 'foo.txt']\n"
     ]
    }
   ],
   "source": [
    "def take_second(item):\n",
    "    return item[1]\n",
    "\n",
    "\n",
    "def extsort(lst):\n",
    "    splist = []\n",
    "    outlist = []\n",
    "    for item in lst:\n",
    "        splist.append(item.split(\".\"))\n",
    "    splist.sort(key=take_second)\n",
    "    for i in range(0, len(splist)):\n",
    "        outlist.append(splist[i][0]+\".\"+splist[i][1])\n",
    "    return outlist\n",
    "\n",
    "\n",
    "\n",
    "\n",
    "\n",
    "flist = [\"a.c\", \"a.py\", \"b.py\", \"bar.txt\", \"foo.txt\", \"x.c\"]\n",
    "print(extsort(flist))"
   ]
  },
  {
   "cell_type": "markdown",
   "metadata": {},
   "source": [
    "# Problem 18: Write a program `reverse.py` to print lines of a file in reverse order."
   ]
  },
  {
   "cell_type": "code",
   "execution_count": 30,
   "metadata": {},
   "outputs": [
    {
     "name": "stdout",
     "output_type": "stream",
     "text": [
      "I'm sure that the shells are seashore shells.\n",
      "\n",
      "So if she sells seashells on the seashore,\n",
      "\n",
      "The shells that she sells are seashells I'm sure.\n",
      "\n",
      "She sells seashells on the seashore;\n",
      "\n"
     ]
    }
   ],
   "source": [
    "def reverse(file):\n",
    "    with open(file, \"r\") as f:\n",
    "        lines = f.readlines()\n",
    "    i = len(lines)-1\n",
    "    while i>=0:\n",
    "        print(lines[i])\n",
    "        i -= 1\n",
    "\n",
    "inputfile = \"she.txt\"\n",
    "reverse(inputfile)"
   ]
  },
  {
   "cell_type": "markdown",
   "metadata": {},
   "source": [
    "# Problem 19: Write a program to print each line of a file in reverse order."
   ]
  },
  {
   "cell_type": "code",
   "execution_count": 54,
   "metadata": {},
   "outputs": [
    {
     "name": "stdout",
     "output_type": "stream",
     "text": [
      "['She sells seashells on the seashore;\\n', \"The shells that she sells are seashells I'm sure.\\n\", 'So if she sells seashells on the seashore,\\n', \"I'm sure that the shells are seashore shells.\\n\"]\n",
      "seashore the on seashells sells She\n",
      "sure I'm seashells are sells she that shells The\n",
      "seashore the on seashells sells she if So\n",
      "shells seashore are shells the that sure I'm\n"
     ]
    }
   ],
   "source": [
    "def reverse_lines(file):\n",
    "    with open(file, \"r\") as f:\n",
    "        lines = f.readlines()\n",
    "    for line in lines:\n",
    "        line = line.split(\" \")\n",
    "        last = line[-1][0:-2]\n",
    "        line[-1] = last\n",
    "        line = \" \".join(reversed(line))\n",
    "        print(line)\n",
    "\n",
    "\n",
    "\n",
    "inputfile = \"she.txt\"\n",
    "reverse_lines(inputfile)"
   ]
  },
  {
   "cell_type": "markdown",
   "metadata": {},
   "source": [
    "# Problem 20: Implement unix commands `head` and `tail`. The `head` and `tail` commands take a file as argument and prints its first and last 10 lines of the file respectively."
   ]
  },
  {
   "cell_type": "code",
   "execution_count": 60,
   "metadata": {},
   "outputs": [
    {
     "name": "stdout",
     "output_type": "stream",
     "text": [
      "Esta é a linha 1\n",
      "\n",
      "Esta é a linha 2\n",
      "\n",
      "Esta é a linha 3\n",
      "\n",
      "Esta é a linha 4\n",
      "\n",
      "Esta é a linha 5\n",
      "\n",
      "Esta é a linha 6\n",
      "\n",
      "Esta é a linha 7\n",
      "\n",
      "Esta é a linha 8\n",
      "\n",
      "Esta é a linha 9\n",
      "\n",
      "Esta é a linha 10\n",
      "\n",
      "Esta é a linha 30\n",
      "\n",
      "Esta é a linha 29\n",
      "\n",
      "Esta é a linha 28\n",
      "\n",
      "Esta é a linha 27\n",
      "\n",
      "Esta é a linha 26\n",
      "\n",
      "Esta é a linha 25\n",
      "\n",
      "Esta é a linha 24\n",
      "\n",
      "Esta é a linha 23\n",
      "\n",
      "Esta é a linha 22\n",
      "\n",
      "Esta é a linha 21\n",
      "\n"
     ]
    }
   ],
   "source": [
    "def head(file):\n",
    "    with open(file, \"r\") as f:\n",
    "        lines = f.readlines()\n",
    "    for i in range(0, 10):\n",
    "        print(lines[i])\n",
    "\n",
    "def tail(file):\n",
    "    with open(file, \"r\") as f:\n",
    "        lines = f.readlines()\n",
    "    for i in range(-1, -11, -1):\n",
    "        print(lines[i])\n",
    "\n",
    "inputfile = \"teste.txt\"\n",
    "head(inputfile)\n",
    "tail(inputfile)"
   ]
  },
  {
   "cell_type": "markdown",
   "metadata": {},
   "source": [
    "# Problem 21: Implement unix command `grep`. The `grep` command takes a string and a file as arguments and prints all lines in the file which contain the specified string."
   ]
  },
  {
   "cell_type": "code",
   "execution_count": 64,
   "metadata": {},
   "outputs": [
    {
     "name": "stdout",
     "output_type": "stream",
     "text": [
      "Esta é a linha 1 aqui\n",
      "\n",
      "Esta é a linha 10 aqui\n",
      "\n",
      "Esta é a linha 16 aqui\n",
      "\n"
     ]
    }
   ],
   "source": [
    "def grep(wrd, file):\n",
    "    with open(file, \"r\") as f:\n",
    "        lines = f.readlines()\n",
    "    for line in lines:\n",
    "        if wrd in line:  # Se a palavra está presenta na linha, a linha toda é printada\n",
    "            print(line)\n",
    "\n",
    "\n",
    "inputfile = \"teste.txt\"  # Arquivo onde a palavra será procurada\n",
    "word = \"aqui\"  # Palavra a ser procurada em cada linha\n",
    "grep(word, inputfile)"
   ]
  },
  {
   "cell_type": "markdown",
   "metadata": {},
   "source": [
    "# Problem 22: Write a program `wrap.py` that takes filename and width as aruguments and wraps the lines longer than width."
   ]
  },
  {
   "cell_type": "code",
   "execution_count": 72,
   "metadata": {},
   "outputs": [
    {
     "name": "stdout",
     "output_type": "stream",
     "text": [
      "She sells seashells on the sea\n",
      "shore;\n",
      "The shells that she sells are \n",
      "seashells I'm sure.\n",
      "So if she sells seashells on t\n",
      "he seashore,\n",
      "I'm sure that the shells are s\n",
      "eashore shells.\n"
     ]
    }
   ],
   "source": [
    "def grep(width, file):\n",
    "    with open(file, \"r\") as f:\n",
    "        lines = f.readlines()\n",
    "    for line in lines:\n",
    "        if len(line)>width:\n",
    "            print(line[0:width])\n",
    "            print(line[width:-1])\n",
    "        else:\n",
    "            print(line)\n",
    "\n",
    "inputfile = \"she.txt\"\n",
    "wdt = 30\n",
    "grep(wdt, inputfile)"
   ]
  },
  {
   "cell_type": "markdown",
   "metadata": {},
   "source": [
    "# Problem 23: The above wrap program is not so nice because it is breaking the line at middle of any word. Can you write a new program `wordwrap.py` that works like `wrap.py`, but breaks the line only at the word boundaries?"
   ]
  },
  {
   "cell_type": "code",
   "execution_count": 93,
   "metadata": {},
   "outputs": [
    {
     "name": "stdout",
     "output_type": "stream",
     "text": [
      "She sells seashells on the \n",
      "seashore;\n",
      "The shells that she sells are \n",
      "seashells I'm sure.\n",
      "So if she sells seashells on \n",
      "the seashore,\n",
      "I'm sure that the shells are \n",
      "seashore shells.\n"
     ]
    }
   ],
   "source": [
    "def grep(width, file):\n",
    "    with open(file, \"r\") as f:\n",
    "        lines = f.readlines()\n",
    "    for line in lines:\n",
    "        if len(line)>width:\n",
    "            for i in range(width, 0, -1):\n",
    "                if line[i]==\" \":\n",
    "                    print(line[0:i+1])\n",
    "                    print(line[i+1:-1])\n",
    "                    break\n",
    "        else:\n",
    "            print(line)\n",
    "\n",
    "inputfile = \"she.txt\"  # Arquivo onde a palavra será procurada\n",
    "wdt = 30  # Palavra a ser procurada em cada linha\n",
    "grep(wdt, inputfile)"
   ]
  },
  {
   "cell_type": "markdown",
   "metadata": {},
   "source": [
    "# Problem 24: Write a program `center_align.py` to center align all lines in the given file."
   ]
  },
  {
   "cell_type": "code",
   "execution_count": 98,
   "metadata": {},
   "outputs": [
    {
     "name": "stdout",
     "output_type": "stream",
     "text": [
      "      I'm sure that the shells are seashore shells.  \n",
      "\n",
      "        So if she sells seashells on the seashore,   \n",
      "\n",
      "    The shells that she sells are seashells I'm sure.\n",
      "\n",
      "           She sells seashells on the seashore;  \n",
      "\n"
     ]
    }
   ],
   "source": [
    "def center_align(file):\n",
    "    with open(file, \"r\") as f:\n",
    "        lines = f.readlines()\n",
    "    for line in lines:\n",
    "  def mutate(word):\n",
    "    adiciona = [word[0:j]+chr(i)+word[j:] for j in range(0, len(word)+1) for i in range(ord(\"a\"), ord(\"z\")+1)]\n",
    "    deleta = [word.replace(word[j],\"\") for j in range(0, len(word))]\n",
    "    troca = [word[0:j]+chr(i)+word[j+1:] for j in range(0, len(word)) for i in range(ord(\"a\"), ord(\"z\")+1)]\n",
    "    troca_interna = [word[0:j]+word[j+1]+word[j]+word[j+2:] for j in range(0, len(word)-1)]\n",
    "    mut_list = adiciona + deleta + troca + troca_interna\n",
    "    return mut_list\n",
    "\n",
    "palavra = \"batata\"\n",
    "words = mutate(palavra)\n",
    "\"batatx\" in words      line = line.center(20)\n",
    "        print(line)\n",
    "    f.close()\n",
    "    centeredshe = \"centershe.txt\"\n",
    "    with open(\"centeredshe\", \"w\") as f:\n",
    "        for line in lines:\n",
    "            f.write(line)\n",
    "    \n",
    "\n",
    "inputfile = \"newshe.txt\"  # Arquivo onde a palavra será procurada\n",
    "center_align(inputfile)"
   ]
  },
  {
   "cell_type": "markdown",
   "metadata": {},
   "source": [
    "# Problem 25: Provide an implementation for `zip` function using list comprehensions."
   ]
  },
  {
   "cell_type": "code",
   "execution_count": 4,
   "metadata": {},
   "outputs": [
    {
     "name": "stdout",
     "output_type": "stream",
     "text": [
      "[(1, 'a'), (2, 'b'), (3, 'c')]\n"
     ]
    },
    {
     "data": {
      "text/plain": [
       "[(1, 'a'), (2, 'b'), (3, 'c')]"
      ]
     },
     "execution_count": 4,
     "metadata": {},
     "output_type": "execute_result"
    }
   ],
   "source": [
    "def my_zip(dict_num, dict_let):\n",
    "    my_dict = [(dict_num[i], dict_let[i]) for i in range(0, len(dict_num))]\n",
    "    return my_dict\n",
    "problem 36: Write a program to count frequency of characters in a given file. Can you use character frequency to tell whether the given file is a Python program file, C program file or a text file?\n",
    "\n",
    "a = [1, 2, 3]\n",
    "b = [\"a\", \"b\", \"c\"]\n",
    "print(my_zip(a,b))\n",
    "\n",
    "# Função zip interna do Python\n",
    "list(zip(a, b))"
   ]
  },
  {
   "cell_type": "markdown",
   "metadata": {},
   "source": [
    "# Problem 26: Python provides a built-in function `map` that applies a function to each element of a list. Provide an implementation for `map` using list comprehensions."
   ]
  },
  {
   "cell_type": "code",
   "execution_count": 17,
   "metadata": {},
   "outputs": [
    {
     "name": "stdout",
     "output_type": "stream",
     "text": [
      "[2, 4, 6, 8]\n"
     ]
    },
    {
     "data": {
      "text/plain": [
       "[2, 4, 6, 8]"
      ]
     },
     "execution_count": 17,
     "metadata": {},
     "output_type": "execute_result"
    }
   ],
   "source": [
    "def my_map(lst, myfunc):\n",
    "    return([myfunc(x) for x in lst])\n",
    "\n",
    "def squared(num):\n",
    "    return num*num\n",
    "\n",
    "def my_sum(num):\n",
    "    return num+num\n",
    "    lines = [line.rstrip() for line in open(file, 'r')]\n",
    "my_list = [1, 2, 3, 4]\n",
    "print(my_map(my_list, my_sum))\n",
    "\n",
    "\n",
    "\n",
    "#Função do python\n",
    "list(map(my_sum, my_list))\n",
    "list(map(my_sum, my_list))"
   ]
  },
  {
   "cell_type": "markdown",
   "metadata": {},
   "source": [
    "# Problem 27: Python provides a built-in function `filter(f, a)` that returns items of the list a for which `f(item)` returns `true`. Provide an implementation for `filter` using list comprehensions."
   ]
  },
  {
   "cell_type": "code",
   "execution_count": 22,
   "metadata": {},
   "outputs": [
    {
     "name": "stdout",
     "output_type": "stream",
     "text": [
      "[1, 2, 5]\n"
     ]
    },
    {
     "data": {
      "text/plain": [
       "[1, 2, 5]"
      ]
     },
     "execution_count": 22,
     "metadata": {},
     "output_type": "execute_result"
    }
   ],
   "source": [
    "def my_filter(lst, myfunc):\n",
    "    return [x for x in lst if myfunc(x)==True] #adiciona x a lista se a função myfunc aplicada a x for verdadeira\n",
    "\n",
    "def maior_que_zero(num): #Retorna num se num for maior que zero\n",
    "    return num > 0\n",
    "    \n",
    "    \n",
    "a = [1, -1, -2, -3, 2, 5]\n",
    "\n",
    "print(my_filter(a, maior_que_zero))  # Chamada da minha função filter implementada\n",
    "list(filter(maior_que_zero, a))  # Chamda da função built-in do Python"
   ]
  },
  {
   "cell_type": "markdown",
   "metadata": {},
   "source": [
    "# Problem 28: Write a function `triplets` that takes a number n as argument and returns a list of triplets such that sum of first two elements of the triplet equals the third element using numbers below n. Please note that (a, b, c) and (b, a, c) represent same triplet.\n",
    "\n",
    "Verificar este"
   ]
  },
  {
   "cell_type": "code",
   "execution_count": 29,
   "metadata": {},
   "outputs": [
    {
     "name": "stdout",
     "output_type": "stream",
     "text": [
      "[(1, 1, 2), (1, 2, 3)]\n"
     ]
    }
   ],
   "source": [
    "def triplets(n):\n",
    "    return [(i, j, i+j) for i in range(1, n-2) for j in range(i,n-1)]\n",
    "\n",
    "num = 4\n",
    "print(triplets(num))"
   ]
  },
  {
   "cell_type": "markdown",
   "metadata": {},
   "source": [
    "# Problem 29: Write a function `enumerate` that takes a list and returns a list of tuples containing `(index,item)` for each item in the list."
   ]
  },
  {
   "cell_type": "code",
   "execution_count": 32,
   "metadata": {},
   "outputs": [
    {
     "name": "stdout",
     "output_type": "stream",
     "text": [
      "[(0, 1), (1, -1), (2, -2), (3, -3), (4, 2), (5, 5)]\n"
     ]
    }
   ],
   "source": [
    "def enumerate(lst):\n",
    "    return[(i, lst[i]) for i in range(0,len(lst))]\n",
    "\n",
    "lista = [1, -1, -2, -3, 2, 5]\n",
    "print(enumerate(lista))"
   ]
  },
  {
   "cell_type": "markdown",
   "metadata": {},
   "source": [
    "# Problem 30: Write a function `array` to create an 2-dimensional array. The function should take both dimensions as arguments. Value of each element can be initialized to None:"
   ]
  },
  {
   "cell_type": "code",
   "execution_count": 48,
   "metadata": {},
   "outputs": [
    {
     "name": "stdout",
     "output_type": "stream",
     "text": [
      "[['None', 'None', 'None'], ['None', 'None', 'None']]\n"
     ]
    }
   ],
   "source": [
    "def array(n, m):\n",
    "    return [[\"None\" for x in range(0, m)] for y in range(0, n)]\n",
    "\n",
    "\n",
    "linhas = 2\n",
    "colunas = 3\n",
    "matriz = array(linhas, colunas)\n",
    "print(matriz)\n",
    "    "
   ]
  },
  {
   "cell_type": "markdown",
   "metadata": {},
   "source": [
    "# Problem 31: Write a python function `parse_csv` to parse csv (comma separated values) files."
   ]
  },
  {
   "cell_type": "code",
   "execution_count": 64,
   "metadata": {},
   "outputs": [
    {
     "data": {
      "text/plain": [
       "[['a', 'b', 'c', 'd'],\n",
       " ['1', '2', '3', '4'],\n",
       " ['gato', 'cachorro', 'papagaio', 'porco']]"
      ]
     },
     "execution_count": 64,
     "metadata": {},
     "output_type": "execute_result"
    }
   ],
   "source": [
    "def parse_csv(file):\n",
    "    return [(line.rstrip()).split(\",\") for line in open(file, 'r')]\n",
    "    \n",
    "    \n",
    "    \n",
    "inputfile = \"teste_csv.csv\"  # Arquivo onde a palavra será procurada\n",
    "parse_csv(inputreturn file)"
   ]
  },
  {
   "cell_type": "markdown",
   "metadata": {},
   "source": [
    "# Problem 32: Generalize the above implementation of csv parser to support any delimiter and comments."
   ]
  },
  {
   "cell_type": "code",
   "execution_count": 68,
   "metadata": {},
   "outputs": [
    {
     "data": {
      "text/plain": [
       "[['a,b,c,d'], ['1,2,3,4'], ['gato,cachorro,papagaio,porco']]"
      ]
     },
     "execution_count": 68,
     "metadata": {},
     "output_type": "execute_result"
    }
   ],
   "source": [
    "def parse_csv(file, delimiter): #  O usuário deve inserir o arquivo e o delimitador\n",
    "    return [(line.rstrip()).split(delimiter) for line in open(file, 'r')]\n",
    "    \n",
    "    \n",
    "    \n",
    "inputfile = \"teste_csv.csv\"  # Arquivo onde a palavra será procurada\n",
    "delimitador = \"!\"\n",
    "parse_csv(inputfile, delimitador)  # Informar arquivo e delimitador  "
   ]
  },
  {
   "cell_type": "markdown",
   "metadata": {},
   "source": [
    "# Problem 33: Write a function `mutate` to compute all words generated by a single mutation on a given word. A mutation is defined as inserting a character, deleting a character, replacing a character, or swapping 2 consecutive characters in a string. For simplicity consider only letters from a to z.\n",
    "\n",
    "\n",
    "Verificar este"
   ]
  },
  {
   "cell_type": "code",
   "execution_count": 164,
   "metadata": {},
   "outputs": [
    {
     "data": {
      "text/plain": [
       "True"
      ]
     },
     "execution_count": 164,
     "metadata": {},
     "output_type": "execute_result"
    }
   ],
   "source": [
    "def mutate(word):\n",
    "    adiciona = [word[0:j]+chr(i)+word[j:] for j in range(0, len(word)+1) for i in range(ord(\"a\"), ord(\"z\")+1)]\n",
    "    deleta = [word.replace(word[j],\"\") for j in range(0, len(word))]\n",
    "    troca = [word[0:j]+chr(i)+word[j+1:] for j in range(0, len(word)) for i in range(ord(\"a\"), ord(\"z\")+1)]\n",
    "    troca_interna = [word[0:j]+word[j+1]+word[j]+word[j+2:] for j in range(0, len(word)-1)]\n",
    "    mut_list = adiciona + deleta + troca + troca_interna\n",
    "    return mut_list\n",
    "\n",
    "palavra = \"batata\"\n",
    "words = mutate(palavra)\n",
    "\"batatx\" in words"
   ]
  },
  {
   "cell_type": "code",
   "execution_count": 133,
   "metadata": {},
   "outputs": [
    {
     "name": "stdout",
     "output_type": "stream",
     "text": [
      "97\n",
      "122\n"
     ]
    }
   ],
   "source": [
    "print(ord(\"a\"))\n",
    "print(ord(\"z\"))"
   ]
  },
  {
   "cell_type": "markdown",
   "metadata": {},
   "source": [
    "# Problem 34: Write a function `nearly_equal` to test whether two strings are nearly equal. Two strings a and b are nearly equal when a can be generated by a single mutation on b."
   ]
  },
  {
   "cell_type": "code",
   "execution_count": 173,
   "metadata": {},
   "outputs": [
    {
     "data": {
      "text/plain": [
       "True"
      ]
     },
     "execution_count": 173,
     "metadata": {},
     "output_type": "execute_result"
    }
   ],
   "source": [
    "# A mesma função mutateproblem 36: Write a program to count frequency of characters in a given file. Can you use character frequency to tell whether the given file is a Python program file, C program file or a text file? do exercício anterior pode ser utilizada aqui\n",
    "\n",
    "def nearly_equal(word, word2):\n",
    "    adiciona = [word[0:j]+chr(i)+word[j:] for j in range(0, len(word)+1) for i in range(ord(\"a\"), ord(\"z\")+1)]\n",
    "    deleta = [word.replace(word[j],\"\") for j in range(0, len(word))]\n",
    "    troca = [word[0:range(ord('a'), ord('z'))j]+chr(i)+word[j+1:] for j in range(0, len(word)) for i in range(ord(\"a\"), ord(\"z\")+1)]\n",
    "    troca_interna = [word[0:j]+word[j+1]+word[j]+word[j+2:] for j in range(0, len(word)-1)]\n",
    "    mut_list = adiciona + deleta + troca + troca_interna\n",
    "    return word2 in mut_list\n",
    "char\n",
    "palavra1 = \"batata\"\n",
    "palavra2 = \"bataaa\"\n",
    "nearly_equal(palavra1, palavra2)\n"
   ]
  },
  {
   "cell_type": "markdown",
   "metadata": {},
   "source": [
    "# Problem 36: Write a program to count frequency of characters in a given file. Can you use character frequency to tell whether the given file is a Python program file, C program file or a text file?"
   ]
  },
  {
   "cell_type": "code",
   "execution_count": 251,
   "metadata": {},
   "outputs": [
    {
     "data": {
      "text/plain": [
       "{'t': 7,\n",
       " 's': 31,\n",
       " ';': 1,\n",
       " 'o': 6,\n",
       " 'n': 2,\n",
       " '\\n': 4,\n",
       " 'S': 2,\n",
       " 'h': 18,\n",
       " 'l': 18,\n",
       " ' ': 27,\n",
       " 'a': 10,\n",
       " 'r': 7,\n",
       " 'e': 29,\n",
       " \"'\": 2,\n",
       " 'I': 2,\n",
       " 'u': 2,\n",
       " 'T': 1,\n",
       " 'm': 2,\n",
       " '.': 2,\n",
       " ',': 1,\n",
       " 'f': 1,\n",
       " 'i': 1}"
      ]
     },
     "execution_count": 251,
     "metadata": {},
     "output_type": "execute_result"
    }
   ],
   "source": [
    "def char_count(file):\n",
    "    with open(file, 'r') as f:\n",
    "        lines = f.readlines()\n",
    "        my_dict = {char:0 for line in lines for char in set(line)}  # Verifica os caractéres no arquivo e cria o dicionário\n",
    "        for line in lines:\n",
    "            for char in line:\n",
    "                my_dict[char]+=1\n",
    "        return my_dict\n",
    "            \n",
    "\n",
    "\n",
    "myfile = \"she.txt\"  # Arquivo onde será contado o número de caractéres\n",
    "char_count(myfile)"
   ]
  },
  {
   "cell_type": "markdown",
   "metadata": {},
   "source": [
    "É possível verificar (ao menos estimar de maneira correta na maioria das vezes) se um arquivo é `.c`, `.py` ou `.txt` através da contagem de caractéres.\n",
    "\n",
    "Para um arquivo `.c`, por exemplo, o número de \"ponto e vírgula\" será alto, devido a sintaxe da linguagem C. Assim, podemos estimar o tipo de arquivo de acordo com o padrão do histograma de caractéres que aparece no arquivo."
   ]
  },
  {
   "cell_type": "markdown",
   "metadata": {},
   "source": [
    "# Problem 37: Write a program to find anagrams in a given list of words. Two words are called anagrams if one word can be formed by rearranging letters of another. For example 'eat', 'ate' and 'tea' are anagrams."
   ]
  },
  {
   "cell_type": "code",
   "execution_count": 22,
   "metadata": {},
   "outputs": [
    {
     "name": "stdout",
     "output_type": "stream",
     "text": [
      "{'eat': 'aet', 'ate': 'aet', 'done': 'deno', 'tea': 'aet', 'soup': 'opsu', 'node': 'deno'}\n",
      "{'opsu', 'aet', 'deno'}\n",
      "['soup']\n",
      "['eat', 'ate', 'tea']\n",
      "['done', 'node']\n"
     ]
    },
    {
     "data": {
      "text/plain": [
       "[['soup'], ['eat', 'ate', 'tea'], ['done', 'node']]"
      ]
     },
     "execution_count": 22,
     "metadata": {},
     "output_type": "execute_result"
    }
   ],
   "source": [
    "def anagrams(lst):\n",
    "    my_dict = {lst[i]:''.join(sorted(lst[i])) for i in range(0, len(lst))}  # Cria um dicionário com a palavra de key e as letras da palavra ordenadas de value\n",
    "    \n",
    "    print(my_dict)\n",
    "    set_dict = set(my_dict.values())\n",
    "    print(set_dict)\n",
    "    out_list = []\n",
    "    for i in set_dict:\n",
    "        lista1 = []\n",
    "        for j in my_dict.keys():\n",
    "            if my_dict[j]==i:\n",
    "                lista1.append(j)\n",
    "        print(lista1)\n",
    "        out_list.append(lista1)\n",
    "        lista1 = []\n",
    "    return out_list\n",
    "    \n",
    "lista = ['eat', 'ate', 'done', 'tea', 'soup', 'node']\n",
    "anagrams(lista)"
   ]
  },
  {
   "cell_type": "markdown",
   "metadata": {},
   "source": [
    "# Problem 38: Write a function `valuesort` to sort values of a dictionary based on the key."
   ]
  },
  {
   "cell_type": "code",
   "execution_count": 16,
   "metadata": {},
   "outputs": [
    {
     "data": {
      "text/plain": [
       "[3, 1, 2]"
      ]
     },
     "execution_count": 16,
     "metadata": {},
     "output_type": "execute_result"
    }
   ],
   "source": [
    "def valuesort(my_dict):\n",
    "    sorted_dict = [my_dict[i] for i in sorted(my_dict.keys())]\n",
    "    return sorted_dict\n",
    "                                            \n",
    "dict1 = {'x': 1, 'y': 2, 'a': 3}\n",
    "valuesort(dict1)"
   ]
  },
  {
   "cell_type": "markdown",
   "metadata": {},
   "source": [
    "# Problem 39: Write a function `invertdict` to interchange keys and values in a dictionary. For simplicity, assume that all values are unique."
   ]
  },
  {
   "cell_type": "code",
   "execution_count": 22,
   "metadata": {},
   "outputs": [
    {
     "data": {
      "text/plain": [
       "{1: 'x', 2: 'y', 3: 'z'}"
      ]
     },
     "execution_count": 22,
     "metadata": {},
     "output_type": "execute_result"
    }
   ],
   "source": [
    "def invertdict(my_dict):\n",
    "    inv_dict = {my_dict[i]:i for i in my_dict.keys()}\n",
    "    return inv_dict\n",
    "\n",
    "dict1 = {'x': 1, 'y': 2, 'z': 3}\n",
    "invertdict(dict1)"
   ]
  },
  {
   "cell_type": "code",
   "execution_count": null,
   "metadata": {},
   "outputs": [],
   "source": []
  }
 ],
 "metadata": {
  "kernelspec": {
   "display_name": "Python [conda env:python_practice] *",
   "language": "python",
   "name": "conda-env-python_practice-py"
  },
  "language_info": {
   "codemirror_mode": {
    "name": "ipython",
    "version": 3
   },
   "file_extension": ".py",
   "mimetype": "text/x-python",
   "name": "python",
   "nbconvert_exporter": "python",
   "pygments_lexer": "ipython3",
   "version": "3.7.4"
  }
 },
 "nbformat": 4,
 "nbformat_minor": 2
}
