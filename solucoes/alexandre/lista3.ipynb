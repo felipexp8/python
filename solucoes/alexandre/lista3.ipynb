{
 "cells": [
  {
   "cell_type": "markdown",
   "metadata": {},
   "source": [
    "# Atividade 3 - Python\n",
    "\n",
    "## Alexandre Marcondes"
   ]
  },
  {
   "cell_type": "markdown",
   "metadata": {},
   "source": [
    "### 1. Write a function that returns the maximum of two numbers."
   ]
  },
  {
   "cell_type": "code",
   "execution_count": 3,
   "metadata": {},
   "outputs": [
    {
     "name": "stdout",
     "output_type": "stream",
     "text": [
      "Maior valor:  7\n"
     ]
    }
   ],
   "source": [
    "def return_max (a, b):\n",
    "    if a>b:\n",
    "        print(\"Maior valor: \", a)\n",
    "    else:\n",
    "        print(\"Maior valor: \", b)\n",
    "    \n",
    "num1 = 7\n",
    "num2 = 5\n",
    "return_max(num1, num2)"
   ]
  },
  {
   "cell_type": "markdown",
   "metadata": {},
   "source": [
    "### 2. Write a function called `fizz_buzz` that takes a number. \n",
    "    i. If the number is divisible by 3, it should return “Fizz”.\n",
    "    ii. If it is divisible by 5, it should return “Buzz”.\n",
    "    iii. If it is divisible by both 3 and 5, it should return “FizzBuzz”.\n",
    "    iv. Otherwise, it should return the same number."
   ]
  },
  {
   "cell_type": "code",
   "execution_count": 9,
   "metadata": {},
   "outputs": [
    {
     "name": "stdout",
     "output_type": "stream",
     "text": [
      "Digite um número: 7\n",
      "7.0\n"
     ]
    }
   ],
   "source": [
    "def fizz_buzz(a):\n",
    "    if a%3==0 and a%5==0:\n",
    "        print(\"Fizz Buzz\")\n",
    "    elif a%3==0:\n",
    "        print(\"Fizz\")\n",
    "    elif a%5==0:\n",
    "        print(\"Buzz\")\n",
    "    else:\n",
    "        print(a)\n",
    "\n",
    "num = float(input(\"Digite um número: \"))\n",
    "fizz_buzz(num)"
   ]
  },
  {
   "cell_type": "markdown",
   "metadata": {},
   "source": [
    "# 3. Write a function for checking the speed of drivers. This function should have one parameter: `speed`."
   ]
  },
  {
   "cell_type": "markdown",
   "metadata": {},
   "source": [
    "    i. If speed is less than 70, it should print “Ok”.\n",
    "    ii. Otherwise, for every 5km above the speed limit (70), it should give the driver one demerit point and print the total number of demerit points. For example, if the speed is 80, it should print: “Points: 2”.\n",
    "    iii. If the driver gets more than 12 points, the function should print: “License suspended”"
   ]
  },
  {
   "cell_type": "code",
   "execution_count": 30,
   "metadata": {},
   "outputs": [
    {
     "name": "stdout",
     "output_type": "stream",
     "text": [
      "Car speedWrite: 90\n",
      "Points:  4\n"
     ]
    }
   ],
   "source": [
    "def check_speed(speed):\n",
    "    if speed<=70:\n",
    "        print(\"Ok.\")\n",
    "    else:\n",
    "        points = int((speed - 70)/5)\n",
    "        print(\"Points: \", points)\n",
    "        if points>=12:\n",
    "            print(\"License suspended.\")\n",
    "\n",
    "        \n",
    "vel = float(input(\"Car speedWrite: \"))\n",
    "check_speed(vel)"
   ]
  },
  {
   "cell_type": "markdown",
   "metadata": {},
   "source": [
    "# 4. should Write a function called `showNumbers` that takes a parameter called `limit`. It  print all the numbers between 0 and limit with a label to identify the even and odd numbers. For example, if the limit is 3, it should print:"
   ]
  },
  {
   "cell_type": "code",
   "execution_count": 35,
   "metadata": {},
   "outputs": [
    {
     "name": "stdout",
     "output_type": "stream",
     "text": [
      "Digite o limite: 8\n",
      "0 EVEN\n",
      "1 ODD\n",
      "2 EVEN\n",
      "3 ODD\n",
      "4 EVEN\n",
      "5 ODD\n",
      "6 EVEN\n",
      "7 ODD\n",
      "8 EVEN\n"
     ]
    }
   ],
   "source": [
    "def show_numbers(limit):\n",
    "    for i in range(0, limit+1):\n",
    "        if i%2==0:\n",
    "            print(i, \"EVEN\")\n",
    "        else:\n",
    "            print(i, \"ODD\")\n",
    "\n",
    "            \n",
    "num = int(input(\"Digite o limite: \"))\n",
    "show_numbers(num)"
   ]
  },
  {
   "cell_type": "markdown",
   "metadata": {},
   "source": [
    "# 5. Write a function that returns the sum of multiples of 3 and 5 between 0 and limit (parameter). For example, if limit is 20, it should return the sum of 3, 5, 6, 9, 10, 12, 15, 18, 20."
   ]
  },
  {
   "cell_type": "code",
   "execution_count": 38,
   "metadata": {},
   "outputs": [
    {
     "name": "stdout",
     "output_type": "stream",
     "text": [
      "Digite o limite: 10\n",
      "33\n"
     ]
    }
   ],
   "source": [
    "def sum_of_multiples(limit):\n",
    "    sum = 0\n",
    "    for i in range(0,limit+1):\n",
    "        if i%3==0 or i%5==0:\n",
    "            sum+=i\n",
    "    print(sum)\n",
    "\n",
    "    \n",
    "num = int(input(\"Digite o limite: \"))\n",
    "sum_of_multiples(num)\n",
    "    "
   ]
  },
  {
   "cell_type": "markdown",
   "metadata": {},
   "source": [
    "# 6. Write a function called `show_stars(rows)`. If rows is 5, it should print the following:"
   ]
  },
  {
   "cell_type": "markdown",
   "metadata": {},
   "source": [
    "```\n",
    "*\n",
    "**\n",
    "***\n",
    "****\n",
    "*****\n",
    "```"
   ]
  },
  {
   "cell_type": "code",
   "execution_count": 2,
   "metadata": {},
   "outputs": [
    {
     "name": "stdout",
     "output_type": "stream",
     "text": [
      "Digite o número de linhas: 10\n",
      "*\n",
      "**\n",
      "***\n",
      "****\n",
      "*****\n",
      "******\n",
      "*******\n",
      "********\n",
      "*********\n",
      "**********\n"
     ]
    }
   ],
   "source": [
    "def show_stars(rows):\n",
    "    for i in range(1, rows+1):\n",
    "        print(i*'*')\n",
    "\n",
    "\n",
    "num = int(input(\"Digite o número de linhas: \"))\n",
    "show_stars(num)"
   ]
  },
  {
   "cell_type": "markdown",
   "metadata": {},
   "source": [
    "# 7. Write a function that prints all the prime numbers between 0 and limit where `limit` is a parameter."
   ]
  },
  {
   "cell_type": "code",
   "execution_count": 8,
   "metadata": {},
   "outputs": [
    {
     "name": "stdout",
     "output_type": "stream",
     "text": [
      "Digite um número inteiro: 50\n",
      "2\n",
      "3\n",
      "5\n",
      "7\n",
      "11\n",
      "13\n",
      "17\n",
      "19\n",
      "23\n",
      "29\n",
      "31\n",
      "37\n",
      "41\n",
      "43\n",
      "47\n"
     ]
    }
   ],
   "source": [
    "def print_primes(limit):\n",
    "    for i in range(2, limit):\n",
    "        primecheck = 0\n",
    "        for j in range(2, i):\n",
    "            if i%j==0:\n",
    "                primecheck = 1\n",
    "                break\n",
    "        if primecheck==0:\n",
    "            print(i)\n",
    "\n",
    "num = int(input(\"Digite um número inteiro: \"))\n",
    "print_primes(num)\n",
    "            "
   ]
  }
 ],
 "metadata": {
  "kernelspec": {
   "display_name": "Python [conda env:python_practice] *",
   "language": "python",
   "name": "conda-env-python_practice-py"
  },
  "language_info": {
   "codemirror_mode": {
    "name": "ipython",
    "version": 3
   },
   "file_extension": ".py",
   "mimetype": "text/x-python",
   "name": "python",
   "nbconvert_exporter": "python",
   "pygments_lexer": "ipython3",
   "version": "3.7.4"
  }
 },
 "nbformat": 4,
 "nbformat_minor": 2
}
