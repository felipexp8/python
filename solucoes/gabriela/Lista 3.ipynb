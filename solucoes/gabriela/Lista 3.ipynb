{
 "cells": [
  {
   "cell_type": "markdown",
   "metadata": {},
   "source": [
    "# Lista 3"
   ]
  },
  {
   "cell_type": "markdown",
   "metadata": {},
   "source": [
    "# Lists"
   ]
  },
  {
   "cell_type": "markdown",
   "metadata": {},
   "source": [
    "## Exercício 1"
   ]
  },
  {
   "cell_type": "code",
   "execution_count": 13,
   "metadata": {},
   "outputs": [
    {
     "name": "stdout",
     "output_type": "stream",
     "text": [
      "[0, 1, [3]]\n",
      "[0, 1, [3, 4]]\n",
      "[0, 1, 2]\n"
     ]
    }
   ],
   "source": [
    "x = [0, 1, [2]]\n",
    "x[2][0] = 3\n",
    "print (x)\n",
    "x[2].append(4)\n",
    "print (x)\n",
    "x[2] = 2\n",
    "print (x)"
   ]
  },
  {
   "cell_type": "markdown",
   "metadata": {},
   "source": [
    "# The for Statement"
   ]
  },
  {
   "cell_type": "markdown",
   "metadata": {},
   "source": [
    "## Exercício 2"
   ]
  },
  {
   "cell_type": "code",
   "execution_count": 14,
   "metadata": {},
   "outputs": [
    {
     "name": "stdout",
     "output_type": "stream",
     "text": [
      "6\n"
     ]
    }
   ],
   "source": [
    "def sum(lista):\n",
    "    aux = 0\n",
    "    for elem in lista:\n",
    "        aux += elem\n",
    "    print(aux)\n",
    "sum([1,2,3])"
   ]
  },
  {
   "cell_type": "markdown",
   "metadata": {},
   "source": [
    "## Exercício 3"
   ]
  },
  {
   "cell_type": "code",
   "execution_count": 15,
   "metadata": {},
   "outputs": [
    {
     "name": "stdout",
     "output_type": "stream",
     "text": [
      "aabb\n"
     ]
    }
   ],
   "source": [
    "def sum(lista):\n",
    "    aux = \"\"\n",
    "    for elem in lista:\n",
    "        aux += elem\n",
    "    print(aux)\n",
    "sum([\"aa\",\"bb\"])"
   ]
  },
  {
   "cell_type": "markdown",
   "metadata": {},
   "source": [
    "## Exercício 4"
   ]
  },
  {
   "cell_type": "code",
   "execution_count": 18,
   "metadata": {},
   "outputs": [
    {
     "name": "stdout",
     "output_type": "stream",
     "text": [
      "8\n"
     ]
    }
   ],
   "source": [
    "def product(lista):\n",
    "    aux = 1\n",
    "    for elem in lista:\n",
    "        aux *= elem\n",
    "    return aux\n",
    "print(product([1,2,4]))\n",
    "        "
   ]
  },
  {
   "cell_type": "markdown",
   "metadata": {},
   "source": [
    "## Exercício 5"
   ]
  },
  {
   "cell_type": "code",
   "execution_count": 19,
   "metadata": {},
   "outputs": [
    {
     "name": "stdout",
     "output_type": "stream",
     "text": [
      "Insira um numero: 4\n",
      "Fatorial de  4 eh:  24\n"
     ]
    }
   ],
   "source": [
    "def factorial(lista):\n",
    "    return product(lista)\n",
    "\n",
    "num = int(input(\"Insira um numero: \"))\n",
    "lista = [x for x in range(1,num+1)]\n",
    "print(\"Fatorial de \",num,\"eh: \",factorial(lista))"
   ]
  },
  {
   "cell_type": "markdown",
   "metadata": {},
   "source": [
    "## Exercício 6"
   ]
  },
  {
   "cell_type": "code",
   "execution_count": 20,
   "metadata": {},
   "outputs": [
    {
     "name": "stdout",
     "output_type": "stream",
     "text": [
      "[3, 2, 1]\n"
     ]
    }
   ],
   "source": [
    "def reverse(lista):\n",
    "    aux = []\n",
    "    for i in range(len(lista),0,-1):\n",
    "        aux.append(lista[i-1])\n",
    "    return aux\n",
    "print(reverse([1,2,3]))"
   ]
  },
  {
   "cell_type": "markdown",
   "metadata": {},
   "source": [
    "## Exercício 7"
   ]
  },
  {
   "cell_type": "code",
   "execution_count": 21,
   "metadata": {},
   "outputs": [
    {
     "name": "stdout",
     "output_type": "stream",
     "text": [
      "1\n",
      "4\n"
     ]
    }
   ],
   "source": [
    "def min(lista):\n",
    "    minimo = lista[0]\n",
    "    for elem in lista:\n",
    "        if (elem<minimo):\n",
    "            minimo = elem\n",
    "    return minimo\n",
    "\n",
    "def max(lista):\n",
    "    maximo = lista[0]\n",
    "    for elem in lista:\n",
    "        if (elem>maximo):\n",
    "            maximo = elem\n",
    "    return maximo\n",
    "\n",
    "lista = [1,2,3,4]\n",
    "print(min(lista))\n",
    "print(max(lista))"
   ]
  },
  {
   "cell_type": "markdown",
   "metadata": {},
   "source": [
    "## Exercício 8"
   ]
  },
  {
   "cell_type": "code",
   "execution_count": 22,
   "metadata": {},
   "outputs": [],
   "source": [
    "def summ(lista):\n",
    "    soma = 0\n",
    "    for elem in lista:\n",
    "        soma += elem\n",
    "    return soma"
   ]
  },
  {
   "cell_type": "markdown",
   "metadata": {},
   "source": [
    "## Exercício 9"
   ]
  },
  {
   "cell_type": "code",
   "execution_count": 23,
   "metadata": {},
   "outputs": [],
   "source": [
    "def product(lista):\n",
    "    product = 1\n",
    "    for elem in lista:\n",
    "        product *= elem\n",
    "    return product"
   ]
  },
  {
   "cell_type": "markdown",
   "metadata": {},
   "source": [
    "## Exercício 10"
   ]
  },
  {
   "cell_type": "code",
   "execution_count": 24,
   "metadata": {},
   "outputs": [],
   "source": [
    "def find_uniques(lista):\n",
    "    aux = [lista[0]]\n",
    "    for elem in lista:\n",
    "        if elem not in aux: \n",
    "            aux.append(elem)\n",
    "    return aux"
   ]
  },
  {
   "cell_type": "markdown",
   "metadata": {},
   "source": [
    "## Exercício 11"
   ]
  },
  {
   "cell_type": "code",
   "execution_count": 25,
   "metadata": {},
   "outputs": [],
   "source": [
    "def count_dups(lista):\n",
    "    d = {x:lista.count(x) for x in lista}\n",
    "    ndups = [x for x in d.values()]\n",
    "    return ndups"
   ]
  },
  {
   "cell_type": "markdown",
   "metadata": {},
   "source": [
    "## Exercício 12"
   ]
  },
  {
   "cell_type": "code",
   "execution_count": 26,
   "metadata": {},
   "outputs": [],
   "source": [
    "def group(lista, tam):\n",
    "    return [lista[i:i+tam] for i in range(0,len(lista),tam)]"
   ]
  },
  {
   "cell_type": "markdown",
   "metadata": {},
   "source": [
    "# Sorting Lists"
   ]
  },
  {
   "cell_type": "markdown",
   "metadata": {},
   "source": [
    "## Exercício 14"
   ]
  },
  {
   "cell_type": "code",
   "execution_count": 27,
   "metadata": {},
   "outputs": [],
   "source": [
    "def lensort(lista):\n",
    "    lista.sort(key=lambda x:len(x))\n",
    "    return lista"
   ]
  },
  {
   "cell_type": "markdown",
   "metadata": {},
   "source": [
    "## Exercício 15"
   ]
  },
  {
   "cell_type": "code",
   "execution_count": null,
   "metadata": {},
   "outputs": [],
   "source": []
  },
  {
   "cell_type": "markdown",
   "metadata": {},
   "source": [
    "# Tuples"
   ]
  },
  {
   "cell_type": "markdown",
   "metadata": {},
   "source": [
    "## Exercício 16"
   ]
  },
  {
   "cell_type": "code",
   "execution_count": 28,
   "metadata": {},
   "outputs": [],
   "source": [
    "def find_uniques_with_set(lista):\n",
    "    return set(lista)"
   ]
  },
  {
   "cell_type": "markdown",
   "metadata": {},
   "source": [
    "# Strings"
   ]
  },
  {
   "cell_type": "markdown",
   "metadata": {},
   "source": [
    "## Exercício 17"
   ]
  },
  {
   "cell_type": "code",
   "execution_count": null,
   "metadata": {},
   "outputs": [],
   "source": [
    "def extsort(lista):\n",
    "    lista.sort(key=lambda x:x.split(\".\")[1])\n",
    "    return lista"
   ]
  },
  {
   "cell_type": "markdown",
   "metadata": {},
   "source": [
    "# Working with Files "
   ]
  },
  {
   "cell_type": "markdown",
   "metadata": {},
   "source": [
    "## Exercício 18"
   ]
  },
  {
   "cell_type": "code",
   "execution_count": null,
   "metadata": {},
   "outputs": [],
   "source": [
    "def reverse_file(file_name):\n",
    "\n",
    "    infile = open(file_name, \"r\")\n",
    "    strings = infile.readlines()\n",
    "    strings.reverse()\n",
    "    \n",
    "    for s in strings:\n",
    "        print (s)\n",
    "\n",
    "    infile.close()"
   ]
  },
  {
   "cell_type": "markdown",
   "metadata": {},
   "source": [
    "## Exercício 19"
   ]
  },
  {
   "cell_type": "code",
   "execution_count": null,
   "metadata": {},
   "outputs": [],
   "source": [
    "def reverse_lines(file_name):\n",
    "\n",
    "    infile = open(file_name, \"r\")\n",
    "    strings = infile.readlines()\n",
    "    \n",
    "    for s in strings: \n",
    "        print (s[::-1])\n",
    "\n",
    "    infile.close()"
   ]
  },
  {
   "cell_type": "markdown",
   "metadata": {},
   "source": [
    "## Exercício 21"
   ]
  },
  {
   "cell_type": "code",
   "execution_count": null,
   "metadata": {},
   "outputs": [],
   "source": [
    "def grep(string, file_name):\n",
    "\n",
    "    infile = open(file_name,\"r\")\n",
    "    lines = infile.readlines()\n",
    "\n",
    "    for l in lines: \n",
    "        if l.find(string)!= -1:\n",
    "            print(l)"
   ]
  },
  {
   "cell_type": "markdown",
   "metadata": {},
   "source": [
    "## Exercício 22"
   ]
  },
  {
   "cell_type": "code",
   "execution_count": null,
   "metadata": {},
   "outputs": [],
   "source": [
    "def wrap(file_name, width):\n",
    "\n",
    "    f = open(file_name)\n",
    "    lines = f.readlines()\n",
    "\n",
    "    for l in lines:\n",
    "        aux = l\n",
    "        while (len(aux)>width):\n",
    "            print (aux[:width])\n",
    "            aux = aux[width:]\n",
    "        print (aux)"
   ]
  },
  {
   "cell_type": "markdown",
   "metadata": {},
   "source": [
    "## Exercício 23"
   ]
  },
  {
   "cell_type": "code",
   "execution_count": null,
   "metadata": {},
   "outputs": [],
   "source": []
  },
  {
   "cell_type": "markdown",
   "metadata": {},
   "source": [
    "## Exercício 24"
   ]
  },
  {
   "cell_type": "code",
   "execution_count": null,
   "metadata": {},
   "outputs": [],
   "source": [
    "import os\n",
    "ncolumns = os.get_terminal_size().columns\n",
    "\n",
    "\n",
    "def center_align(file_name):\n",
    "\n",
    "    f = open(file_name)\n",
    "    lines = f.readlines()\n",
    "    \n",
    "    for l in lines:\n",
    "        print(l.center(ncolumns))"
   ]
  },
  {
   "cell_type": "markdown",
   "metadata": {},
   "source": [
    "# List Comprehensions"
   ]
  },
  {
   "cell_type": "markdown",
   "metadata": {},
   "source": [
    "## Exercício 25"
   ]
  },
  {
   "cell_type": "code",
   "execution_count": null,
   "metadata": {},
   "outputs": [],
   "source": [
    "import string \n",
    "\n",
    "def zip(list1, list2):\n",
    "    print ([(list1[i], list2[i]) for i in range(len(list1))])"
   ]
  },
  {
   "cell_type": "markdown",
   "metadata": {},
   "source": [
    "## Exercício 26"
   ]
  },
  {
   "cell_type": "code",
   "execution_count": null,
   "metadata": {},
   "outputs": [],
   "source": [
    "def map(list1,square):\n",
    "    print ([square(list1[i]) for i in range(len(list1))])"
   ]
  },
  {
   "cell_type": "markdown",
   "metadata": {},
   "source": [
    "## Exercício 27"
   ]
  },
  {
   "cell_type": "code",
   "execution_count": null,
   "metadata": {},
   "outputs": [],
   "source": [
    "def filter(list1, even):\n",
    "    print ([list1[i] for i in range(len(list1)) if even(list1[i]) == True ])"
   ]
  },
  {
   "cell_type": "markdown",
   "metadata": {},
   "source": [
    "## Exercício 28"
   ]
  },
  {
   "cell_type": "code",
   "execution_count": null,
   "metadata": {},
   "outputs": [],
   "source": [
    "def triplets(n):\n",
    "    print([(a,c-a,c) for c in range(2,n) for a in range(1,c//2+1)])"
   ]
  },
  {
   "cell_type": "markdown",
   "metadata": {},
   "source": [
    "## Exercício 29"
   ]
  },
  {
   "cell_type": "code",
   "execution_count": null,
   "metadata": {},
   "outputs": [],
   "source": [
    "def enumerate(list1):\n",
    "    print([(i,list1[i]) for i in range(len(list1))])"
   ]
  },
  {
   "cell_type": "markdown",
   "metadata": {},
   "source": [
    "## Exercício 30"
   ]
  },
  {
   "cell_type": "code",
   "execution_count": null,
   "metadata": {},
   "outputs": [],
   "source": [
    "def two_dimensional_array(d1, d2):\n",
    "    print([[None]*d2 for i in range(d1)]) "
   ]
  },
  {
   "cell_type": "markdown",
   "metadata": {},
   "source": [
    "## Exercício 31"
   ]
  },
  {
   "cell_type": "code",
   "execution_count": null,
   "metadata": {},
   "outputs": [],
   "source": [
    "def parse_csv(file_name):\n",
    "    f = open(file_name)\n",
    "    lines = f.readlines()\n",
    "    print ([[line[:-1].split(',')] for line in lines])"
   ]
  },
  {
   "cell_type": "markdown",
   "metadata": {},
   "source": [
    "## Exercício 32"
   ]
  },
  {
   "cell_type": "code",
   "execution_count": null,
   "metadata": {},
   "outputs": [],
   "source": [
    "def generalized_parse_csv(file_name, d, c):\n",
    "    f = open(file_name)\n",
    "    lines = f.readlines()\n",
    "    print ([[line[:-1].split(d)] for line in lines if line[0]!=c])"
   ]
  },
  {
   "cell_type": "markdown",
   "metadata": {},
   "source": [
    "## Exercício 33"
   ]
  },
  {
   "cell_type": "code",
   "execution_count": null,
   "metadata": {},
   "outputs": [],
   "source": [
    "def swap(word,i):\n",
    "    w = list(word)\n",
    "    w[i],w[i+1] = w[i+1],w[i]\n",
    "    return ''.join(w)\n",
    "\n",
    "def mutate(word):\n",
    "    letters = string.ascii_lowercase\n",
    "    # insert character\n",
    "    mutations = [''.join([word[:i],l,word[i:len(word)]]) for i in range(len(word)) for l in letters]\n",
    "    # delete character\n",
    "    mutations.extend([''.join([word[:i],word[i+1:len(word)]]) for i in range(len(word))])\n",
    "    # replace character\n",
    "    mutations.extend([''.join([word[:i],l,word[i+1:len(word)]]) for i in range(len(word)) for l in letters])\n",
    "    # swap 2 consecutive characters\n",
    "    mutations.extend([swap(word,i) for i in range(len(word)-1)])\n",
    "    return mutations"
   ]
  },
  {
   "cell_type": "markdown",
   "metadata": {},
   "source": [
    "## Exercício 34"
   ]
  },
  {
   "cell_type": "code",
   "execution_count": null,
   "metadata": {},
   "outputs": [],
   "source": [
    "def nearly_equal(str1, str2):\n",
    "    mutations = mutate(str2)\n",
    "    if str1 in mutations:\n",
    "        return True\n",
    "    else:\n",
    "        return False"
   ]
  },
  {
   "cell_type": "markdown",
   "metadata": {},
   "source": [
    "# Dictionaries"
   ]
  },
  {
   "cell_type": "markdown",
   "metadata": {},
   "source": [
    "## Exercício 36"
   ]
  },
  {
   "cell_type": "code",
   "execution_count": null,
   "metadata": {},
   "outputs": [],
   "source": []
  },
  {
   "cell_type": "markdown",
   "metadata": {},
   "source": [
    "## Exercício 37"
   ]
  },
  {
   "cell_type": "code",
   "execution_count": null,
   "metadata": {},
   "outputs": [],
   "source": [
    "def find_anagrams(list1):\n",
    "    ans= []\n",
    "    marked = []\n",
    "\n",
    "    for ind, l1 in enumerate(list1):\n",
    "        aux = []\n",
    "        if l1 not in marked:\n",
    "            aux.append(l1)\n",
    "            marked.append(l1)\n",
    "            for l2 in list1[ind+1:]:\n",
    "                if (l2 not in marked) and (sorted(l1)==sorted(l2)):\n",
    "                    aux.append(l2)\n",
    "                    marked.append(l2)\n",
    "            ans.append(aux)\n",
    "    print (ans)\n",
    "\n",
    "list1 = ['eat','ate','done','tea','soup','node']\n",
    "find_anagrams(list1)"
   ]
  },
  {
   "cell_type": "markdown",
   "metadata": {},
   "source": [
    "## Exercício 38"
   ]
  },
  {
   "cell_type": "code",
   "execution_count": null,
   "metadata": {},
   "outputs": [],
   "source": [
    "def valuesort(d):\n",
    "    keys = d.keys()\n",
    "    values_sorted = []\n",
    "    for i in sorted(keys):\n",
    "        values_sorted.append(d[i])\n",
    "    print(values_sorted)\n",
    "\n",
    "\n",
    "\n",
    "d = {'x':1,'y':2,'a':3}\n",
    "valuesort(d)"
   ]
  },
  {
   "cell_type": "markdown",
   "metadata": {},
   "source": [
    "## Exercício 39"
   ]
  },
  {
   "cell_type": "code",
   "execution_count": null,
   "metadata": {},
   "outputs": [],
   "source": [
    "def invertdict(d):\n",
    "    nd = {}\n",
    "    for x,y in d.items():\n",
    "        nd[y]=x\n",
    "    print (nd)\n",
    "\n",
    "\n",
    "d = {'x':1, 'y':2, 'z':3}\n",
    "invertdict(d)"
   ]
  }
 ],
 "metadata": {
  "kernelspec": {
   "display_name": "Python [conda env:test] *",
   "language": "python",
   "name": "conda-env-test-py"
  },
  "language_info": {
   "codemirror_mode": {
    "name": "ipython",
    "version": 3
   },
   "file_extension": ".py",
   "mimetype": "text/x-python",
   "name": "python",
   "nbconvert_exporter": "python",
   "pygments_lexer": "ipython3",
   "version": "3.7.4"
  }
 },
 "nbformat": 4,
 "nbformat_minor": 2
}
