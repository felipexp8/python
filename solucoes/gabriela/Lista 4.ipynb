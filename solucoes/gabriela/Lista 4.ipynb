{
 "cells": [
  {
   "cell_type": "markdown",
   "metadata": {},
   "source": [
    "# Lista 4"
   ]
  },
  {
   "cell_type": "markdown",
   "metadata": {},
   "source": [
    "## Exercício 1"
   ]
  },
  {
   "cell_type": "code",
   "execution_count": 9,
   "metadata": {},
   "outputs": [
    {
     "name": "stdout",
     "output_type": "stream",
     "text": [
      "Insira um numero: 13\n",
      "Insira outro numero: 12\n",
      "Maximo:  13\n"
     ]
    }
   ],
   "source": [
    "def maximum(n1,n2):\n",
    "    if(n1>n2):\n",
    "        return n1\n",
    "    else:\n",
    "        return n2\n",
    "\n",
    "num1 = input(\"Insira um numero: \")\n",
    "num2 = input(\"Insira outro numero: \")\n",
    "print (\"Maximo: \", maximum(num1,num2))"
   ]
  },
  {
   "cell_type": "markdown",
   "metadata": {},
   "source": [
    "## Exercício 2"
   ]
  },
  {
   "cell_type": "code",
   "execution_count": 10,
   "metadata": {},
   "outputs": [
    {
     "name": "stdout",
     "output_type": "stream",
     "text": [
      "Insira um numero: 3\n",
      "Fizz\n"
     ]
    }
   ],
   "source": [
    "def fizz_buzz(num):\n",
    "    div3 = ((num%3)==0)\n",
    "    div5 = ((num%5)==0)\n",
    "    if(div3 and div5):\n",
    "        return \"FizzBuzz\"\n",
    "    elif (div3):\n",
    "        return \"Fizz\"\n",
    "    elif (div5):\n",
    "        return \"Buzz\"\n",
    "    else:\n",
    "        return num\n",
    "\n",
    "num = int(input(\"Insira um numero: \"))\n",
    "print(fizz_buzz(num))"
   ]
  },
  {
   "cell_type": "markdown",
   "metadata": {},
   "source": [
    "## Exercício 3"
   ]
  },
  {
   "cell_type": "code",
   "execution_count": 13,
   "metadata": {},
   "outputs": [
    {
     "name": "stdout",
     "output_type": "stream",
     "text": [
      "Insira a velocidade: 80\n",
      "Points:  2.0\n"
     ]
    }
   ],
   "source": [
    "def speed_control(speed):\n",
    "    if (speed<70):\n",
    "        print(\"Ok.\")\n",
    "    else:\n",
    "        over = speed-70\n",
    "        points = over/5\n",
    "        if (points>12):\n",
    "            print(\"Licence suspended.\")\n",
    "        else:\n",
    "            print(\"Points: \",points)\n",
    "\n",
    "num = int(input(\"Insira a velocidade: \"))\n",
    "speed_control(num)"
   ]
  },
  {
   "cell_type": "markdown",
   "metadata": {},
   "source": [
    "## Exercício 4"
   ]
  },
  {
   "cell_type": "code",
   "execution_count": 14,
   "metadata": {},
   "outputs": [
    {
     "name": "stdout",
     "output_type": "stream",
     "text": [
      "Insira um numero: 4\n",
      "0  EVEN\n",
      "1  ODD\n",
      "2  EVEN\n",
      "3  ODD\n",
      "4  EVEN\n"
     ]
    }
   ],
   "source": [
    "def showNumbers(limit):\n",
    "    for i in range(limit+1):\n",
    "        if((i%2)==0):\n",
    "            print(i,\" EVEN\")\n",
    "        else:\n",
    "            print(i,\" ODD\")\n",
    "            \n",
    "num = int(input(\"Insira um numero: \"))\n",
    "showNumbers(num)"
   ]
  },
  {
   "cell_type": "markdown",
   "metadata": {},
   "source": [
    "## Exercício 5"
   ]
  },
  {
   "cell_type": "code",
   "execution_count": 15,
   "metadata": {},
   "outputs": [
    {
     "name": "stdout",
     "output_type": "stream",
     "text": [
      "Insira um numero: 5\n",
      "Soma dos multiplos de 3 e 5:  8\n"
     ]
    }
   ],
   "source": [
    "def mult35(limit):\n",
    "    summ = 0\n",
    "    for i in range(limit+1):\n",
    "        if((i%3==0)or(i%5==0)):\n",
    "            summ += i\n",
    "    return summ\n",
    "\n",
    "num = int(input(\"Insira um numero: \"))\n",
    "print(\"Soma dos multiplos de 3 e 5: \", mult35(num))"
   ]
  },
  {
   "cell_type": "markdown",
   "metadata": {},
   "source": [
    "## Exercício 6"
   ]
  },
  {
   "cell_type": "code",
   "execution_count": 16,
   "metadata": {},
   "outputs": [
    {
     "name": "stdout",
     "output_type": "stream",
     "text": [
      "Insira um numero: 3\n",
      "*\n",
      "**\n",
      "***\n"
     ]
    }
   ],
   "source": [
    "def show_stars(rows):\n",
    "    for i in range(rows):\n",
    "        for j in range(i+1):\n",
    "            print('*', end='')\n",
    "        print('')\n",
    "        \n",
    "num = int(input(\"Insira um numero: \"))\n",
    "show_stars(num)"
   ]
  },
  {
   "cell_type": "markdown",
   "metadata": {},
   "source": [
    "## Exercício 7"
   ]
  },
  {
   "cell_type": "code",
   "execution_count": 17,
   "metadata": {},
   "outputs": [
    {
     "name": "stdout",
     "output_type": "stream",
     "text": [
      "Insira um numero: 6\n",
      "2\n",
      "3\n",
      "5\n"
     ]
    }
   ],
   "source": [
    "def is_prime(num):\n",
    "    if ((num==2) or (num==3)):\n",
    "        return True\n",
    "    elif ((num%2==0) or (num<2)):\n",
    "        return False\n",
    "    else:\n",
    "        for i in range(3, int(num**0.5)+1, 2):\n",
    "            if((n%i)==0):\n",
    "                return False\n",
    "        return True\n",
    "\n",
    "def prime_numbers(limit):\n",
    "    for i in range(0,limit+1):\n",
    "        if is_prime(i):\n",
    "            print (i)\n",
    "            \n",
    "num = int(input(\"Insira um numero: \"))\n",
    "prime_numbers(num)"
   ]
  },
  {
   "cell_type": "code",
   "execution_count": null,
   "metadata": {},
   "outputs": [],
   "source": []
  }
 ],
 "metadata": {
  "kernelspec": {
   "display_name": "Python [conda env:test] *",
   "language": "python",
   "name": "conda-env-test-py"
  },
  "language_info": {
   "codemirror_mode": {
    "name": "ipython",
    "version": 3
   },
   "file_extension": ".py",
   "mimetype": "text/x-python",
   "name": "python",
   "nbconvert_exporter": "python",
   "pygments_lexer": "ipython3",
   "version": "3.7.4"
  }
 },
 "nbformat": 4,
 "nbformat_minor": 2
}
