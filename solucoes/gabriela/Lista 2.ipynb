{
 "cells": [
  {
   "cell_type": "markdown",
   "metadata": {},
   "source": [
    "# Lista 2 "
   ]
  },
  {
   "cell_type": "markdown",
   "metadata": {},
   "source": [
    "## Exercício 1"
   ]
  },
  {
   "cell_type": "code",
   "execution_count": 1,
   "metadata": {},
   "outputs": [
    {
     "name": "stdout",
     "output_type": "stream",
     "text": [
      "Insira um numero: 1\n",
      "Insira outro numero: 2\n",
      "O menor numero eh:  1.0\n"
     ]
    }
   ],
   "source": [
    "a = float(input(\"Insira um numero: \"))\n",
    "b = float(input(\"Insira outro numero: \"))\n",
    "if a<b:\n",
    "    print(\"O menor numero eh: \",a)\n",
    "else:\n",
    "    print(\"O menor numero eh: \",b)"
   ]
  },
  {
   "cell_type": "markdown",
   "metadata": {},
   "source": [
    "## Exercício 2"
   ]
  },
  {
   "cell_type": "code",
   "execution_count": 3,
   "metadata": {},
   "outputs": [
    {
     "name": "stdout",
     "output_type": "stream",
     "text": [
      "Insira sua idade: 17\n",
      "Insira o seu peso: 51\n",
      "Insira o tempo de descanso: 6\n",
      "Individuo pode doar sangue.\n"
     ]
    }
   ],
   "source": [
    "age = int(input(\"Insira sua idade: \"))\n",
    "weight = int(input (\"Insira o seu peso: \"))\n",
    "sleep = int(input (\"Insira o tempo de descanso: \"))\n",
    "if((age>=16 and age<=69) and (weight>50) and (sleep>=6)):\n",
    "    print (\"Individuo pode doar sangue.\")\n",
    "else:\n",
    "    print (\"Individuo não pode doar sangue.\")"
   ]
  },
  {
   "cell_type": "markdown",
   "metadata": {},
   "source": [
    "## Exercício 3"
   ]
  },
  {
   "cell_type": "code",
   "execution_count": null,
   "metadata": {},
   "outputs": [],
   "source": [
    "print (\"Equation: f(x)= a.x2 + b.x + c\")\n",
    "a = int(input(\"Insira um valor para a: \"))\n",
    "b = int(input(\"Insira um valor para b: \"))\n",
    "c = int(input(\"Insira um valor para c: \"))\n",
    "\n",
    "delta = (b*b)-4*a*c\n",
    "\n",
    "if (delta < 0):\n",
    "    print (\"Nenhuma raiz real\")\n",
    "elif (delta == 0):\n",
    "    print (\"Uma raiz real\")\n",
    "elif (delta > 0):\n",
    "    print (\"Duas raizes reais\")"
   ]
  },
  {
   "cell_type": "markdown",
   "metadata": {},
   "source": [
    "## Exercício 4"
   ]
  },
  {
   "cell_type": "code",
   "execution_count": null,
   "metadata": {},
   "outputs": [],
   "source": [
    "n1 = int(input(\"Insira um numero: \"))\n",
    "n2 = int(input(\"Insira outro numero: \"))\n",
    "\n",
    "soma = n1+n2\n",
    "\n",
    "if(soma>20):\n",
    "    print (\"Resultado: \", soma+8)\n",
    "else:\n",
    "    print (\"Resultao: \",soma-5)"
   ]
  },
  {
   "cell_type": "markdown",
   "metadata": {},
   "source": [
    "## Exercício 5"
   ]
  },
  {
   "cell_type": "code",
   "execution_count": null,
   "metadata": {},
   "outputs": [],
   "source": [
    "import math\n",
    "\n",
    "num = int(input(\"Digite um numero: \"))\n",
    "\n",
    "if (num>=0): \n",
    "    print(math.sqrt(num))\n",
    "else:\n",
    "    print(num*num)"
   ]
  },
  {
   "cell_type": "markdown",
   "metadata": {},
   "source": [
    "## Exercício 6"
   ]
  },
  {
   "cell_type": "code",
   "execution_count": null,
   "metadata": {},
   "outputs": [],
   "source": [
    "meses = [\"janeiro\",\"fevereiro\",\"marco\",\"abril\",\"maio\", \"junho\", \"julho\", \"agosto\",\"setembro\",\"outubro\", \"novembro\",\"dezembro\"]\n",
    "num = int(input(\"Insira um numero entre 1 e 12: \"))\n",
    "\n",
    "if(num<1 or num>12):\n",
    "    print(\"Erro. Numero invalido.\")\n",
    "else:\n",
    "    print (\"mes: \",meses[num-1])"
   ]
  },
  {
   "cell_type": "code",
   "execution_count": null,
   "metadata": {},
   "outputs": [],
   "source": []
  }
 ],
 "metadata": {
  "kernelspec": {
   "display_name": "Python [conda env:test] *",
   "language": "python",
   "name": "conda-env-test-py"
  },
  "language_info": {
   "codemirror_mode": {
    "name": "ipython",
    "version": 3
   },
   "file_extension": ".py",
   "mimetype": "text/x-python",
   "name": "python",
   "nbconvert_exporter": "python",
   "pygments_lexer": "ipython3",
   "version": "3.7.4"
  }
 },
 "nbformat": 4,
 "nbformat_minor": 2
}
