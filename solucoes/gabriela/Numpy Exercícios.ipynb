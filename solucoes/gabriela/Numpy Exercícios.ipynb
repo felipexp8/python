{
 "cells": [
  {
   "cell_type": "markdown",
   "metadata": {},
   "source": [
    "# Numpy Exercícios"
   ]
  },
  {
   "cell_type": "code",
   "execution_count": 1,
   "metadata": {},
   "outputs": [],
   "source": [
    "import numpy as np"
   ]
  },
  {
   "cell_type": "markdown",
   "metadata": {},
   "source": [
    "##    Crie um vetor nulo de tamanho 10"
   ]
  },
  {
   "cell_type": "code",
   "execution_count": 35,
   "metadata": {},
   "outputs": [
    {
     "name": "stdout",
     "output_type": "stream",
     "text": [
      "[0 0 0 0 0 0 0 0 0 0]\n"
     ]
    }
   ],
   "source": [
    "v = np.zeros(10,dtype=np.int16)\n",
    "print(v)"
   ]
  },
  {
   "cell_type": "markdown",
   "metadata": {},
   "source": [
    "##    Como encontrar o tamanho da memória de qualquer matriz"
   ]
  },
  {
   "cell_type": "code",
   "execution_count": 37,
   "metadata": {},
   "outputs": [
    {
     "name": "stdout",
     "output_type": "stream",
     "text": [
      "Memory size: 240 bytes\n"
     ]
    }
   ],
   "source": [
    "print(\"Memory size: %d bytes\" % (v.size*v.itemsize))"
   ]
  },
  {
   "cell_type": "markdown",
   "metadata": {},
   "source": [
    "##    Crie um vetor nulo de tamanho 10, mas o quinto valor, que é 1"
   ]
  },
  {
   "cell_type": "code",
   "execution_count": 51,
   "metadata": {},
   "outputs": [
    {
     "name": "stdout",
     "output_type": "stream",
     "text": [
      "[0. 0. 0. 0. 1. 0. 0. 0. 0. 0.]\n"
     ]
    }
   ],
   "source": [
    "v = np.zeros(10)\n",
    "v[4]=1\n",
    "print(v)"
   ]
  },
  {
   "cell_type": "markdown",
   "metadata": {},
   "source": [
    "##    Crie um vetor com valores que variam de 10 a 49"
   ]
  },
  {
   "cell_type": "code",
   "execution_count": 6,
   "metadata": {},
   "outputs": [
    {
     "name": "stdout",
     "output_type": "stream",
     "text": [
      "[10 11 12 13 14 15 16 17 18 19 20 21 22 23 24 25 26 27 28 29 30 31 32 33\n",
      " 34 35 36 37 38 39 40 41 42 43 44 45 46 47 48 49]\n"
     ]
    }
   ],
   "source": [
    "v = np.arange(10,50,1)\n",
    "print(v)"
   ]
  },
  {
   "cell_type": "markdown",
   "metadata": {},
   "source": [
    "##    Inverter um vetor (o primeiro elemento se torna o último)"
   ]
  },
  {
   "cell_type": "code",
   "execution_count": 8,
   "metadata": {},
   "outputs": [
    {
     "name": "stdout",
     "output_type": "stream",
     "text": [
      "[49 48 47 46 45 44 43 42 41 40 39 38 37 36 35 34 33 32 31 30 29 28 27 26\n",
      " 25 24 23 22 21 20 19 18 17 16 15 14 13 12 11 10]\n"
     ]
    }
   ],
   "source": [
    "iv = np.flip(v)\n",
    "print(iv)"
   ]
  },
  {
   "cell_type": "markdown",
   "metadata": {},
   "source": [
    "##    Crie uma matriz 3x3 com valores que variam de 0 a 8"
   ]
  },
  {
   "cell_type": "code",
   "execution_count": 25,
   "metadata": {},
   "outputs": [
    {
     "name": "stdout",
     "output_type": "stream",
     "text": [
      "[[7 5 7]\n",
      " [0 5 1]\n",
      " [4 7 8]]\n"
     ]
    }
   ],
   "source": [
    "v = np.random.randint(9,size=(3,3))\n",
    "print(v)"
   ]
  },
  {
   "cell_type": "markdown",
   "metadata": {},
   "source": [
    "##    Crie uma matriz de identidade 3x3"
   ]
  },
  {
   "cell_type": "code",
   "execution_count": 16,
   "metadata": {},
   "outputs": [
    {
     "name": "stdout",
     "output_type": "stream",
     "text": [
      "[[1 0 0]\n",
      " [0 1 0]\n",
      " [0 0 1]]\n"
     ]
    }
   ],
   "source": [
    "i = np.identity(3,dtype=np.int16)\n",
    "print(i)"
   ]
  },
  {
   "cell_type": "markdown",
   "metadata": {},
   "source": [
    "##    Crie uma matriz 3x3x3 com valores aleatórios"
   ]
  },
  {
   "cell_type": "code",
   "execution_count": 22,
   "metadata": {},
   "outputs": [
    {
     "name": "stdout",
     "output_type": "stream",
     "text": [
      "[[[66  4 52]\n",
      "  [54 74  2]\n",
      "  [ 2  2 83]]\n",
      "\n",
      " [[ 3 47 40]\n",
      "  [22  4 87]\n",
      "  [46 48 88]]\n",
      "\n",
      " [[25  8 27]\n",
      "  [85 11 71]\n",
      "  [64 37 58]]]\n"
     ]
    }
   ],
   "source": [
    "a = np.random.randint(100,size=(3,3,3))\n",
    "print(a)"
   ]
  },
  {
   "cell_type": "markdown",
   "metadata": {},
   "source": [
    "##    Crie uma matriz 10x10 com valores aleatórios e encontre os valores mínimo e máximo"
   ]
  },
  {
   "cell_type": "code",
   "execution_count": 28,
   "metadata": {},
   "outputs": [
    {
     "name": "stdout",
     "output_type": "stream",
     "text": [
      "[[77 49  0 41 97  4 38 60 89 10]\n",
      " [ 8 19 97 88 75  6 39  3 50 36]\n",
      " [26 27 14 33 91 54 50  3 55 99]\n",
      " [54 26 79 80 51 17 75 68 92 20]\n",
      " [ 3 10 77 14 12 21 79 95 82 16]\n",
      " [38 50 94 53 84 72 85 46 49 75]\n",
      " [40 96 79 21 64 65 84 37 76  2]\n",
      " [31 72 27 18  9 97 45 58 92 78]\n",
      " [19 35 34 64 55 42 87 73 39 78]\n",
      " [67 63 12 86 80 38 35 71 64 45]]\n",
      "Minimo:  0\n",
      "Maximo:  99\n"
     ]
    }
   ],
   "source": [
    "a = np.random.randint(100,size=(10,10))\n",
    "print(a)\n",
    "print(\"Minimo: \",np.amin(a))\n",
    "print(\"Maximo: \",np.amax(a))"
   ]
  },
  {
   "cell_type": "markdown",
   "metadata": {},
   "source": [
    "##    Crie um vetor aleatório de tamanho 30 e encontre o valor médio"
   ]
  },
  {
   "cell_type": "code",
   "execution_count": 36,
   "metadata": {},
   "outputs": [
    {
     "name": "stdout",
     "output_type": "stream",
     "text": [
      "[0.92925178 0.82107023 0.01420986 0.29913798 0.49806444 0.75126924\n",
      " 0.30936061 0.45967971 0.95268059 0.33075927 0.09969415 0.97549728\n",
      " 0.83065997 0.27728577 0.91945569 0.08645406 0.38818239 0.99928009\n",
      " 0.53269819 0.53089476 0.45249122 0.44592286 0.77522853 0.0657488\n",
      " 0.63961603 0.25379475 0.21050757 0.69012113 0.67487508 0.74808169]\n",
      "Media:  0.5320657908918748\n"
     ]
    }
   ],
   "source": [
    "v = np.random.random(30)\n",
    "print(v)\n",
    "m = np.mean(v)\n",
    "print(\"Media: \",m)"
   ]
  },
  {
   "cell_type": "markdown",
   "metadata": {},
   "source": [
    "##    Crie uma matriz 2D com 1 na borda e 0 dentro"
   ]
  },
  {
   "cell_type": "code",
   "execution_count": 39,
   "metadata": {},
   "outputs": [
    {
     "name": "stdout",
     "output_type": "stream",
     "text": [
      "[[1. 1. 1. 1. 1. 1.]\n",
      " [1. 0. 0. 0. 0. 1.]\n",
      " [1. 0. 0. 0. 0. 1.]\n",
      " [1. 0. 0. 0. 0. 1.]\n",
      " [1. 0. 0. 0. 0. 1.]\n",
      " [1. 1. 1. 1. 1. 1.]]\n"
     ]
    }
   ],
   "source": [
    "m = np.ones((6,6))\n",
    "m[1:-1,1:-1]=0\n",
    "print(m)"
   ]
  },
  {
   "cell_type": "markdown",
   "metadata": {},
   "source": [
    "##    Crie uma matriz 5x5 com valores 1,2,3,4 logo abaixo da diagonal"
   ]
  },
  {
   "cell_type": "code",
   "execution_count": 71,
   "metadata": {},
   "outputs": [
    {
     "name": "stdout",
     "output_type": "stream",
     "text": [
      "[[0 0 0 0 0]\n",
      " [1 0 0 0 0]\n",
      " [0 2 0 0 0]\n",
      " [0 0 3 0 0]\n",
      " [0 0 0 4 0]]\n"
     ]
    }
   ],
   "source": [
    "m = np.diag(1+np.arange(4),k=-1)\n",
    "print(m)"
   ]
  },
  {
   "cell_type": "markdown",
   "metadata": {},
   "source": [
    "##    Crie uma matriz estruturada representando uma posição (x, y) e uma cor (r, g, b)"
   ]
  },
  {
   "cell_type": "code",
   "execution_count": 79,
   "metadata": {},
   "outputs": [
    {
     "name": "stdout",
     "output_type": "stream",
     "text": [
      "[((1., 1.), (1., 1., 1.)) ((1., 1.), (1., 1., 1.))\n",
      " ((1., 1.), (1., 1., 1.))]\n"
     ]
    }
   ],
   "source": [
    "m = np.ones(3, [ ('posicao', [ ('x', float, 1), ('y', float, 1)] ),\n",
    "                   ('cor',    [ ('r', float, 1), ('g', float, 1),\n",
    "                               ('b', float, 1)])])\n",
    "print(m)"
   ]
  },
  {
   "cell_type": "markdown",
   "metadata": {},
   "source": [
    "## Subtrair a média de cada linha de uma matriz"
   ]
  },
  {
   "cell_type": "code",
   "execution_count": 81,
   "metadata": {},
   "outputs": [
    {
     "name": "stdout",
     "output_type": "stream",
     "text": [
      "[[2 0 2 2]\n",
      " [7 3 5 2]\n",
      " [9 9 1 3]\n",
      " [5 1 1 8]]\n",
      "[1 4 5 3]\n",
      "[[ 1 -1  1  1]\n",
      " [ 3 -1  1 -2]\n",
      " [ 4  4 -4 -2]\n",
      " [ 2 -2 -2  5]]\n"
     ]
    }
   ],
   "source": [
    "matriz = np.random.randint(10,size=(4,4))\n",
    "print(matriz)\n",
    "media = np.mean(matriz,axis=1).astype(int)\n",
    "print(media)\n",
    "\n",
    "for l,n in zip(matriz,media):\n",
    "    l -= n\n",
    "    \n",
    "print(matriz)\n"
   ]
  },
  {
   "cell_type": "markdown",
   "metadata": {},
   "source": [
    "##    Como encontrar o valor mais frequente em uma matriz?"
   ]
  },
  {
   "cell_type": "code",
   "execution_count": 56,
   "metadata": {},
   "outputs": [
    {
     "name": "stdout",
     "output_type": "stream",
     "text": [
      "2\n"
     ]
    }
   ],
   "source": [
    "a = np.array([1,2,2,2,4,5,2,1])\n",
    "c = np.bincount(a)\n",
    "print(np.argmax(c))"
   ]
  },
  {
   "cell_type": "markdown",
   "metadata": {},
   "source": [
    "##    Crie uma matriz a partir de um arquivo"
   ]
  },
  {
   "cell_type": "code",
   "execution_count": 60,
   "metadata": {},
   "outputs": [
    {
     "name": "stdout",
     "output_type": "stream",
     "text": [
      "[[44 41 21 74 61 73 28 79 64 41]\n",
      " [81  3 63 67 75 41 75 45 25 78]\n",
      " [ 1 63 44 89 42 65 71 16 94 38]\n",
      " [89  7  1  4  0 69 40 81 43 99]\n",
      " [83 33 17 83 48 53  2 19 90 11]\n",
      " [67 29 92 85 42 43 10 17 31 68]\n",
      " [57 79 94  7 68 63 82 73 56 59]\n",
      " [90 27 25 26 58 88 83 99 66 62]\n",
      " [34 41 86 93 15 92 65 80  5 19]\n",
      " [37 82 57 90 48 88 98 18 29 38]]\n"
     ]
    }
   ],
   "source": [
    "m = np.load(\"matriz.npy\")\n",
    "print(m)"
   ]
  },
  {
   "cell_type": "markdown",
   "metadata": {},
   "source": [
    "##    Crie uma matriz com valores aleatórios e salve para um arquivo"
   ]
  },
  {
   "cell_type": "code",
   "execution_count": 58,
   "metadata": {},
   "outputs": [],
   "source": [
    "m = np.random.randint(100,size=(10,10))\n",
    "np.save('matriz',m)"
   ]
  }
 ],
 "metadata": {
  "kernelspec": {
   "display_name": "Python [conda env:test] *",
   "language": "python",
   "name": "conda-env-test-py"
  },
  "language_info": {
   "codemirror_mode": {
    "name": "ipython",
    "version": 3
   },
   "file_extension": ".py",
   "mimetype": "text/x-python",
   "name": "python",
   "nbconvert_exporter": "python",
   "pygments_lexer": "ipython3",
   "version": "3.7.4"
  }
 },
 "nbformat": 4,
 "nbformat_minor": 2
}
