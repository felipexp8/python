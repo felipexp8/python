{
 "cells": [
  {
   "cell_type": "markdown",
   "metadata": {},
   "source": [
    "## Comparativo PP vc POO"
   ]
  },
  {
   "cell_type": "markdown",
   "metadata": {},
   "source": [
    "### Programação Procedural"
   ]
  },
  {
   "cell_type": "code",
   "execution_count": 37,
   "metadata": {},
   "outputs": [
    {
     "name": "stdout",
     "output_type": "stream",
     "text": [
      "['aluno0', 'aluno1', 'aluno2', 'aluno3']\n"
     ]
    }
   ],
   "source": [
    "alunos = [\"aluno1\",\"aluno2\",\"aluno3\"]\n",
    "\n",
    "def adicionaNovoAluno(nome):\n",
    "    alunos.append(nome)\n",
    "    \n",
    "def classificaAlunos():\n",
    "    alunos.sort()\n",
    "    \n",
    "adicionaNovoAluno(\"aluno0\")\n",
    "\n",
    "classificaAlunos();\n",
    "print(alunos)"
   ]
  },
  {
   "cell_type": "markdown",
   "metadata": {},
   "source": [
    "### Programação Orientada a Objeto"
   ]
  },
  {
   "cell_type": "code",
   "execution_count": 55,
   "metadata": {},
   "outputs": [],
   "source": [
    "class gerenciaAlunos:\n",
    "    alunos = []\n",
    "    \n",
    "    def adicionaNovoAluno(self,nome):\n",
    "        self.alunos.append(nome)\n",
    "    \n",
    "    def classificaAlunos(self):\n",
    "        self.alunos.sort()"
   ]
  },
  {
   "cell_type": "code",
   "execution_count": 49,
   "metadata": {},
   "outputs": [
    {
     "name": "stdout",
     "output_type": "stream",
     "text": [
      "['aluno0', 'aluno1', 'aluno2', 'aluno3']\n"
     ]
    }
   ],
   "source": [
    "alunos = gerenciaAlunos()\n",
    "\n",
    "alunos.adicionaNovoAluno(\"aluno0\")\n",
    "alunos.adicionaNovoAluno(\"aluno1\")\n",
    "alunos.adicionaNovoAluno(\"aluno2\")\n",
    "alunos.adicionaNovoAluno(\"aluno3\")\n",
    "\n",
    "alunos.classificaAlunos();\n",
    "\n",
    "print(alunos.alunos)"
   ]
  },
  {
   "cell_type": "markdown",
   "metadata": {},
   "source": [
    "## Herança entre classes"
   ]
  },
  {
   "cell_type": "code",
   "execution_count": 56,
   "metadata": {},
   "outputs": [],
   "source": [
    "# A Classe turma herda atributos e métodos da Classe gerenciaAlunos\n",
    "class turma(gerenciaAlunos):\n",
    "    nomedaturma = \"\"\n",
    "    \n",
    "    def defineNomeTurma(self,nome):\n",
    "        self.nomedaturma = nome"
   ]
  },
  {
   "cell_type": "code",
   "execution_count": 88,
   "metadata": {},
   "outputs": [
    {
     "name": "stdout",
     "output_type": "stream",
     "text": [
      "Hub IA\n",
      "['alunoA', 'alunoA', 'alunoA', 'alunoB', 'alunoB', 'alunoB', 'alunoC', 'alunoC', 'alunoC', 'alunoD', 'alunoD', 'alunoD']\n"
     ]
    }
   ],
   "source": [
    "rubia = turma()\n",
    "\n",
    "rubia.defineNomeTurma(\"Hub IA\")\n",
    "\n",
    "print(rubia.nomedaturma)\n",
    "\n",
    "rubia.adicionaNovoAluno(\"alunoA\")\n",
    "rubia.adicionaNovoAluno(\"alunoB\")\n",
    "rubia.adicionaNovoAluno(\"alunoC\")\n",
    "rubia.adicionaNovoAluno(\"alunoD\")\n",
    "\n",
    "rubia.classificaAlunos();\n",
    "\n",
    "print(rubia.alunos)"
   ]
  },
  {
   "cell_type": "markdown",
   "metadata": {},
   "source": [
    "## Métodos inerentes às classes"
   ]
  },
  {
   "cell_type": "code",
   "execution_count": 126,
   "metadata": {},
   "outputs": [],
   "source": [
    "class pessoa():\n",
    "    nome = \"\"\n",
    "    endereco = \"\"\n",
    "    def __init__(self, nm, ed):\n",
    "        self.nome = nm\n",
    "        self.endereco = ed\n",
    "        \n",
    "    def __del__(self):def __str__(self):\n",
    "        return \"< \" + self.nome + \" \" + self.endereco + \" >\"\n",
    "        print(\"destruindo dados pessoa: \", self.nome)\n",
    "        \n",
    "    def __str__(self):\n",
    "        return \"< \" + self.nome + \" \" + self.endereco + \" >\"\n",
    "    \n",
    "    def comparar(self, pessoa):\n",
    "        print(\"objeto metodo\",self.nome)\n",
    "        print(\"objeto recebido\",pessoa.nome)"
   ]
  },
  {
   "cell_type": "code",
   "execution_count": 121,
   "metadata": {},
   "outputs": [
    {
     "name": "stdout",
     "output_type": "stream",
     "text": [
      "destruindo dados pessoa:  Alessandra\n",
      "objeto metodo Silvio\n",
      "objeto recebido Alessandra\n",
      "destruindo dados pessoa:  Silvio\n"
     ]
    }
   ],
   "source": [
    "silvio = pessoa(\"Silvio\", \"Rua X\")\n",
    "\n",
    "outro = pessoa(\"Alessandra\", \"Rua y\")\n",
    "\n",
    "silvio.comparar(outro)\n",
    "\n",
    "silvio = None"
   ]
  },
  {
   "cell_type": "markdown",
   "metadata": {},
   "source": [
    "## Variáveis protegidas"
   ]
  },
  {
   "cell_type": "code",
   "execution_count": 162,
   "metadata": {},
   "outputs": [],
   "source": [
    "class funcionario(pessoa):\n",
    "    funcao = \"\"\n",
    "    __aniversario = \"\"\n",
    "    \n",
    "    def __init__(self,funcional,nm,ed,an):\n",
    "        self.__aniversario = an\n",
    "        self.funcao = funcional\n",
    "        pessoa.__init__(self,nm,ed)\n",
    "        \n",
    "    def dataaniversario(self):\n",
    "        print(self.__aniversario)\n",
    "        \n",
    "    #def __str__(self):\n",
    "        #return \"< \" + self.funcao + \" >\""
   ]
  },
  {
   "cell_type": "code",
   "execution_count": 163,
   "metadata": {},
   "outputs": [
    {
     "name": "stdout",
     "output_type": "stream",
     "text": [
      "destruindo dados pessoa:  Alice\n",
      "< Alice Rua Z >\n",
      "17/10/1990\n"
     ]
    }
   ],
   "source": [
    "func = funcionario(\"adm\",\"Alice\",\"Rua Z\",\"17/10/1990\")\n",
    "\n",
    "print(func)\n",
    "\n",
    "func.dataaniversario()"
   ]
  }
 ],
 "metadata": {
  "kernelspec": {
   "display_name": "Python [conda env:miniconda3-jupyterteste] *",
   "language": "python",
   "name": "conda-env-miniconda3-jupyterteste-py"
  },
  "language_info": {
   "codemirror_mode": {
    "name": "ipython",
    "version": 3
   },
   "file_extension": ".py",
   "mimetype": "text/x-python",
   "name": "python",
   "nbconvert_exporter": "python",
   "pygments_lexer": "ipython3",
   "version": "3.7.4"
  }
 },
 "nbformat": 4,
 "nbformat_minor": 2
}
