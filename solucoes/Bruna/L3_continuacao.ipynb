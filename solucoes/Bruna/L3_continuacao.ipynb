{
 "cells": [
  {
   "cell_type": "markdown",
   "metadata": {},
   "source": [
    "problem 14: Write a function lensort to sort a list of strings based on length.\n",
    " "
   ]
  },
  {
   "cell_type": "code",
   "execution_count": null,
   "metadata": {},
   "outputs": [],
   "source": [
    "lista = ['python', 'perl', 'java', 'c', 'haskell', 'ruby']\n",
    "lista_ordenada = sorted(lista, key=len)  \n",
    "    \n",
    "print(lista_ordenada)\n"
   ]
  },
  {
   "cell_type": "markdown",
   "metadata": {},
   "source": [
    "problem 15: Improve the unique function written in previous problems to take an optional key function as argument and use the return value of the key function to check for uniqueness."
   ]
  },
  {
   "cell_type": "code",
   "execution_count": null,
   "metadata": {},
   "outputs": [],
   "source": [
    "lista_ex15 = [\"Python\", \"java\", \"Python\", \"Java\"]\n",
    "\n",
    "key = lambda lista_ex15 : lista_ex15.lower()\n",
    "\n",
    "def unique(param_lista, param_func):\n",
    "    lista = []\n",
    "    lista_unique = []\n",
    "    for i in param_lista:\n",
    "        \n",
    "        lista.append(param_func(i))\n",
    "   \n",
    "    for k in lista:\n",
    "       \n",
    "        if not k in lista_unique:\n",
    "            lista_unique.append(k)  \n",
    "        \n",
    "    return print(lista_unique)\n",
    "\n",
    "unique(lista_ex15, key)\n",
    "\n",
    "#def retorno_lower(x):\n",
    "#    lista=[]\n",
    "#    for i in range(len(x)):\n",
    "#        lista.append(x[i].lower())\n",
    "#    return lista\n",
    "\n",
    "#retorno_lower(lista_ex15)\n",
    "\n",
    "\n",
    "\n",
    "\n"
   ]
  },
  {
   "cell_type": "markdown",
   "metadata": {},
   "source": [
    "problem 16: Reimplement the unique function implemented in the earlier examples using sets.\n"
   ]
  },
  {
   "cell_type": "code",
   "execution_count": null,
   "metadata": {
    "scrolled": true
   },
   "outputs": [],
   "source": [
    "lista_ex15 = {\"Python\", \"java\", \"Python\", \"Java\"}\n",
    "\n",
    "def unique(param_lista, param_func):\n",
    "    lista = []\n",
    "    lista_unique = []\n",
    "    for i in param_lista:\n",
    "        \n",
    "        lista.append(param_func(i))\n",
    "   \n",
    "    for k in lista:\n",
    "       \n",
    "        if not k in lista_unique:\n",
    "            lista_unique.append(k)  \n",
    "        \n",
    "    return print(lista_unique)\n",
    "\n",
    "unique(lista_ex15, key)\n",
    "\n",
    "\n",
    "key1 = lambda lista_ex15 : lista_ex15.set()\n",
    "key2 = lambda lista_ex15 : lista_ex15.str()"
   ]
  },
  {
   "cell_type": "markdown",
   "metadata": {},
   "source": [
    "problem 17: Write a function extsort to sort a list of files based on extension."
   ]
  },
  {
   "cell_type": "code",
   "execution_count": null,
   "metadata": {},
   "outputs": [],
   "source": [
    "lista = ['a.c', 'a.py', 'b.py', 'bar.txt', 'foo.txt', 'x.c']\n",
    "\n",
    "def extsort(x):\n",
    "    a = \"\"\n",
    "    b = \"\"\n",
    "    for i in range(len(x)):\n",
    "        \n",
    "        x[i] = x[i].split(\".\")\n",
    "        a = x[i][0]\n",
    "        b = x[i][1]\n",
    "        x[i][0] = b\n",
    "        x[i][1] = a\n",
    "        j = str(x)\n",
    "    j = sorted(x)\n",
    "    \n",
    "    #print(j)\n",
    "    \n",
    "\n",
    "    var = []\n",
    "    \n",
    "    for k in range(len(j)):\n",
    "        \n",
    "        c = j[k][1]\n",
    "        d = j[k][0]\n",
    "        \n",
    "        x = c + \".\" + d\n",
    "        var.append(x)\n",
    "    print(var)\n",
    "    \n",
    "\n",
    "extsort(lista)\n",
    "\n",
    "\n",
    "\n",
    "\n",
    "#### Outra solucao\n",
    "\n",
    "#def extensao(nome):\n",
    " #   return nome.split(\".\")[-1]\n",
    "\n",
    "#lista.sort(key=lambda bruna: extensao(bruna))\n",
    "    \n",
    "\n",
    "\n"
   ]
  },
  {
   "cell_type": "markdown",
   "metadata": {},
   "source": [
    "problem 18: Write a program reverse.py to print lines of a file in reverse order."
   ]
  },
  {
   "cell_type": "code",
   "execution_count": null,
   "metadata": {},
   "outputs": [],
   "source": [
    "def listagem(arquivo):\n",
    "    with open(arquivo) as conjarquivos:   \n",
    "        linhas = conjarquivos.readlines() \n",
    "        \n",
    "    listas = []\n",
    "    \n",
    "    print(len(linhas))\n",
    "    \n",
    "    for i in range(len(linhas)-1,-1,-1):\n",
    "        \n",
    "        print(linhas[i])\n",
    "    \n",
    "arquivo = \"ex18.py\"\n",
    "\n",
    "listagem(arquivo)\n",
    "\n",
    "\n"
   ]
  },
  {
   "cell_type": "markdown",
   "metadata": {},
   "source": [
    "problem 19: Write a program to print each line of a file in reverse order."
   ]
  },
  {
   "cell_type": "code",
   "execution_count": null,
   "metadata": {},
   "outputs": [],
   "source": [
    "def listagem(arquivo):\n",
    "    with open(arquivo) as conjarquivos:   \n",
    "        linhas = conjarquivos.readlines() \n",
    "        \n",
    "    listas = []\n",
    "    \n",
    "    print(len(linhas))\n",
    "    \n",
    "    for i in range(len(linhas)):\n",
    "        \n",
    "        print(linhas[i])\n",
    "    \n",
    "arquivo = \"ex18.py\"\n",
    "\n",
    "listagem(arquivo)\n"
   ]
  },
  {
   "cell_type": "markdown",
   "metadata": {},
   "source": [
    "problem 20: Implement unix commands head and tail. The head and tail commands take a file as argument and prints its first and last 10 lines of the file respectively."
   ]
  },
  {
   "cell_type": "code",
   "execution_count": null,
   "metadata": {},
   "outputs": [],
   "source": [
    "arquivo_txt = \"aflor_drummond.txt\"\n",
    "\n",
    "def head(linhas,arquivo):\n",
    "    !head -$linhas $arquivo\n",
    "    \n",
    "\n",
    "def tail(linhas,arquivo):\n",
    "    !tail -$linhas $arquivo\n",
    "    \n",
    "head(10,arquivo_txt)\n",
    "tail(10,arquivo_txt)"
   ]
  },
  {
   "cell_type": "markdown",
   "metadata": {},
   "source": [
    "problem 21: Implement unix command grep. The grep command takes a string and a file as arguments and prints all lines in the file which contain the specified string.\n",
    "\n",
    "    $ python grep.py she.txt sure\n",
    "    The shells that she sells are seashells I'm sure.\n",
    "    I'm sure that the shells are seashore shells."
   ]
  },
  {
   "cell_type": "code",
   "execution_count": null,
   "metadata": {},
   "outputs": [],
   "source": [
    "file_name = \"aflor_drummond.txt\"\n",
    "\n",
    "def grep(file_name, search_string):\n",
    "    !grep -i $search_string $file_name \n",
    "    \n",
    "grep(file_name, \"flor\")"
   ]
  },
  {
   "cell_type": "markdown",
   "metadata": {},
   "source": [
    "problem 22: Write a program wrap.py that takes filename and width as aruguments and wraps the lines longer than width.   \n",
    "\n",
    "\n",
    "$ python wrap.py she.txt 30   \n",
    "    I'm sure that the shells are s   \n",
    "    eashore shells.   \n",
    "    So if she sells seashells on t   \n",
    "    he seashore,    \n",
    "    The shells that she sells are     \n",
    "    seashells I'm sure.   \n",
    "    She sells seashells on the sea   \n",
    "    shore;    "
   ]
  },
  {
   "cell_type": "code",
   "execution_count": null,
   "metadata": {},
   "outputs": [],
   "source": [
    "file_name = \"aflor_drummond.txt\"\n",
    "\n",
    "def wrap(path,size):\n",
    "    arq = open(path, 'r')\n",
    "    texto = arq.readlines()\n",
    "    for linha in texto:\n",
    "        tam = int(len(linha)/size)\n",
    "        if (len(linha)%size) != 0:\n",
    "            tam +=1\n",
    "        a = 0\n",
    "        b = size\n",
    "        for i in range(tam):\n",
    "            print(linha[a:b:])\n",
    "            a += size\n",
    "            b += size\n",
    "        a = 0\n",
    "        b = 0\n",
    "    arq.close()\n",
    "    \n",
    "wrap(file_name,30)"
   ]
  },
  {
   "cell_type": "code",
   "execution_count": null,
   "metadata": {},
   "outputs": [],
   "source": [
    "file_name = \"aflor_drummond.txt\"\n",
    "\n",
    "arq = open(file_name , 'r')\n",
    "lista_texto= arq.readlines()\n",
    "\n",
    "def wrap(texto,tam_lista):\n",
    "\n",
    "    \n",
    "    for frase in range(len(texto)):\n",
    "        \n",
    "        a = texto[frase][0:tam_lista:]\n",
    "       \n",
    "        b = texto[frase][tam_lista:]\n",
    "        \n",
    "        a1 = a + '\\n' + b\n",
    "\n",
    "        print(a1)\n",
    "\n",
    "wrap(lista_texto,15)\n",
    "    \n"
   ]
  },
  {
   "cell_type": "markdown",
   "metadata": {},
   "source": [
    "Exercicio 22 com tratamento de erros"
   ]
  },
  {
   "cell_type": "code",
   "execution_count": null,
   "metadata": {},
   "outputs": [],
   "source": [
    "file_name = \"aflor_drummond.txt\"\n",
    "\n",
    "arq = open(file_name , 'r')\n",
    "lista_texto= arq.readlines()\n",
    "\n",
    "def wordwrap(texto,tam_lista, inicial):\n",
    "\n",
    "    for frase in range(len(texto)):\n",
    "        \n",
    "        len_frase = len(texto)\n",
    "        \n",
    "        tam_wordwrap =  len_frase // tam_lista\n",
    "\n",
    "                \n",
    "        for k in range(tam_wordwrap):\n",
    "            \n",
    "            inicial = k*tam_lista\n",
    "            final = tam_lista*(k+1)\n",
    "            \n",
    "            a = texto[frase][inicial:  final]\n",
    "            \n",
    "            print(a)\n",
    "        \n",
    "\n",
    "wordwrap(lista_texto,15, 5)\n",
    "    "
   ]
  },
  {
   "cell_type": "markdown",
   "metadata": {},
   "source": [
    "problem 23: The above wrap program is not so nice because it is breaking the line at middle of any word. Can you write a new program wordwrap.py that works like wrap.py, but breaks the line only at the word boundaries?\n",
    "\n",
    "    $ python wordwrap.py she.txt 30\n",
    "    I'm sure that the shells are\n",
    "    seashore shells.\n",
    "    So if she sells seashells on\n",
    "    the seashore,\n",
    "    The shells that she sells are\n",
    "    seashells I'm sure.\n",
    "    She sells seashells on the\n",
    "    seashore;\n"
   ]
  },
  {
   "cell_type": "code",
   "execution_count": null,
   "metadata": {},
   "outputs": [],
   "source": [
    "lista_texto= 'Preso à minha classe e a algumas roupas, vou de branco pela rua cinzenta.'\n",
    "\n",
    "def wordwrap(texto,tam_lista):\n",
    "    #print(list(texto))\n",
    "\n",
    "    letras = list(texto)\n",
    "    \n",
    "    if letras[tam_lista] == \" \":\n",
    "        print(\"\".join(letras[0:tam_lista]))\n",
    "        print(\"\".join(letras[tam_lista +1:len(letras)]))   \n",
    "        \n",
    "    else:\n",
    "        while letras[tam_lista] != \" \":\n",
    "                tam_lista = tam_lista +1\n",
    "                #print(tam_lista)\n",
    "                \n",
    "        print(\"\".join(letras[0:tam_lista]))\n",
    "        print(\"\".join(letras[tam_lista +1:len(letras)])) \n",
    "            \n",
    "        #print(\"\".join(letras[0:tam_lista]))\n",
    "     \n",
    "    \n",
    "wordwrap(lista_texto, 30)\n",
    "    "
   ]
  },
  {
   "cell_type": "markdown",
   "metadata": {},
   "source": [
    "problem 24: Write a program center_align.py to center align all lines in the given file.\n",
    "\n",
    "    $ python center_align.py she.txt\n",
    "      I'm sure that the shells are seashore shells.  \n",
    "        So if she sells seashells on the seashore,   \n",
    "    The shells that she sells are seashells I'm sure.\n",
    "           She sells seashells on the seashore; "
   ]
  },
  {
   "cell_type": "code",
   "execution_count": null,
   "metadata": {},
   "outputs": [],
   "source": [
    "file_name = \"aflor_drummond.txt\"\n",
    "\n",
    "def center_align(file_name):\n",
    "    \n",
    "    file = open(file_name, \"r\")\n",
    "    rows = [row.rstrip(\"\\n\") for row in file]\n",
    "    max_len = max([len(item) for item in rows])\n",
    "    print('\\n'.join([\" \" * ((max_len - len(row)) // 2) + row for row in rows]))\n",
    "    \n",
    "\n",
    "center_align(file_name)\n",
    "\n"
   ]
  },
  {
   "cell_type": "markdown",
   "metadata": {},
   "source": [
    "problem 25: Provide an implementation for zip function using list comprehensions.\n",
    "\n",
    "\n",
    "    >>> zip([1, 2, 3], [\"a\", \"b\", \"c\"])\n",
    "    [(1, \"a\"), (2, \"b\"), (3, \"c\")]\n"
   ]
  },
  {
   "cell_type": "code",
   "execution_count": null,
   "metadata": {},
   "outputs": [],
   "source": [
    "#list compreen para texto   \n",
    "lista1 = [0,1,2,3]\n",
    "lista2 = [\"a\", \"b\", \"c\"]\n",
    "zip = [ (lista1[i], lista2[i]) for i in range(0,3)]\n",
    "print(zip)\n",
    "#return lista = [(x,y) ]"
   ]
  },
  {
   "cell_type": "markdown",
   "metadata": {},
   "source": [
    "problem 26: Python provides a built-in function map that applies a function to each element of a list. Provide an implementation for map using list comprehensions.\n",
    "\n",
    "\n",
    "    >>> def square(x): return x * x\n",
    "    ...\n",
    "    >>> map(square, range(5))\n",
    "    [0, 1, 4, 9, 16]\n"
   ]
  },
  {
   "cell_type": "code",
   "execution_count": null,
   "metadata": {},
   "outputs": [],
   "source": [
    "lista = [0,1,2,3,4]\n",
    "square = [ lista[i] *lista[i]  for i in range(len(lista))]\n",
    "print(square)\n",
    "\n"
   ]
  },
  {
   "cell_type": "markdown",
   "metadata": {},
   "source": [
    "problem 27: Python provides a built-in function filter(f, a) that returns items of the list a for which f(item) returns true. Provide an implementation for filter using list comprehensions.\n",
    "\n",
    "\n",
    "    >>> def even(x): return x %2 == 0\n",
    "    ...\n",
    "    >>> filter(even, range(10))\n",
    "    [0, 2, 4, 6, 8]\n"
   ]
  },
  {
   "cell_type": "code",
   "execution_count": null,
   "metadata": {},
   "outputs": [],
   "source": [
    "def even(x): return x % 2 == 0\n",
    "\n",
    "def filtro(funcao, items):\n",
    "    return [ i for i in items if even(i)]\n",
    "\n",
    "\n",
    "print(filtro(even, range(10)))\n"
   ]
  },
  {
   "cell_type": "markdown",
   "metadata": {},
   "source": [
    "problem 28: Write a function triplets that takes a number n as argument and returns a list of triplets such that sum of first two elements of the triplet equals the third element using numbers below n. Please note that (a, b, c) and (b, a, c) represent same triplet.\n",
    "\n",
    "\n",
    "    >>> triplets(5)\n",
    "    [(1, 1, 2), (1, 2, 3), (1, 3, 4), (2, 2, 4)]\n"
   ]
  },
  {
   "cell_type": "code",
   "execution_count": null,
   "metadata": {},
   "outputs": [],
   "source": [
    "def triplets(N):\n",
    "    return [(k, i-k, i) for i in range(1, N) for k in range(1, i) if k <= i-k]\n",
    "\n",
    "\n",
    "print(triplets(5))"
   ]
  },
  {
   "cell_type": "markdown",
   "metadata": {},
   "source": [
    "Slide Type\n",
    "\n",
    "problem 29: Write a function enumerate that takes a list and returns a list of tuples containing (index,item) for each item in the list.\n",
    "\n",
    "    >>> enumerate([\"a\", \"b\", \"c\"])\n",
    "    [(0, \"a\"), (1, \"b\"), (2, \"c\")]\n",
    "    >>> for index, value in enumerate([\"a\", \"b\", \"c\"]):\n",
    "    ...     print index, value\n",
    "    0 a\n",
    "    1 b\n",
    "    2 c"
   ]
  },
  {
   "cell_type": "code",
   "execution_count": null,
   "metadata": {},
   "outputs": [],
   "source": [
    "lista = [\"a\", \"b\", \"c\"]\n",
    "\n",
    "def enumerar(lista):\n",
    "    return [(i, lista[i]) for i in range(len(lista))]\n",
    "\n",
    "print(enumerar(lista))\n"
   ]
  },
  {
   "cell_type": "markdown",
   "metadata": {},
   "source": [
    "problem 30: Write a function array to create an 2-dimensional array. The function should take both dimensions as arguments. Value of each element can be initialized to None:\n",
    "\n",
    "\n",
    "    >>> a = array(2, 3)\n",
    "    >>> a\n",
    "    [[None, None, None], [None, None, None]]\n",
    "    >>> a[0][0] = 5\n",
    "    [[5, None, None], [None, None, None]]\n"
   ]
  },
  {
   "cell_type": "code",
   "execution_count": null,
   "metadata": {},
   "outputs": [],
   "source": [
    "def vetor(linhas, colunas):\n",
    "        \n",
    "        b=[[None for k in range(colunas)] for x in range(linhas)]\n",
    "        return b\n",
    "\n",
    "print(vetor(2,3))\n"
   ]
  },
  {
   "cell_type": "markdown",
   "metadata": {},
   "source": [
    "problem 31: Write a python function parse_csv to parse csv (comma separated values) files.\n",
    "\n",
    "\n",
    "    >>> print open('a.csv').read()\n",
    "    a,b,c\n",
    "    1,2,3\n",
    "    2,3,4\n",
    "    3,4,5\n",
    "    >>> parse_csv('a.csv')\n",
    "    [['a', 'b', 'c'], ['1', '2', '3'], ['2', '3', '4'], ['3', '4', '5']]\n"
   ]
  },
  {
   "cell_type": "code",
   "execution_count": null,
   "metadata": {},
   "outputs": [],
   "source": [
    "#nome do arquivo\n",
    "\n",
    "def parse_csv(frase):\n",
    "    arq = open(frase , 'r')\n",
    "    texto= arq.readlines()\n",
    "    return [i.strip(\"\\n\").split(\",\") for i in texto]\n",
    "    \n",
    "file_name = \"a.csv\"\n",
    "parse_csv(file_name)\n"
   ]
  },
  {
   "cell_type": "markdown",
   "metadata": {},
   "source": [
    "Slide Type\n",
    "\n",
    "problem 32: Generalize the above implementation of csv parser to support any delimiter and comments.\n",
    "\n",
    "    >>> print open('a.txt').read()\n",
    "    # elements are separated by ! and comment indicator is #\n",
    "    a!b!c\n",
    "    1!2!3\n",
    "    2!3!4\n",
    "    3!4!5\n",
    "    >>> parse('a.txt', '!', '#')\n",
    "    [['a', 'b', 'c'], ['1', '2', '3'], ['2', '3', '4'], ['3', '4', '5']]"
   ]
  },
  {
   "cell_type": "code",
   "execution_count": null,
   "metadata": {},
   "outputs": [],
   "source": [
    "def parse_csv(frase):\n",
    "    arq = open(frase , 'r')\n",
    "    texto = arq.readlines()\n",
    "    \n",
    "    a = [i.strip(\"\\n\").split(\"!\") for i in texto]\n",
    "    return a[1:4]\n",
    "\n",
    "    \n",
    "file_name = \"slide_tipe.txt\"\n",
    "parse_csv(file_name)\n"
   ]
  },
  {
   "cell_type": "code",
   "execution_count": null,
   "metadata": {},
   "outputs": [],
   "source": [
    "Slide Type\n",
    "\n",
    "problem 33: Write a function mutate to compute all words generated by a single mutation on a given word. A mutation is defined as inserting a character, deleting a character, replacing a character, or swapping 2 consecutive characters in a string. For simplicity consider only letters from a to z.\n",
    "\n",
    "    >>> words = mutate('hello')\n",
    "    >>> 'helo' in words\n",
    "    True\n",
    "    >>> 'cello' in words\n",
    "    True\n",
    "    >>> 'helol' in words\n",
    "    True"
   ]
  },
  {
   "cell_type": "code",
   "execution_count": null,
   "metadata": {},
   "outputs": [],
   "source": [
    "from string import ascii_lowercase\n",
    "\n",
    "def mutate(word):\n",
    "    deleting = [word[:i]+word[i+1:] for i in range(len(word))] \n",
    "    replacing = [word[:i]+letra+word[i+1:] for i in range(len(word)) for letra in ascii_lowercase]\n",
    "    inserting = [word[:i]+letra+word[i:] for i in range(len(word)+1) for letra in ascii_lowercase]\n",
    "    swapping = [word[:i]+word[i+1]+word[i]+word[i+2:] for i in range(len(word)-1)] \n",
    "    return deleting + replacing + inserting + swapping\n",
    "\n",
    "\n",
    "original_word = \"hello\"\n",
    "words = mutate(original_word)\n",
    "print(words)\n",
    "print(len(words))\n",
    "\n",
    "print('helo' in words)\n",
    "print('cello' in words)\n",
    "print('helol' in words)"
   ]
  },
  {
   "cell_type": "markdown",
   "metadata": {},
   "source": [
    "problem 34: Write a function nearly_equal to test whether two strings are nearly equal. Two strings a and b are nearly equal when a can be generated by a single mutation on b.\n",
    "\n",
    "\n",
    "    >>> nearly_equal('python', 'perl')\n",
    "    False\n",
    "    >>> nearly_equal('perl', 'pearl')\n",
    "    True\n",
    "    >>> nearly_equal('python', 'jython')\n",
    "    True\n",
    "    >>> nearly_equal('man', 'woman')\n",
    "    False\n"
   ]
  },
  {
   "cell_type": "code",
   "execution_count": null,
   "metadata": {},
   "outputs": [],
   "source": [
    "from string import ascii_lowercase\n",
    "\n",
    "def mutate(word):\n",
    "    variations = []\n",
    "    deleting = [word[:i]+word[i+1:] for i in range(len(word))] \n",
    "    replacing = [word[:i]+letra+word[i+1:] for i in range(len(word)) for letra in ascii_lowercase]\n",
    "    inserting = [word[:i]+letra+word[i:] for i in range(len(word)+1) for letra in ascii_lowercase]\n",
    "    swapping = [word[:i]+word[i+1]+word[i]+word[i+2:] for i in range(len(word)-1)] \n",
    "    return deleting + replacing + inserting + swapping\n",
    "\n",
    "def nearly_equal(str1, str2):\n",
    "    mutations = mutate(str2)\n",
    "    return True if str1 in mutations else False\n",
    "\n",
    "\n",
    "print(nearly_equal('python', 'perl'))\n",
    "print(nearly_equal('perl', 'pearl'))\n",
    "print(nearly_equal('python', 'jython'))\n",
    "print(nearly_equal('man', 'woman'))"
   ]
  },
  {
   "cell_type": "markdown",
   "metadata": {},
   "source": [
    "## Slide Type\n",
    "### Dictionaries\n",
    "\n",
    "problem 36: Write a program to count frequency of characters in a given file. Can you use character frequency to tell whether the given file is a Python program file, C program file or a text file?\n"
   ]
  },
  {
   "cell_type": "code",
   "execution_count": null,
   "metadata": {},
   "outputs": [],
   "source": [
    "def carac_freq(file):\n",
    "    from collections import Counter   #conta a frequencia de caracteres\n",
    "    with open(file) as f:\n",
    "            return Counter(f.read().split())\n",
    "\n",
    "print(\"Numero de palavras:\",carac_freq(\"aflor_drummond.txt\"))"
   ]
  },
  {
   "cell_type": "markdown",
   "metadata": {},
   "source": [
    "problem 37: Write a program to find anagrams in a given list of words. Two words are called anagrams if one word can be formed by rearranging letters of another. For example 'eat', 'ate' and 'tea' are anagrams.\n",
    "```\n",
    "    >>> anagrams(['eat', 'ate', 'done', 'tea', 'soup', 'node'])\n",
    "    [['eat', 'ate', 'tea], ['done', 'node'], ['soup']]```"
   ]
  },
  {
   "cell_type": "code",
   "execution_count": null,
   "metadata": {},
   "outputs": [],
   "source": [
    "def anagrams(lista):\n",
    "    anag = []\n",
    "    temp = [[item for item in lista if sorted(item) == sorted(palavra)] for palavra in lista]\n",
    "    for item in temp:\n",
    "        if item not in anag:\n",
    "            anag.append(item)\n",
    "    print(anag)\n",
    "    \n",
    "anagrams(['eat', 'ate', 'done', 'tea', 'soup', 'node'])"
   ]
  },
  {
   "cell_type": "markdown",
   "metadata": {},
   "source": [
    "problem 38: Write a function valuesort to sort values of a dictionary based on the key.\n",
    "\n",
    "`valuesort({'x': 1, 'y': 2, 'a': 3})\n",
    "    [3, 1, 2]`"
   ]
  },
  {
   "cell_type": "code",
   "execution_count": 8,
   "metadata": {},
   "outputs": [
    {
     "name": "stdout",
     "output_type": "stream",
     "text": [
      "[('a', 3), ('y', 2), ('x', 1)]\n"
     ]
    }
   ],
   "source": [
    "from operator import itemgetter   #organiza pela chave\n",
    "\n",
    "a = dict()\n",
    "\n",
    "valuesort = {\"x\": 1, \"y\": 2, \"a\": 3}\n",
    "\n",
    "a = sorted(valuesort.items(), key = itemgetter(1), reverse = True)\n",
    "\n",
    "print(a)"
   ]
  },
  {
   "cell_type": "markdown",
   "metadata": {},
   "source": [
    "problem 39: Write a function invertdict to interchange keys and values in a dictionary. For simplicity, assume that all values are unique.\n",
    "\n",
    "\n",
    "`invertdict({'x': 1, 'y': 2, 'z': 3})\n",
    "{1: 'x', 2: 'y', 3: 'z'}`"
   ]
  },
  {
   "cell_type": "code",
   "execution_count": 13,
   "metadata": {},
   "outputs": [
    {
     "name": "stdout",
     "output_type": "stream",
     "text": [
      "{1: 'x', 2: 'y', 3: 'z'}\n"
     ]
    }
   ],
   "source": [
    "from operator import itemgetter   #organiza pela chave\n",
    "\n",
    "a = dict()\n",
    "\n",
    "valuesort = {\"x\": 1, \"y\": 2, \"z\": 3}\n",
    "\n",
    "a = {value:key for key, value in valuesort.items()}\n",
    "\n",
    "print(a)"
   ]
  }
 ],
 "metadata": {
  "kernelspec": {
   "display_name": "Python 3",
   "language": "python",
   "name": "python3"
  },
  "language_info": {
   "codemirror_mode": {
    "name": "ipython",
    "version": 3
   },
   "file_extension": ".py",
   "mimetype": "text/x-python",
   "name": "python",
   "nbconvert_exporter": "python",
   "pygments_lexer": "ipython3",
   "version": "3.7.3"
  }
 },
 "nbformat": 4,
 "nbformat_minor": 2
}
