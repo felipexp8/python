{
 "cells": [
  {
   "cell_type": "markdown",
   "metadata": {},
   "source": [
    "1. Write a function that returns the maximum of two numbers."
   ]
  },
  {
   "cell_type": "code",
   "execution_count": null,
   "metadata": {},
   "outputs": [],
   "source": [
    "def maximumm(n1,n2):\n",
    "    if n1 > n2:\n",
    "        print(\"o maximo eh:\", n1)\n",
    "    elif  n2 > n1:\n",
    "        print(\"o maximo eh:\", n2)\n",
    "    else:\n",
    "        print(\"os numeros sao iguais\")\n",
    "\n",
    "\n",
    "maximumm(4,7)"
   ]
  },
  {
   "cell_type": "markdown",
   "metadata": {},
   "source": [
    "2. Write a function called fizz_buzz that takes a number.\n",
    "    1. If the number is divisible by 3, it should return “Fizz”.\n",
    "    1. If it is divisible by 5, it should return “Buzz”.\n",
    "    1. If it is divisible by both 3 and 5, it should return “FizzBuzz”.\n",
    "    1. Otherwise, it should return the same number"
   ]
  },
  {
   "cell_type": "code",
   "execution_count": null,
   "metadata": {},
   "outputs": [],
   "source": [
    "def fizz_buzz(x):\n",
    "    if x%3 == 0:\n",
    "        print(\"Fizz\")\n",
    "        \n",
    "    elif x%5 == 0:\n",
    "        print(\"Buzz\")\n",
    "        \n",
    "    elif x%5 == 0 or  x%3 == 0:\n",
    "        print(\"FizzBuzz\")\n",
    "        \n",
    "    else:\n",
    "        print(x)\n",
    "  \n",
    "    \n",
    "\n",
    "fizz_buzz(int(input(\"Give-me a number: \")))\n",
    "    \n"
   ]
  },
  {
   "cell_type": "markdown",
   "metadata": {},
   "source": [
    "3. Write a function for checking the speed of drivers. This function should have one parameter: speed.\n",
    "    1. If speed is less than 70, it should print “Ok”.\n",
    "    1. Otherwise, for every 5km above the speed limit (70), it should give the driver one demerit point and print the total number of demerit points. For example, if the speed is 80, it should print: “Points: 2”.\n",
    "    1. If the driver gets more than 12 points, the function should print: “License suspended”"
   ]
  },
  {
   "cell_type": "code",
   "execution_count": null,
   "metadata": {},
   "outputs": [],
   "source": [
    "import math\n",
    "\n",
    "def driver(speed):\n",
    "            \n",
    "    if speed>70:\n",
    "        \n",
    "        points = speed - 70\n",
    "        points_f = math.floor((points//2)-1)\n",
    "                \n",
    "        if points_f<12:\n",
    "            print(\"Points: \", points_f)\n",
    "        elif points_f > 12:\n",
    "            print(\"License suspended\")\n",
    "            \n",
    "    elif speed<70:\n",
    "        print(\"Ok\")\n",
    "        \n",
    "driver(int(input(\"Give-me a speed: \")))\n",
    "\n"
   ]
  },
  {
   "cell_type": "markdown",
   "metadata": {},
   "source": [
    "4. Write a function called showNumbers that takes a parameter called limit. It should print all the numbers between 0 and limit with a label to identify the even and odd numbers. For example, if the limit is 3, it should print:\n",
    "    1. 0 EVEN\n",
    "    1. 1 ODD\n",
    "    1. 2 EVEN\n",
    "    1. 3 ODD"
   ]
  },
  {
   "cell_type": "code",
   "execution_count": null,
   "metadata": {},
   "outputs": [],
   "source": [
    "\n",
    "def showNumbers(limit):   \n",
    "    for k in range(0,limit+1):\n",
    "        \n",
    "        if k%2 == 0:\n",
    "            print(k,\"PAR\")\n",
    "            \n",
    "        else:\n",
    "            print(k,\"IMPAR\")\n",
    "           \n",
    "showNumbers(int(input(\"Give-me a limit: \")))"
   ]
  },
  {
   "cell_type": "markdown",
   "metadata": {},
   "source": [
    "5. Write a function that returns the sum of multiples of 3 and 5 between 0 and limit (parameter). For example, if limit is 20, it should return the sum of 3, 5, 6, 9, 10, 12, 15, 18, 20."
   ]
  },
  {
   "cell_type": "code",
   "execution_count": null,
   "metadata": {},
   "outputs": [],
   "source": [
    "def fun_parameter(limit):   \n",
    "    var = 0\n",
    "    for k in range(0,limit+1):\n",
    "        \n",
    "        if k%3 == 0 or k%5 == 0:\n",
    "            var = var + k\n",
    "    return var\n",
    "   \n",
    "\n",
    "fun_parameter(int(input(\"Give-me a limit: \")))\n"
   ]
  },
  {
   "cell_type": "markdown",
   "metadata": {},
   "source": [
    "6. Write a function called show_stars(rows). If rows is 5, it should print the following:\n",
    "\n",
    "\\*\n",
    "\n",
    "\\**\n",
    "\n",
    "\\***\n",
    "\n",
    "\\****\n",
    "\n",
    "\\*****"
   ]
  },
  {
   "cell_type": "code",
   "execution_count": 6,
   "metadata": {},
   "outputs": [
    {
     "name": "stdout",
     "output_type": "stream",
     "text": [
      "Give-me a rows: 5\n",
      "\n",
      "*\n",
      "**\n",
      "***\n",
      "****\n",
      "*****\n"
     ]
    }
   ],
   "source": [
    "def show_stars(r):\n",
    "    for i in range(0,r+1):\n",
    "        print(\"*\"*i)\n",
    "    return \n",
    "\n",
    "show_stars(int(input(\"Give-me a rows: \")))"
   ]
  },
  {
   "cell_type": "markdown",
   "metadata": {},
   "source": [
    "7. Write a function that prints all the prime numbers between 0 and limit where limit is a parameter."
   ]
  },
  {
   "cell_type": "code",
   "execution_count": 70,
   "metadata": {},
   "outputs": [
    {
     "name": "stdout",
     "output_type": "stream",
     "text": [
      "Give-me a limit: 5\n",
      "[2, 3, 5]\n"
     ]
    }
   ],
   "source": [
    "def is_prime(num):\n",
    "    divisores = 0\n",
    "    for divisor in range(1, num):\n",
    "        if num % divisor == 0:\n",
    "            divisores = divisores + 1\n",
    "            if divisores > 1:\n",
    "                  break\n",
    "    if divisores > 1:\n",
    "        return False\n",
    "    else:\n",
    "        return True\n",
    "\n",
    "def show_prime(lim):\n",
    "    out = []\n",
    "    for i in range(lim+1):\n",
    "        if i > 1:\n",
    "            bol = is_prime(i)\n",
    "            if bol == True:\n",
    "                out.append(i)\n",
    "    print(out)\n",
    "    \n",
    "    \n",
    "show_prime(int(input(\"Give-me a limit: \")))   "
   ]
  }
 ],
 "metadata": {
  "kernelspec": {
   "display_name": "Python 3",
   "language": "python",
   "name": "python3"
  },
  "language_info": {
   "codemirror_mode": {
    "name": "ipython",
    "version": 3
   },
   "file_extension": ".py",
   "mimetype": "text/x-python",
   "name": "python",
   "nbconvert_exporter": "python",
   "pygments_lexer": "ipython3",
   "version": "3.7.3"
  }
 },
 "nbformat": 4,
 "nbformat_minor": 2
}
