{
 "cells": [
  {
   "cell_type": "markdown",
   "metadata": {},
   "source": [
    "# Anotacoes "
   ]
  },
  {
   "cell_type": "markdown",
   "metadata": {},
   "source": [
    "*tail* - read lines from the end of a file      \n",
    "*head* - read lines from the top of a file    \n",
    "*follow* - read lines as a file grows   \n",
    "*Comando grep* – Filtragem de Strings com Expressões Regulares\n",
    "* range = objeto iteravel utilizado como ponteiro"
   ]
  },
  {
   "cell_type": "code",
   "execution_count": 1,
   "metadata": {},
   "outputs": [
    {
     "name": "stdout",
     "output_type": "stream",
     "text": [
      "[0, 1, 2, 3, 4, 5, 6, 7, 8, 9]\n",
      "[0, 1, 2, 3, 4, 5, 6, 7, 8, 9]\n",
      "O sabor e: QUeijo\n",
      "O sabor e: Miojo\n",
      "[(0, 0), (0, 1), (0, 2), (0, 3), (0, 4), (2, 0), (2, 1), (2, 2), (2, 3), (2, 4)]\n",
      "{'a potencia de 0': 1, 'a potencia de 1': 1, 'a potencia de 2': 4, 'a potencia de 3': 27}\n",
      "[0, 1, 2, 3, 4, 5, 6, 7, 8, 9]\n"
     ]
    }
   ],
   "source": [
    "lista = []\n",
    "for i in range(10):\n",
    "    lista.append(i)\n",
    "print(lista)\n",
    "\n",
    "lista = [Bruna for Bruna in range(10)]\n",
    "print(lista)\n",
    "\n",
    "pasteis = ['QUeijo', 'Pizza', 'Miojo']\n",
    "\n",
    "for sabor in pasteis:\n",
    "    \n",
    "    if sabor != 'Pizza':\n",
    "        print(\"O sabor e:\", sabor)\n",
    "    \n",
    "#list compreen\n",
    "lista = [ (x,y) for x in range(4) for y in range(5) if x%2==0]\n",
    "    \n",
    "print(lista)\n",
    "\n",
    "#dicionario\n",
    "lista = {\"a potencia de %d\" %i:i**i for i in range(4)}\n",
    "\n",
    "#list compree\n",
    "print(lista)\n",
    "lista = [banana for banana in range(10)]\n",
    "print(lista)\n",
    "\n"
   ]
  },
  {
   "cell_type": "code",
   "execution_count": null,
   "metadata": {},
   "outputs": [],
   "source": [
    "#declaracao de caracteres\n",
    "var1 = 13.1415\n",
    "var2 = 4\n",
    "var3 = \"laranja\"\n",
    "\n",
    "frase = \"A %s tem %d faces de area total %0.2f\" %(var3,var2,var1)\n",
    "\n",
    "print(frase)\n",
    "\n",
    "\n",
    "#list compreen para texto\n",
    "lista = [\"A contagem regressiva de: %d\" %i for i in range(10,0,-1)]\n",
    "    \n",
    "print(lista)\n",
    "\n",
    "#list compeen usando join\n",
    "lista = \", \".join([str(i) for i in range(10,0,-1)])\n",
    "print(lista)\n"
   ]
  },
  {
   "cell_type": "code",
   "execution_count": null,
   "metadata": {},
   "outputs": [],
   "source": [
    "def check(texto, caract):\n",
    "    return True if texto.count(caract) >= 2 else False\n",
    "\n",
    "\n",
    "check('bruna fortunato','a')\n",
    "\n"
   ]
  },
  {
   "cell_type": "code",
   "execution_count": 6,
   "metadata": {},
   "outputs": [
    {
     "name": "stdout",
     "output_type": "stream",
     "text": [
      "[0, 1, 8, 9, 64, 25, 216, 49, 512, 81]\n"
     ]
    },
    {
     "data": {
      "text/plain": [
       "['a', 'ea', 'iua', 'ua']"
      ]
     },
     "execution_count": 6,
     "metadata": {},
     "output_type": "execute_result"
    }
   ],
   "source": [
    "def fih(x):\n",
    "    if x%2 == 0:\n",
    "        y = x**3\n",
    "    else: \n",
    "        y = x**2\n",
    "    return y\n",
    "\n",
    "lista = [fih(x) for x in range(0,10,1)]\n",
    "\n",
    "print(lista)\n",
    "\n",
    "def check(texto, caract):\n",
    "    return True if texto.count(caract) >= 2 else False\n",
    "\n",
    "lista = [\"asjfkad\", \"aldreterknsj\", \"akjdbvituhshdv\", \"adkjvsujnkfv\"]\n",
    "[item for item in lista if check(item, \"a\")]\n",
    "\n",
    "def vogais(texto):\n",
    "    return ''.join(set([caracter for caracter in texto if caracter in [\"a\",\"e\",\"i\",\"o\",\"u\"]]))\n",
    "    \n",
    "[vogais(item) for item in lista]\n"
   ]
  },
  {
   "cell_type": "code",
   "execution_count": 2,
   "metadata": {},
   "outputs": [],
   "source": [
    "with open('output.txt', 'w') as file:  # Use file to refer to the file object\n",
    "    \n",
    "    file.write('Hi there!')"
   ]
  },
  {
   "cell_type": "code",
   "execution_count": 7,
   "metadata": {},
   "outputs": [
    {
     "name": "stdout",
     "output_type": "stream",
     "text": [
      "Original list :  [7, 14, 21, 28, 35, 42, 49, 56, 63, 70]\n",
      "List after first shuffle  :  [70, 49, 7, 63, 21, 42, 35, 14, 56, 28]\n",
      "List after second shuffle :  [21, 7, 35, 70, 56, 49, 28, 14, 42, 63]\n"
     ]
    }
   ],
   "source": [
    "import random\n",
    "number_list = [7, 14, 21, 28, 35, 42, 49, 56, 63, 70]\n",
    "print (\"Original list : \",  number_list)\n",
    "\n",
    "random.shuffle(number_list) #shuffle method\n",
    "print (\"List after first shuffle  : \",  number_list)\n",
    "\n",
    "random.shuffle(number_list)\n",
    "print (\"List after second shuffle : \",  number_list)"
   ]
  },
  {
   "cell_type": "code",
   "execution_count": null,
   "metadata": {},
   "outputs": [],
   "source": []
  }
 ],
 "metadata": {
  "kernelspec": {
   "display_name": "Python 3",
   "language": "python",
   "name": "python3"
  },
  "language_info": {
   "codemirror_mode": {
    "name": "ipython",
    "version": 3
   },
   "file_extension": ".py",
   "mimetype": "text/x-python",
   "name": "python",
   "nbconvert_exporter": "python",
   "pygments_lexer": "ipython3",
   "version": "3.7.3"
  }
 },
 "nbformat": 4,
 "nbformat_minor": 2
}
