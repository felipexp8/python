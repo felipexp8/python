{
 "cells": [
  {
   "cell_type": "code",
   "execution_count": 97,
   "metadata": {},
   "outputs": [],
   "source": [
    "#Toda classe ja herda a classe object por padrao e nao seria necessario colocar na classe abaixo\n",
    "class novaclasse(object):\n",
    "    nome = 2\n",
    "# O atributo acima nao esta protegida e pode ser chamado pelo objeto diretamente, ja o atributo __idade esta protegido e so\n",
    "# pode ser chamado de dentro da classe. Dessa forma e necessario funcoes getters and setters.\n",
    "    __idade = 21\n",
    "# construtor padrao que seta as conf iniciais da classe __init\n",
    "# self tem que ser passado por padrao do python, e obvio que voce esta alterando o proprio objeto, mas tem que ser especificado\n",
    "    def __init__(self):\n",
    "        print('Instanciando classe')\n",
    "# Funcao getter getidade para manipular o atributo protegido __idade\n",
    "    def getidade(self):\n",
    "        return(self.__idade)\n",
    "# Exemplo de metodo que pode ser chamado pelo objeto:\n",
    "    def altera_nome(self):\n",
    "        print('Funcao para alterar nome')\n",
    "# Funcao setter \n",
    "    def setidade(self, novaidade):\n",
    "        self.__idade = novaidade\n",
    "# destruidor\n",
    "    def __del__(self):\n",
    "        self.__idade = 0"
   ]
  },
  {
   "cell_type": "code",
   "execution_count": 98,
   "metadata": {},
   "outputs": [
    {
     "name": "stdout",
     "output_type": "stream",
     "text": [
      "Instanciando classe\n"
     ]
    }
   ],
   "source": [
    "objeto = novaclasse()"
   ]
  },
  {
   "cell_type": "code",
   "execution_count": 99,
   "metadata": {},
   "outputs": [
    {
     "name": "stdout",
     "output_type": "stream",
     "text": [
      "2\n"
     ]
    }
   ],
   "source": [
    "print(objeto.nome)"
   ]
  },
  {
   "cell_type": "code",
   "execution_count": 100,
   "metadata": {},
   "outputs": [
    {
     "name": "stdout",
     "output_type": "stream",
     "text": [
      "Funcao para alterar nome\n"
     ]
    }
   ],
   "source": [
    "objeto.altera_nome()"
   ]
  },
  {
   "cell_type": "code",
   "execution_count": 101,
   "metadata": {},
   "outputs": [],
   "source": [
    "objeto.nome = 3"
   ]
  },
  {
   "cell_type": "code",
   "execution_count": 102,
   "metadata": {},
   "outputs": [
    {
     "data": {
      "text/plain": [
       "3"
      ]
     },
     "execution_count": 102,
     "metadata": {},
     "output_type": "execute_result"
    }
   ],
   "source": [
    "objeto.nome"
   ]
  },
  {
   "cell_type": "code",
   "execution_count": 103,
   "metadata": {},
   "outputs": [
    {
     "data": {
      "text/plain": [
       "21"
      ]
     },
     "execution_count": 103,
     "metadata": {},
     "output_type": "execute_result"
    }
   ],
   "source": [
    "objeto.getidade()"
   ]
  },
  {
   "cell_type": "code",
   "execution_count": 104,
   "metadata": {},
   "outputs": [],
   "source": [
    "objeto.setidade(23)"
   ]
  },
  {
   "cell_type": "code",
   "execution_count": 105,
   "metadata": {},
   "outputs": [
    {
     "data": {
      "text/plain": [
       "23"
      ]
     },
     "execution_count": 105,
     "metadata": {},
     "output_type": "execute_result"
    }
   ],
   "source": [
    "objeto.getidade()"
   ]
  },
  {
   "cell_type": "code",
   "execution_count": 106,
   "metadata": {},
   "outputs": [
    {
     "data": {
      "text/plain": [
       "0"
      ]
     },
     "execution_count": 106,
     "metadata": {},
     "output_type": "execute_result"
    }
   ],
   "source": [
    "objeto.__del__()\n",
    "objeto.getidade()"
   ]
  },
  {
   "cell_type": "code",
   "execution_count": 77,
   "metadata": {},
   "outputs": [],
   "source": [
    "objeto = None\n",
    "# destroi o objeto instanciado no inicio"
   ]
  },
  {
   "cell_type": "markdown",
   "metadata": {},
   "source": [
    "crie uma classe python que controla clientes de um banco que podem ser pessoa física (CPF) ou jurídica (CNPJ), utilizando herança. Crie outra classe em PYthon que controla contas bancarias, que pode ser corrente ou poupança, o estado da conta é o saldo, e os métodos são saque ou depósito um atributo da conta bancária é a referencia a   um objeto cliente\n"
   ]
  },
  {
   "cell_type": "code",
   "execution_count": 115,
   "metadata": {},
   "outputs": [],
   "source": [
    "class pessoa():\n",
    "    \n",
    "    #Os Atributos da pessoa:\n",
    "    nome = ''\n",
    "    idade = 0\n",
    "    __cpf = 0\n",
    "    __cnpj = 0\n",
    "    nacionalidade = ''\n",
    "    #Metodos para manipular os dados mutaveis:\n",
    "    \n",
    "    def setcpf(self, newcpf):\n",
    "        self.__cpf = newcpf\n",
    "    def getcpf(self):\n",
    "        return(self.__cpf)\n",
    "    def setcnpj(self, newcnpj):\n",
    "        self.__cnpj = newcnpj\n",
    "    def getcnpj(self):\n",
    "        return(self.__cnpj)"
   ]
  },
  {
   "cell_type": "code",
   "execution_count": 305,
   "metadata": {},
   "outputs": [],
   "source": [
    "class banco(pessoa):\n",
    "    \n",
    "    def __init__(self):\n",
    "        print('Instanciando banco e herdando pessoa')\n",
    "        __saldocp = 0\n",
    "        __saldocc = 0\n",
    "        \n",
    "    __saldocp = 0\n",
    "    __saldocc = 0\n",
    "\n",
    "    def get_saldo(self):\n",
    "        print('Saldo da conta pupanca: {}R$, Saldo da conta corrente: {}R$'.format(self.__saldocp, self.__saldocc))\n",
    "    \n",
    "    def deposito_cp(self, novo_dep):\n",
    "        self.__saldocp = self.__saldocp + novo_dep\n",
    "        \n",
    "    def retirar_cp(self, retirar):\n",
    "        if self.__saldocp < retirar:\n",
    "            print('Voce nao tem saldo suficiente D: '.format(self.getcpf()))\n",
    "        else: \n",
    "            print('Saque realizado com sucesso :D')\n",
    "            self.__saldocp = self.__saldocp - retirar\n",
    "        \n",
    "    def deposito_cc(self, novo_dep):\n",
    "        self.__saldocc = self.__saldocc + novo_dep\n",
    "        \n",
    "    def retirar_cc(self, retirar):\n",
    "        if self.__saldocc < retirar:\n",
    "            print('Voce nao tem saldo suficiente D: {} '.format(self.getcpf()))\n",
    "        else: \n",
    "            print('Saque realizado com sucesso :D')\n",
    "            self.__saldocc = self.__saldocc - retirar"
   ]
  },
  {
   "cell_type": "code",
   "execution_count": 306,
   "metadata": {},
   "outputs": [
    {
     "name": "stdout",
     "output_type": "stream",
     "text": [
      "Instanciando banco e herdando pessoa\n"
     ]
    }
   ],
   "source": [
    "conta01_obj = banco()"
   ]
  },
  {
   "cell_type": "code",
   "execution_count": 307,
   "metadata": {},
   "outputs": [],
   "source": [
    "conta01_obj.setcpf('086.123.345-22')"
   ]
  },
  {
   "cell_type": "code",
   "execution_count": 308,
   "metadata": {},
   "outputs": [
    {
     "data": {
      "text/plain": [
       "'086.123.345-22'"
      ]
     },
     "execution_count": 308,
     "metadata": {},
     "output_type": "execute_result"
    }
   ],
   "source": [
    "conta01_obj.getcpf()"
   ]
  },
  {
   "cell_type": "code",
   "execution_count": 309,
   "metadata": {},
   "outputs": [
    {
     "name": "stdout",
     "output_type": "stream",
     "text": [
      "Saldo da conta pupanca: 0R$, Saldo da conta corrente: 0R$\n"
     ]
    }
   ],
   "source": [
    "conta01_obj.get_saldo()"
   ]
  },
  {
   "cell_type": "code",
   "execution_count": 310,
   "metadata": {},
   "outputs": [],
   "source": [
    "conta01_obj.deposito_cp(20)"
   ]
  },
  {
   "cell_type": "code",
   "execution_count": 311,
   "metadata": {},
   "outputs": [
    {
     "name": "stdout",
     "output_type": "stream",
     "text": [
      "Saque realizado com sucesso :D\n"
     ]
    }
   ],
   "source": [
    "conta01_obj.retirar_cp(15)"
   ]
  },
  {
   "cell_type": "code",
   "execution_count": 312,
   "metadata": {},
   "outputs": [
    {
     "name": "stdout",
     "output_type": "stream",
     "text": [
      "Saldo da conta pupanca: 5R$, Saldo da conta corrente: 0R$\n"
     ]
    }
   ],
   "source": [
    "conta01_obj.get_saldo()"
   ]
  },
  {
   "cell_type": "code",
   "execution_count": 313,
   "metadata": {},
   "outputs": [],
   "source": [
    "conta01_obj.deposito_cc(32000)"
   ]
  },
  {
   "cell_type": "code",
   "execution_count": 314,
   "metadata": {},
   "outputs": [
    {
     "name": "stdout",
     "output_type": "stream",
     "text": [
      "Voce nao tem saldo suficiente D: 086.123.345-22 \n"
     ]
    }
   ],
   "source": [
    "conta01_obj.retirar_cc(35000)"
   ]
  },
  {
   "cell_type": "code",
   "execution_count": 315,
   "metadata": {},
   "outputs": [
    {
     "name": "stdout",
     "output_type": "stream",
     "text": [
      "Saldo da conta pupanca: 5R$, Saldo da conta corrente: 32000R$\n"
     ]
    }
   ],
   "source": [
    "conta01_obj.get_saldo()"
   ]
  },
  {
   "cell_type": "code",
   "execution_count": null,
   "metadata": {},
   "outputs": [],
   "source": []
  }
 ],
 "metadata": {
  "kernelspec": {
   "display_name": "Python 3",
   "language": "python",
   "name": "python3"
  },
  "language_info": {
   "codemirror_mode": {
    "name": "ipython",
    "version": 3
   },
   "file_extension": ".py",
   "mimetype": "text/x-python",
   "name": "python",
   "nbconvert_exporter": "python",
   "pygments_lexer": "ipython3",
   "version": "3.7.4"
  }
 },
 "nbformat": 4,
 "nbformat_minor": 4
}
