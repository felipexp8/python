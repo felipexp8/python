{
 "cells": [
  {
   "cell_type": "code",
   "execution_count": 29,
   "metadata": {},
   "outputs": [],
   "source": [
    "f = open('Arquivos/Shake.txt', 'r')\n",
    "conteudo = f.read()"
   ]
  },
  {
   "cell_type": "code",
   "execution_count": 30,
   "metadata": {},
   "outputs": [
    {
     "data": {
      "text/plain": [
       "[['teste', 'atirei', 'nao', 'sei', 'o', 'que', 'to', 'fazendo'],\n",
       " ['mas', 'ok,', 'parece', 'tudo', 'bem,', 'nao', 'se', 'repete,', 'ok,']]"
      ]
     },
     "execution_count": 30,
     "metadata": {},
     "output_type": "execute_result"
    }
   ],
   "source": [
    "new_list = [[funcao(palavra) for palavra in linha.split()] for linha in conteudo.split('\\n')]\n",
    "new_list"
   ]
  },
  {
   "cell_type": "code",
   "execution_count": 44,
   "metadata": {},
   "outputs": [
    {
     "data": {
      "text/plain": [
       "[['nao', 'o', 'to', 'fazendo'], ['ok,', 'tudo', 'nao', 'ok,']]"
      ]
     },
     "execution_count": 44,
     "metadata": {},
     "output_type": "execute_result"
    }
   ],
   "source": [
    "def funcao(palavra):\n",
    "    return palavra\n",
    "\n",
    "new_list = [[funcao(palavra) for palavra in linha.split() if 'o' in palavra] for linha in conteudo.split('\\n')]\n",
    "new_list"
   ]
  },
  {
   "cell_type": "code",
   "execution_count": 46,
   "metadata": {},
   "outputs": [
    {
     "name": "stdout",
     "output_type": "stream",
     "text": [
      "[[['e', 'e'], ['a', 'i', 'e', 'i'], ['a', 'o'], ['e', 'i'], ['o'], ['u', 'e'], ['o'], ['a', 'e', 'o']], [['a'], ['o'], ['a', 'e', 'e'], ['u', 'o'], ['e'], ['a', 'o'], ['e'], ['e', 'e', 'e'], ['o']]]\n"
     ]
    }
   ],
   "source": [
    "def funcao(palavra):\n",
    "    return [letra for letra in palavra if letra in ['a','e','i','o','u']]\n",
    "\n",
    "new_list = [[funcao(palavra) for palavra in linha.split()] for linha in conteudo.split('\\n')]\n",
    "print(new_list)"
   ]
  },
  {
   "cell_type": "code",
   "execution_count": 47,
   "metadata": {},
   "outputs": [
    {
     "data": {
      "text/plain": [
       "[['ee', 'aiei', 'ao', 'ei', 'o', 'ue', 'o', 'aeo'],\n",
       " ['a', 'o', 'aee', 'uo', 'e', 'ao', 'e', 'eee', 'o']]"
      ]
     },
     "execution_count": 47,
     "metadata": {},
     "output_type": "execute_result"
    }
   ],
   "source": [
    "def funcao(palavra):\n",
    "    return ''.join([letra for letra in palavra if letra in ['a','e','i','o','u']]) \n",
    "\n",
    "new_list = [[funcao(palavra) for palavra in linha.split()] for linha in conteudo.split('\\n')]\n",
    "new_list"
   ]
  },
  {
   "cell_type": "code",
   "execution_count": 36,
   "metadata": {},
   "outputs": [
    {
     "data": {
      "text/plain": [
       "[['e', 'eai', 'ao', 'ei', 'o', 'eu', 'o', 'eao'],\n",
       " ['a', 'o', 'ea', 'uo', 'e', 'ao', 'e', 'e', 'o']]"
      ]
     },
     "execution_count": 36,
     "metadata": {},
     "output_type": "execute_result"
    }
   ],
   "source": [
    "def funcao(palavra):\n",
    "    return ''.join(set([letra for letra in palavra if letra in ['a','e','i','o','u']])) \n",
    "\n",
    "new_list = [[funcao(palavra) for palavra in linha.split()] for linha in conteudo.split('\\n')]\n",
    "new_list"
   ]
  },
  {
   "cell_type": "code",
   "execution_count": 43,
   "metadata": {},
   "outputs": [
    {
     "name": "stdout",
     "output_type": "stream",
     "text": [
      "[(0, 0), (0, 1), (0, 2), (0, 3), (0, 4), (0, 5), (0, 6), (0, 7), (0, 8), (0, 9), (1, 0), (1, 1), (1, 2), (1, 3), (1, 4), (1, 5), (1, 6), (1, 7), (1, 8), (1, 9), (4, 0), (4, 1), (4, 2), (4, 3), (4, 4), (4, 5), (4, 6), (4, 7), (4, 8), (4, 9), (27, 0), (27, 1), (27, 2), (27, 3), (27, 4), (27, 5), (27, 6), (27, 7), (27, 8), (27, 9), (16, 0), (16, 1), (16, 2), (16, 3), (16, 4), (16, 5), (16, 6), (16, 7), (16, 8), (16, 9), (125, 0), (125, 1), (125, 2), (125, 3), (125, 4), (125, 5), (125, 6), (125, 7), (125, 8), (125, 9)]\n"
     ]
    }
   ],
   "source": [
    "def func(x, y):\n",
    "    return (x**2 if x % 2 == 0 else x**3, y)\n",
    "\n",
    "lista = [func(x,y) for x in range(6) for y in range(10)]\n",
    "\n",
    "print(lista)"
   ]
  },
  {
   "cell_type": "code",
   "execution_count": null,
   "metadata": {},
   "outputs": [],
   "source": []
  }
 ],
 "metadata": {
  "kernelspec": {
   "display_name": "Python [conda env:env01] *",
   "language": "python",
   "name": "conda-env-env01-py"
  },
  "language_info": {
   "codemirror_mode": {
    "name": "ipython",
    "version": 3
   },
   "file_extension": ".py",
   "mimetype": "text/x-python",
   "name": "python",
   "nbconvert_exporter": "python",
   "pygments_lexer": "ipython3",
   "version": "3.7.4"
  }
 },
 "nbformat": 4,
 "nbformat_minor": 2
}
