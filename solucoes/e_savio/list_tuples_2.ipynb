{
 "cells": [
  {
   "cell_type": "code",
   "execution_count": 23,
   "metadata": {},
   "outputs": [],
   "source": [
    "def lensort(lista):\n",
    "    for i in range(0, len(lista)):\n",
    "        for a in range(i+1, len(lista)):\n",
    "            if lista[i] >= lista[a]:\n",
    "                temporaria = lista[i]\n",
    "                lista[i] = lista[a]\n",
    "                lista[a] = temporaria\n",
    "        return lista"
   ]
  },
  {
   "cell_type": "code",
   "execution_count": 24,
   "metadata": {},
   "outputs": [
    {
     "name": "stdout",
     "output_type": "stream",
     "text": [
      "['bye', 'good', 'hello']\n"
     ]
    }
   ],
   "source": [
    "def lensort2(a):\n",
    "    n = len(a)\n",
    "    for i in range(n):\n",
    "        for j in range(i+1,n):\n",
    "            if len(a[i]) > len(a[j]):\n",
    "                temp = a[i]\n",
    "                a[i] = a[j]\n",
    "                a[j] = temp\n",
    "    return a\n",
    "print(lensort2([\"hello\",\"bye\",\"good\"]))"
   ]
  },
  {
   "cell_type": "code",
   "execution_count": 25,
   "metadata": {},
   "outputs": [
    {
     "data": {
      "text/plain": [
       "['c', 'python', 'perl', 'java', 'haskell', 'ruby']"
      ]
     },
     "execution_count": 25,
     "metadata": {},
     "output_type": "execute_result"
    }
   ],
   "source": [
    "lensort(['python', 'perl', 'java', 'c', 'haskell', 'ruby'])"
   ]
  },
  {
   "cell_type": "markdown",
   "metadata": {},
   "source": [
    "    ['c', 'perl', 'java', 'ruby', 'python', 'haskell']   "
   ]
  },
  {
   "cell_type": "code",
   "execution_count": 26,
   "metadata": {},
   "outputs": [],
   "source": [
    "def unique_f(lista):\n",
    "\tlista_c = lista[:]\n",
    "\tfor i in range(0, len(lista)):\n",
    "\t\tchave = 1\n",
    "\t\tfor a in range(1, len(lista)-1):\n",
    "\t\t\tif lista_c[i] == lista[a]:\n",
    "\t\t\t\tchave = chave + 1\n",
    "\t\tif chave == 1:\n",
    "\t\t\tprint(lista_c[i])"
   ]
  },
  {
   "cell_type": "code",
   "execution_count": 27,
   "metadata": {},
   "outputs": [
    {
     "name": "stdout",
     "output_type": "stream",
     "text": [
      "teSte\n",
      "5\n"
     ]
    }
   ],
   "source": [
    "unique_f(['teSte',2,3,3,3,2,2,4,1,5])"
   ]
  },
  {
   "cell_type": "code",
   "execution_count": 28,
   "metadata": {},
   "outputs": [
    {
     "ename": "SyntaxError",
     "evalue": "invalid syntax (<ipython-input-28-d60a2938d359>, line 4)",
     "output_type": "error",
     "traceback": [
      "\u001b[0;36m  File \u001b[0;32m\"<ipython-input-28-d60a2938d359>\"\u001b[0;36m, line \u001b[0;32m4\u001b[0m\n\u001b[0;31m    We can as well use lambda function to get same output\u001b[0m\n\u001b[0m         ^\u001b[0m\n\u001b[0;31mSyntaxError\u001b[0m\u001b[0;31m:\u001b[0m invalid syntax\n"
     ]
    }
   ],
   "source": [
    "s = [1, 3, 5, 7, 9]\n",
    "def sqr(x): return x ** 2\n",
    "print(map(sqr, s))\n",
    "We can as well use lambda function to get same output\n",
    "s = [1, 3, 5, 7, 9]\n",
    "print(map((lambda x: x**2), s))"
   ]
  },
  {
   "cell_type": "code",
   "execution_count": 29,
   "metadata": {},
   "outputs": [],
   "source": [
    "def unique_f_m(lista):\n",
    "    lista_c = []\n",
    "    lista_n = []\n",
    "    #key(lista)\n",
    "    for i in range(0, len(lista)):\n",
    "        count = 0\n",
    "        for a in range(i+1, len(lista)):\n",
    "            if lista[i] == lista[a]:\n",
    "                lista_c.append(lista[i])\n",
    "                count +=1\n",
    "        if count == 0:\n",
    "            lista_n.append(lista[i])\n",
    "    print(lista_c)\n",
    "    print(lista_n)"
   ]
  },
  {
   "cell_type": "code",
   "execution_count": 30,
   "metadata": {},
   "outputs": [
    {
     "name": "stdout",
     "output_type": "stream",
     "text": [
      "['oLa', 'tesTE']\n",
      "['ola', 'tesTE', 'teste', 'ok', 'oLa']\n"
     ]
    }
   ],
   "source": [
    "unique_f_m([\"ola\",\"oLa\",\"tesTE\", \"tesTE\",\"teste\",\"ok\",\"oLa\"])"
   ]
  },
  {
   "cell_type": "code",
   "execution_count": 31,
   "metadata": {},
   "outputs": [
    {
     "name": "stdout",
     "output_type": "stream",
     "text": [
      "<class 'set'>\n"
     ]
    }
   ],
   "source": [
    "s = {\"ola\",\"oLa\",\"tesTE\", \"tesTE\",\"teste\",\"ok\",\"oLa\"}\n",
    "print(type(s))"
   ]
  },
  {
   "cell_type": "code",
   "execution_count": 32,
   "metadata": {},
   "outputs": [
    {
     "data": {
      "text/plain": [
       "{'oLa', 'ok', 'ola', 'tesTE', 'teste'}"
      ]
     },
     "execution_count": 32,
     "metadata": {},
     "output_type": "execute_result"
    }
   ],
   "source": [
    "s.difference()"
   ]
  },
  {
   "cell_type": "code",
   "execution_count": 33,
   "metadata": {},
   "outputs": [],
   "source": [
    "def extsort(lista):\n",
    "    temp = \"\"\n",
    "    total = []\n",
    "    for item in lista:\n",
    "        n = len(item)\n",
    "        for i in range(0, n):\n",
    "            pos = 0\n",
    "            if item[i] == \".\":\n",
    "                #print(i+2)\n",
    "                pos = i+1\n",
    "                total.append(len(item) - pos)\n",
    "                #print(total)\n",
    "    for i in range(0, len(lista)):\n",
    "        for a in range(i+1,len(lista)):\n",
    "            if total[i] > total[a]:\n",
    "                temp = lista[i]\n",
    "                lista[i] = lista[a]\n",
    "                lista[a] = temp\n",
    "    print(lista)\n",
    "    return total"
   ]
  },
  {
   "cell_type": "code",
   "execution_count": 34,
   "metadata": {},
   "outputs": [
    {
     "name": "stdout",
     "output_type": "stream",
     "text": [
      "['a.c', 'x.c', 'a.py', 'b.py', 'bar.txt', 'foo.txt']\n",
      "[1, 2, 2, 3, 3, 1]\n"
     ]
    }
   ],
   "source": [
    "total = extsort(['a.c', 'a.py', 'b.py', 'bar.txt', 'foo.txt', 'x.c'])\n",
    "print(total)"
   ]
  },
  {
   "cell_type": "code",
   "execution_count": 35,
   "metadata": {},
   "outputs": [
    {
     "name": "stdout",
     "output_type": "stream",
     "text": [
      "Conteudo lib_03/text.txt\n",
      "******************************\n",
      "She sells seashells on the seashore;\n",
      "\n",
      "The shells that she sells are seashells I'm sure.\n",
      "\n",
      "So if she sells seashells on the seashore,\n",
      "\n",
      "I'm sure that the shells are seashore shells.\n",
      "\n"
     ]
    }
   ],
   "source": [
    "filename = 'lib_03/text.txt'\n",
    "f = open(filename, mode='r')\n",
    "print('Conteudo ' + filename)\n",
    "print('*' * 30)\n",
    "count = 0\n",
    "lista = []\n",
    "for line in f:\n",
    "    print(line)\n",
    "    lista.append(line)\n",
    "    count = count + 1"
   ]
  },
  {
   "cell_type": "code",
   "execution_count": 36,
   "metadata": {},
   "outputs": [
    {
     "name": "stdout",
     "output_type": "stream",
     "text": [
      "['She sells seashells on the seashore;\\n', \"The shells that she sells are seashells I'm sure.\\n\", 'So if she sells seashells on the seashore,\\n', \"I'm sure that the shells are seashore shells.\\n\"]\n"
     ]
    }
   ],
   "source": [
    "print(lista)"
   ]
  },
  {
   "cell_type": "code",
   "execution_count": 37,
   "metadata": {},
   "outputs": [],
   "source": [
    "import copy"
   ]
  },
  {
   "cell_type": "code",
   "execution_count": 38,
   "metadata": {},
   "outputs": [
    {
     "name": "stdout",
     "output_type": "stream",
     "text": [
      "[\"I'm sure that the shells are seashore shells.\\n\", 'So if she sells seashells on the seashore,\\n', \"The shells that she sells are seashells I'm sure.\\n\", 'She sells seashells on the seashore;\\n']\n"
     ]
    }
   ],
   "source": [
    "lista_c = lista.copy()\n",
    "#print(lista_c)\n",
    "for i in range(0, len(lista)):\n",
    "    lista_c[i] = lista[len(lista)-1-i]\n",
    "print(lista_c)"
   ]
  },
  {
   "cell_type": "code",
   "execution_count": 39,
   "metadata": {},
   "outputs": [],
   "source": [
    "import copy"
   ]
  },
  {
   "cell_type": "code",
   "execution_count": 40,
   "metadata": {},
   "outputs": [
    {
     "name": "stdout",
     "output_type": "stream",
     "text": [
      "File: lib_03/text.txt\n",
      "******************************\n",
      "<class 'str'>\n",
      "\n",
      ";erohsaes eht no sllehsaes slles ehS\n",
      "<class 'str'>\n",
      "\n",
      ".erus m'I sllehsaes era slles ehs taht sllehs ehT\n",
      "<class 'str'>\n",
      "\n",
      ",erohsaes eht no sllehsaes slles ehs fi oS\n",
      "<class 'str'>\n",
      "\n",
      ".sllehs erohsaes era sllehs eht taht erus m'I\n"
     ]
    }
   ],
   "source": [
    "def reverse(s): \n",
    "    str = \"\" \n",
    "    for i in s:\n",
    "        str = i + str\n",
    "    return str\n",
    "\n",
    "filename = 'lib_03/text.txt'\n",
    "f = open(filename, mode='r')\n",
    "print('File: ' + filename)\n",
    "print('*' * 30)\n",
    "s = f.readlines()\n",
    "rev_str = \"\"\n",
    "for item in s:\n",
    "    print(type(item))\n",
    "    rev_str = reverse(item)\n",
    "    print(rev_str)\n"
   ]
  },
  {
   "cell_type": "code",
   "execution_count": 41,
   "metadata": {},
   "outputs": [
    {
     "name": "stdout",
     "output_type": "stream",
     "text": [
      "[1, 2, 3, 4, 5, 6, 7, 8]\n",
      "[2, 2, 2, 4, 5, 6, 7, 8]\n",
      "[3, 2, 3, 3, 5, 6, 7, 8]\n"
     ]
    }
   ],
   "source": [
    "def head_f(lista, n):\n",
    "    for i in range(0, n):\n",
    "        print(lista[i])\n",
    "a = [[1,2,3,4,5,6,7,8],[2,2,2,4,5,6,7,8],[3,2,3,3,5,6,7,8],[4,2,3,4,5,6,7,8],[5,2,3,4,5,4,7,8]]\n",
    "n = 3\n",
    "head_f(a, n)"
   ]
  },
  {
   "cell_type": "markdown",
   "metadata": {},
   "source": [
    "She sells seashells on the seashore;\n",
    "      The shells that she sells are seashells I'm sure.\n",
    "      So if she sells seashells on the seashore,\n",
    "      I'm sure that the shells are seashore shells"
   ]
  },
  {
   "cell_type": "code",
   "execution_count": 42,
   "metadata": {},
   "outputs": [
    {
     "name": "stdout",
     "output_type": "stream",
     "text": [
      "She sells seashells on the seashore;\n",
      "\n",
      "The shells that she sells are seashells I'm sure.\n",
      "\n",
      "So if she sells seashells on the seashore,\n",
      "\n"
     ]
    }
   ],
   "source": [
    "def my_grep(lista, wrd='she'):\n",
    "    for item in lista:\n",
    "        a = item.split()\n",
    "        #print(type(a))\n",
    "        for i in range(0, len(a)):\n",
    "            if a[i] == wrd:\n",
    "                print(item)\n",
    "\n",
    "\n",
    "file_name = 'lib_03/text.txt'\n",
    "f = open(file_name, mode='r')\n",
    "s = f.readlines()\n",
    "#print(s)\n",
    "\n",
    "my_grep(s, 'sells')"
   ]
  },
  {
   "cell_type": "code",
   "execution_count": 43,
   "metadata": {},
   "outputs": [
    {
     "name": "stdout",
     "output_type": "stream",
     "text": [
      "She sells seashells on the seashore;\n",
      "\n",
      "She sell\n",
      "s seashe\n",
      "lls on t\n",
      "he seash\n",
      "ore;\n",
      "\n",
      "The shells that she sells are seashells I'm sure.\n",
      "\n",
      "The shel\n",
      "ls that \n",
      "she sell\n",
      "s are se\n",
      "ashells \n",
      "I'm sure\n",
      ".\n",
      "\n",
      "So if she sells seashells on the seashore,\n",
      "\n",
      "So if sh\n",
      "e sells \n",
      "seashell\n",
      "s on the\n",
      " seashor\n",
      "e,\n",
      "\n"
     ]
    }
   ],
   "source": [
    "def my_grep(lista, num, wrd='she'):\n",
    "    for item in lista:\n",
    "        a = item.split()\n",
    "        #print(type(a))\n",
    "        for i in range(0, len(a)):\n",
    "            if a[i] == wrd:\n",
    "                print(item)\n",
    "                for t in range(0,len(item), num):\n",
    "                    corte = item[t:t+num]\n",
    "                    print(corte)\n",
    "\n",
    "file_name = 'lib_03/text.txt'\n",
    "f = open(file_name, mode='r')\n",
    "s = f.readlines()\n",
    "#print(s)\n",
    "\n",
    "my_grep(s, 8, 'sells')"
   ]
  },
  {
   "cell_type": "code",
   "execution_count": 44,
   "metadata": {},
   "outputs": [
    {
     "name": "stdout",
     "output_type": "stream",
     "text": [
      "  She sells\n",
      "  seashells\n",
      "  on the seashore;\n",
      " \n",
      "  The shells\n",
      "  that she sells\n",
      "  are seashells\n",
      "  I'm sure.\n",
      " \n",
      "  So if she sells\n",
      "  seashells\n",
      "  on the seashore,\n",
      " \n",
      "  I'm sure that\n",
      "  the shells\n",
      "  are seashore\n",
      "  shells.\n"
     ]
    }
   ],
   "source": [
    "def my_grep(lista, num, wrd='she'):\n",
    "    for item in lista:\n",
    "        a = item.split()\n",
    "        #print(a)\n",
    "        count = 0\n",
    "        str_c = \" \"\n",
    "        for i in range(0, len(a)):\n",
    "            str_c = str_c + \" \" + a[i]\n",
    "\n",
    "            count = count + len(a[i])\n",
    "            if count > num:\n",
    "                str_c = str_c + \"\\n \"  \n",
    "                count = 0\n",
    "        print(str_c)\n",
    "\n",
    "file_name = 'lib_03/text.txt'\n",
    "f = open(file_name, mode='r')\n",
    "s = f.readlines()\n",
    "#print(s)\n",
    "\n",
    "my_grep(s, 7, 'sells')"
   ]
  },
  {
   "cell_type": "code",
   "execution_count": 45,
   "metadata": {},
   "outputs": [
    {
     "name": "stdout",
     "output_type": "stream",
     "text": [
      "50\n",
      "      She sells seashells on the seashore;\n",
      "\n",
      "The shells that she sells are seashells I'm sure.\n",
      "\n",
      "   So if she sells seashells on the seashore,\n",
      "\n",
      "  I'm sure that the shells are seashore shells.\n",
      "\n"
     ]
    }
   ],
   "source": [
    "filename = 'lib_03/text.txt'\n",
    "f = open(filename, mode='r')\n",
    "s = f.readlines()\n",
    "num = len(max(s))\n",
    "print(num)\n",
    "for line in s:\n",
    "    p = int((num-len(line))/2)\n",
    "    print(\" \" * p + line )\n"
   ]
  },
  {
   "cell_type": "code",
   "execution_count": 46,
   "metadata": {},
   "outputs": [
    {
     "name": "stdout",
     "output_type": "stream",
     "text": [
      "{1: 'a', 2: 'b', 3: 'c'}\n"
     ]
    }
   ],
   "source": [
    "a = [1, 2, 3]\n",
    "b = [\"a\", \"b\", \"c\"]\n",
    "dic = {}\n",
    "count=0\n",
    "for i in a:\n",
    "    dic[i] = b[count]\n",
    "    count+=1\n",
    "print(dic)"
   ]
  },
  {
   "cell_type": "code",
   "execution_count": 47,
   "metadata": {},
   "outputs": [],
   "source": [
    "def to_upper_case(s):\n",
    "    return str(s).upper()"
   ]
  },
  {
   "cell_type": "code",
   "execution_count": 48,
   "metadata": {},
   "outputs": [],
   "source": [
    "def print_iterator(it):\n",
    "    for x in it:\n",
    "        print(x, end=' ')\n",
    "    print('')  # for new line"
   ]
  },
  {
   "cell_type": "code",
   "execution_count": 49,
   "metadata": {},
   "outputs": [
    {
     "name": "stdout",
     "output_type": "stream",
     "text": [
      "<class 'map'>\n",
      "A B C \n"
     ]
    }
   ],
   "source": [
    "# map() with string\n",
    "map_iterator = map(to_upper_case, 'abc')\n",
    "print(type(map_iterator))\n",
    "print_iterator(map_iterator)"
   ]
  },
  {
   "cell_type": "code",
   "execution_count": 50,
   "metadata": {},
   "outputs": [
    {
     "name": "stdout",
     "output_type": "stream",
     "text": [
      "1 A ABC \n"
     ]
    }
   ],
   "source": [
    "# map() with tuple\n",
    "map_iterator = map(to_upper_case, (1, 'a', 'abc'))\n",
    "print_iterator(map_iterator)"
   ]
  },
  {
   "cell_type": "code",
   "execution_count": 51,
   "metadata": {},
   "outputs": [
    {
     "name": "stdout",
     "output_type": "stream",
     "text": [
      "X A ABC \n"
     ]
    }
   ],
   "source": [
    "map_iterator = map(to_upper_case, ['x', 'a', 'abc'])\n",
    "print_iterator(map_iterator)"
   ]
  },
  {
   "cell_type": "code",
   "execution_count": 52,
   "metadata": {},
   "outputs": [
    {
     "data": {
      "text/plain": [
       "['X', 'Y', 'Z']"
      ]
     },
     "execution_count": 52,
     "metadata": {},
     "output_type": "execute_result"
    }
   ],
   "source": [
    "def map_from_scrach(arg1,arg2):\n",
    "    lista = []\n",
    "    for i in arg2:\n",
    "        lista.append(arg1(i))\n",
    "    return lista\n",
    "        \n",
    "map_from_scrach(to_upper_case, ['x', 'y', 'z'])\n",
    "    "
   ]
  },
  {
   "cell_type": "code",
   "execution_count": 53,
   "metadata": {},
   "outputs": [
    {
     "name": "stdout",
     "output_type": "stream",
     "text": [
      "0\n",
      "2\n",
      "4\n",
      "6\n",
      "8\n"
     ]
    }
   ],
   "source": [
    "def even(x): return x %2 == 0\n",
    "a =filter(even, range(10))\n",
    "for i in a:\n",
    "    print(i)"
   ]
  },
  {
   "cell_type": "code",
   "execution_count": 54,
   "metadata": {},
   "outputs": [
    {
     "name": "stdout",
     "output_type": "stream",
     "text": [
      "[1, 2, 3, 4, 5]\n"
     ]
    }
   ],
   "source": [
    "def filtro(lista):\n",
    "    asd = []\n",
    "    for elemento in lista:\n",
    "        if elemento < 6:\n",
    "            asd.append(elemento)\n",
    "    return asd\n",
    "def filtrar(arg1, arg2):\n",
    "    arg3 = arg2(arg1)\n",
    "    print(arg3)\n",
    "    \n",
    "lista = [1,2,3,4,5,6,7,8]\n",
    "filtrar(lista, filtro)"
   ]
  },
  {
   "cell_type": "code",
   "execution_count": 55,
   "metadata": {},
   "outputs": [
    {
     "data": {
      "text/plain": [
       "[(1, 1, 2),\n",
       " (1, 2, 3),\n",
       " (1, 3, 4),\n",
       " (2, 2, 4),\n",
       " (1, 4, 5),\n",
       " (2, 3, 5),\n",
       " (1, 5, 6),\n",
       " (2, 4, 6),\n",
       " (3, 3, 6)]"
      ]
     },
     "execution_count": 55,
     "metadata": {},
     "output_type": "execute_result"
    }
   ],
   "source": [
    "def triplets(n): \n",
    "    return [ (a,c-a,c) for c in range(2,n) for a in range(1,c//2+1) ]\n",
    "triplets(7)"
   ]
  },
  {
   "cell_type": "code",
   "execution_count": 56,
   "metadata": {},
   "outputs": [],
   "source": [
    "def enumer(ind, lista):\n",
    "    asd = [None]*len(ind)\n",
    "    for i in range(0, len(lista)):\n",
    "        asd[i] = (ind[i], lista[i])\n",
    "    print(asd)"
   ]
  },
  {
   "cell_type": "code",
   "execution_count": 57,
   "metadata": {},
   "outputs": [
    {
     "name": "stdout",
     "output_type": "stream",
     "text": [
      "[(1, 're'), (2, 'fr'), (3, 'yh')]\n"
     ]
    }
   ],
   "source": [
    "enumer([1,2,3], ['re', 'fr', 'yh'])"
   ]
  },
  {
   "cell_type": "code",
   "execution_count": 58,
   "metadata": {},
   "outputs": [],
   "source": [
    "def d2_array(valor, tam):\n",
    "    arr_2d = [[None]*tam,[None]*tam]\n",
    "    for i in range(0, tam):\n",
    "        arr_2d[0][0] = valor\n",
    "    print(arr_2d)"
   ]
  },
  {
   "cell_type": "code",
   "execution_count": 105,
   "metadata": {},
   "outputs": [
    {
     "name": "stdout",
     "output_type": "stream",
     "text": [
      "[[2, None, None], [None, None, None]]\n"
     ]
    }
   ],
   "source": [
    "d2_array(2, 3)"
   ]
  },
  {
   "cell_type": "code",
   "execution_count": 125,
   "metadata": {},
   "outputs": [
    {
     "name": "stdout",
     "output_type": "stream",
     "text": [
      "[['a', 'b', 'c'], ['1', '2', '3'], ['2', '3', '4'], ['3', '4', '5']]\n"
     ]
    }
   ],
   "source": [
    "def fun_add(item):\n",
    "    pack = []\n",
    "    for i in range(0, len(item)):\n",
    "        if item[i] != ',':\n",
    "            pack.append(item[i])\n",
    "    return pack\n",
    "\n",
    "filename = 'lib_03/exe_31.csv'\n",
    "f = open(filename, mode='r')\n",
    "s = f.readlines()\n",
    "dat = []\n",
    "pack = []\n",
    "for item in s:\n",
    "    item = item.strip('\\n')\n",
    "    \n",
    "    var = fun_add(item)\n",
    "    dat.append(var)\n",
    "        \n",
    "print(dat)    "
   ]
  },
  {
   "cell_type": "code",
   "execution_count": 95,
   "metadata": {},
   "outputs": [
    {
     "name": "stdout",
     "output_type": "stream",
     "text": [
      "[['a', 'b', 'c'], ['1', '2', '3'], ['2', '3', '4'], ['3', '4', '5']]\n"
     ]
    }
   ],
   "source": [
    "import re\n",
    "res=[]\n",
    "filename = 'lib_03/exe_31.csv'\n",
    "def parse_csv(file):\n",
    "  f = open(file,'r')\n",
    "  txt=f.readlines()\n",
    "  for l in txt:\n",
    "    s=re.findall('\\w+',l)\n",
    "    res.append(s)\n",
    "  print(res)\n",
    "parse_csv(filename)"
   ]
  },
  {
   "cell_type": "markdown",
   "metadata": {},
   "source": [
    "# 32"
   ]
  },
  {
   "cell_type": "code",
   "execution_count": 128,
   "metadata": {},
   "outputs": [
    {
     "name": "stdout",
     "output_type": "stream",
     "text": [
      "[['a', 'b', 'c'], ['1', '2', '3'], ['2', '3', '4'], ['3', '4', '5']]\n"
     ]
    }
   ],
   "source": [
    "def fun_add2(item, arg):\n",
    "    pack = []\n",
    "    for i in range(0, len(item)):\n",
    "        if item[i] != arg:\n",
    "            pack.append(item[i])\n",
    "    return pack\n",
    "\n",
    "filename = 'lib_03/exe_32.csv'\n",
    "f = open(filename, mode='r')\n",
    "s = f.readlines()\n",
    "dat = []\n",
    "pack = []\n",
    "for item in s:\n",
    "    item = item.strip('\\n')\n",
    "    \n",
    "    var = fun_add2(item, '#')\n",
    "    dat.append(var)\n",
    "        \n",
    "print(dat)   "
   ]
  },
  {
   "cell_type": "code",
   "execution_count": 19,
   "metadata": {},
   "outputs": [
    {
     "name": "stdout",
     "output_type": "stream",
     "text": [
      "OK\n"
     ]
    }
   ],
   "source": [
    "def mutate(palavra, argv):\n",
    "    dock = []\n",
    "    pool = []\n",
    "    for i in range(0, len(palavra)):\n",
    "        dock.append(palavra[i])\n",
    "    for a in range(0, len(argv)):\n",
    "        pool.append(argv[a])\n",
    "        \n",
    "    count = 0\n",
    "        \n",
    "    if len(palavra) - len(argv) > 1 or len(argv) - len(palavra) > 1:\n",
    "        \n",
    "        print('not ok')\n",
    "            \n",
    "    else:\n",
    "        if len(dock) < len(argv):\n",
    "        #    for i in range(0, len(dock)):\n",
    "        #        if dock[i] in pool:\n",
    "        #            count += 1\n",
    "            count = [count + 1 for i in range(0, len(dock)) if dock[i] in pool if len(dock) < len(argv)]\n",
    "        \n",
    "        else:\n",
    "            for i in range(0, len(pool)):\n",
    "                if pool[i] in dock:\n",
    "                    count += 1\n",
    "\n",
    "    if count >= len(palavra)-1:\n",
    "        print('OK')\n",
    "        \n",
    "    \n",
    "    \n",
    "mutate('hello', 'helsl')"
   ]
  },
  {
   "cell_type": "code",
   "execution_count": null,
   "metadata": {},
   "outputs": [],
   "source": []
  }
 ],
 "metadata": {
  "kernelspec": {
   "display_name": "Python 3",
   "language": "python",
   "name": "python3"
  },
  "language_info": {
   "codemirror_mode": {
    "name": "ipython",
    "version": 3
   },
   "file_extension": ".py",
   "mimetype": "text/x-python",
   "name": "python",
   "nbconvert_exporter": "python",
   "pygments_lexer": "ipython3",
   "version": "3.7.4"
  }
 },
 "nbformat": 4,
 "nbformat_minor": 4
}
