{
 "cells": [
  {
   "cell_type": "code",
   "execution_count": 2,
   "metadata": {},
   "outputs": [],
   "source": [
    "class texto():\n",
    "    \n",
    "    #atributo\n",
    "    dock = []\n",
    "    med = []\n",
    "    StopWords = ['is', 'by', 'in']\n",
    "    \n",
    "    #Atribudos privados\n",
    "    __docker = []\n",
    "    __docker_n = []\n",
    "    \n",
    "    def __init__(self):\n",
    "        dock = []\n",
    "        __docker = []\n",
    "        __docker_n = []\n",
    "        \n",
    "    def open_txt(self):\n",
    "        f = open('Arquivos/Shakespeare.txt', 'r')\n",
    "        lines = f.readlines()\n",
    "        f.close()\n",
    "        return lines\n",
    "        \n",
    "    def lines_to_list(self, lines):\n",
    "        \n",
    "        for line in lines:\n",
    "            line.strip('\\n')\n",
    "            for item in line.split():\n",
    "                self.dock.append(item)\n",
    "        print('Quantidade de palavras: ',len(self.dock))\n",
    "        return self.dock\n",
    "    \n",
    "    def print_each_word(self, lista):\n",
    "        for item in lista:\n",
    "            print(item)\n",
    "            \n",
    "    def unique_words(self, lista):\n",
    "        for item in lista:\n",
    "            if item not in self.__docker:\n",
    "                self.__docker.append(item)\n",
    "        print('Quantidade de palavras: ',len(self.__docker))\n",
    "        return self.__docker\n",
    "    \n",
    "    def count_words(self, lista):\n",
    "        for item in lista:\n",
    "            contar = 0\n",
    "            for i in range(0, len(self.dock)):\n",
    "                if item == self.dock[i]:\n",
    "                    contar+=1\n",
    "            self.__docker_n.append(contar)\n",
    "            \n",
    "        return self.__docker_n\n",
    "    \n",
    "    def organizar(self):\n",
    "        for i in range(0, len(self.__docker)):\n",
    "            for a in range(i+1, len(self.__docker)):\n",
    "                if self.__docker_n[i] < self.__docker_n[a]:\n",
    "                    temp_n = self.__docker_n[a]\n",
    "                    temp = self.__docker[a]\n",
    "                    self.__docker_n[a] = self.__docker_n[i]\n",
    "                    self.__docker[a] = self.__docker[i]\n",
    "                    self.__docker_n[i] = temp_n\n",
    "                    self.__docker[i] = temp\n",
    "        dic = dict(zip(self.__docker, self.__docker_n))\n",
    "        return dic\n",
    "        \n",
    "    def prt(self, val):\n",
    "        for i in range(val):\n",
    "            print(self.__docker[i], self.__docker_n[i])\n",
    "            \n",
    "    def media(self):\n",
    "        conta = 0\n",
    "        tam = len(self.__docker_n)\n",
    "        for valor in self.__docker_n:\n",
    "            conta = conta + valor\n",
    "        self.med = conta/tam\n",
    "        return self.med\n",
    "    \n",
    "    def dp(self):\n",
    "        arg = 0\n",
    "        for valor in self.__docker_n:\n",
    "            arg = (arg + ((valor - self.med) * (valor - self.med)))\n",
    "        arg = arg/len(self.__docker_n)\n",
    "        arg = arg**1/2\n",
    "        return arg\n",
    "    \n",
    "    def withoutsw(self):\n",
    "        new_list = [item for item in self.dock if item not in self.StopWords]\n",
    "        f = open('Arquivos/NewShakespeare.txt', 'w')\n",
    "        for item in new_list:\n",
    "            f.write(item)\n",
    "            f.write(' ')\n",
    "        return len(new_list)\n",
    "    \n",
    "    def distance(self, num1, num2):\n",
    "        \n",
    "        print(self.dock[num1], self.dock[num2])\n",
    "        \n",
    "        n1 = len(self.dock[num1])\n",
    "        n2 = len(self.dock[num2])\n",
    "        nom1 = str(self.dock[num1])\n",
    "        nom2 = str(self.dock[num2])\n",
    "        count = 0\n",
    "        resul = 0\n",
    "        \n",
    "        if n1 >= n2:\n",
    "            for i in range(len(nom2)):\n",
    "                if nom1[i] == nom2[i]:\n",
    "                    count = count + 1\n",
    "            resul = count/n1\n",
    "        else: \n",
    "            for i in range(len(nom1)):\n",
    "                if nom1[i] == nom2[i]:\n",
    "                    count = count + 1\n",
    "            resul = count/n2\n",
    "        \n",
    "        print(resul)"
   ]
  },
  {
   "cell_type": "code",
   "execution_count": 3,
   "metadata": {},
   "outputs": [],
   "source": [
    "txt = texto()"
   ]
  },
  {
   "cell_type": "code",
   "execution_count": 4,
   "metadata": {},
   "outputs": [],
   "source": [
    "lines = txt.open_txt()\n",
    "#print(lines)"
   ]
  },
  {
   "cell_type": "markdown",
   "metadata": {},
   "source": [
    "### Represente um texto como uma lista de Strings"
   ]
  },
  {
   "cell_type": "code",
   "execution_count": 5,
   "metadata": {},
   "outputs": [
    {
     "name": "stdout",
     "output_type": "stream",
     "text": [
      "Quantidade de palavras:  1643\n"
     ]
    }
   ],
   "source": [
    "lista = txt.lines_to_list(lines)\n",
    "#print(lista)"
   ]
  },
  {
   "cell_type": "markdown",
   "metadata": {},
   "source": [
    "### Retorne individualmente cada palavra do texto"
   ]
  },
  {
   "cell_type": "code",
   "execution_count": 6,
   "metadata": {},
   "outputs": [
    {
     "name": "stdout",
     "output_type": "stream",
     "text": [
      "f\n",
      "i\n",
      "l\n",
      "e\n"
     ]
    }
   ],
   "source": [
    "txt.print_each_word(lista[4])"
   ]
  },
  {
   "cell_type": "markdown",
   "metadata": {},
   "source": [
    "### Conte a quantidade de ocorrências de cada palavra do texto"
   ]
  },
  {
   "cell_type": "code",
   "execution_count": 7,
   "metadata": {},
   "outputs": [
    {
     "name": "stdout",
     "output_type": "stream",
     "text": [
      "Quantidade de palavras:  777\n"
     ]
    }
   ],
   "source": [
    "uni_lista = txt.unique_words(lista)"
   ]
  },
  {
   "cell_type": "code",
   "execution_count": 8,
   "metadata": {},
   "outputs": [],
   "source": [
    "countlista = txt.count_words(uni_lista)"
   ]
  },
  {
   "cell_type": "code",
   "execution_count": 9,
   "metadata": {},
   "outputs": [],
   "source": [
    "dicionario = txt.organizar()\n",
    "#print(dicionario)"
   ]
  },
  {
   "cell_type": "markdown",
   "metadata": {},
   "source": [
    "### Retorne as 10 palavras mais frequentes"
   ]
  },
  {
   "cell_type": "code",
   "execution_count": 10,
   "metadata": {},
   "outputs": [
    {
     "name": "stdout",
     "output_type": "stream",
     "text": [
      "the 45\n",
      "and 34\n",
      "of 34\n",
      "to 31\n",
      "or 25\n",
      "you 22\n",
      "is 20\n",
      "OF 18\n",
      "OR 18\n",
      "for 16\n"
     ]
    }
   ],
   "source": [
    "txt.prt(10)"
   ]
  },
  {
   "cell_type": "markdown",
   "metadata": {},
   "source": [
    "### Retorne a média e desvio padrão da quantidade de ocorrências"
   ]
  },
  {
   "cell_type": "code",
   "execution_count": 11,
   "metadata": {},
   "outputs": [
    {
     "data": {
      "text/plain": [
       "2.1145431145431144"
      ]
     },
     "execution_count": 11,
     "metadata": {},
     "output_type": "execute_result"
    }
   ],
   "source": [
    "txt.media()"
   ]
  },
  {
   "cell_type": "markdown",
   "metadata": {},
   "source": [
    "### Retorne a média e desvio padrão da quantidade de ocorrências"
   ]
  },
  {
   "cell_type": "code",
   "execution_count": 12,
   "metadata": {},
   "outputs": [
    {
     "data": {
      "text/plain": [
       "6.049424493440232"
      ]
     },
     "execution_count": 12,
     "metadata": {},
     "output_type": "execute_result"
    }
   ],
   "source": [
    "txt.dp()"
   ]
  },
  {
   "cell_type": "markdown",
   "metadata": {},
   "source": [
    "#### Cadastre StopWords (A classe deve possuir um atributo com uma lista de StopWords)  \n",
    "### Retorne um novo arquivo eliminando todas as StopWords do texto"
   ]
  },
  {
   "cell_type": "code",
   "execution_count": 13,
   "metadata": {},
   "outputs": [
    {
     "data": {
      "text/plain": [
       "1596"
      ]
     },
     "execution_count": 13,
     "metadata": {},
     "output_type": "execute_result"
    }
   ],
   "source": [
    "txt.withoutsw()"
   ]
  },
  {
   "cell_type": "markdown",
   "metadata": {},
   "source": [
    "### Inclua um método que retorne a distância entre duas palavras"
   ]
  },
  {
   "cell_type": "code",
   "execution_count": 14,
   "metadata": {},
   "outputs": [
    {
     "name": "stdout",
     "output_type": "stream",
     "text": [
      "releases Etexts\n",
      "0.125\n"
     ]
    }
   ],
   "source": [
    "txt.distance(30,31)"
   ]
  },
  {
   "cell_type": "code",
   "execution_count": null,
   "metadata": {},
   "outputs": [],
   "source": []
  }
 ],
 "metadata": {
  "kernelspec": {
   "display_name": "Python 3",
   "language": "python",
   "name": "python3"
  },
  "language_info": {
   "codemirror_mode": {
    "name": "ipython",
    "version": 3
   },
   "file_extension": ".py",
   "mimetype": "text/x-python",
   "name": "python",
   "nbconvert_exporter": "python",
   "pygments_lexer": "ipython3",
   "version": "3.7.4"
  }
 },
 "nbformat": 4,
 "nbformat_minor": 4
}
