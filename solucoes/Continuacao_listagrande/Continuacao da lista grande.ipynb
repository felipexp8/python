{
 "cells": [
  {
   "cell_type": "markdown",
   "metadata": {},
   "source": [
    "*tail* - read lines from the end of a file      \n",
    "*head* - read lines from the top of a file    \n",
    "*follow* - read lines as a file grows   \n",
    "*Comando grep* – Filtragem de Strings com Expressões Regulares\n"
   ]
  },
  {
   "cell_type": "markdown",
   "metadata": {},
   "source": [
    "problem 14: Write a function lensort to sort a list of strings based on length.\n",
    " "
   ]
  },
  {
   "cell_type": "code",
   "execution_count": null,
   "metadata": {},
   "outputs": [],
   "source": [
    "#def lensort():\n",
    "lista = ['python', 'perl', 'java', 'c', 'haskell', 'ruby']\n",
    "\n",
    "\n",
    "lista_ordenada = sorted(lista, key=len)  #A function that would server as a key or a basis of sort comparison.\n",
    "    \n",
    "print(lista_ordenada)\n"
   ]
  },
  {
   "cell_type": "markdown",
   "metadata": {},
   "source": [
    "problem 15: Improve the unique function written in previous problems to take an optional key function as argument and use the return value of the key function to check for uniqueness."
   ]
  },
  {
   "cell_type": "code",
   "execution_count": null,
   "metadata": {},
   "outputs": [],
   "source": [
    "lista_ex15 = [\"Python\", \"java\", \"Python\", \"Java\"]\n",
    "\n",
    "key = lambda lista_ex15 : lista_ex15.lower()\n",
    "\n",
    "def unique(param_lista, param_func):\n",
    "    lista = []\n",
    "    lista_unique = []\n",
    "    for i in param_lista:\n",
    "        \n",
    "        lista.append(param_func(i))\n",
    "   \n",
    "    for k in lista:\n",
    "       \n",
    "        if not k in lista_unique:\n",
    "            lista_unique.append(k)  \n",
    "        \n",
    "    return print(lista_unique)\n",
    "\n",
    "unique(lista_ex15, key)\n",
    "\n",
    "#def retorno_lower(x):\n",
    "#    lista=[]\n",
    "#    for i in range(len(x)):\n",
    "#        lista.append(x[i].lower())\n",
    "#    return lista\n",
    "\n",
    "#retorno_lower(lista_ex15)\n",
    "\n",
    "\n",
    "\n",
    "\n"
   ]
  },
  {
   "cell_type": "markdown",
   "metadata": {},
   "source": [
    "problem 16: Reimplement the unique function implemented in the earlier examples using sets.\n"
   ]
  },
  {
   "cell_type": "code",
   "execution_count": null,
   "metadata": {
    "scrolled": true
   },
   "outputs": [],
   "source": [
    "lista_ex15 = {\"Python\", \"java\", \"Python\", \"Java\"}\n",
    "\n",
    "def unique(param_lista, param_func):\n",
    "    lista = []\n",
    "    lista_unique = []\n",
    "    for i in param_lista:\n",
    "        \n",
    "        lista.append(param_func(i))\n",
    "   \n",
    "    for k in lista:\n",
    "       \n",
    "        if not k in lista_unique:\n",
    "            lista_unique.append(k)  \n",
    "        \n",
    "    return print(lista_unique)\n",
    "\n",
    "unique(lista_ex15, key)\n",
    "\n",
    "\n",
    "key1 = lambda lista_ex15 : lista_ex15.set()\n",
    "key2 = lambda lista_ex15 : lista_ex15.str()"
   ]
  },
  {
   "cell_type": "markdown",
   "metadata": {},
   "source": [
    "problem 17: Write a function extsort to sort a list of files based on extension."
   ]
  },
  {
   "cell_type": "code",
   "execution_count": null,
   "metadata": {},
   "outputs": [],
   "source": [
    "lista = ['a.c', 'a.py', 'b.py', 'bar.txt', 'foo.txt', 'x.c']\n",
    "\n",
    "\n",
    "def extsort(x):\n",
    "    a = \"\"\n",
    "    b = \"\"\n",
    "    for i in range(len(x)):\n",
    "        \n",
    "        x[i] = x[i].split(\".\")\n",
    "        a = x[i][0]\n",
    "        b = x[i][1]\n",
    "        x[i][0] = b\n",
    "        x[i][1] = a\n",
    "        j = str(x)\n",
    "    j = sorted(x)\n",
    "    \n",
    "    #print(j)\n",
    "    \n",
    "\n",
    "    var = []\n",
    "    \n",
    "    for k in range(len(j)):\n",
    "        \n",
    "        c = j[k][1]\n",
    "        d = j[k][0]\n",
    "        \n",
    "        x = c + \".\" + d\n",
    "        var.append(x)\n",
    "    print(var)\n",
    "    \n",
    "\n",
    "extsort(lista)\n",
    "\n"
   ]
  },
  {
   "cell_type": "markdown",
   "metadata": {},
   "source": [
    "problem 18: Write a program reverse.py to print lines of a file in reverse order."
   ]
  },
  {
   "cell_type": "code",
   "execution_count": null,
   "metadata": {},
   "outputs": [],
   "source": [
    "def listagem(arquivo):\n",
    "    with open(arquivo) as conjarquivos:   \n",
    "        linhas = conjarquivos.readlines() \n",
    "        \n",
    "    listas = []\n",
    "    \n",
    "    print(len(linhas))\n",
    "    \n",
    "    for i in range(len(linhas)-1,-1,-1):\n",
    "        \n",
    "        print(linhas[i])\n",
    "    \n",
    "arquivo = \"ex18.py\"\n",
    "\n",
    "listagem(arquivo)\n",
    "\n",
    "\n"
   ]
  },
  {
   "cell_type": "markdown",
   "metadata": {},
   "source": [
    "problem 19: Write a program to print each line of a file in reverse order."
   ]
  },
  {
   "cell_type": "code",
   "execution_count": null,
   "metadata": {},
   "outputs": [],
   "source": [
    "def listagem(arquivo):\n",
    "    with open(arquivo) as conjarquivos:   \n",
    "        linhas = conjarquivos.readlines() \n",
    "        \n",
    "    listas = []\n",
    "    \n",
    "    print(len(linhas))\n",
    "    \n",
    "    for i in range(len(linhas)):\n",
    "        \n",
    "        print(linhas[i])\n",
    "    \n",
    "arquivo = \"ex18.py\"\n",
    "\n",
    "listagem(arquivo)\n"
   ]
  },
  {
   "cell_type": "markdown",
   "metadata": {},
   "source": [
    "problem 20: Implement unix commands head and tail. The head and tail commands take a file as argument and prints its first and last 10 lines of the file respectively."
   ]
  },
  {
   "cell_type": "code",
   "execution_count": null,
   "metadata": {},
   "outputs": [],
   "source": [
    "arquivo_txt = \"aflor_drummond.txt\"\n",
    "\n",
    "def head(linhas,arquivo):\n",
    "    !head -$linhas $arquivo\n",
    "    \n",
    "\n",
    "def tail(linhas,arquivo):\n",
    "    !tail -$linhas $arquivo\n",
    "    \n",
    "head(10,arquivo_txt)\n",
    "tail(10,arquivo_txt)"
   ]
  },
  {
   "cell_type": "markdown",
   "metadata": {},
   "source": [
    "problem 21: Implement unix command grep. The grep command takes a string and a file as arguments and prints all lines in the file which contain the specified string.\n",
    "\n",
    "    $ python grep.py she.txt sure\n",
    "    The shells that she sells are seashells I'm sure.\n",
    "    I'm sure that the shells are seashore shells."
   ]
  },
  {
   "cell_type": "code",
   "execution_count": null,
   "metadata": {},
   "outputs": [],
   "source": [
    "file_name = \"aflor_drummond.txt\"\n",
    "\n",
    "def grep(file_name, search_string):\n",
    "    !grep -i $search_string $file_name \n",
    "    \n",
    "grep(file_name, \"flor\")"
   ]
  },
  {
   "cell_type": "markdown",
   "metadata": {},
   "source": [
    "problem 22: Write a program wrap.py that takes filename and width as aruguments and wraps the lines longer than width.   \n",
    "\n",
    "\n",
    "$ python wrap.py she.txt 30   \n",
    "    I'm sure that the shells are s   \n",
    "    eashore shells.   \n",
    "    So if she sells seashells on t   \n",
    "    he seashore,    \n",
    "    The shells that she sells are     \n",
    "    seashells I'm sure.   \n",
    "    She sells seashells on the sea   \n",
    "    shore;    "
   ]
  },
  {
   "cell_type": "code",
   "execution_count": null,
   "metadata": {},
   "outputs": [],
   "source": [
    "file_name = \"aflor_drummond.txt\"\n",
    "\n",
    "def wrap(path,size):\n",
    "    arq = open(path, 'r')\n",
    "    texto = arq.readlines()\n",
    "    for linha in texto:\n",
    "        tam = int(len(linha)/size)\n",
    "        if (len(linha)%size) != 0:\n",
    "            tam +=1\n",
    "        a = 0\n",
    "        b = size\n",
    "        for i in range(tam):\n",
    "            print(linha[a:b:])\n",
    "            a += size\n",
    "            b += size\n",
    "        a = 0\n",
    "        b = 0\n",
    "    arq.close()\n",
    "    \n",
    "wrap(file_name,30)"
   ]
  },
  {
   "cell_type": "code",
   "execution_count": 13,
   "metadata": {},
   "outputs": [
    {
     "name": "stdout",
     "output_type": "stream",
     "text": [
      "Preso à minha c\n",
      "lasse e a algumas roupas, vou de branco pela rua cinzenta.\n",
      "\n",
      "Melancolias, me\n",
      "rcadorias, espreitam-me.\n",
      "\n",
      "Devo seguir até\n",
      " o enjôo?\n",
      "\n",
      "Posso, sem arma\n",
      "s, revoltar-me?\n",
      "\n",
      "\n",
      "\n",
      "\n",
      "Olhos sujos no \n",
      "relógio da torre:\n",
      "\n",
      "Não, o tempo nã\n",
      "o chegou de completa justiça.\n",
      "\n",
      "O tempo é ainda\n",
      " de fezes, maus poemas, alucinações e espera.\n",
      "\n",
      "O tempo pobre, \n",
      "o poeta pobre\n",
      "\n",
      "fundem-se no me\n",
      "smo impasse.\n",
      "\n",
      "\n",
      "\n",
      "\n",
      "Em vão me tento\n",
      " explicar, os muros são surdos.\n",
      "\n",
      "Sob a pele das \n",
      "palavras há cifras e códigos.\n",
      "\n",
      "O sol consola o\n",
      "s doentes e não os renova.\n",
      "\n",
      "As coisas. Que \n",
      "tristes são as coisas, consideradas sem ênfase.\n",
      "\n",
      "\n",
      "\n",
      "\n",
      "Vomitar este té\n",
      "dio sobre a cidade.\n",
      "\n",
      "Quarenta anos e\n",
      " nenhum problema\n",
      "\n",
      "resolvido, sequ\n",
      "er colocado.\n",
      "\n",
      "Nenhuma carta e\n",
      "scrita nem recebida.\n",
      "\n",
      "Todos os homens\n",
      " voltam para casa.\n",
      "\n",
      "Estão menos liv\n",
      "res mas levam jornais\n",
      "\n",
      "e soletram o mu\n",
      "ndo, sabendo que o perdem.\n",
      "\n",
      "\n",
      "\n",
      "\n",
      "Crimes da terra\n",
      ", como perdoá-los?\n",
      "\n",
      "Tomei parte em \n",
      "muitos, outros escondi.\n",
      "\n",
      "Alguns achei be\n",
      "los, foram publicados.\n",
      "\n",
      "Crimes suaves, \n",
      "que ajudam a viver.\n",
      "\n",
      "Ração diária de\n",
      " erro, distribuída em casa.\n",
      "\n",
      "Os ferozes pade\n",
      "iros do mal.\n",
      "\n",
      "Os ferozes leit\n",
      "eiros do mal.\n",
      "\n",
      "\n",
      "\n",
      "\n",
      "Pôr fogo em tud\n",
      "o, inclusive em mim.\n",
      "\n",
      "Ao menino de 19\n",
      "18 chamavam anarquista.\n",
      "\n",
      "Porém meu ódio \n",
      "é o melhor de mim.\n",
      "\n",
      "Com ele me salv\n",
      "o\n",
      "\n",
      "e dou a poucos \n",
      "uma esperança mínima.\n",
      "\n",
      "\n",
      "\n",
      "\n",
      "Uma flor nasceu\n",
      " na rua!\n",
      "\n",
      "Passem de longe\n",
      ", bondes, ônibus, rio de aço do tráfego.\n",
      "\n",
      "Uma flor ainda \n",
      "desbotada\n",
      "\n",
      "ilude a polícia\n",
      ", rompe o asfalto.\n",
      "\n",
      "Façam completo \n",
      "silêncio, paralisem os negócios,\n",
      "\n",
      "garanto que uma\n",
      " flor nasceu.\n",
      "\n",
      "\n",
      "\n",
      "\n",
      "Sua cor não se \n",
      "percebe.\n",
      "\n",
      "Suas pétalas nã\n",
      "o se abrem.\n",
      "\n",
      "Seu nome não es\n",
      "tá nos livros.\n",
      "\n",
      "É feia. Mas é r\n",
      "ealmente uma flor.\n",
      "\n",
      "\n",
      "\n",
      "\n",
      "Sento-me no chã\n",
      "o da capital do país às cinco horas da tarde\n",
      "\n",
      "e lentamente pa\n",
      "sso a mão nessa forma insegura.\n",
      "\n",
      "Do lado das mon\n",
      "tanhas, nuvens maciças avolumam-se.\n",
      "\n",
      "Pequenos pontos\n",
      " brancos movem-se no mar, galinhas em pânico.\n",
      "\n",
      "É feia. Mas é u\n",
      "ma flor. Furou o asfalto, o tédio, o nojo e o ódio.\n",
      "\n",
      "\n",
      "\n",
      "\n",
      "( Carlos Drummo\n",
      "nd de Andrade )\n",
      "\n"
     ]
    }
   ],
   "source": [
    "file_name = \"aflor_drummond.txt\"\n",
    "\n",
    "arq = open(file_name , 'r')\n",
    "lista_texto= arq.readlines()\n",
    "\n",
    "def wrap(texto,tam_lista):\n",
    "\n",
    "    \n",
    "    for frase in range(len(texto)):\n",
    "        \n",
    "        a = texto[frase][0:tam_lista:]\n",
    "       \n",
    "        b = texto[frase][tam_lista:]\n",
    "        \n",
    "        a1 = a + '\\n' + b\n",
    "\n",
    "        print(a1)\n",
    "\n",
    "wrap(lista_texto,15)\n",
    "    \n"
   ]
  },
  {
   "cell_type": "markdown",
   "metadata": {},
   "source": [
    "problem 23: The above wrap program is not so nice because it is breaking the line at middle of any word. Can you write a new program wordwrap.py that works like wrap.py, but breaks the line only at the word boundaries?\n",
    "\n",
    "    $ python wordwrap.py she.txt 30\n",
    "    I'm sure that the shells are\n",
    "    seashore shells.\n",
    "    So if she sells seashells on\n",
    "    the seashore,\n",
    "    The shells that she sells are\n",
    "    seashells I'm sure.\n",
    "    She sells seashells on the\n",
    "    seashore;\n"
   ]
  },
  {
   "cell_type": "code",
   "execution_count": 18,
   "metadata": {},
   "outputs": [
    {
     "ename": "UnboundLocalError",
     "evalue": "local variable 'a' referenced before assignment",
     "output_type": "error",
     "traceback": [
      "\u001b[0;31m---------------------------------------------------------------------------\u001b[0m",
      "\u001b[0;31mUnboundLocalError\u001b[0m                         Traceback (most recent call last)",
      "\u001b[0;32m<ipython-input-18-9dbde463ac05>\u001b[0m in \u001b[0;36m<module>\u001b[0;34m\u001b[0m\n\u001b[1;32m     25\u001b[0m             \u001b[0mprint\u001b[0m\u001b[0;34m(\u001b[0m\u001b[0ma1\u001b[0m\u001b[0;34m)\u001b[0m\u001b[0;34m\u001b[0m\u001b[0;34m\u001b[0m\u001b[0m\n\u001b[1;32m     26\u001b[0m \u001b[0;34m\u001b[0m\u001b[0m\n\u001b[0;32m---> 27\u001b[0;31m \u001b[0mwrap\u001b[0m\u001b[0;34m(\u001b[0m\u001b[0mlista_texto\u001b[0m\u001b[0;34m,\u001b[0m\u001b[0;36m15\u001b[0m\u001b[0;34m)\u001b[0m\u001b[0;34m\u001b[0m\u001b[0;34m\u001b[0m\u001b[0m\n\u001b[0m\u001b[1;32m     28\u001b[0m \u001b[0;34m\u001b[0m\u001b[0m\n",
      "\u001b[0;32m<ipython-input-18-9dbde463ac05>\u001b[0m in \u001b[0;36mwrap\u001b[0;34m(texto, tam_lista)\u001b[0m\n\u001b[1;32m     11\u001b[0m         \u001b[0;32mif\u001b[0m \u001b[0mtam_lista\u001b[0m \u001b[0;34m!=\u001b[0m \u001b[0;34m''\u001b[0m\u001b[0;34m:\u001b[0m\u001b[0;34m\u001b[0m\u001b[0;34m\u001b[0m\u001b[0m\n\u001b[1;32m     12\u001b[0m \u001b[0;34m\u001b[0m\u001b[0m\n\u001b[0;32m---> 13\u001b[0;31m             \u001b[0ma\u001b[0m \u001b[0;34m=\u001b[0m \u001b[0ma\u001b[0m \u001b[0;34m+\u001b[0m \u001b[0;36m1\u001b[0m\u001b[0;34m\u001b[0m\u001b[0;34m\u001b[0m\u001b[0m\n\u001b[0m\u001b[1;32m     14\u001b[0m \u001b[0;34m\u001b[0m\u001b[0m\n\u001b[1;32m     15\u001b[0m         \u001b[0;32melse\u001b[0m\u001b[0;34m:\u001b[0m\u001b[0;34m\u001b[0m\u001b[0;34m\u001b[0m\u001b[0m\n",
      "\u001b[0;31mUnboundLocalError\u001b[0m: local variable 'a' referenced before assignment"
     ]
    }
   ],
   "source": [
    "file_name = \"aflor_drummond.txt\"\n",
    "\n",
    "arq = open(file_name , 'r')\n",
    "lista_texto= arq.readlines()\n",
    "\n",
    "def wrap(texto,tam_lista):\n",
    "\n",
    "    \n",
    "    for frase in range(len(texto)):\n",
    "        \n",
    "        if tam_lista != :\n",
    "            \n",
    "            a = a + 1\n",
    "        \n",
    "        else:\n",
    "            \n",
    "            a = texto[frase][0:tam_lista:]\n",
    "        \n",
    "            var_aux = int(tam_lista)\n",
    "        \n",
    "            b = texto[frase][tam_lista:]\n",
    "        \n",
    "            a1 = a + '\\n' + b\n",
    "    \n",
    "            print(a1)\n",
    "\n",
    "wrap(lista_texto,15)\n",
    "    "
   ]
  },
  {
   "cell_type": "markdown",
   "metadata": {},
   "source": [
    "problem 24: Write a program center_align.py to center align all lines in the given file.\n",
    "\n",
    "    $ python center_align.py she.txt\n",
    "      I'm sure that the shells are seashore shells.  \n",
    "        So if she sells seashells on the seashore,   \n",
    "    The shells that she sells are seashells I'm sure.\n",
    "           She sells seashells on the seashore;      \n",
    "\n"
   ]
  },
  {
   "cell_type": "code",
   "execution_count": 14,
   "metadata": {},
   "outputs": [
    {
     "ename": "NameError",
     "evalue": "name 'tam_lista' is not defined",
     "output_type": "error",
     "traceback": [
      "\u001b[0;31m---------------------------------------------------------------------------\u001b[0m",
      "\u001b[0;31mNameError\u001b[0m                                 Traceback (most recent call last)",
      "\u001b[0;32m<ipython-input-14-e04a3cb49266>\u001b[0m in \u001b[0;36m<module>\u001b[0;34m\u001b[0m\n\u001b[0;32m----> 1\u001b[0;31m \u001b[0mvar_aux\u001b[0m \u001b[0;34m=\u001b[0m \u001b[0mint\u001b[0m\u001b[0;34m(\u001b[0m\u001b[0mtam_lista\u001b[0m\u001b[0;34m)\u001b[0m\u001b[0;34m\u001b[0m\u001b[0;34m\u001b[0m\u001b[0m\n\u001b[0m\u001b[1;32m      2\u001b[0m \u001b[0;34m\u001b[0m\u001b[0m\n\u001b[1;32m      3\u001b[0m \u001b[0mprint\u001b[0m\u001b[0;34m(\u001b[0m\u001b[0mvar_aux\u001b[0m\u001b[0;34m)\u001b[0m\u001b[0;34m\u001b[0m\u001b[0;34m\u001b[0m\u001b[0m\n",
      "\u001b[0;31mNameError\u001b[0m: name 'tam_lista' is not defined"
     ]
    }
   ],
   "source": [
    "file_name = \"aflor_drummond.txt\"\n",
    "\n",
    "arq = open(file_name , 'r')\n",
    "lista_texto= arq.readlines()\n",
    "\n",
    "def center_align(frase,string)\n",
    "\n",
    "    for apontador in range(len(frase))\n",
    "\n",
    "    a = len(frase)\n",
    "    b = frase[apontador]\n",
    "    \n",
    "    while \n",
    "\n",
    "center_align(file_name,string)\n",
    "\n"
   ]
  },
  {
   "cell_type": "code",
   "execution_count": 46,
   "metadata": {},
   "outputs": [
    {
     "data": {
      "text/plain": [
       "5"
      ]
     },
     "execution_count": 46,
     "metadata": {},
     "output_type": "execute_result"
    }
   ],
   "source": [
    "frase = 'Bruna'\n",
    "\n",
    "len(frase)"
   ]
  },
  {
   "cell_type": "markdown",
   "metadata": {},
   "source": [
    "problem 25: Provide an implementation for zip function using list comprehensions.\n",
    "\n",
    "\n",
    "    >>> zip([1, 2, 3], [\"a\", \"b\", \"c\"])\n",
    "    [(1, \"a\"), (2, \"b\"), (3, \"c\")]\n"
   ]
  },
  {
   "cell_type": "code",
   "execution_count": null,
   "metadata": {},
   "outputs": [],
   "source": [
    "zip_function"
   ]
  }
 ],
 "metadata": {
  "kernelspec": {
   "display_name": "Python 3",
   "language": "python",
   "name": "python3"
  },
  "language_info": {
   "codemirror_mode": {
    "name": "ipython",
    "version": 3
   },
   "file_extension": ".py",
   "mimetype": "text/x-python",
   "name": "python",
   "nbconvert_exporter": "python",
   "pygments_lexer": "ipython3",
   "version": "3.7.3"
  }
 },
 "nbformat": 4,
 "nbformat_minor": 2
}
