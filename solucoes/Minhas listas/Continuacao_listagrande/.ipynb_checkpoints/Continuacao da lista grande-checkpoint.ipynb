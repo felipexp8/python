{
 "cells": [
  {
   "cell_type": "markdown",
   "metadata": {},
   "source": [
    "*tail* - read lines from the end of a file      \n",
    "*head* - read lines from the top of a file    \n",
    "*follow* - read lines as a file grows   \n",
    "*Comando grep* – Filtragem de Strings com Expressões Regulares\n"
   ]
  },
  {
   "cell_type": "markdown",
   "metadata": {},
   "source": [
    "problem 14: Write a function lensort to sort a list of strings based on length.\n",
    " "
   ]
  },
  {
   "cell_type": "code",
   "execution_count": null,
   "metadata": {},
   "outputs": [],
   "source": [
    "#def lensort():\n",
    "lista = ['python', 'perl', 'java', 'c', 'haskell', 'ruby']\n",
    "\n",
    "\n",
    "lista_ordenada = sorted(lista, key=len)  #A function that would server as a key or a basis of sort comparison.\n",
    "    \n",
    "print(lista_ordenada)\n"
   ]
  },
  {
   "cell_type": "markdown",
   "metadata": {},
   "source": [
    "problem 15: Improve the unique function written in previous problems to take an optional key function as argument and use the return value of the key function to check for uniqueness."
   ]
  },
  {
   "cell_type": "code",
   "execution_count": null,
   "metadata": {},
   "outputs": [],
   "source": [
    "lista_ex15 = [\"Python\", \"java\", \"Python\", \"Java\"]\n",
    "\n",
    "key = lambda lista_ex15 : lista_ex15.lower()\n",
    "\n",
    "def unique(param_lista, param_func):\n",
    "    lista = []\n",
    "    lista_unique = []\n",
    "    for i in param_lista:\n",
    "        \n",
    "        lista.append(param_func(i))\n",
    "   \n",
    "    for k in lista:\n",
    "       \n",
    "        if not k in lista_unique:\n",
    "            lista_unique.append(k)  \n",
    "        \n",
    "    return print(lista_unique)\n",
    "\n",
    "unique(lista_ex15, key)\n",
    "\n",
    "#def retorno_lower(x):\n",
    "#    lista=[]\n",
    "#    for i in range(len(x)):\n",
    "#        lista.append(x[i].lower())\n",
    "#    return lista\n",
    "\n",
    "#retorno_lower(lista_ex15)\n",
    "\n",
    "\n",
    "\n",
    "\n"
   ]
  },
  {
   "cell_type": "markdown",
   "metadata": {},
   "source": [
    "problem 16: Reimplement the unique function implemented in the earlier examples using sets.\n"
   ]
  },
  {
   "cell_type": "code",
   "execution_count": null,
   "metadata": {
    "scrolled": true
   },
   "outputs": [],
   "source": [
    "lista_ex15 = {\"Python\", \"java\", \"Python\", \"Java\"}\n",
    "\n",
    "def unique(param_lista, param_func):\n",
    "    lista = []\n",
    "    lista_unique = []\n",
    "    for i in param_lista:\n",
    "        \n",
    "        lista.append(param_func(i))\n",
    "   \n",
    "    for k in lista:\n",
    "       \n",
    "        if not k in lista_unique:\n",
    "            lista_unique.append(k)  \n",
    "        \n",
    "    return print(lista_unique)\n",
    "\n",
    "unique(lista_ex15, key)\n",
    "\n",
    "\n",
    "key1 = lambda lista_ex15 : lista_ex15.set()\n",
    "key2 = lambda lista_ex15 : lista_ex15.str()"
   ]
  },
  {
   "cell_type": "markdown",
   "metadata": {},
   "source": [
    "problem 17: Write a function extsort to sort a list of files based on extension."
   ]
  },
  {
   "cell_type": "code",
   "execution_count": null,
   "metadata": {},
   "outputs": [],
   "source": [
    "lista = ['a.c', 'a.py', 'b.py', 'bar.txt', 'foo.txt', 'x.c']\n",
    "\n",
    "\n",
    "def extsort(x):\n",
    "    a = \"\"\n",
    "    b = \"\"\n",
    "    for i in range(len(x)):\n",
    "        \n",
    "        x[i] = x[i].split(\".\")\n",
    "        a = x[i][0]\n",
    "        b = x[i][1]\n",
    "        x[i][0] = b\n",
    "        x[i][1] = a\n",
    "        j = str(x)\n",
    "    j = sorted(x)\n",
    "    \n",
    "    #print(j)\n",
    "    \n",
    "\n",
    "    var = []\n",
    "    \n",
    "    for k in range(len(j)):\n",
    "        \n",
    "        c = j[k][1]\n",
    "        d = j[k][0]\n",
    "        \n",
    "        x = c + \".\" + d\n",
    "        var.append(x)\n",
    "    print(var)\n",
    "    \n",
    "\n",
    "extsort(lista)\n",
    "\n"
   ]
  },
  {
   "cell_type": "markdown",
   "metadata": {},
   "source": [
    "problem 18: Write a program reverse.py to print lines of a file in reverse order."
   ]
  },
  {
   "cell_type": "code",
   "execution_count": null,
   "metadata": {},
   "outputs": [],
   "source": [
    "def listagem(arquivo):\n",
    "    with open(arquivo) as conjarquivos:   \n",
    "        linhas = conjarquivos.readlines() \n",
    "        \n",
    "    listas = []\n",
    "    \n",
    "    print(len(linhas))\n",
    "    \n",
    "    for i in range(len(linhas)-1,-1,-1):\n",
    "        \n",
    "        print(linhas[i])\n",
    "    \n",
    "arquivo = \"ex18.py\"\n",
    "\n",
    "listagem(arquivo)\n",
    "\n",
    "\n"
   ]
  },
  {
   "cell_type": "markdown",
   "metadata": {},
   "source": [
    "problem 19: Write a program to print each line of a file in reverse order."
   ]
  },
  {
   "cell_type": "code",
   "execution_count": null,
   "metadata": {},
   "outputs": [],
   "source": [
    "def listagem(arquivo):\n",
    "    with open(arquivo) as conjarquivos:   \n",
    "        linhas = conjarquivos.readlines() \n",
    "        \n",
    "    listas = []\n",
    "    \n",
    "    print(len(linhas))\n",
    "    \n",
    "    for i in range(len(linhas)):\n",
    "        \n",
    "        print(linhas[i])\n",
    "    \n",
    "arquivo = \"ex18.py\"\n",
    "\n",
    "listagem(arquivo)\n"
   ]
  },
  {
   "cell_type": "markdown",
   "metadata": {},
   "source": [
    "problem 20: Implement unix commands head and tail. The head and tail commands take a file as argument and prints its first and last 10 lines of the file respectively."
   ]
  },
  {
   "cell_type": "code",
   "execution_count": null,
   "metadata": {},
   "outputs": [],
   "source": [
    "arquivo_txt = \"aflor_drummond.txt\"\n",
    "\n",
    "def head(linhas,arquivo):\n",
    "    !head -$linhas $arquivo\n",
    "    \n",
    "\n",
    "def tail(linhas,arquivo):\n",
    "    !tail -$linhas $arquivo\n",
    "    \n",
    "head(10,arquivo_txt)\n",
    "tail(10,arquivo_txt)"
   ]
  },
  {
   "cell_type": "markdown",
   "metadata": {},
   "source": [
    "problem 21: Implement unix command grep. The grep command takes a string and a file as arguments and prints all lines in the file which contain the specified string.\n",
    "\n",
    "    $ python grep.py she.txt sure\n",
    "    The shells that she sells are seashells I'm sure.\n",
    "    I'm sure that the shells are seashore shells."
   ]
  },
  {
   "cell_type": "code",
   "execution_count": null,
   "metadata": {},
   "outputs": [],
   "source": [
    "file_name = \"aflor_drummond.txt\"\n",
    "\n",
    "def grep(file_name, search_string):\n",
    "    !grep -i $search_string $file_name \n",
    "    \n",
    "grep(file_name, \"flor\")"
   ]
  },
  {
   "cell_type": "markdown",
   "metadata": {},
   "source": [
    "problem 22: Write a program wrap.py that takes filename and width as aruguments and wraps the lines longer than width.   \n",
    "\n",
    "\n",
    "$ python wrap.py she.txt 30   \n",
    "    I'm sure that the shells are s   \n",
    "    eashore shells.   \n",
    "    So if she sells seashells on t   \n",
    "    he seashore,    \n",
    "    The shells that she sells are     \n",
    "    seashells I'm sure.   \n",
    "    She sells seashells on the sea   \n",
    "    shore;    "
   ]
  },
  {
   "cell_type": "code",
   "execution_count": null,
   "metadata": {},
   "outputs": [],
   "source": [
    "file_name = \"aflor_drummond.txt\"\n",
    "\n",
    "def wrap(path,size):\n",
    "    arq = open(path, 'r')\n",
    "    texto = arq.readlines()\n",
    "    for linha in texto:\n",
    "        tam = int(len(linha)/size)\n",
    "        if (len(linha)%size) != 0:\n",
    "            tam +=1\n",
    "        a = 0\n",
    "        b = size\n",
    "        for i in range(tam):\n",
    "            print(linha[a:b:])\n",
    "            a += size\n",
    "            b += size\n",
    "        a = 0\n",
    "        b = 0\n",
    "    arq.close()\n",
    "    \n",
    "wrap(file_name,30)"
   ]
  },
  {
   "cell_type": "code",
   "execution_count": 42,
   "metadata": {},
   "outputs": [
    {
     "name": "stdout",
     "output_type": "stream",
     "text": [
      "\n",
      " ( Carlos Drummo\n"
     ]
    }
   ],
   "source": [
    "file_name = \"aflor_drummond.txt\"\n",
    "\n",
    "arq = open(file_name , 'r')\n",
    "lista_texto= arq.readlines()\n",
    "\n",
    "def wrap(texto,tam_lista):\n",
    "\n",
    "    for frase in range(len(texto)):\n",
    "        \n",
    "        a(texto[frase][0:tam_lista])\n",
    "        \n",
    "        b = len(texto[frase])\n",
    "        \n",
    "    if (b > tam_lista):           \n",
    "        \n",
    "        a.append('\\n')\n",
    "        a.append(texto[frase][:tam_lista])\n",
    "            \n",
    "        b = b - 1\n",
    "\n",
    "    print(a)   \n",
    "        \n",
    "       # print(a)\n",
    "\n",
    "wrap(lista_texto,15)"
   ]
  },
  {
   "cell_type": "code",
   "execution_count": 43,
   "metadata": {},
   "outputs": [
    {
     "name": "stdout",
     "output_type": "stream",
     "text": [
      "Preso à minha c\n",
      "Melancolias, me\n",
      "Devo seguir até\n",
      "Posso, sem arma\n",
      "\n",
      "\n",
      "Olhos sujos no \n",
      "Não, o tempo nã\n",
      "O tempo é ainda\n",
      "O tempo pobre, \n",
      "fundem-se no me\n",
      "\n",
      "\n",
      "Em vão me tento\n",
      "Sob a pele das \n",
      "O sol consola o\n",
      "As coisas. Que \n",
      "\n",
      "\n",
      "Vomitar este té\n",
      "Quarenta anos e\n",
      "resolvido, sequ\n",
      "Nenhuma carta e\n",
      "Todos os homens\n",
      "Estão menos liv\n",
      "e soletram o mu\n",
      "\n",
      "\n",
      "Crimes da terra\n",
      "Tomei parte em \n",
      "Alguns achei be\n",
      "Crimes suaves, \n",
      "Ração diária de\n",
      "Os ferozes pade\n",
      "Os ferozes leit\n",
      "\n",
      "\n",
      "Pôr fogo em tud\n",
      "Ao menino de 19\n",
      "Porém meu ódio \n",
      "Com ele me salv\n",
      "e dou a poucos \n",
      "\n",
      "\n",
      "Uma flor nasceu\n",
      "Passem de longe\n",
      "Uma flor ainda \n",
      "ilude a polícia\n",
      "Façam completo \n",
      "garanto que uma\n",
      "\n",
      "\n",
      "Sua cor não se \n",
      "Suas pétalas nã\n",
      "Seu nome não es\n",
      "É feia. Mas é r\n",
      "\n",
      "\n",
      "Sento-me no chã\n",
      "e lentamente pa\n",
      "Do lado das mon\n",
      "Pequenos pontos\n",
      "É feia. Mas é u\n",
      "\n",
      "\n",
      "( Carlos Drummo\n"
     ]
    }
   ],
   "source": [
    "file_name = \"aflor_drummond.txt\"\n",
    "\n",
    "arq = open(file_name , 'r')\n",
    "lista_texto= arq.readlines()\n",
    "\n",
    "def wrap(texto,tam_lista):\n",
    "    \n",
    "    var =[]\n",
    "    \n",
    "    for frase in range(len(texto)):\n",
    "        \n",
    "        a = texto[frase][0:tam_lista]\n",
    "        \n",
    "        print(a)\n",
    "\n",
    "wrap(lista_texto,15)\n",
    "    \n"
   ]
  },
  {
   "cell_type": "markdown",
   "metadata": {},
   "source": [
    "problem 23: The above wrap program is not so nice because it is breaking the line at middle of any word. Can you write a new program wordwrap.py that works like wrap.py, but breaks the line only at the word boundaries?\n",
    "\n",
    "    $ python wordwrap.py she.txt 30\n",
    "    I'm sure that the shells are\n",
    "    seashore shells.\n",
    "    So if she sells seashells on\n",
    "    the seashore,\n",
    "    The shells that she sells are\n",
    "    seashells I'm sure.\n",
    "    She sells seashells on the\n",
    "    seashore;\n"
   ]
  },
  {
   "cell_type": "code",
   "execution_count": null,
   "metadata": {},
   "outputs": [],
   "source": [
    "file_name = \"aflor_drummond.txt\"\n",
    "\n",
    "arq = open(file_name , 'r')\n",
    "lista_texto = arq.readlines()\n",
    "\n",
    "def wrap(texto,tam_lista):\n",
    "    \n",
    "    var =[]\n",
    "    \n",
    "    for frase in range(len(texto)):\n",
    "        \n",
    "        a = texto[frase][0:tam_lista]\n",
    "        \n",
    "        print(a)\n",
    "\n",
    "wrap(lista_texto,15)"
   ]
  }
 ],
 "metadata": {
  "kernelspec": {
   "display_name": "Python 3",
   "language": "python",
   "name": "python3"
  },
  "language_info": {
   "codemirror_mode": {
    "name": "ipython",
    "version": 3
   },
   "file_extension": ".py",
   "mimetype": "text/x-python",
   "name": "python",
   "nbconvert_exporter": "python",
   "pygments_lexer": "ipython3",
   "version": "3.7.3"
  }
 },
 "nbformat": 4,
 "nbformat_minor": 2
}
