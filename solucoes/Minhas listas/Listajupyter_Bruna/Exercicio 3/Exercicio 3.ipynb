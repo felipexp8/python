{
 "cells": [
  {
   "cell_type": "markdown",
   "metadata": {},
   "source": [
    "* O markdown não possibilita que redimensionemos a imagem usando a sintaxe ![image_alt](image_path)  \n",
    "* Pesquise uma maneira de inserir a seguinte imagem e redimensioná-la no jupyter notebook."
   ]
  },
  {
   "cell_type": "markdown",
   "metadata": {},
   "source": [
    "<img src=\"fundoslide.jpg\" alt=\"some text\" width=\"760\" height=\"840\">"
   ]
  },
  {
   "cell_type": "markdown",
   "metadata": {},
   "source": [
    "<img src=\"fundoslide.jpg\" alt=\"some text\" width=\"390\" height=\"190\">"
   ]
  }
 ],
 "metadata": {
  "kernelspec": {
   "display_name": "Python [conda env:meu_teste]",
   "language": "python",
   "name": "conda-env-meu_teste-py"
  },
  "language_info": {
   "codemirror_mode": {
    "name": "ipython",
    "version": 3
   },
   "file_extension": ".py",
   "mimetype": "text/x-python",
   "name": "python",
   "nbconvert_exporter": "python",
   "pygments_lexer": "ipython3",
   "version": "3.7.4"
  }
 },
 "nbformat": 4,
 "nbformat_minor": 2
}
