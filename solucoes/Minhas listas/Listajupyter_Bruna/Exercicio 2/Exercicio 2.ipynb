{
 "cells": [
  {
   "cell_type": "markdown",
   "metadata": {
    "slideshow": {
     "slide_type": "slide"
    }
   },
   "source": [
    "<img src=\"fundoslide.jpg\" width=\"900\" width=\"800\">\n",
    "\n",
    "## Introdução ao processamento de imagem  \n",
    "\n",
    "[Computer Vision](https://advancedinstitute.ai/index.php/department/computer-vision/)\n",
    "\n",
    "**Objetivo:**\n",
    "\n",
    "Aprender os conceitos elementares de processamento de imagem (importação, análise, manipulação e saída) e operações que podem ser realizadas com imagens. Neste curso os alunos desenvolveram programas básicos de processamento de imagens utilizando bibliotecas de visão computacional."
   ]
  },
  {
   "cell_type": "markdown",
   "metadata": {
    "slideshow": {
     "slide_type": "subslide"
    }
   },
   "source": [
    "**Tópicos:**\n",
    " * Conceitos de processamento de imagem\n",
    " * O que é uma imagem  \n",
    " * Matriz de pixels  \n",
    "    * Cores e canais\n",
    "    * Formatos\n",
    "    * Domínios\n",
    "    * Amostragem\n",
    "    * Quantização"
   ]
  },
  {
   "cell_type": "markdown",
   "metadata": {
    "slideshow": {
     "slide_type": "subslide"
    }
   },
   "source": [
    "* Níveis de processamento\n",
    "    * baixo-nível: operações primitivas (filtro de ruídos e tratamento de contraste)  \n",
    "    * Nível-médio (segmentação e classificação)  \n",
    "    * Alto-nível (tarefas de cognição)  \n",
    "    \n",
    "    \n",
    "* Importar imagem através de uma ferramentas/API\n",
    "\n",
    "\n",
    "* Analisar/manipular imagens usando bibliotecas:\n",
    "    * OpenCV para Python\n",
    "    * Scikit-image\n",
    "    "
   ]
  },
  {
   "cell_type": "markdown",
   "metadata": {
    "slideshow": {
     "slide_type": "subslide"
    }
   },
   "source": [
    "**Duração:**  \n",
    "\n",
    "   * Aula Teórica Presencial: 2 Semanas (8h). Dois encontros de 4 horas.  \n",
    "   * Projetos individuais da disciplina: 64 h\n",
    "   \n",
    "**Audiência:**\n",
    "\n",
    "Estudantes Graduados em Ciência da Computação ou áreas correlatas."
   ]
  },
  {
   "cell_type": "markdown",
   "metadata": {
    "slideshow": {
     "slide_type": "subslide"
    }
   },
   "source": [
    "\n",
    "**Bibliografia:**\n",
    "\n",
    ">Walt, S. van der, Schönberger, J.L., Nunez-Iglesias, J., Boulogne, F., Warner, J.D., Yager, N., Gouillart, E., Yu, T., 2014. scikit-image: image processing in Python. PeerJ 2, e453.\n",
    "\n",
    ">Shilkrot, R., Escriva, D.M., 2018. Mastering OpenCV 4: A comprehensive guide to building computer vision and image processing applications with C++, 3rd Edition. Packt Publishing."
   ]
  }
 ],
 "metadata": {
  "celltoolbar": "Slideshow",
  "kernelspec": {
   "display_name": "Python [conda env:meu_teste]",
   "language": "python",
   "name": "conda-env-meu_teste-py"
  },
  "language_info": {
   "codemirror_mode": {
    "name": "ipython",
    "version": 3
   },
   "file_extension": ".py",
   "mimetype": "text/x-python",
   "name": "python",
   "nbconvert_exporter": "python",
   "pygments_lexer": "ipython3",
   "version": "3.7.4"
  }
 },
 "nbformat": 4,
 "nbformat_minor": 2
}
