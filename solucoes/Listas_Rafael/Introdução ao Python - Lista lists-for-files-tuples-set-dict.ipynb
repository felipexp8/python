{
 "cells": [
  {
   "cell_type": "code",
   "execution_count": 3,
   "metadata": {},
   "outputs": [
    {
     "name": "stdout",
     "output_type": "stream",
     "text": [
      "[0, 1, [3]]\n",
      "[0, 1, [3, 4]]\n",
      "[0, 1, 2]\n"
     ]
    }
   ],
   "source": [
    "# Ex 01\n",
    "\n",
    "x = [0, 1, [2]]\n",
    "x[2][0] = 3\n",
    "print(x)\n",
    "x[2].append(4)\n",
    "print(x)\n",
    "x[2] = 2\n",
    "print(x)"
   ]
  },
  {
   "cell_type": "code",
   "execution_count": 15,
   "metadata": {},
   "outputs": [
    {
     "data": {
      "text/plain": [
       "21"
      ]
     },
     "execution_count": 15,
     "metadata": {},
     "output_type": "execute_result"
    }
   ],
   "source": [
    "# Ex 02\n",
    "\n",
    "#sum([1,2,3])\n",
    "\n",
    "\n",
    "def mySum(lista):\n",
    "    soma = 0\n",
    "    for i in lista:\n",
    "        soma = soma + i\n",
    "    return(soma)\n",
    "lista = [1,2,3,4,5,6]\n",
    "mySum(lista)"
   ]
  },
  {
   "cell_type": "code",
   "execution_count": 12,
   "metadata": {},
   "outputs": [
    {
     "data": {
      "text/plain": [
       "'hahahahehehehihihihohohohuhuhu'"
      ]
     },
     "execution_count": 12,
     "metadata": {},
     "output_type": "execute_result"
    }
   ],
   "source": [
    "# Ex 03\n",
    "\n",
    "def mySum(lista):\n",
    "    soma = lista[0]\n",
    "    for i in range(1,len(lista)):\n",
    "        soma += lista[i]\n",
    "    return(soma)\n",
    "lista = [\"hahaha\",\"hehehe\",\"hihihi\",\"hohoho\",\"huhuhu\"]\n",
    "mySum(lista)"
   ]
  },
  {
   "cell_type": "code",
   "execution_count": 19,
   "metadata": {},
   "outputs": [
    {
     "data": {
      "text/plain": [
       "720"
      ]
     },
     "execution_count": 19,
     "metadata": {},
     "output_type": "execute_result"
    }
   ],
   "source": [
    "# Ex 04\n",
    "\n",
    "\n",
    "def myProd(lista):\n",
    "    soma = 1\n",
    "    for i in lista:\n",
    "        soma = soma * i\n",
    "    return(soma)\n",
    "lista = [1,2,3,4,5,6]\n",
    "myProd(lista)"
   ]
  },
  {
   "cell_type": "code",
   "execution_count": 21,
   "metadata": {},
   "outputs": [
    {
     "data": {
      "text/plain": [
       "120"
      ]
     },
     "execution_count": 21,
     "metadata": {},
     "output_type": "execute_result"
    }
   ],
   "source": [
    "# Ex 05\n",
    "\n",
    "def myFactorial(numero):\n",
    "    res = 1\n",
    "    for i in range (1, numero + 1):\n",
    "        res = res * i\n",
    "    return(res)\n",
    "\n",
    "myFactorial(5)"
   ]
  },
  {
   "cell_type": "code",
   "execution_count": 22,
   "metadata": {},
   "outputs": [
    {
     "data": {
      "text/plain": [
       "[6, 5, 4, 3, 2, 1]"
      ]
     },
     "execution_count": 22,
     "metadata": {},
     "output_type": "execute_result"
    }
   ],
   "source": [
    "# Ex 06\n",
    "\n",
    "def myReverse(lista):\n",
    "    N = len(lista)\n",
    "    nova_lista = []\n",
    "    for i in range(N-1, -1, -1):\n",
    "        nova_lista.append(lista[i])\n",
    "    return(nova_lista)    \n",
    "\n",
    "lista = [1,2,3,4,5,6]\n",
    "myReverse(lista)"
   ]
  },
  {
   "cell_type": "code",
   "execution_count": 44,
   "metadata": {},
   "outputs": [
    {
     "name": "stdout",
     "output_type": "stream",
     "text": [
      "1 6\n",
      "a ronaldinho gaucho\n",
      "a\n"
     ]
    }
   ],
   "source": [
    "# Ex 07\n",
    "\n",
    "lista = [1,2,3,4,5,6]\n",
    "lista_s = [\"casa\", \"as\", \"abacate\", \"ronaldinho gaucho\", \"a\"]\n",
    "a = min(lista)\n",
    "b = max(lista)\n",
    "c = min(lista_s)\n",
    "d = max(lista_s)\n",
    "print(a,b)\n",
    "print(c,d)\n",
    "\n",
    "def myMax(param):\n",
    "    maiorstring = \"a\"\n",
    "    maiornum = 0\n",
    "    if type(param[0]) == str:\n",
    "        maiorstring = param[0]\n",
    "        for i in param:\n",
    "            if len(i)>len(maiorstring):\n",
    "                maiorstring = i\n",
    "        return(maiorstring)\n",
    "    else:\n",
    "        for i in param:\n",
    "            if i>maiornum:\n",
    "                maiornum = i\n",
    "        return(maiornum)\n",
    "\n",
    "def myMin(param):\n",
    "    menorstring = \"a\"\n",
    "    menornum = param[0]\n",
    "    if type(param[0]) == str:\n",
    "        menorstring = param[0]\n",
    "        for i in param:\n",
    "            if len(i)<len(menorstring):\n",
    "                menorstring = i\n",
    "        print(menorstring)\n",
    "    else:\n",
    "        for i in param:\n",
    "            if i<menornum:\n",
    "                menornum = i\n",
    "        print(menornum)\n",
    "\n",
    "    \n",
    "     \n",
    "myMax(lista_s)\n",
    "myMin(lista_s)"
   ]
  },
  {
   "cell_type": "code",
   "execution_count": 69,
   "metadata": {},
   "outputs": [
    {
     "name": "stdout",
     "output_type": "stream",
     "text": [
      "['casa', 'casaas', 'casaasabacate', 'casaasabacateronaldinho gaucho', 'casaasabacateronaldinho gauchoa']\n"
     ]
    }
   ],
   "source": [
    "# Ex 08\n",
    "\n",
    "lista_n = [1,2,3,4,5,6]\n",
    "lista_s = [\"casa\", \"as\", \"abacate\", \"ronaldinho gaucho\", \"a\"]\n",
    "\n",
    "def comulative_sum(param):\n",
    "    A = \"\"\n",
    "    soma = 0\n",
    "    if type(param[0]) == str:\n",
    "        for i in range(len(param)):\n",
    "            A += param[i]\n",
    "            param[i] = A\n",
    "        print(param)\n",
    "    else:\n",
    "        for i in range(len(param)):\n",
    "            soma += param[i]\n",
    "            param[i] = soma\n",
    "        print(param)\n",
    "\n",
    "comulative_sum(lista_s)\n",
    "            "
   ]
  },
  {
   "cell_type": "code",
   "execution_count": 73,
   "metadata": {},
   "outputs": [
    {
     "name": "stdout",
     "output_type": "stream",
     "text": [
      "Não é possível, há uma string na lista\n"
     ]
    }
   ],
   "source": [
    "# Ex 09\n",
    "\n",
    "lista_n = [1,2,3,4,5,6]\n",
    "lista_s = [\"casa\", \"as\", \"abacate\", \"ronaldinho gaucho\", \"a\"]\n",
    "\n",
    "def comulative_sum(param):\n",
    "    prod = 1\n",
    "    soma = 0\n",
    "    for i in param:\n",
    "        if type(i) == str:\n",
    "            soma = 1\n",
    "    if soma == 1:\n",
    "        print(\"Não é possível, há uma string na lista\")\n",
    "    else:\n",
    "        for i in range(len(param)):\n",
    "            prod *= param[i]\n",
    "            param[i] = prod\n",
    "        print(param)\n",
    "\n",
    "comulative_sum(lista_s)"
   ]
  },
  {
   "cell_type": "code",
   "execution_count": 17,
   "metadata": {},
   "outputs": [
    {
     "name": "stdout",
     "output_type": "stream",
     "text": [
      "[1, 2, 3, 4, 5, 6]\n"
     ]
    }
   ],
   "source": [
    "# Ex 10\n",
    "\n",
    "lista_n = [1,2,3,3,4,5,5,6]\n",
    "\n",
    "def unique(param):\n",
    "    lista = []\n",
    "    for i in param:\n",
    "        if not i in lista:\n",
    "            lista.append(i)\n",
    "    print(lista)\n",
    "\n",
    "unique(lista_n)"
   ]
  },
  {
   "cell_type": "code",
   "execution_count": 16,
   "metadata": {},
   "outputs": [
    {
     "name": "stdout",
     "output_type": "stream",
     "text": [
      "[3, 5]\n"
     ]
    }
   ],
   "source": [
    "# Ex 11\n",
    "\n",
    "lista_n = [1,2,3,3,4,5,5,6]\n",
    "\n",
    "def dups(param):\n",
    "    lista = []\n",
    "    listadup = []\n",
    "    for i in param:\n",
    "        if not i in lista:\n",
    "            lista.append(i)\n",
    "        else:\n",
    "            listadup.append(i)\n",
    "    print(listadup)\n",
    "\n",
    "dups(lista_n)"
   ]
  },
  {
   "cell_type": "code",
   "execution_count": 37,
   "metadata": {},
   "outputs": [
    {
     "name": "stdout",
     "output_type": "stream",
     "text": [
      "[[1, 2, 3, 3, 4], [5, 5, 6]]\n"
     ]
    }
   ],
   "source": [
    "# Ex 12\n",
    "\n",
    "lista_n = [1,2,3,3,4,5,5,6]\n",
    "\n",
    "def group(lista, size):\n",
    "    lis = []\n",
    "    lista2 = []\n",
    "    for i in lista:\n",
    "        lis.append(i)\n",
    "        if len(lis) == size:\n",
    "            lista2.append(lis)\n",
    "            lis = []\n",
    "    if len(lis) >=1:\n",
    "        lista2.append(lis)\n",
    "    print(lista2)\n",
    "    \n",
    "\n",
    "group(lista_n, 5)\n"
   ]
  },
  {
   "cell_type": "code",
   "execution_count": 3,
   "metadata": {},
   "outputs": [
    {
     "name": "stdout",
     "output_type": "stream",
     "text": [
      "['rosa', 'azul', 'preto', 'marro', 'cinza', 'branco', 'dourado', 'vermelho', 'esverdeado']\n"
     ]
    }
   ],
   "source": [
    "# Ex 14\n",
    "\n",
    "lista_s = [\"vermelho\", \"preto\", \"marro\", \"rosa\",\"azul\", \"branco\", \"cinza\", \"dourado\", \"esverdeado\"]\n",
    "\n",
    "def lensort(param):\n",
    "    param.sort(key=len)\n",
    "    print(param)\n",
    "    \n",
    "lensort(lista_s)"
   ]
  },
  {
   "cell_type": "code",
   "execution_count": 8,
   "metadata": {},
   "outputs": [
    {
     "name": "stdout",
     "output_type": "stream",
     "text": [
      "['CASA', 'BALAO', 'AZUL', 'VERMELHO', 'CASARAO', 'GATO', 'BOTA', 'CAO', 'CEU']\n"
     ]
    }
   ],
   "source": [
    "# Ex 15\n",
    "\n",
    "lista_1 = [\"casa\",\"balao\",\n",
    "           \"azul\", \"Casa\", \"vermelho\",\n",
    "           \"AZUL\", \"casarao\", \n",
    "           \"casa\", \"gato\", \"bota\", \"cao\", \"ceu\"]\n",
    "\n",
    "\n",
    "def unique(param1, param2):\n",
    "    listamaior = []\n",
    "    for i in param1:\n",
    "        listamaior.append(param2(i))\n",
    "    lista = []\n",
    "    for i in listamaior:\n",
    "        if not i in lista:\n",
    "            lista.append(i)\n",
    "    print(lista)\n",
    "    \n",
    "key = lambda arg1: str(arg1).upper()\n",
    "unique(lista_1, key)\n",
    "\n"
   ]
  },
  {
   "cell_type": "code",
   "execution_count": 30,
   "metadata": {},
   "outputs": [
    {
     "name": "stdout",
     "output_type": "stream",
     "text": [
      "['VERMELHO', 'AZUL', 'GATO', 'CASARAO', 'BALAO', 'PEDRA', 'FIEP', 'CASA', 'CEU', 'BOTA', 'CAO', 'PAPEL']\n"
     ]
    }
   ],
   "source": [
    "# Ex 16\n",
    "\n",
    "lista_1 = {\"casa\",\"balao\", \"fiep\",\n",
    "           \"azul\", \"Casa\", \"vermelho\",\n",
    "           \"AZUL\", \"casarao\", \"papel\", \"pedra\",\n",
    "           \"casa\", \"gato\", \"bota\", \"cao\", \"ceu\"}\n",
    "\n",
    "\n",
    "def unique(param1, param2, param3):\n",
    "    param2(param1)\n",
    "    listamaior = []\n",
    "    for i in param1:\n",
    "        listamaior.append(param3(i))\n",
    "    lista = []\n",
    "    for i in listamaior:\n",
    "        if not i in lista:\n",
    "            lista.append(i)\n",
    "    print(lista)\n",
    "\n",
    "key1 = lambda arg1: list(set(arg1))\n",
    "key2 = lambda arg2: str(arg2).upper()\n",
    "unique(lista_1, key1, key2)\n",
    "\n",
    "\n",
    "\n"
   ]
  },
  {
   "cell_type": "code",
   "execution_count": 3,
   "metadata": {},
   "outputs": [
    {
     "name": "stdout",
     "output_type": "stream",
     "text": [
      "['a.c', 'x.c', 'C.py', 'b.py', 'bar.txt', 'foo.txt']\n"
     ]
    }
   ],
   "source": [
    "# Ex 17\n",
    "\n",
    "files_list = ['a.c', 'C.py', 'b.py', 'bar.txt', 'foo.txt', 'x.c']\n",
    "\n",
    "def takefile(param1):\n",
    "    extensao = param1.split(\".\")\n",
    "    return(extensao[1]) \n",
    "    \n",
    "\n",
    "def extsort(lista):\n",
    "    lista.sort(key=takefile)\n",
    "    print(lista)\n",
    "\n",
    "\n",
    "#extsort(files_list,takefile)\n",
    "\n",
    "extsort(files_list)\n",
    "\n"
   ]
  },
  {
   "cell_type": "code",
   "execution_count": 29,
   "metadata": {},
   "outputs": [
    {
     "data": {
      "text/plain": [
       "[\"I'm sure that the shells are seashore shells.\",\n",
       " 'So if she sells seashells on the seashore,',\n",
       " \"The shells that she sells are seashells I'm sure.\",\n",
       " 'She sells seashells on the seashore;']"
      ]
     },
     "execution_count": 29,
     "metadata": {},
     "output_type": "execute_result"
    }
   ],
   "source": [
    "# Ex 18\n",
    "\n",
    "A = open(\"/home/rafael/HUB/Teste Python/she.txt\", \"r\")\n",
    "C = [lines for lines in A][::-1]\n",
    "\n",
    "[l.strip(\"\\n\").strip(\" \") for l in C]\n",
    "\n"
   ]
  },
  {
   "cell_type": "code",
   "execution_count": 28,
   "metadata": {},
   "outputs": [
    {
     "data": {
      "text/plain": [
       "[';erohsaes eht no sllehsaes slles ehS',\n",
       " \".erus m'I sllehsaes era slles ehs taht sllehs ehT\",\n",
       " ',erohsaes eht no sllehsaes slles ehs fi oS',\n",
       " \".sllehs erohsaes era sllehs eht taht erus m'I\"]"
      ]
     },
     "execution_count": 28,
     "metadata": {},
     "output_type": "execute_result"
    }
   ],
   "source": [
    "# Ex 19\n",
    "\n",
    "A = open(\"/home/rafael/HUB/Teste Python/she.txt\", \"r\")\n",
    "C = [lines[::-1] for lines in A]\n",
    "\n",
    "\n",
    "[l.strip(\"\\n\").strip(\" \") for l in C]\n",
    "\n",
    "\n"
   ]
  },
  {
   "cell_type": "code",
   "execution_count": 10,
   "metadata": {},
   "outputs": [
    {
     "name": "stdout",
     "output_type": "stream",
     "text": [
      "10 PRIMEIRAS LINHAS:\n",
      "She sells seashells on the seashore;\n",
      "The shells that she sells are seashells I'm sure.\n",
      "So if she sells seashells on the seashore,\n",
      "I'm sure that the shells are seashore shells.\n",
      "\n",
      "She sells seashells on the seashore;\n",
      "The shells that she sells are seashells I'm sure.\n",
      "So if she sells seashells on the seashore,\n",
      "I'm sure that the shells are seashore shells.\n",
      "\n",
      "10 ÚLTIMAS LINHAS:\n",
      "Final lines\n",
      "Final lines\n",
      "Final lines\n",
      "Final lines\n",
      "Final lines\n",
      "Final lines\n",
      "Final lines\n",
      "Final lines\n",
      "Final lines\n",
      "Final lines\n"
     ]
    }
   ],
   "source": [
    "# Ex 20\n",
    "\n",
    "def head(hfile):\n",
    "    ler1 = open(\"/home/rafael/HUB/Teste Python/\"+hfile, \"r\")\n",
    "    C = [lines for lines in ler1][:10]\n",
    "    [print(lin.strip(\"\\n\")) for lin in C]\n",
    "\n",
    "\n",
    "def tail(hfile):\n",
    "    ler1 = open(\"/home/rafael/HUB/Teste Python/\"+hfile, \"r\")\n",
    "    C = [lines for lines in ler1][-10:]\n",
    "    [print(lin.strip(\"\\n\")) for lin in C]\n",
    "\n",
    " \n",
    "    \n",
    "    \n",
    "    \n",
    "    \n",
    "print(\"10 PRIMEIRAS LINHAS:\")    \n",
    "head(\"textao.txt\")\n",
    "\n",
    "print(\"10 ÚLTIMAS LINHAS:\")    \n",
    "tail(\"textao.txt\")\n",
    "\n",
    "\n",
    "\n",
    "    "
   ]
  },
  {
   "cell_type": "code",
   "execution_count": 13,
   "metadata": {},
   "outputs": [
    {
     "name": "stdout",
     "output_type": "stream",
     "text": [
      "      The shells that she sells are seashells I'm sure.\n",
      "      I'm sure that the shells are seashore shells.\n"
     ]
    }
   ],
   "source": [
    "# Ex 21\n",
    "\n",
    "\n",
    "def grep(gfile, gstring):\n",
    "    ler = open(\"/home/rafael/HUB/Teste Python/\"+gfile, \"r\")\n",
    "    mostra = [linhas for linhas in ler if gstring in linhas]\n",
    "    [print(lin.strip(\"\\n\")) for lin in mostra]\n",
    "\n",
    "grep(\"she.txt\", \"sure\")"
   ]
  },
  {
   "cell_type": "code",
   "execution_count": 13,
   "metadata": {},
   "outputs": [
    {
     "name": "stdout",
     "output_type": "stream",
     "text": [
      "She sells seashells on the sea\n",
      "shore;\n",
      "The shells that she sells are \n",
      "seashells I'm sure.\n",
      "So if she sells seashells on t\n",
      "he seashore,\n",
      "I'm sure that the shells are s\n",
      "eashore shells.\n",
      "\n",
      "She sells seashells on the sea\n",
      "shore;\n",
      "The shells that she sells are \n",
      "seashells I'm sure.\n",
      "So if she sells seashells on t\n",
      "he seashore,\n",
      "I'm sure that the shells are s\n",
      "eashore shells.\n",
      "\n",
      "She sells seashells on the sea\n",
      "shore;\n",
      "The shells that she sells are \n",
      "seashells I'm sure.\n",
      "So if she sells seashells on t\n",
      "he seashore,\n",
      "I'm sure that the shells are s\n",
      "eashore shells.\n",
      "\n",
      "\n",
      "Final lines\n",
      "Final lines\n",
      "Final lines\n",
      "Final lines\n",
      "Final lines\n",
      "Final lines\n",
      "Final lines\n",
      "Final lines\n",
      "Final lines\n",
      "Final lines\n",
      "Final lines\n",
      "Final lines\n"
     ]
    }
   ],
   "source": [
    "# Ex 22\n",
    "\n",
    "def wrap(gfile, glen):\n",
    "    ler = open(\"/home/rafael/HUB/Teste Python/\"+gfile, \"r\")\n",
    "    mostra = [linhas[:glen]+\"\\n\"+linhas[glen:] for linhas in ler]\n",
    "    [print(lin.strip(\"\\n\")) for lin in mostra]\n",
    "\n",
    "wrap(\"textao.txt\", 30)"
   ]
  },
  {
   "cell_type": "code",
   "execution_count": 79,
   "metadata": {},
   "outputs": [
    {
     "name": "stdout",
     "output_type": "stream",
     "text": [
      "She sells \n",
      "seashells on the \n",
      "seashore; \n",
      "The shells that \n",
      "she sells are \n",
      "seashells I'm \n",
      "sure. \n",
      "So if she sells \n",
      "seashells on the \n",
      "seashore, \n",
      "I'm sure that the \n",
      "shells are \n",
      "seashore shells. \n",
      " \n",
      "She sells \n",
      "seashells on the \n",
      "seashore; \n",
      "The shells that \n",
      "she sells are \n",
      "seashells I'm \n",
      "sure. \n",
      "So if she sells \n",
      "seashells on the \n",
      "seashore, \n",
      "I'm sure that the \n",
      "shells are \n",
      "seashore shells. \n",
      " \n",
      "She sells \n",
      "seashells on the \n",
      "seashore; \n",
      "The shells that \n",
      "she sells are \n",
      "seashells I'm \n",
      "sure. \n",
      "So if she sells \n",
      "seashells on the \n",
      "seashore, \n",
      "I'm sure that the \n",
      "shells are \n",
      "seashore shells. \n",
      " \n",
      " \n",
      "Final lines \n",
      "Final lines \n",
      "Final lines \n",
      "Final lines \n",
      "Final lines \n",
      "Final lines \n",
      "Final lines \n",
      "Final lines \n",
      "Final lines \n",
      "Final lines \n",
      "Final lines \n",
      "Final lines \n"
     ]
    }
   ],
   "source": [
    "# Ex 23\n",
    "\n",
    "def wrap2(file, size):\n",
    "    lines = file.readlines()\n",
    "    for line in lines:\n",
    "        words = line.replace(\"\\n\", \"\").split(\" \")\n",
    "        aux = \"\"\n",
    "        pr = \"\"\n",
    "        for word in words:\n",
    "            aux += \"{} \".format(word)\n",
    "            if len(aux) < size:\n",
    "                pr = aux\n",
    "            else:\n",
    "                print(pr)\n",
    "                aux = \"{} \".format(word)\n",
    "                pr = \"{} \".format(word)\n",
    "        print(pr)\n",
    "            \n",
    "with open(\"/home/rafael/HUB/Teste Python/textao.txt\") as f:            \n",
    "    wrap2(f,20)\n"
   ]
  },
  {
   "cell_type": "code",
   "execution_count": 91,
   "metadata": {},
   "outputs": [
    {
     "name": "stdout",
     "output_type": "stream",
     "text": [
      "       She sells seashells on the seashore;       \n",
      "The shells that she sells are seashells I'm sure. \n",
      "    So if she sells seashells on the seashore,    \n",
      "  I'm sure that the shells are seashore shells.   \n",
      "                                                  \n",
      "       She sells seashells on the seashore;       \n",
      "The shells that she sells are seashells I'm sure. \n",
      "    So if she sells seashells on the seashore,    \n",
      "  I'm sure that the shells are seashore shells.   \n",
      "                                                  \n",
      "       She sells seashells on the seashore;       \n",
      "The shells that she sells are seashells I'm sure. \n",
      "    So if she sells seashells on the seashore,    \n",
      "  I'm sure that the shells are seashore shells.   \n",
      "                                                  \n",
      "                                                  \n",
      "                   Final lines                    \n",
      "                   Final lines                    \n",
      "                   Final lines                    \n",
      "                   Final lines                    \n",
      "                   Final lines                    \n",
      "                   Final lines                    \n",
      "                   Final lines                    \n",
      "                   Final lines                    \n",
      "                   Final lines                    \n",
      "                   Final lines                    \n",
      "                   Final lines                    \n",
      "                   Final lines                    \n"
     ]
    }
   ],
   "source": [
    "# Ex 24\n",
    "\n",
    "def centera(gfile):\n",
    "    ler = open(\"/home/rafael/HUB/Teste Python/\"+gfile, \"r\")\n",
    "    mostra = [linhas for linhas in ler]\n",
    "    tamanho = [len(linhas) for linhas in mostra]\n",
    "    [print(lin.strip(\"\\n\").center(max(tamanho))) for lin in mostra]\n",
    "\n",
    "centera(\"textao.txt\")\n"
   ]
  },
  {
   "cell_type": "code",
   "execution_count": 123,
   "metadata": {},
   "outputs": [
    {
     "name": "stdout",
     "output_type": "stream",
     "text": [
      "[[1, 'a'], [2, 'b'], [3, 'c'], [4, 'd'], [5, 'e']]\n",
      "<class 'list'>\n"
     ]
    }
   ],
   "source": [
    "# Ex 25\n",
    "\n",
    "listaa = [\"a\", \"b\", \"c\", \"d\", \"e\"]\n",
    "listan = [1,2,3,4,5]\n",
    "\n",
    "def myZip(param1, param2):\n",
    "    if len(param1) != len(param2):\n",
    "        print(\"As listas não possuem o mesmo tamanho\")\n",
    "    else:\n",
    "        saida = [str(param1[i])+\" \"+param2[i] for i in range(0, len(param1))]\n",
    "        saida = [saida[i].split(\" \") for i in range(0, len(saida))]\n",
    "    #    [saida[j][0] = [int(saida[j][0]) for j in range(0, len(saida))]\n",
    "        for j in range(0, len(saida)):\n",
    "            saida[j][0] = int(saida[j][0])\n",
    "        print(saida)\n",
    "    \n",
    "\n",
    "myZip(listan, listaa)\n",
    "\n",
    "print(type(listaa))\n"
   ]
  },
  {
   "cell_type": "code",
   "execution_count": 49,
   "metadata": {},
   "outputs": [
    {
     "data": {
      "text/plain": [
       "[(1, 'a'), (2, 'b'), ('a', 'c'), (4, 'd'), (5, 'e')]"
      ]
     },
     "execution_count": 49,
     "metadata": {},
     "output_type": "execute_result"
    }
   ],
   "source": [
    "\n",
    "# Ex 25\n",
    "\n",
    "listaa = [\"a\", \"b\", \"c\", \"d\", \"e\"]\n",
    "listan = [1,2,3,4,5]\n",
    "\n",
    "\n",
    "def my_zip(param1, param2):\n",
    "    return[(i,j) for i,j in zip(param1,param2)]\n",
    "\n",
    "my_zip(listan, listaa)\n"
   ]
  },
  {
   "cell_type": "code",
   "execution_count": 54,
   "metadata": {},
   "outputs": [
    {
     "data": {
      "text/plain": [
       "[4, 16, 36, 64, 100, 144, 196, 256, 324]"
      ]
     },
     "execution_count": 54,
     "metadata": {},
     "output_type": "execute_result"
    }
   ],
   "source": [
    "# Ex 26\n",
    "\n",
    "myFunc = lambda A, B: A**2+2*A*B+B**2\n",
    "lista1 = [1,2,3,4,5,6,7,8,9]\n",
    "\n",
    "\n",
    "def mymap(funcao, param):\n",
    "    return([funcao(param[i],param[i]) for i in range(0,len(param))])\n",
    "\n",
    "\n",
    "\n",
    "mymap(myFunc, lista1)\n",
    "\n"
   ]
  },
  {
   "cell_type": "code",
   "execution_count": 60,
   "metadata": {},
   "outputs": [
    {
     "data": {
      "text/plain": [
       "[2, 4, 6, 8]"
      ]
     },
     "execution_count": 60,
     "metadata": {},
     "output_type": "execute_result"
    }
   ],
   "source": [
    "# Ex 27\n",
    "\n",
    "lista1 = [1,2,3,4,5,6,7,8,9]\n",
    "\n",
    "def even(x):\n",
    "    return(x %2 == 0)\n",
    "\n",
    "\n",
    "def myFilter(func, lista):\n",
    "    return[i for i in lista if func(i) == True]\n",
    "\n",
    "myFilter(even, lista1)\n"
   ]
  },
  {
   "cell_type": "code",
   "execution_count": 81,
   "metadata": {},
   "outputs": [
    {
     "data": {
      "text/plain": [
       "[(1, 1, 2), (1, 2, 3), (1, 3, 4), (2, 2, 4)]"
      ]
     },
     "execution_count": 81,
     "metadata": {},
     "output_type": "execute_result"
    }
   ],
   "source": [
    "# Ex 28\n",
    "\n",
    "def triplets(n):\n",
    "    return[(i,j-i,j) for j in range(2,n) for i in range(1,j//2+1)]\n",
    "triplets(5)\n"
   ]
  },
  {
   "cell_type": "code",
   "execution_count": 89,
   "metadata": {},
   "outputs": [
    {
     "data": {
      "text/plain": [
       "[(0, 'a'),\n",
       " (1, 'b'),\n",
       " (2, 'c'),\n",
       " (3, 'd'),\n",
       " (4, 'e'),\n",
       " (5, 'f'),\n",
       " (6, 'g'),\n",
       " (7, 'h'),\n",
       " (8, 'i'),\n",
       " (9, 'j')]"
      ]
     },
     "execution_count": 89,
     "metadata": {},
     "output_type": "execute_result"
    }
   ],
   "source": [
    "# Ex 29\n",
    "\n",
    "lista1 = [\"a\",\"b\",\"c\",\"d\",\"e\",\"f\",\"g\",\"h\",\"i\",\"j\"]\n",
    "\n",
    "def myEnumerate(param1):\n",
    "    return[(i,param1[i]) for i in range(0, len(lista1))]\n",
    "#    [print(enumerado[i]) for i in range(0, len(enumerado))]\n",
    "\n",
    "myEnumerate(lista1)\n"
   ]
  },
  {
   "cell_type": "code",
   "execution_count": 104,
   "metadata": {},
   "outputs": [
    {
     "name": "stdout",
     "output_type": "stream",
     "text": [
      "[[None, None], [None, None], [None, None], [None, None], [None, None]]\n"
     ]
    }
   ],
   "source": [
    "# Ex 30\n",
    "\n",
    "\n",
    "def myArray(dim1, dim2):\n",
    "    return([[None for i in range(dim1)] for j in range(dim2)])\n",
    "\n",
    "A = myArray(2,5)\n",
    "print(A)\n"
   ]
  },
  {
   "cell_type": "code",
   "execution_count": 126,
   "metadata": {},
   "outputs": [
    {
     "data": {
      "text/plain": [
       "[['a', 'b', 'c'], ['1', '2', '3'], ['2', '3', '4'], ['3', '4', '5']]"
      ]
     },
     "execution_count": 126,
     "metadata": {},
     "output_type": "execute_result"
    }
   ],
   "source": [
    "# Ex 31\n",
    "\n",
    "def perseCSV(arq):\n",
    "    leitura = open(\"/home/rafael/HUB/Teste Python/\"+arq, \"r\")\n",
    "    return [linhas.replace(\"\\n\", \"\").split(\",\") for linhas in leitura]\n",
    "\n",
    "perseCSV(\"a1.csv\")"
   ]
  },
  {
   "cell_type": "code",
   "execution_count": 133,
   "metadata": {},
   "outputs": [
    {
     "data": {
      "text/plain": [
       "[['a', 'b', 'c'], ['1', '2', '3'], ['2', '3', '4'], ['3', '4', '5']]"
      ]
     },
     "execution_count": 133,
     "metadata": {},
     "output_type": "execute_result"
    }
   ],
   "source": [
    "# Ex 32\n",
    "\n",
    "\n",
    "def perseCSV(arq, param1, param2):\n",
    "    leitura = open(\"/home/rafael/HUB/Teste Python/\"+arq, \"r\")\n",
    "    return [linhas.replace(\"\\n\", \"\").split(param1) for linhas in leitura if linhas[0]!=param2]\n",
    "\n",
    "perseCSV(\"a2.csv\", \"!\", \"#\")\n",
    "\n",
    "\n",
    "\n"
   ]
  },
  {
   "cell_type": "code",
   "execution_count": 149,
   "metadata": {},
   "outputs": [
    {
     "name": "stdout",
     "output_type": "stream",
     "text": [
      "True\n",
      "True\n",
      "True\n"
     ]
    }
   ],
   "source": [
    "# Ex 33\n",
    "\n",
    "\n",
    "\n",
    "\n",
    "import string\n",
    "def f1(word):\n",
    "    return set(word[:i] + c + word[i:] for i in range(len(word) + 1) for c in string.ascii_lowercase)\n",
    "\n",
    "def f2(word):\n",
    "    return set((word[:i] + word[i + 1:]) for i in range(len(word)))\n",
    "\n",
    "def f3(word):\n",
    "    return set((word[:i] + c + word[i + 1:] for i in range(len(word)) for c in string.ascii_lowercase))\n",
    "\n",
    "def f4(word):\n",
    "    return set((word[:i] + word[i + 1] + word[i] + word[i + 2:]) for i in range(len(word) - 1))\n",
    "\n",
    "def mutate(word):\n",
    "    return set(f1(word) | f2(word) | f3(word) | f4(word))\n",
    "\n",
    "words = mutate('hello')\n",
    "print('helo' in words)\n",
    "print('cello' in words)\n",
    "print('helol' in words)\n",
    "\n"
   ]
  },
  {
   "cell_type": "code",
   "execution_count": 163,
   "metadata": {},
   "outputs": [
    {
     "data": {
      "text/plain": [
       "True"
      ]
     },
     "execution_count": 163,
     "metadata": {},
     "output_type": "execute_result"
    }
   ],
   "source": [
    "# Ex 34\n",
    "\n",
    "def nearlyEqual(param1, param2):\n",
    "    aux = mutate(param2)\n",
    "    return(param1 in aux)\n",
    "    \n",
    "\n",
    "nearlyEqual(\"python\", \"jython\")\n"
   ]
  },
  {
   "cell_type": "code",
   "execution_count": 174,
   "metadata": {},
   "outputs": [
    {
     "name": "stdout",
     "output_type": "stream",
     "text": [
      "0\n"
     ]
    }
   ],
   "source": [
    "# Ex 36\n",
    "\n",
    "def wpi(arq, carac):\n",
    "    count = 0\n",
    "    leitura = open(\"/home/rafael/HUB/Teste Python/\"+arq, \"r\")\n",
    "    for linhas in leitura:\n",
    "        for letras in linhas:\n",
    "            if letras == carac:\n",
    "                count += 1\n",
    "    print(count)\n",
    "    \n",
    "    \n",
    "wpi(\"a2.csv\", \":\")\n",
    "\n"
   ]
  },
  {
   "cell_type": "code",
   "execution_count": 180,
   "metadata": {},
   "outputs": [
    {
     "name": "stdout",
     "output_type": "stream",
     "text": [
      "{'S': 6, 'h': 54, 'e': 99, ' ': 93, 's': 105, 'l': 78, 'a': 42, 'o': 18, 'n': 30, 't': 21, 'r': 21, ';': 3, '\\n': 28, 'T': 3, 'I': 6, \"'\": 6, 'm': 6, 'u': 6, '.': 6, 'i': 27, 'f': 3, ',': 3, 'F': 12}\n"
     ]
    }
   ],
   "source": [
    "def wpi(file):\n",
    "    with open(file) as f:\n",
    "        hist = {}\n",
    "        while True:\n",
    "            c = f.read(1)\n",
    "            if not c:\n",
    "                return hist\n",
    "            elif c in hist:\n",
    "                hist[c] += 1\n",
    "            else:\n",
    "                hist[c] = 1\n",
    "\n",
    "print(wpi('HUB/Teste Python/textao.txt'))\n",
    "\n"
   ]
  },
  {
   "cell_type": "code",
   "execution_count": 183,
   "metadata": {},
   "outputs": [
    {
     "data": {
      "text/plain": [
       "{'#': 2,\n",
       " ' ': 10,\n",
       " 'e': 7,\n",
       " 'l': 1,\n",
       " 'm': 3,\n",
       " 'n': 4,\n",
       " 't': 4,\n",
       " 's': 3,\n",
       " 'a': 6,\n",
       " 'r': 3,\n",
       " 'p': 1,\n",
       " 'd': 3,\n",
       " 'b': 2,\n",
       " 'y': 1,\n",
       " '!': 9,\n",
       " 'c': 3,\n",
       " 'o': 2,\n",
       " 'i': 3,\n",
       " '\\n': 5,\n",
       " '1': 1,\n",
       " '2': 2,\n",
       " '3': 3,\n",
       " '4': 2,\n",
       " '5': 1}"
      ]
     },
     "execution_count": 183,
     "metadata": {},
     "output_type": "execute_result"
    }
   ],
   "source": [
    "# Ex 36\n",
    "\n",
    "def wpi(arq):\n",
    "    lib = {}\n",
    "    leitura = open(\"/home/rafael/HUB/Teste Python/\"+arq, \"r\")\n",
    "    while True:\n",
    "        carac = leitura.read(1)\n",
    "        if not carac:\n",
    "            return lib\n",
    "        elif carac in lib:\n",
    "            lib[carac] += 1\n",
    "        else:\n",
    "            lib[carac] = 1\n",
    "    \n",
    "    \n",
    "wpi(\"a2.csv\")\n",
    "\n"
   ]
  },
  {
   "cell_type": "code",
   "execution_count": 30,
   "metadata": {},
   "outputs": [
    {
     "name": "stdout",
     "output_type": "stream",
     "text": [
      "['aet', 'aet', 'deno', 'aet', 'opsu', 'deno']\n",
      "['eat', 'ate', 'done', 'tea', 'soup', 'node']\n",
      "{'aet': 'tea', 'deno': 'node', 'opsu': 'soup'}\n"
     ]
    }
   ],
   "source": [
    "# Ex 37\n",
    "\n",
    "lista01 = ['eat', 'ate', 'done', 'tea', 'soup', 'node']\n",
    "\n",
    "def mySum(lista):\n",
    "    soma = lista[0]\n",
    "    for i in range(1,len(lista)):\n",
    "        soma += lista[i]\n",
    "    return(soma)\n",
    "\n",
    "def anagrams(lista):\n",
    "    dicio = {}\n",
    "    printlist = []\n",
    "    newlist = [mySum(sorted(lista[i])) for i in range(len(lista))]\n",
    "    print(newlist)\n",
    "    print(lista)\n",
    "    dicio = {newlist[i]:lista[i] for i in range(len(lista))}\n",
    "#    dicio = {newlist[0]:[lista[0]]}\n",
    "    for j in newlist:\n",
    "        for i in lista:\n",
    "            if j == dicio[j]:\n",
    "                dicio[j].append(i)\n",
    "        \n",
    "    \n",
    "#    printlist = [dicio[0][newlist[0]]]\n",
    "    \n",
    "#    a = dicio[0][newlist[0]]\n",
    " \n",
    "\n",
    "    print(dicio)\n",
    "#    print(a)\n",
    "#    print(lista)\n",
    "#    print(newlist)\n",
    "    \n",
    "    \n",
    "\n",
    "anagrams(lista01)\n",
    "\n"
   ]
  },
  {
   "cell_type": "code",
   "execution_count": 4,
   "metadata": {},
   "outputs": [
    {
     "name": "stdout",
     "output_type": "stream",
     "text": [
      "[['eat', 'ate', 'tea'], ['done', 'node'], ['soup']]\n"
     ]
    }
   ],
   "source": [
    "def mySum(lista):\n",
    "    soma = lista[0]\n",
    "    for i in range(1,len(lista)):\n",
    "        soma += lista[i]\n",
    "    return(soma)\n",
    "\n",
    "def anagrams(words):\n",
    "    keys = list(set([mySum(sorted(word)) for word in words]))\n",
    "    keys.sort()\n",
    "    anagrams = {}\n",
    "    for key in keys:\n",
    "        anagrams[key] = []\n",
    "    for word in words:\n",
    "        anagrams[mySum(sorted(word))].append(word)\n",
    "    return [val for key, val in anagrams.items()]\n",
    "    \n",
    "print(anagrams(['eat', 'ate', 'done', 'tea', 'soup', 'node']))"
   ]
  },
  {
   "cell_type": "code",
   "execution_count": 5,
   "metadata": {},
   "outputs": [
    {
     "name": "stdout",
     "output_type": "stream",
     "text": [
      "[3, 1, 2]\n"
     ]
    }
   ],
   "source": [
    "# Ex 38\n",
    "\n",
    "\n",
    "\n",
    "def valuesort(dic):\n",
    "    keys = [i for i in dic]\n",
    "    keys.sort()\n",
    "    return [dic[i] for i in keys]\n",
    "\n",
    "print(valuesort({'x': 1, 'y': 2, 'a': 3}))\n",
    "\n",
    "\n"
   ]
  },
  {
   "cell_type": "code",
   "execution_count": 191,
   "metadata": {},
   "outputs": [
    {
     "name": "stdout",
     "output_type": "stream",
     "text": [
      "dict_items([('x', 1), ('y', 2), ('z', 3)])\n"
     ]
    },
    {
     "data": {
      "text/plain": [
       "{1: 'x', 2: 'y', 3: 'z'}"
      ]
     },
     "execution_count": 191,
     "metadata": {},
     "output_type": "execute_result"
    }
   ],
   "source": [
    "# Ex 39\n",
    "\n",
    "lib1 = {'x': 1, 'y': 2, 'z': 3}\n",
    "\n",
    "\n",
    "def invertdict(param):\n",
    "    return{p1:p2 for p2,p1 in param.items()}\n",
    "\n",
    "invertdict(lib1)\n"
   ]
  },
  {
   "cell_type": "code",
   "execution_count": null,
   "metadata": {},
   "outputs": [],
   "source": []
  }
 ],
 "metadata": {
  "kernelspec": {
   "display_name": "Python [conda env:amb_1] *",
   "language": "python",
   "name": "conda-env-amb_1-py"
  },
  "language_info": {
   "codemirror_mode": {
    "name": "ipython",
    "version": 3
   },
   "file_extension": ".py",
   "mimetype": "text/x-python",
   "name": "python",
   "nbconvert_exporter": "python",
   "pygments_lexer": "ipython3",
   "version": "3.7.4"
  }
 },
 "nbformat": 4,
 "nbformat_minor": 2
}
