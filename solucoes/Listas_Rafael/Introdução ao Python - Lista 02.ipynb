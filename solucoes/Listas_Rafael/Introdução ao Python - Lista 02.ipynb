{
 "cells": [
  {
   "cell_type": "code",
   "execution_count": 3,
   "metadata": {},
   "outputs": [
    {
     "name": "stdout",
     "output_type": "stream",
     "text": [
      "Entre com um número: 9999999999\n",
      "Entre com outro número: 4\n",
      "O segundo número é menor:  4\n"
     ]
    }
   ],
   "source": [
    "# Ex 01\n",
    "\n",
    "a = int(input(\"Entre com um número: \"))\n",
    "b = int(input(\"Entre com outro número: \"))\n",
    "\n",
    "if a > b:\n",
    "    print(\"O segundo número é menor: \", b)\n",
    "else:\n",
    "    print(\"O primeiro número é menor: \", a)"
   ]
  },
  {
   "cell_type": "code",
   "execution_count": 5,
   "metadata": {},
   "outputs": [
    {
     "name": "stdout",
     "output_type": "stream",
     "text": [
      "Entre com a idade: 25\n",
      "Entre com o peso: 49\n",
      "Quanto dormiu nas ultimas 24 horas? 10\n",
      "Você não pode doar sangue!\n"
     ]
    }
   ],
   "source": [
    "# Ex 02\n",
    "\n",
    "idade = int(input(\"Entre com a idade: \"))\n",
    "peso = int(input(\"Entre com o peso: \"))\n",
    "sleep = int(input(\"Quanto dormiu nas ultimas 24 horas? \"))\n",
    "\n",
    "if 16 <= idade <= 69 and peso > 50 and sleep > 6:\n",
    "    print(\"Você pode doar sangue!\")\n",
    "else:\n",
    "    print(\"Você não pode doar sangue!\")"
   ]
  },
  {
   "cell_type": "code",
   "execution_count": 4,
   "metadata": {},
   "outputs": [
    {
     "name": "stdout",
     "output_type": "stream",
     "text": [
      "Seja a equação de segundo grau, f(x) = a*x2 + b*x + c, entre com os coeficientes, a, b e c\n",
      "Qual valor de a: 1\n",
      "Qual valor de b: 2\n",
      "Qual valor de c: 0\n",
      "possui duas raízes reais\n"
     ]
    }
   ],
   "source": [
    "# Ex 03\n",
    "\n",
    "print(\"Seja a equação de segundo grau, f(x) = a*x2 + b*x + c, entre com os coeficientes, a, b e c\")\n",
    "a = int(input(\"Qual valor de a: \"))\n",
    "b = int(input(\"Qual valor de b: \"))\n",
    "c = int(input(\"Qual valor de c: \"))\n",
    "\n",
    "delta = b**2 - 4*a*c\n",
    "\n",
    "if delta < 0:\n",
    "    print(\"não possui raízes reais\")\n",
    "elif delta == 0:\n",
    "    print(\"possui uma raiz real\")\n",
    "else:\n",
    "    print(\"possui duas raízes reais\")"
   ]
  },
  {
   "cell_type": "code",
   "execution_count": 9,
   "metadata": {},
   "outputs": [
    {
     "name": "stdout",
     "output_type": "stream",
     "text": [
      "entre com um número: 11\n",
      "entre com outro número: 10\n",
      "29\n"
     ]
    }
   ],
   "source": [
    "# Ex 04\n",
    "\n",
    "num1 = int(input(\"entre com um número: \"))\n",
    "num2 = int(input(\"entre com outro número: \"))                \n",
    "\n",
    "if num1 + num2 > 20:\n",
    "    print(num1+num2+8)\n",
    "else:\n",
    "    print(num1+num2-5)"
   ]
  },
  {
   "cell_type": "code",
   "execution_count": 14,
   "metadata": {},
   "outputs": [
    {
     "name": "stdout",
     "output_type": "stream",
     "text": [
      "Digite um número: 25\n",
      "5.0\n"
     ]
    }
   ],
   "source": [
    "# Ex 05\n",
    "\n",
    "A = int(input(\"Digite um número: \"))\n",
    "if A < 0:\n",
    "    print(A**2)\n",
    "else:\n",
    "    print(A**(1/2))"
   ]
  },
  {
   "cell_type": "code",
   "execution_count": 31,
   "metadata": {},
   "outputs": [
    {
     "name": "stdout",
     "output_type": "stream",
     "text": [
      "Digite um número de 1 a 12: 12\n",
      "dez\n"
     ]
    }
   ],
   "source": [
    "# Ex 06\n",
    "meses = [\"jan\", \"fev\", \"mar\", \"abr\", \"mai\", \"jun\", \"jul\", \"ago\", \"set\", \"out\", \"nov\", \"dez\"]\n",
    "num = int(input(\"Digite um número de 1 a 12: \"))\n",
    "if not 1 <= num <= 12:\n",
    "    print(\"Não existe mês correspondente\")\n",
    "else:\n",
    "    print(meses[num-1])"
   ]
  },
  {
   "cell_type": "code",
   "execution_count": null,
   "metadata": {},
   "outputs": [],
   "source": []
  }
 ],
 "metadata": {
  "kernelspec": {
   "display_name": "Python [conda env:amb_1] *",
   "language": "python",
   "name": "conda-env-amb_1-py"
  },
  "language_info": {
   "codemirror_mode": {
    "name": "ipython",
    "version": 3
   },
   "file_extension": ".py",
   "mimetype": "text/x-python",
   "name": "python",
   "nbconvert_exporter": "python",
   "pygments_lexer": "ipython3",
   "version": "3.7.4"
  }
 },
 "nbformat": 4,
 "nbformat_minor": 2
}
