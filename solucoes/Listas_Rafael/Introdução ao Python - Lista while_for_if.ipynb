{
 "cells": [
  {
   "cell_type": "code",
   "execution_count": 3,
   "metadata": {},
   "outputs": [
    {
     "name": "stdout",
     "output_type": "stream",
     "text": [
      "Digite um numero: 65465\n",
      "Digite outro numero: 8\n",
      "65465 é maior\n"
     ]
    }
   ],
   "source": [
    "# Ex 01\n",
    "\n",
    "num1 = int(input(\"Digite um numero: \"))\n",
    "num2 = int(input(\"Digite outro numero: \"))\n",
    "\n",
    "if num1 > num2:\n",
    "    print(num1, \"é maior\")\n",
    "else:\n",
    "    print(num2, \"é maior\")"
   ]
  },
  {
   "cell_type": "code",
   "execution_count": 6,
   "metadata": {},
   "outputs": [
    {
     "name": "stdout",
     "output_type": "stream",
     "text": [
      "Numero: 30\n",
      "FizzBuzz\n"
     ]
    }
   ],
   "source": [
    "# Ex 02\n",
    "\n",
    "\n",
    "def fizz_buzz(num):\n",
    "    if num % 3 == 0 and num % 5 == 0:\n",
    "        print(\"FizzBuzz\")\n",
    "    elif num % 5 == 0:\n",
    "        print(\"Buzz\")\n",
    "    elif num % 3 == 0:\n",
    "        print(\"Fizz\")\n",
    "    else:\n",
    "        return(num)\n",
    "    \n",
    "X = int(input(\"Numero: \"))\n",
    "fizz_buzz(X)\n"
   ]
  },
  {
   "cell_type": "code",
   "execution_count": 14,
   "metadata": {},
   "outputs": [
    {
     "name": "stdout",
     "output_type": "stream",
     "text": [
      "License suspended\n"
     ]
    }
   ],
   "source": [
    "# Ex 03\n",
    "\n",
    "def speed_check(speed):\n",
    "    if speed <= 70:\n",
    "        print(\"OK\")\n",
    "    else:\n",
    "        aux = speed - 70\n",
    "        point = aux // 5\n",
    "        if point > 12:\n",
    "            print(\"License suspended\")\n",
    "        else:\n",
    "            print(\"Points: \", point)\n",
    "    return\n",
    "\n",
    "speed_check(135)"
   ]
  },
  {
   "cell_type": "code",
   "execution_count": 38,
   "metadata": {},
   "outputs": [
    {
     "name": "stdout",
     "output_type": "stream",
     "text": [
      "0 EVEN\n",
      "1 ODD\n",
      "2 EVEN\n",
      "3 ODD\n",
      "4 EVEN\n",
      "5 ODD\n",
      "6 EVEN\n",
      "7 ODD\n",
      "8 EVEN\n",
      "9 ODD\n"
     ]
    }
   ],
   "source": [
    "# Ex 04\n",
    "\n",
    "def showNumbers(limit):\n",
    "    for i in range(0, limit+1):\n",
    "        if i % 2 == 0:\n",
    "            print(i, \"EVEN\")\n",
    "        else:\n",
    "            print(i, \"ODD\")\n",
    "        i +=1\n",
    "        \n",
    "showNumbers(9)"
   ]
  },
  {
   "cell_type": "code",
   "execution_count": 39,
   "metadata": {},
   "outputs": [
    {
     "name": "stdout",
     "output_type": "stream",
     "text": [
      "33\n"
     ]
    }
   ],
   "source": [
    "# Ex 05\n",
    "\n",
    "def mult3and5(limite):\n",
    "    soma = 0\n",
    "    for i in range(0, limite+1):\n",
    "        if i % 3 == 0 or i % 5 == 0:\n",
    "            soma = soma + i\n",
    "        i += 1\n",
    "    print(soma)\n",
    "    \n",
    "mult3and5(10)"
   ]
  },
  {
   "cell_type": "code",
   "execution_count": 2,
   "metadata": {},
   "outputs": [
    {
     "name": "stdout",
     "output_type": "stream",
     "text": [
      "*\n",
      "**\n",
      "***\n",
      "****\n",
      "*****\n",
      "******\n",
      "*******\n"
     ]
    }
   ],
   "source": [
    "# Ex 06\n",
    "\n",
    "def show_stars(rows):\n",
    "    for i in range(1, rows+1):\n",
    "        print(\"*\"*i)\n",
    "\n",
    "show_stars(7)"
   ]
  },
  {
   "cell_type": "code",
   "execution_count": 18,
   "metadata": {},
   "outputs": [
    {
     "name": "stdout",
     "output_type": "stream",
     "text": [
      "2\n",
      "3\n",
      "5\n",
      "7\n"
     ]
    }
   ],
   "source": [
    "# Ex 07\n",
    "\n",
    "def primePrint(limit):\n",
    "    for i in range(2, limit+1):\n",
    "        div = 0\n",
    "        for j in range(1, i+1):\n",
    "            if i % j == 0:\n",
    "                div = div + 1\n",
    "        if div == 2:\n",
    "            print(i)\n",
    "\n",
    "primePrint(7)"
   ]
  },
  {
   "cell_type": "code",
   "execution_count": null,
   "metadata": {},
   "outputs": [],
   "source": []
  }
 ],
 "metadata": {
  "kernelspec": {
   "display_name": "Python [conda env:amb_1] *",
   "language": "python",
   "name": "conda-env-amb_1-py"
  },
  "language_info": {
   "codemirror_mode": {
    "name": "ipython",
    "version": 3
   },
   "file_extension": ".py",
   "mimetype": "text/x-python",
   "name": "python",
   "nbconvert_exporter": "python",
   "pygments_lexer": "ipython3",
   "version": "3.7.4"
  }
 },
 "nbformat": 4,
 "nbformat_minor": 2
}
