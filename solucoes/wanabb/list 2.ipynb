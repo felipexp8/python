{
 "cells": [
  {
   "cell_type": "markdown",
   "metadata": {},
   "source": [
    "# Python Exercise: List 2"
   ]
  },
  {
   "cell_type": "markdown",
   "metadata": {},
   "source": [
    "## 1 Escreva um programa que, dados 2 números diferentes (a e b), encontre o menor deles."
   ]
  },
  {
   "cell_type": "code",
   "execution_count": 16,
   "metadata": {},
   "outputs": [
    {
     "name": "stdout",
     "output_type": "stream",
     "text": [
      "b = 6 > a = 5\n"
     ]
    }
   ],
   "source": [
    "import random as rd\n",
    "\n",
    "n1 = rd.randrange(0,10,1)\n",
    "n2 = rd.randrange(0,10,1)\n",
    "\n",
    "def n_menor(n1,n2):\n",
    "    if n1 > n2:\n",
    "        print(\"b = %d > a = %d\" %(n1,n2))\n",
    "    elif n2 > n1:\n",
    "        print(\"b = %d > a = %d\" %(n1,n2))\n",
    "    else:\n",
    "        print(\"the number are equals\")\n",
    "        \n",
    "n_menor(a,b)\n",
    "        "
   ]
  },
  {
   "cell_type": "markdown",
   "metadata": {},
   "source": [
    "## 2 Para doar sangue é necessário:\n",
    "\n",
    "   * Ter entre 16 e 69 anos.\n",
    "   * Pesar mais de 50 kg.\n",
    "   * Estar descansado (ter dormido pelo menos 6 horas nas últimas 24 horas).\n",
    "\n",
    "Faça um programa que pergunte a idade, o peso e quanto dormiu nas últimas 24 h para uma pessoa e diga se ela pode doar sangue ou não."
   ]
  },
  {
   "cell_type": "code",
   "execution_count": 15,
   "metadata": {},
   "outputs": [
    {
     "name": "stdout",
     "output_type": "stream",
     "text": [
      "tell me your age:28\n",
      "tell me your weight:62\n",
      "How many time did you sleep in the las 24 hours?7\n",
      "Pode doar\n"
     ]
    }
   ],
   "source": [
    "age = int(input(\"tell me your age: \"))\n",
    "weight = float(input(\"tell me your weight: \"))\n",
    "sleep_time = float(input(\"How many time did you sleep in the las 24 hours? \"))\n",
    "\n",
    "def doar_sangue(idade, peso, tempo):\n",
    "    if 16 <= idade <= 69 and peso > 50 and tempo >= 6:\n",
    "        print(\"Pode doar\")\n",
    "    else:\n",
    "        print(\"Nao pode\")\n",
    "        \n",
    "doar_sangue(age, weight, sleep_time)"
   ]
  },
  {
   "cell_type": "markdown",
   "metadata": {},
   "source": [
    "## 3 Considere uma equação do segundo grau ```f(x)=a⋅x2+b⋅x+c.``` A partir dos coeficientes, determine se a equação possui duas raízes reais, uma, ou se não possui."
   ]
  },
  {
   "cell_type": "code",
   "execution_count": 35,
   "metadata": {},
   "outputs": [
    {
     "name": "stdout",
     "output_type": "stream",
     "text": [
      "We are going to analyze the function f(x)=a⋅x2+b⋅x+c, please enter a numer for a: 1\n",
      "Now for b: 2\n",
      "And for c: 3\n",
      "this function has no real function\n"
     ]
    }
   ],
   "source": [
    "import math\n",
    "\n",
    "## delta = 0, one real root\n",
    "## dealta <0, no real roots, complex\n",
    "## delta > 0 two real roots\n",
    "\n",
    "a = float(input(\"We are going to analyze the function f(x)=a⋅x2+b⋅x+c, please enter a numer for a: \"))\n",
    "b = float(input(\"Now for b: \"))\n",
    "c = float(input(\"And for c: \"))\n",
    "# delta = b^2 - 4*a*c\n",
    "# raiz1 = -b + delta^(1/2)/ 2 * a\n",
    "# raiz2 = -b - delta^(1/2)/ 2 * a\n",
    "def delta(a,b,c):\n",
    "    d = (b**2) - (4*a*c)\n",
    "    return d\n",
    "\"\"\"\n",
    "def roots(a,b,c,delta):\n",
    "    x1 = (-b + math.sqrt(delta)) / (2.0*a)\n",
    "    x2 = (-b - math.sqrt(delta)) / (2.0*a)\n",
    "    return x1,x2\n",
    "\"\"\"\n",
    "\n",
    "def is_real():\n",
    "    d = delta(a,b,c)\n",
    "    if d > 0:\n",
    "        print(\"This function has two real roots\")\n",
    "    elif d == 0:\n",
    "        print(\"This function has only one real root\")\n",
    "    else:\n",
    "        print(\"this function has no real function\")\n",
    "        \n",
    "is_real()\n",
    "\n"
   ]
  },
  {
   "cell_type": "markdown",
   "metadata": {},
   "source": [
    "# 4 Leia dois números e efetue a adição. Caso o valor somado seja maior que 20, este deverá ser apresentado somando-se a ele mais 8; caso o valor somado seja menor ou igual a 20, este deverá ser apresentado subtraindo-se 5."
   ]
  },
  {
   "cell_type": "code",
   "execution_count": 36,
   "metadata": {},
   "outputs": [
    {
     "name": "stdout",
     "output_type": "stream",
     "text": [
      "Enter a number: 3\n",
      "Enter a number: 6\n"
     ]
    },
    {
     "data": {
      "text/plain": [
       "4.0"
      ]
     },
     "execution_count": 36,
     "metadata": {},
     "output_type": "execute_result"
    }
   ],
   "source": [
    "num1 = float(input(\"Enter a number: \"))\n",
    "num2 = float(input(\"Enter a number: \"))\n",
    "\n",
    "def num(i,j):\n",
    "    soma = i +j\n",
    "    if soma > 20:\n",
    "        soma +=8\n",
    "    else:\n",
    "        soma -= 5\n",
    "    return soma\n",
    "num(num1, num2)\n",
    "    \n",
    "    "
   ]
  },
  {
   "cell_type": "markdown",
   "metadata": {},
   "source": [
    "# 5 Leia um número e imprima a raiz quadrada do número caso ele seja positivo ou igual a zero e o quadrado do número caso ele seja negativo."
   ]
  },
  {
   "cell_type": "code",
   "execution_count": 17,
   "metadata": {},
   "outputs": [
    {
     "name": "stdout",
     "output_type": "stream",
     "text": [
      "Enter a number: -5\n",
      "25.0\n"
     ]
    }
   ],
   "source": [
    "num1 = input(\"Enter a number: \")\n",
    "\n",
    "def sqrt1(number):\n",
    "    try:\n",
    "        number = float(number)\n",
    "        if number >= 0:\n",
    "            print(number**(1/2))\n",
    "        else:\n",
    "            print(number**2)\n",
    "    except ValueError:\n",
    "        print(\"That's not a valid input!\")\n",
    "sqrt1(num1)\n",
    "    "
   ]
  },
  {
   "cell_type": "markdown",
   "metadata": {},
   "source": [
    "# 6 Leia um número inteiro entre 1 e 12 e escreva o mês correspondente. Caso o usuário digite um número fora desse intervalo, deverá aparecer uma mensagem informando que não existe mês com este número."
   ]
  },
  {
   "cell_type": "code",
   "execution_count": 1,
   "metadata": {},
   "outputs": [
    {
     "name": "stdout",
     "output_type": "stream",
     "text": [
      "Enter a number: 12\n",
      "Dez\n"
     ]
    }
   ],
   "source": [
    "num1 = input(\"Enter a number: \")\n",
    "m = [\"jan\", \"Fev\", \"Mar\", \"Apr\", \"May\", \"Jun\", \"Jul\", \"Ago\", \"Sep\", \"Oct\", \"Nov\", \"Dez\"]\n",
    "def months(m_num, lsmonths):\n",
    "    try:\n",
    "        m_num = int(m_num)\n",
    "        if m_num > len(lsmonths):\n",
    "            print(\"There is no such a month\")\n",
    "        else: \n",
    "            month = lsmonths[m_num - 1]\n",
    "            print(month)\n",
    "    except ValueError:\n",
    "        print(\"That's not a valid input!\")\n",
    "        \n",
    "months(num1, m)\n"
   ]
  }
 ],
 "metadata": {
  "kernelspec": {
   "display_name": "Python 3",
   "language": "python",
   "name": "python3"
  },
  "language_info": {
   "codemirror_mode": {
    "name": "ipython",
    "version": 3
   },
   "file_extension": ".py",
   "mimetype": "text/x-python",
   "name": "python",
   "nbconvert_exporter": "python",
   "pygments_lexer": "ipython3",
   "version": "3.7.4"
  }
 },
 "nbformat": 4,
 "nbformat_minor": 2
}
