{
 "cells": [
  {
   "cell_type": "markdown",
   "metadata": {},
   "source": [
    "# problem 1: What will be the output of the following program?\n",
    "\n"
   ]
  },
  {
   "cell_type": "code",
   "execution_count": 3,
   "metadata": {},
   "outputs": [
    {
     "name": "stdout",
     "output_type": "stream",
     "text": [
      "[0, 1, [3]]\n",
      "[0, 1, [3, 4]]\n",
      "[0, 1, 2]\n"
     ]
    }
   ],
   "source": [
    "x = [0, 1, [2]]\n",
    "x[2][0] = 3\n",
    "print(x)\n",
    "x[2].append(4)\n",
    "print(x)\n",
    "x[2] = 2\n",
    "print(x)"
   ]
  },
  {
   "cell_type": "markdown",
   "metadata": {},
   "source": [
    "# problem 2: Python has a built-in function sum to find sum of all elements of a list. Provide an implementation for sum."
   ]
  },
  {
   "cell_type": "code",
   "execution_count": 6,
   "metadata": {},
   "outputs": [
    {
     "name": "stdout",
     "output_type": "stream",
     "text": [
      "15\n"
     ]
    }
   ],
   "source": [
    "#sum([\"hello\", \"world\"])\n",
    "def soma(lista):\n",
    "    s=0\n",
    "    for i in lista:\n",
    "        s += i\n",
    "    return s\n",
    "print(soma([1,2,3,4,5]))\n"
   ]
  },
  {
   "cell_type": "markdown",
   "metadata": {},
   "source": [
    "# problem 3: What happens when the above sum function is called with a list of strings? Can you make your sum function work for a list of strings as well."
   ]
  },
  {
   "cell_type": "code",
   "execution_count": 3,
   "metadata": {},
   "outputs": [
    {
     "data": {
      "text/plain": [
       "'123'"
      ]
     },
     "execution_count": 3,
     "metadata": {},
     "output_type": "execute_result"
    }
   ],
   "source": [
    "def soma_str(lista):\n",
    "    try:\n",
    "        for l in lista:\n",
    "            if l == str(l):\n",
    "                return ''.join(lista)\n",
    "            else:\n",
    "                s=0\n",
    "                for i in lista:\n",
    "                    s += i\n",
    "                return s  \n",
    "    except ValueError:\n",
    "        print( 'Ops!', \"Something went wrong!\")\n",
    "        \n",
    "tag = ['1', '2', '3']\n",
    "#[entry for tag in tags for entry in entries if tag in entry]\n",
    "\n",
    "soma_str(tag)\n",
    "        "
   ]
  },
  {
   "cell_type": "markdown",
   "metadata": {},
   "source": [
    "# problem 4:  Implement a function product, to compute product of a list of numbers.\n",
    "\n"
   ]
  },
  {
   "cell_type": "code",
   "execution_count": 44,
   "metadata": {},
   "outputs": [
    {
     "data": {
      "text/plain": [
       "6"
      ]
     },
     "execution_count": 44,
     "metadata": {},
     "output_type": "execute_result"
    }
   ],
   "source": [
    "def product(p):\n",
    "    try:\n",
    "        for l in p:\n",
    "            if l == str(l):\n",
    "                print(\"Invalid Entry!\")\n",
    "                break\n",
    "            else:\n",
    "                s=1\n",
    "                for i in p:\n",
    "                    s *= i\n",
    "                return s  \n",
    "    except ValueError:\n",
    "        print( 'Ops!', \"Something went wrong!\")\n",
    "        \n",
    "tags = [1, 2, 3]\n",
    "#[entry for tag in tags for entry in entries if tag in entry]\n",
    "\n",
    "product(tags)\n",
    "        "
   ]
  },
  {
   "cell_type": "markdown",
   "metadata": {},
   "source": [
    "# problem 5: Write a function factorial to compute factorial of a number. Can you use the product function defined in the previous example to compute factorial?"
   ]
  },
  {
   "cell_type": "code",
   "execution_count": 21,
   "metadata": {},
   "outputs": [
    {
     "data": {
      "text/plain": [
       "720"
      ]
     },
     "execution_count": 21,
     "metadata": {},
     "output_type": "execute_result"
    }
   ],
   "source": [
    "def factorial(number):\n",
    "    f = []\n",
    "    try:\n",
    "        number= int(number)\n",
    "        if number == 0:\n",
    "            return 1\n",
    "        else:\n",
    "            for i in range(1, number+1):\n",
    "                f.append(i)\n",
    "            return product(f)\n",
    "    except ValueError:\n",
    "        print( 'Ops!', \"Something went wrong!\")\n",
    "             \n",
    "factorial(6) \n",
    "    \n",
    "    "
   ]
  },
  {
   "cell_type": "markdown",
   "metadata": {},
   "source": [
    "# problem 6: Write a function reverse to reverse a list. Can you do this without using list slicing?"
   ]
  },
  {
   "cell_type": "code",
   "execution_count": 23,
   "metadata": {},
   "outputs": [
    {
     "data": {
      "text/plain": [
       "[4, 3, 2, 1]"
      ]
     },
     "execution_count": 23,
     "metadata": {},
     "output_type": "execute_result"
    }
   ],
   "source": [
    "def reverse(rev):\n",
    "    return rev[::-1]\n",
    "\n",
    "reverse([1,2,3,4])"
   ]
  },
  {
   "cell_type": "markdown",
   "metadata": {},
   "source": [
    "# problem 7: Python has built-in functions min and max to compute minimum and maximum of a given list. Provide an implementation for these functions. What happens when you call your min and max functions with a list of strings?"
   ]
  },
  {
   "cell_type": "code",
   "execution_count": 51,
   "metadata": {},
   "outputs": [
    {
     "data": {
      "text/plain": [
       "10"
      ]
     },
     "execution_count": 51,
     "metadata": {},
     "output_type": "execute_result"
    }
   ],
   "source": [
    "def min_max(lmm):\n",
    "    try:\n",
    "        for i in lmm:\n",
    "            if i == str(i) and i == int(i):\n",
    "                print(\"can not use mix types of values\")\n",
    "                break\n",
    "            elif i == str(i):\n",
    "                for j in sorted(lmm):\n",
    "                    r = ''.join(lmm)\n",
    "                    break\n",
    "                return r\n",
    "            else:\n",
    "                r = sorted(lmm)\n",
    "                return r[-1] \n",
    "            \n",
    "    except ValueError:\n",
    "        print( 'Ops!', \"Something went wrong!\")\n",
    "                \n",
    "min_max([5,10,3,6,7])"
   ]
  },
  {
   "cell_type": "markdown",
   "metadata": {},
   "source": [
    "# problem 8: Cumulative sum of a list ```[a, b, c, ...] ```is defined as``` [a, a+b, a+b+c, ...]```. Write a function cumulative_sum to compute cumulative sum of a list. Does your implementation work for a list of strings?"
   ]
  },
  {
   "cell_type": "code",
   "execution_count": 29,
   "metadata": {},
   "outputs": [
    {
     "data": {
      "text/plain": [
       "[1, 3, 6, 10]"
      ]
     },
     "execution_count": 29,
     "metadata": {},
     "output_type": "execute_result"
    }
   ],
   "source": [
    "def cumulative_sum(lc):\n",
    "    try:\n",
    "        for i in lc:\n",
    "            if i == str(i):\n",
    "                print(\"can not use str value as an interger\")\n",
    "                break\n",
    "            else:\n",
    "                cum =[soma(lc[0:x+1]) for x in range(len(lc))]\n",
    "                return cum     \n",
    "            \n",
    "    except ValueError:\n",
    "        print( 'Ops!', \"Something went wrong!\")\n",
    "                \n",
    "cumulative_sum([1,2,3,4])"
   ]
  },
  {
   "cell_type": "markdown",
   "metadata": {},
   "source": [
    "# problem 9: Write a function cumulative_product to compute cumulative product of a list of numbers.\n",
    "\n"
   ]
  },
  {
   "cell_type": "code",
   "execution_count": 45,
   "metadata": {},
   "outputs": [
    {
     "data": {
      "text/plain": [
       "[1, 2, 6, 24]"
      ]
     },
     "execution_count": 45,
     "metadata": {},
     "output_type": "execute_result"
    }
   ],
   "source": [
    "def cumulative_product(lp):\n",
    "    try:\n",
    "        for i in lp:\n",
    "            if i == str(i):\n",
    "                print(\"can not use str value as an interger\")\n",
    "                break\n",
    "            else:\n",
    "                cump =[product(lp[0:x+1]) for x in range(len(lp))]\n",
    "                return cump     \n",
    "            \n",
    "    except ValueError:\n",
    "        print( 'Ops!', \"Something went wrong!\")\n",
    "                \n",
    "cumulative_product([1,2,3,4])"
   ]
  },
  {
   "cell_type": "markdown",
   "metadata": {},
   "source": [
    "# problem 10: Write a function unique to find all the unique elements of a list."
   ]
  },
  {
   "cell_type": "code",
   "execution_count": 17,
   "metadata": {},
   "outputs": [
    {
     "data": {
      "text/plain": [
       "[1, 2, 3, 4, 6]"
      ]
     },
     "execution_count": 17,
     "metadata": {},
     "output_type": "execute_result"
    }
   ],
   "source": [
    "def unique(uq):\n",
    "    uq_new = []\n",
    "    for i in range(len(uq)):\n",
    "        if uq[i] not in uq_new:\n",
    "            uq_new.append(uq[i])\n",
    "            \n",
    "    return uq_new\n",
    "unique([1,2,2,3,4,4,4,6,6,6])\n",
    "    "
   ]
  },
  {
   "cell_type": "markdown",
   "metadata": {},
   "source": [
    "# problem 11: Write a function dups to find all duplicates in the list."
   ]
  },
  {
   "cell_type": "code",
   "execution_count": 24,
   "metadata": {},
   "outputs": [
    {
     "data": {
      "text/plain": [
       "[2, 3, 4, 6, 77]"
      ]
     },
     "execution_count": 24,
     "metadata": {},
     "output_type": "execute_result"
    }
   ],
   "source": [
    "def dups(du):\n",
    "    du_new = []\n",
    "    for i in range(len(du)):\n",
    "        for j in range(1,len(du)):\n",
    "            if du[i] == du[j] and du[i] not in du_new: \n",
    "                    du_new.append(du[i])\n",
    "                          \n",
    "    return du_new\n",
    "dups([1,2,2,3,4,4,4,6,6,6, 77, 77])"
   ]
  },
  {
   "cell_type": "markdown",
   "metadata": {},
   "source": [
    "# problem 12: Write a function ```group(list, size)``` that take a list and splits into smaller lists of given size."
   ]
  },
  {
   "cell_type": "code",
   "execution_count": 51,
   "metadata": {},
   "outputs": [
    {
     "data": {
      "text/plain": [
       "[[1, 3, 5, 5, 7, 8]]"
      ]
     },
     "execution_count": 51,
     "metadata": {},
     "output_type": "execute_result"
    }
   ],
   "source": [
    "def group(lis, size):\n",
    "    bis = []\n",
    "    for i in lis:\n",
    "        bis.append(lis[::size])\n",
    "        break\n",
    "    return bis\n",
    "\n",
    "group([1,2,3,4,5,5,5,6,7,8,8,9], 2)"
   ]
  },
  {
   "cell_type": "markdown",
   "metadata": {},
   "source": [
    "# problem 14: Write a function ```lensort``` to sort a list of strings based on length."
   ]
  },
  {
   "cell_type": "code",
   "execution_count": 8,
   "metadata": {},
   "outputs": [
    {
     "data": {
      "text/plain": [
       "['c', 'perl', 'java', 'ruby', 'python', 'haskell']"
      ]
     },
     "execution_count": 8,
     "metadata": {},
     "output_type": "execute_result"
    }
   ],
   "source": [
    "def lensort1(lst): \n",
    "    lst2 = sorted(lst, key=len) \n",
    "    return lst2\n",
    "\n",
    "lensort1(['python', 'perl', 'java', 'c', 'haskell', 'ruby']) "
   ]
  },
  {
   "cell_type": "code",
   "execution_count": 28,
   "metadata": {},
   "outputs": [
    {
     "name": "stdout",
     "output_type": "stream",
     "text": [
      "[1, 4, 4, 4, 6, 7]\n"
     ]
    }
   ],
   "source": [
    "def lensort2(lstr):\n",
    "    new_list = []\n",
    "    data_length = [len(item[:]) for item in lstr]\n",
    "    while data_length:\n",
    "        mini = data_length[0]  # arbitrary number in list \n",
    "        for x in data_length:\n",
    "            for i in range(len(lstr)):\n",
    "                if x < mini:\n",
    "                    mini = x\n",
    "        new_list.append(mini)\n",
    "        data_length.remove(mini)  \n",
    "\n",
    "    print(new_list)\n",
    "        \n",
    "lensort2(['python', 'perl', 'java', 'c', 'haskell', 'ruby']) "
   ]
  },
  {
   "cell_type": "markdown",
   "metadata": {},
   "source": [
    "# problem 15: Improve the unique function written in previous problems to take an optional key function as argument and use the return value of the key function to check for uniqueness."
   ]
  },
  {
   "cell_type": "code",
   "execution_count": 65,
   "metadata": {},
   "outputs": [
    {
     "data": {
      "text/plain": [
       "['python', 'java', 'c']"
      ]
     },
     "execution_count": 65,
     "metadata": {},
     "output_type": "execute_result"
    }
   ],
   "source": [
    "def unique_key(array, key_function):\n",
    "    array = list(map(key_function, array))\n",
    "    key_new = []\n",
    "    for i in range(len(array)):\n",
    "        if array[i] not in key_new:\n",
    "            key_new.append(array[i])\n",
    "            \n",
    "    return key_new\n",
    "s = [\"python\", \"java\", \"Python\", \"Java\", \"python\", \"java\", \"C\", \"Python\"]\n",
    "unique_key(s, lambda s: s.lower())"
   ]
  },
  {
   "cell_type": "markdown",
   "metadata": {},
   "source": [
    "# problem 16: Reimplement the unique function implemented in the earlier examples using sets.problem"
   ]
  },
  {
   "cell_type": "code",
   "execution_count": 66,
   "metadata": {},
   "outputs": [
    {
     "data": {
      "text/plain": [
       "[1, 2, 3, 4, 6]"
      ]
     },
     "execution_count": 66,
     "metadata": {},
     "output_type": "execute_result"
    }
   ],
   "source": [
    "def unique(set_list):\n",
    "    set_list = list(set(set_list))\n",
    "    return set_list\n",
    "unique([1,2,2,3,4,4,4,6,6,6])"
   ]
  },
  {
   "cell_type": "markdown",
   "metadata": {},
   "source": [
    "# problem 17: Write a function extsort to sort a list of files based on extension."
   ]
  },
  {
   "cell_type": "code",
   "execution_count": 10,
   "metadata": {},
   "outputs": [
    {
     "name": "stdout",
     "output_type": "stream",
     "text": [
      "['a.c', 'x.c', 'a.py', 'b.py', 'bar.txt', 'foo.txt']\n"
     ]
    }
   ],
   "source": [
    "def extsort(files):\n",
    "    return sorted(files,key=lambda x: x.split('.')[1])\n",
    "\n",
    "print(extsort(['a.c', 'a.py', 'b.py', 'bar.txt', 'foo.txt', 'x.c']))\n"
   ]
  },
  {
   "cell_type": "code",
   "execution_count": 7,
   "metadata": {},
   "outputs": [
    {
     "name": "stdout",
     "output_type": "stream",
     "text": [
      "['a.c', 'x.c', 'a.py', 'b.py', 'bar.txt', 'foo.txt']\n"
     ]
    }
   ],
   "source": [
    "def extsort(x):\n",
    "    i=0\n",
    "    while(i<len(x)):\n",
    "        x[i]=x[i].split('.')\n",
    "        i=i+1\n",
    "    x.sort(key=lambda x:x[1])\n",
    "    i=0\n",
    "    while(i<len(x)):\n",
    "        x[i]=\".\".join(x[i])\n",
    "        i=i+1 \n",
    "    return x\n",
    "print(extsort(['a.c', 'a.py', 'b.py', 'bar.txt', 'foo.txt', 'x.c']))\n"
   ]
  },
  {
   "cell_type": "markdown",
   "metadata": {},
   "source": [
    "# problem 18: Write a program reverse.py to print lines of a file in reverse order."
   ]
  },
  {
   "cell_type": "code",
   "execution_count": 36,
   "metadata": {},
   "outputs": [
    {
     "name": "stdout",
     "output_type": "stream",
     "text": [
      "done writing!\n",
      "\n",
      "She sells seashells on the seashore;\n",
      "The shells that she sells are seashells I'm sure.\n",
      "So if she sells seashells on the seashore,\n",
      "I'm sure that the shells are seashore shells.She sells seashells on the seashore;\n",
      "The shells that she sells are seashells I'm sure.\n",
      "So if she sells seashells on the seashore,\n",
      "I'm sure that the shells are seashore shells.\n",
      "\n",
      "I'm sure that the shells are seashore shells.\n",
      "So if she sells seashells on the seashore,\n",
      "The shells that she sells are seashells I'm sure.\n",
      "I'm sure that the shells are seashore shells.She sells seashells on the seashore;\n",
      "So if she sells seashells on the seashore,\n",
      "The shells that she sells are seashells I'm sure.\n",
      "She sells seashells on the seashore;\n"
     ]
    }
   ],
   "source": [
    "a = \"\"\"She sells seashells on the seashore;\n",
    "The shells that she sells are seashells I'm sure.\n",
    "So if she sells seashells on the seashore,\n",
    "I'm sure that the shells are seashore shells.\"\"\"\n",
    "\n",
    "def write_file(text):\n",
    "    file = 'she.txt'\n",
    "    with open(file, 'w') as f:\n",
    "        f.writelines(text)\n",
    "        #f.writelines(text)\n",
    "        f.close()\n",
    "        print(\"done writing!\\n\")\n",
    "    return file\n",
    "\n",
    "def cat_reverse(file):\n",
    "    with open(file, 'r') as f:\n",
    "        lines = []\n",
    "        for i in f:\n",
    "            lines.append(i.strip())\n",
    "            print(i.strip())\n",
    "            \n",
    "        lines = lines[::-1]\n",
    "\n",
    "    return lines\n",
    "        \n",
    "f = write_file(a)\n",
    "\n",
    "reverse = cat_reverse(f)\n",
    "print(\"\")\n",
    "for i in reverse:\n",
    "    print(i)\n",
    "    "
   ]
  },
  {
   "cell_type": "markdown",
   "metadata": {},
   "source": [
    "# problem 19: Write a program to print each line of a file in reverse order."
   ]
  },
  {
   "cell_type": "code",
   "execution_count": 122,
   "metadata": {},
   "outputs": [
    {
     "name": "stdout",
     "output_type": "stream",
     "text": [
      ".sllehs erohsaes era sllehs eht taht erus m'I\n",
      ",erohsaes eht no sllehsaes slles ehs fi oS\n",
      ".erus m'I sllehsaes era slles ehs taht sllehs ehT\n",
      ";erohsaes eht no sllehsaes slles ehS.sllehs erohsaes era sllehs eht taht erus m'I\n",
      ",erohsaes eht no sllehsaes slles ehs fi oS\n",
      ".erus m'I sllehsaes era slles ehs taht sllehs ehT\n",
      ";erohsaes eht no sllehsaes slles ehS\n"
     ]
    }
   ],
   "source": [
    "def lines_rev(file_lines):\n",
    "    rev = []\n",
    "    #rev = [file_lines[::-1] for l in file_lines] \n",
    "    for i in file_lines:\n",
    "        rev.append(i[::-1]) \n",
    "    return rev\n",
    "\n",
    "r  = lines_rev(reverse)    \n",
    "for i in r:\n",
    "    print(i)"
   ]
  },
  {
   "cell_type": "markdown",
   "metadata": {},
   "source": [
    "# problem 20: Implement unix commands head and tail. The head and tail commands take a file as argument and prints its first and last 10 lines of the file respectively"
   ]
  },
  {
   "cell_type": "code",
   "execution_count": 5,
   "metadata": {},
   "outputs": [
    {
     "name": "stdout",
     "output_type": "stream",
     "text": [
      "done writing!\n",
      "\n"
     ]
    }
   ],
   "source": [
    "alfa = \"\"\"a,b,c,\n",
    "d,e,\n",
    "f,\n",
    "g,h,\n",
    "i,\n",
    "j,k,l,\n",
    "m,n,\n",
    "o,\n",
    "p,q,\n",
    "r,\n",
    "s,t,\n",
    "u,v,\n",
    "w,\n",
    "x,\n",
    "y,\n",
    "z\"\"\"\n",
    "def write_file(text):\n",
    "    file = 'alfa.txt'\n",
    "    with open(file, 'w') as f:\n",
    "        f.writelines(text)\n",
    "        f.writelines(text)\n",
    "        f.close()\n",
    "        print(\"done writing!\\n\")\n",
    "    return file\n",
    "ff = write_file(alfa)"
   ]
  },
  {
   "cell_type": "code",
   "execution_count": 5,
   "metadata": {},
   "outputs": [
    {
     "name": "stdout",
     "output_type": "stream",
     "text": [
      "['a,b,c,', 'd,e,', 'f,', 'g,h,', 'i,', 'j,k,l,', 'm,n,', 'o,', 'p,q,', 'r,']\n",
      "['m,n,', 'o,', 'p,q,', 'r,', 's,t,', 'u,v,', 'w,', 'x,', 'y,', 'z']\n"
     ]
    }
   ],
   "source": [
    "def command_head(lenlines, hf):\n",
    "    a  = !head -n $lenlines $hf\n",
    "    return a\n",
    "    \n",
    "def command_tail(lenlines, tf):\n",
    "    b = !tail -n $lenlines $tf\n",
    "    return b\n",
    "\n",
    "a = command_head(10,ff)\n",
    "\n",
    "b = command_tail(10,ff)\n",
    "\n",
    "print(a)\n",
    "print(b)"
   ]
  },
  {
   "cell_type": "markdown",
   "metadata": {},
   "source": [
    "# problem 21: Implement unix command grep. The grep command takes a string and a file as arguments and prints all lines in the file which contain the specified string.\n",
    "\n"
   ]
  },
  {
   "cell_type": "code",
   "execution_count": 6,
   "metadata": {},
   "outputs": [
    {
     "name": "stdout",
     "output_type": "stream",
     "text": [
      "['za,b,c,', 'z']\n"
     ]
    }
   ],
   "source": [
    "als = \"\"\"a,b,c,d,e,f,g,h,i,j,k,l,m,n,o,p,q,rs,t,u,v,w,x,y,z\"\"\"\n",
    "def command_grep(str_, gf):\n",
    "    for i in str_:\n",
    "        g  = !grep -i $i $gf\n",
    "    return g\n",
    "\n",
    "g = command_grep(als,ff)\n",
    "\n",
    "print(g)"
   ]
  },
  {
   "cell_type": "markdown",
   "metadata": {},
   "source": [
    "# problem 22: Write a program wrap.py that takes filename and width as aruguments and wraps the lines longer than width."
   ]
  },
  {
   "cell_type": "code",
   "execution_count": 125,
   "metadata": {},
   "outputs": [
    {
     "name": "stdout",
     "output_type": "stream",
     "text": [
      "She sells seashells on the seashore;\n",
      "The shells that she sells are seashe\n",
      "So if she sells seashells on the sea\n",
      "I'm sure that the shells are seashor\n",
      "The shells that she sells are seashe\n",
      "So if she sells seashells on the sea\n",
      "I'm sure that the shells are seashor\n"
     ]
    }
   ],
   "source": [
    "def wrap(file, wid):\n",
    "    f = open(file, 'r')\n",
    "    for i in f:\n",
    "        print(i[:wid])\n",
    "wrap('she.txt', 36)"
   ]
  },
  {
   "cell_type": "markdown",
   "metadata": {},
   "source": [
    "# problem 23: The above wrap program is not so nice because it is breaking the line at middle of any word. Can you write a new program wordwrap.py that works like wrap.py, but breaks the line only at the word boundaries?"
   ]
  },
  {
   "cell_type": "code",
   "execution_count": 38,
   "metadata": {},
   "outputs": [
    {
     "name": "stdout",
     "output_type": "stream",
     "text": [
      "She sells seashells\n",
      "The shells that\n",
      "So if she\n",
      "I'm sure that\n",
      "The shells that\n",
      "So if she\n",
      "I'm sure that\n"
     ]
    }
   ],
   "source": [
    "\n",
    "def wrap(file, n):\n",
    "    f = open(file, 'r')\n",
    "    a = [x.strip().split() for x in f]\n",
    "    for i in range(len(a)):\n",
    "        print(' '.join(a[i][:n]))\n",
    "\n",
    "wrap('she.txt', 3)"
   ]
  },
  {
   "cell_type": "markdown",
   "metadata": {},
   "source": [
    "# problem 24: Write a program center_align.py to center align all lines in the given file."
   ]
  },
  {
   "cell_type": "code",
   "execution_count": 98,
   "metadata": {},
   "outputs": [
    {
     "name": "stdout",
     "output_type": "stream",
     "text": [
      "              She sells seashells on the seashore;              \n",
      "       The shells that she sells are seashells I'm sure.        \n",
      "           So if she sells seashells on the seashore,           \n",
      "I'm sure that the shells are seashore shells.She sells seashells on the seashore;\n",
      "       The shells that she sells are seashells I'm sure.        \n",
      "           So if she sells seashells on the seashore,           \n",
      "         I'm sure that the shells are seashore shells.          \n"
     ]
    }
   ],
   "source": [
    "def center(file):\n",
    "    f = open(file, 'r')\n",
    "    text = [x.strip().split() for x in f]\n",
    "    for l in range(len(text)):\n",
    "        f = ' '.join(text[l])\n",
    "        print('{:^64s}'.format(f))\n",
    "\n",
    "center('she.txt')"
   ]
  },
  {
   "cell_type": "code",
   "execution_count": 86,
   "metadata": {},
   "outputs": [
    {
     "name": "stdout",
     "output_type": "stream",
     "text": [
      "        MyString        \n"
     ]
    }
   ],
   "source": [
    " print('{:^24s}'.format(\"String\"))"
   ]
  },
  {
   "cell_type": "markdown",
   "metadata": {},
   "source": [
    "# problem 25: Provide an implementation for zip function using list comprehensions."
   ]
  },
  {
   "cell_type": "code",
   "execution_count": 100,
   "metadata": {},
   "outputs": [
    {
     "data": {
      "text/plain": [
       "[(1, 'a'), (2, 'b'), (3, 'c')]"
      ]
     },
     "execution_count": 100,
     "metadata": {},
     "output_type": "execute_result"
    }
   ],
   "source": [
    "def _zip(l1, l2):   \n",
    "    res = [(l1[i], l2[i]) for i in range(len(l1))]\n",
    "    return res\n",
    "\n",
    "\n",
    "_zip([1, 2, 3], [\"a\", \"b\", \"c\"])  "
   ]
  },
  {
   "cell_type": "markdown",
   "metadata": {},
   "source": [
    "# problem 26: Python provides a built-in function map that applies a function to each element of a list. Provide an implementation for map using list comprehensions."
   ]
  },
  {
   "cell_type": "code",
   "execution_count": 107,
   "metadata": {},
   "outputs": [
    {
     "name": "stdout",
     "output_type": "stream",
     "text": [
      "[0.0, 0.5, 1.0, 1.5, 2.0, 2.5, 3.0, 3.5, 4.0, 4.5]\n"
     ]
    }
   ],
   "source": [
    "def div(z):\n",
    "    return z / 2\n",
    "\n",
    "def map_(func, n):\n",
    "    result = []\n",
    "    for i in n:\n",
    "        result.append(func(i))\n",
    "    return result\n",
    "    \n",
    "print(map_(div, range(10)))"
   ]
  },
  {
   "cell_type": "markdown",
   "metadata": {},
   "source": [
    "# problem 27: Python provides a built-in function filter(f, a) that returns items of the list a for which f(item) returns true. Provide an implementation for filter using list comprehensions."
   ]
  },
  {
   "cell_type": "code",
   "execution_count": 113,
   "metadata": {},
   "outputs": [
    {
     "name": "stdout",
     "output_type": "stream",
     "text": [
      "[0, 2, 4, 6, 8, 10, 12, 14, 16, 18]\n"
     ]
    }
   ],
   "source": [
    "def even(x):\n",
    "    return x % 2 == 0\n",
    "\n",
    "def filtrar(func2, lista):\n",
    "    result2 = []\n",
    "    for i in lista:\n",
    "        if func2(i):\n",
    "            result2.append(i)\n",
    "    return result2\n",
    "\n",
    "print(filtrar(even, range(20)))\n"
   ]
  },
  {
   "cell_type": "markdown",
   "metadata": {},
   "source": [
    "# problem 28: Write a function triplets that takes a number n as argument and returns a list of triplets such that sum of first two elements of the triplet equals the third element using numbers below n. Please note that (a, b, c) and (b, a, c) represent same triplet."
   ]
  },
  {
   "cell_type": "code",
   "execution_count": 110,
   "metadata": {},
   "outputs": [
    {
     "name": "stdout",
     "output_type": "stream",
     "text": [
      "[(1, 1, 2), (1, 2, 3), (1, 3, 4), (2, 2, 4)]\n"
     ]
    }
   ],
   "source": [
    "def triplets(N):\n",
    "    return [(k, i-k, i) for i in range(1, N) for k in range(1, i) if k <= i-k]\n",
    "\n",
    "\n",
    "print(triplets(5))"
   ]
  },
  {
   "cell_type": "markdown",
   "metadata": {},
   "source": [
    "# problem 29: Write a function enumerate that takes a list and returns a list of tuples containing (index,item) for each item in the list."
   ]
  },
  {
   "cell_type": "code",
   "execution_count": 65,
   "metadata": {},
   "outputs": [
    {
     "name": "stdout",
     "output_type": "stream",
     "text": [
      "[(0, 'a'), (1, 'b'), (2, 'c')]\n",
      "0 a\n",
      "1 b\n",
      "2 c\n"
     ]
    }
   ],
   "source": [
    "lista = [\"a\", \"b\", \"c\"]\n",
    "\n",
    "def enumerar(lista):\n",
    "    return [(i, lista[i]) for i in range(len(lista))]\n",
    "\n",
    "\n",
    "print(enumerar(lista))\n",
    "\n",
    "for index, value in enumerate(lista):\n",
    "    print(index, value)"
   ]
  },
  {
   "cell_type": "markdown",
   "metadata": {},
   "source": [
    "# problem 30: Write a function array to create an 2-dimensional array. The function should take both dimensions as arguments. Value of each element can be initialized to None:"
   ]
  },
  {
   "cell_type": "code",
   "execution_count": 156,
   "metadata": {},
   "outputs": [
    {
     "name": "stdout",
     "output_type": "stream",
     "text": [
      "[[None, None, None], [None, None, None]]\n"
     ]
    }
   ],
   "source": [
    "def array(m, n):\n",
    "    a = []\n",
    "    for i in range(n):\n",
    "        val = []\n",
    "        for j in range(m):\n",
    "            val.append(None)\n",
    "        a.append(val)\n",
    "    return a\n",
    "    \n",
    "print(array(3, 2))"
   ]
  },
  {
   "cell_type": "markdown",
   "metadata": {},
   "source": [
    "# problem 31: Write a python function parse_csv to parse csv (comma separated values) files.\n",
    "\n",
    "```>>> print open('a.csv').read()\n",
    "    a,b,c\n",
    "    1,2,3\n",
    "    2,3,4\n",
    "    3,4,5\n",
    "    >>> parse_csv('a.csv')\n",
    "    [['a', 'b', 'c'], ['1', '2', '3'], ['2', '3', '4'], ['3', '4', '5']]```\n",
    "\n",
    "\n"
   ]
  },
  {
   "cell_type": "code",
   "execution_count": 47,
   "metadata": {},
   "outputs": [
    {
     "name": "stdout",
     "output_type": "stream",
     "text": [
      "done writing!\n",
      "\n",
      "[['a', 'b', 'c'], ['1', '2', '3'], ['2', '3', '4'], ['3', '4', '5']]\n"
     ]
    }
   ],
   "source": [
    "a = '''a,b,c\n",
    "1,2,3\n",
    "2,3,4\n",
    "3,4,5'''\n",
    "\n",
    "def write_file(text, file_name):\n",
    "    with open(file_name, 'w') as f:\n",
    "        f.writelines(text)\n",
    "    f.close()\n",
    "    print(\"done writing!\\n\")\n",
    "    return file_name\n",
    "\n",
    "def read_csv(file, sep):\n",
    "    s = open(file, 'r')\n",
    "    data = s.readlines()\n",
    "    data = [i.strip('\\n').split(sep) for i in data]\n",
    "    print(data)\n",
    "\n",
    "    \n",
    "file = write_file(a, 'a.csv')\n",
    "\n",
    "read_csv(file, ',')\n",
    "\n"
   ]
  },
  {
   "cell_type": "markdown",
   "metadata": {},
   "source": [
    "# problem 32: Generalize the above implementation of csv parser to support any delimiter and comments.\n",
    "\n",
    "   ``` >>> print open('a.txt').read()\n",
    "    # elements are separated by ! and comment indicator is #\n",
    "    a!b!c\n",
    "    1!2!3\n",
    "    2!3!4\n",
    "    3!4!5\n",
    "    >>> parse('a.txt', '!', '#')\n",
    "    [['a', 'b', 'c'], ['1', '2', '3'], ['2', '3', '4'], ['3', '4', '5']]```"
   ]
  },
  {
   "cell_type": "code",
   "execution_count": 101,
   "metadata": {},
   "outputs": [
    {
     "name": "stdout",
     "output_type": "stream",
     "text": [
      "done writing!\n",
      "\n",
      "[['a', 'b', 'c'], ['1', '2', '3'], ['2', '3', '4'], ['3', '4', '5']]\n"
     ]
    }
   ],
   "source": [
    "a = '''# elements are separated by ! and comment indicator is #\n",
    "a!b!c\n",
    "1!2!3\n",
    "2!3!4\n",
    "3!4!5'''\n",
    "\n",
    "def write_file(text, file):\n",
    "    with open(file, 'w') as f:\n",
    "        f.writelines(text)\n",
    "    f.close()\n",
    "    print(\"done writing!\\n\")\n",
    "    return file\n",
    "\n",
    "def read_csv(file, sep, carac):\n",
    "    s = open(file, 'r')\n",
    "    data = s.readlines()\n",
    "    data = [i.strip('\\n').split(sep) for i in data if i[0] != carac]\n",
    "    print(data)\n",
    "\n",
    "    \n",
    "file = write_file(a, 'b.csv')\n",
    "\n",
    "read_csv(file, '!', '#')\n",
    "\n"
   ]
  },
  {
   "cell_type": "markdown",
   "metadata": {},
   "source": [
    "# problem 33: Write a function mutate to compute all words generated by a single mutation on a given word. A mutation is defined as inserting a character, deleting a character, replacing a character, or swapping 2 consecutive characters in a string. For simplicity consider only letters from a to z.\n",
    "\n",
    "```>>> words = mutate('hello')\n",
    "    >>> 'helo' in words\n",
    "    True\n",
    "    >>> 'cello' in words\n",
    "    True\n",
    "    >>> 'helol' in words\n",
    "    True```"
   ]
  },
  {
   "cell_type": "code",
   "execution_count": 50,
   "metadata": {},
   "outputs": [
    {
     "name": "stdout",
     "output_type": "stream",
     "text": [
      "removing letter\n",
      "ello hello True\n",
      "hllo hello False\n",
      "heo hello False\n",
      "heo hello False\n",
      "hell hello True\n",
      "\n",
      "inserting letter\n",
      "fello hello False\n",
      "hfllo hello False\n",
      "hefo hello False\n",
      "heof hello False\n",
      "hellf hello False\n"
     ]
    }
   ],
   "source": [
    "word = 'hello'\n",
    "c = 'f'\n",
    "def mutate(w, c):\n",
    "    ns = []\n",
    "    ws = []\n",
    "    print(\"removing letter\")\n",
    "    for i in range(len(w)):\n",
    "        wd = w.replace(w[i], \"\")\n",
    "        print(wd,w,  wd in w) \n",
    "        ws.append(wd)\n",
    "    print(\"\\ninserting letter\")\n",
    "    for k in range(len(ws)):\n",
    "        wilist = list(ws[k])\n",
    "        wilist.insert(k, c)\n",
    "        #print(wilist)\n",
    "        wi = ''.join(wilist)\n",
    "        print(wi,w, wi in w)\n",
    "    \n",
    "mutate(word, c)"
   ]
  },
  {
   "cell_type": "markdown",
   "metadata": {},
   "source": [
    "# problem 34: Write a function nearly_equal to test whether two strings are nearly equal. Two strings a and b are nearly equal when a can be generated by a single mutation on b."
   ]
  },
  {
   "cell_type": "code",
   "execution_count": 116,
   "metadata": {},
   "outputs": [
    {
     "name": "stdout",
     "output_type": "stream",
     "text": [
      "True\n"
     ]
    }
   ],
   "source": [
    "p1 = 'count'\n",
    "p2 = 'mount'\n",
    "\n",
    "def nearly_equal(s1, s2):\n",
    "    l1 =len(s1)\n",
    "    l2 =len(s2)\n",
    "    ns = []\n",
    "    if l1 == l2:\n",
    "        for i in s1:\n",
    "            for j in s2:\n",
    "                if j == i:\n",
    "                    ns.append(j)   \n",
    "    else:\n",
    "        print('not same length')\n",
    "    ln = len(ns)\n",
    "    print(0<=(l1-ln)<=1)\n",
    "        \n",
    "    \n",
    "nearly_equal(p1,p2)\n"
   ]
  },
  {
   "cell_type": "markdown",
   "metadata": {},
   "source": [
    "\n",
    "# problem  36: Write a program to count frequency of characters in a given file. Can you use character frequency to tell whether the given file is a Python program file, C program file or a text file?"
   ]
  },
  {
   "cell_type": "code",
   "execution_count": 1,
   "metadata": {},
   "outputs": [
    {
     "name": "stdout",
     "output_type": "stream",
     "text": [
      "34\n"
     ]
    }
   ],
   "source": [
    "text = ['there is no love without freedom', 'ok']\n",
    "with open('file.txt', 'w') as f:\n",
    "    for row in text:\n",
    "        f.write(row+'\\n')\n",
    "a = []\n",
    "\n",
    "with open('file.txt', 'r') as f:\n",
    "    for row in f:\n",
    "        a.append(row.rstrip('\\n'))\n",
    "\n",
    "print(len(a[0]) + len(a[1]))\n",
    "    "
   ]
  },
  {
   "cell_type": "markdown",
   "metadata": {},
   "source": [
    "# problem 37: Write a program to find anagrams in a given list of words. Two words are called anagrams if one word can be formed by rearranging letters of another. For example 'eat', 'ate' and 'tea' are anagrams."
   ]
  },
  {
   "cell_type": "code",
   "execution_count": 4,
   "metadata": {},
   "outputs": [
    {
     "name": "stdout",
     "output_type": "stream",
     "text": [
      "[['aet', 'eat'], ['aet', 'ate'], ['deno', 'done'], ['aet', 'tea'], ['opsu', 'soup'], ['deno', 'node'], ['opsu', 'pous']]\n",
      "[['eat', 'ate', 'tea'], ['done', 'node'], ['soup', 'pous']]\n"
     ]
    }
   ],
   "source": [
    "ls1 = ['eat', 'ate', 'done', 'tea', 'soup', 'node', 'pous']\n",
    "\n",
    "def anagrams(lista):\n",
    "    g = []\n",
    "    l_lista = []\n",
    "    for i in range(len(lista)):\n",
    "        w1 = ''.join(sorted(lista[i]))\n",
    "        w2 = ''.join(sorted(lista[i]))\n",
    "        if w1 == w2:\n",
    "            #print(True, lista[i], lista[j])\n",
    "            g.append([w1,lista[i]])        \n",
    "        else:\n",
    "            print(False, lista[i], lista[i])\n",
    "    print(g)    \n",
    "    keys = sorted(list(set([item[0] for item in g])))\n",
    "    len_keys = len(keys)\n",
    "    final_list = [[] for i in range(len_keys)] \n",
    "    k=0\n",
    "    while k <= len_keys-1:\n",
    "        for i in range(len(g)):\n",
    "            if g[i][0] == keys[k]:\n",
    "                final_list[k].append(g[i][1])\n",
    "\n",
    "        k+=1          \n",
    "                    \n",
    "    print(final_list)\n",
    "    \n",
    "anagrams(ls1)"
   ]
  },
  {
   "cell_type": "code",
   "execution_count": null,
   "metadata": {},
   "outputs": [],
   "source": [
    "ls1 = ['eat', 'ate', 'done', 'tea', 'soup', 'node', 'pous']\n",
    "\n",
    "def anagrams(lista):\n",
    "    g = []\n",
    "    l_lista = []\n",
    "    for i in range(len(lista)):\n",
    "        w1 = ''.join(sorted(lista[i]))\n",
    "        w2 = ''.join(sorted(lista[i]))\n",
    "        if w1 == w2:\n",
    "            #print(True, lista[i], lista[j])\n",
    "            g.append([w1,lista[i]])        \n",
    "        else:\n",
    "            print(False, lista[i], lista[i])\n",
    "    print(g)    \n",
    "    keys = sorted(list(set([item[0] for item in g])))\n",
    "    len_keys = len(keys)\n",
    "    final_list = [[] for i in range(len_keys)] \n",
    "    k=0\n",
    "    while k <= len_keys-1:\n",
    "        for i in range(len(g)):\n",
    "            if g[i][0] == keys[k]:\n",
    "                final_list[k].append(g[i][1])\n",
    "\n",
    "        k+=1          \n",
    "                    \n",
    "    print(final_list)\n",
    "    \n",
    "anagrams(ls1)"
   ]
  },
  {
   "cell_type": "code",
   "execution_count": 19,
   "metadata": {},
   "outputs": [
    {
     "data": {
      "text/plain": [
       "[1, 2, 3, 4, 5]"
      ]
     },
     "execution_count": 19,
     "metadata": {},
     "output_type": "execute_result"
    }
   ],
   "source": [
    "l = [1,2,3,4,5,4,5]\n",
    "lset = list(set(l))\n",
    "lset"
   ]
  },
  {
   "cell_type": "markdown",
   "metadata": {},
   "source": [
    "# problem 38: Write a function valuesort to sort values of a dictionary based on the key."
   ]
  },
  {
   "cell_type": "code",
   "execution_count": 3,
   "metadata": {},
   "outputs": [
    {
     "name": "stdout",
     "output_type": "stream",
     "text": [
      "lista zipada\n",
      "[(1, 'h'), (2, 'y'), (3, 'z'), (4, 'x')]\n",
      "lista separada zipada\n",
      "('h', 'y', 'z', 'x') ('h', 'y', 'z', 'x')\n",
      "{1: 'h', 2: 'y', 3: 'z', 4: 'x'}\n"
     ]
    }
   ],
   "source": [
    "\n",
    "dictionary1 = {'a': 1, 'b': 2, 'z': 3, 'h': 4, 'j': 5, 'p': 6}\n",
    "dictionary2 = {4: 'x', 2: 'y', 3: 'z', 1: 'h'}\n",
    "\n",
    "def sort_dict(dictionary):\n",
    "    k = []\n",
    "    values = []\n",
    "    new_dict = {}\n",
    "    for key in dictionary.keys():\n",
    "        k.append(key)\n",
    "        values.append(dictionary[key])\n",
    "\n",
    "    st = sorted(list(zip(k, values)))\n",
    "    print('lista zipada')\n",
    "    print(st)\n",
    "    \n",
    "    print('lista separada zipada')\n",
    "    list1, list2 = list(zip(*st))\n",
    "    print(list2, list2)\n",
    "    \n",
    "    for i in range(len(list1)): \n",
    "        ki = list1[i]           \n",
    "        new_dict[ki] = list2[i]\n",
    "    return new_dict\n",
    "        \n",
    "new = sort_dict(dictionary2)\n",
    "print(new)\n"
   ]
  },
  {
   "cell_type": "markdown",
   "metadata": {},
   "source": [
    "# problem 39: Write a function `invertdict` to interchange keys and values in a dictionary. For simplicity, assume that all values are unique."
   ]
  },
  {
   "cell_type": "code",
   "execution_count": 31,
   "metadata": {},
   "outputs": [
    {
     "name": "stdout",
     "output_type": "stream",
     "text": [
      "{1: 'x', 2: 'y', 3: 'z', 4: 'h'}\n"
     ]
    }
   ],
   "source": [
    "\n",
    "d1 = {'x': 1, 'y': 2, 'z': 3, 'h': 4}\n",
    "d2 = {1: 'x', 2: 'y', 3: 'z', 4: 'h'}\n",
    "\n",
    "def invertdict(dictionary):\n",
    "    k = []\n",
    "    values = []\n",
    "    new_dict = {}\n",
    "    for key in dictionary.keys():\n",
    "        k.append(key)\n",
    "        values.append(dictionary[key])\n",
    "    for i in range(len(values)): \n",
    "        new_dict[k[i]] = values[i]\n",
    "    return new_dict\n",
    "        \n",
    "    \n",
    "new = invertdict(d2)\n",
    "print(new)\n"
   ]
  }
 ],
 "metadata": {
  "kernelspec": {
   "display_name": "Python 3",
   "language": "python",
   "name": "python3"
  },
  "language_info": {
   "codemirror_mode": {
    "name": "ipython",
    "version": 3
   },
   "file_extension": ".py",
   "mimetype": "text/x-python",
   "name": "python",
   "nbconvert_exporter": "python",
   "pygments_lexer": "ipython3",
   "version": "3.7.4"
  }
 },
 "nbformat": 4,
 "nbformat_minor": 2
}
