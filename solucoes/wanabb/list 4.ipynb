{
 "cells": [
  {
   "cell_type": "markdown",
   "metadata": {},
   "source": [
    "# while__for__if.md\n",
    "\n",
    "# 1. Write a function that returns the maximum of two numbers."
   ]
  },
  {
   "cell_type": "code",
   "execution_count": 14,
   "metadata": {},
   "outputs": [
    {
     "name": "stdout",
     "output_type": "stream",
     "text": [
      "Enter a number, please: 2\n",
      "Enter a second number, please: d\n",
      "Ops! You inserted a letter, I can't work with that!\n"
     ]
    }
   ],
   "source": [
    "number1 = input(\"Enter a number, please: \")\n",
    "def max_(a, b):\n",
    "    try:\n",
    "        a = float(a)\n",
    "        number2 = input(\"Enter a second number, please: \")\n",
    "        b = float(b)\n",
    "        if a > b:\n",
    "            print(a)\n",
    "        elif b > a:\n",
    "            print(b)\n",
    "        else:\n",
    "            print(\"they are equals\")\n",
    "    except ValueError:\n",
    "        print('Ops!', \"You inserted a letter, I can't work with that!\")\n",
    "\n",
    "max_(number1, number2)"
   ]
  },
  {
   "cell_type": "markdown",
   "metadata": {},
   "source": [
    "# 2. Write a function called fizz_buzz that takes a number. \n",
    "1. If the number is divisible by 3, it should return “Fizz”.\n",
    "1. If it is divisible by 5, it should return “Buzz”.\n",
    "1. If it is divisible by both 3 and 5, it should return “FizzBuzz”.\n",
    "1. Otherwise, it should return the same number."
   ]
  },
  {
   "cell_type": "code",
   "execution_count": 19,
   "metadata": {},
   "outputs": [
    {
     "name": "stdout",
     "output_type": "stream",
     "text": [
      "Enter a number, please: 7\n",
      "7 can not be divided by 3 or 5\n"
     ]
    }
   ],
   "source": [
    "number = input(\"Enter a number, please: \")\n",
    "\n",
    "def fizz_buzz(n):\n",
    "    try:\n",
    "        n = float(n)\n",
    "        if (n %  3 == 0 ) and (n %  5 == 0):\n",
    "            result = \"fizz_buzz\"\n",
    "            return result\n",
    "        elif (n %  3 == 0 ):\n",
    "            result = \"fizz\"\n",
    "            return result\n",
    "        elif (n %  5) == 0:\n",
    "            result = \"buzz\"\n",
    "            return result\n",
    "        else:\n",
    "            print(\"%d can not be divided by 3 or 5\" % n)\n",
    "    except ValueError:\n",
    "        print( 'Ops!', \"You inserted a letter, I can't work with that!\")\n",
    "        \n",
    "    \n",
    "result = fizz_buzz(number)\n",
    "if not result == None: \n",
    "    print(result)\n"
   ]
  },
  {
   "cell_type": "markdown",
   "metadata": {},
   "source": [
    "# 3. Write a function for checking the speed of drivers. This function should have one parameter: speed.\n",
    "\n",
    "1. If speed is less than 70, it should print “Ok”.\n",
    "1. Otherwise, for every 5km above the speed limit (70), it should give the driver one demerit point and print the total number of demerit points. For example, if the speed is 80, it should print: “Points: 2”.\n",
    "1. If the driver gets more than 12 points, the function should print: “License suspended”\n"
   ]
  },
  {
   "cell_type": "code",
   "execution_count": 30,
   "metadata": {},
   "outputs": [
    {
     "name": "stdout",
     "output_type": "stream",
     "text": [
      "I would like to know how fast you used to drive, what is your mean speed in km/h? \n",
      " 80\n",
      "You are not a good driver!\n",
      "Speed: 70.0\n",
      "You got 1 points \n"
     ]
    }
   ],
   "source": [
    "number = input(\"I would like to know how fast you used to drive, what is your mean speed in km/h, when you drive? \\n \")\n",
    "\n",
    "def check_speed(speed, p, lim):\n",
    "    try:\n",
    "        speed = float(speed)\n",
    "        if speed < 70:\n",
    "            print(\"OK!, your are a good driver\")\n",
    "        else:\n",
    "            while speed > 70:\n",
    "                speed -= 5\n",
    "                p +=2\n",
    "            print(\"You are not a good driver!\")\n",
    "            print(\"Speed:\", speed)\n",
    "            print(\"You got %.f points \" %points)\n",
    "    except ValueError:\n",
    "        print( 'Ops!', \"You inserted a letter, I can't work with that!\")\n",
    "        \n",
    "check_speed(number, points, limit)"
   ]
  },
  {
   "cell_type": "markdown",
   "metadata": {},
   "source": [
    "# 4. Write a function called showNumbers that takes a parameter called limit. It should print all the numbers between 0 and limit with a label to identify the even and odd numbers. For example, if the limit is 3, it should print: \n",
    "\n",
    "* 0 EVEN\n",
    "* 1 ODD\n",
    "* 2 EVEN\n",
    "* 3 ODD\n"
   ]
  },
  {
   "cell_type": "code",
   "execution_count": 207,
   "metadata": {},
   "outputs": [
    {
     "name": "stdout",
     "output_type": "stream",
     "text": [
      "Enter a numer, I will tell you if all range of this numer is odd or even:  5\n",
      "0 ODD\n",
      "1 EVEN\n",
      "2 ODD\n",
      "3 EVEN\n",
      "4 ODD\n",
      "5 EVEN\n"
     ]
    }
   ],
   "source": [
    "value = input(\"Enter a numer, I will tell you if all range of this numer is odd or even:  \")\n",
    "\n",
    "def show_numbers(value):\n",
    "    try:\n",
    "        value = int(value)\n",
    "        for i in range(value+1):\n",
    "            if (i % 2 == 0):\n",
    "                print(i, \"ODD\")\n",
    "            else:\n",
    "                print(i, \"EVEN\") \n",
    "            \n",
    "    except ValueError:\n",
    "        print( 'Ops!', \"You inserted a letter or a float number, I cannot work with that!\")\n",
    "        \n",
    "show_numbers(value)"
   ]
  },
  {
   "cell_type": "markdown",
   "metadata": {},
   "source": [
    "# 5. Write a function that returns the sum of multiples of 3 or 5 between 0 and limit (parameter). For example, if limit is 20, it should return the sum of 3, 5, 6, 9, 10, 12, 15, 18, 20."
   ]
  },
  {
   "cell_type": "code",
   "execution_count": 132,
   "metadata": {},
   "outputs": [
    {
     "name": "stdout",
     "output_type": "stream",
     "text": [
      "Enter a integer number, please: 20\n",
      "[0, 3, 5, 6, 9, 10, 12, 15, 18, 20]\n",
      "Sum of the multiple of 3 and 5 is: 98\n"
     ]
    }
   ],
   "source": [
    "mult = input(\"Enter a integer number, please: \")\n",
    "\n",
    "def multiple(k):\n",
    "    list_mult = []\n",
    "    try:\n",
    "        k = int(k)\n",
    "        for i in range(k+1):\n",
    "            if (i %  3 == 0 ) or (i %  5 == 0):\n",
    "                list_mult.append(i)\n",
    "            \n",
    "    except ValueError:\n",
    "        print( 'Ops!', \"You inserted a letter or a float number, I can't work with that!\")\n",
    "    return list_mult\n",
    "         \n",
    "list_s = multiple(mult)\n",
    "\n",
    "if not list_s == None: \n",
    "    print(list_s)\n",
    "    print(\"Sum of the multiple of 3 and 5 is:\", sum(list_s))\n"
   ]
  },
  {
   "cell_type": "markdown",
   "metadata": {},
   "source": [
    "# 6. Write a function called show_stars(rows). If rows is 5, it should print the following: \n",
    "```\n",
    "*\n",
    "**\n",
    "***\n",
    "****\n",
    "*****\n",
    "```"
   ]
  },
  {
   "cell_type": "code",
   "execution_count": 195,
   "metadata": {},
   "outputs": [
    {
     "name": "stdout",
     "output_type": "stream",
     "text": [
      "Enter a integer number, please: 5\n",
      "\n",
      "     *\n",
      "    * *\n",
      "   * * *\n",
      "  * * * *\n",
      " * * * * *\n"
     ]
    }
   ],
   "source": [
    "star_number = input(\"Enter a integer number, please: \")\n",
    "\n",
    "def show_stars(star):\n",
    "    try:\n",
    "        star = int(star)\n",
    "        if star == 5:\n",
    "            for i in range(star+1):\n",
    "                sn = \"*\"\n",
    "                if i == 4:\n",
    "                    print(\"\",\" %s\" % sn*i)\n",
    "                elif i == 3:\n",
    "                    print(\" \",\" %s\" % sn*i)\n",
    "                elif i == 2:\n",
    "                    print(\"  \",\" %s\" % sn*i)\n",
    "                elif i == 1:\n",
    "                    print(\"   \",\" %s\" % sn*i)\n",
    "                else:\n",
    "                    print(\" %s\" % sn*i)\n",
    "              \n",
    "    except ValueError:\n",
    "        print( 'Ops!', \"You inserted a letter or a float number, I can't work with that!\")\n",
    "         \n",
    "show_stars(star_number)\n"
   ]
  },
  {
   "cell_type": "code",
   "execution_count": 152,
   "metadata": {},
   "outputs": [
    {
     "name": "stdout",
     "output_type": "stream",
     "text": [
      "    +    \n",
      "   +++   \n",
      "  +++++  \n",
      " +++++++ \n",
      "+++++++++\n"
     ]
    }
   ],
   "source": [
    "def holidaybush(n):\n",
    "    z=n-1\n",
    "    x=1\n",
    "    for i in range(0,n):\n",
    "        for i in range(0,z):\n",
    "            print(' ',end='')\n",
    "        for i in range(0,x):\n",
    "            print('+',end='')\n",
    "        for i in range(0,z):\n",
    "            print(' ',end='')\n",
    "        x=x+2\n",
    "        z=z-1\n",
    "        print()\n",
    "holidaybush(5)"
   ]
  },
  {
   "cell_type": "code",
   "execution_count": 37,
   "metadata": {},
   "outputs": [
    {
     "name": "stdout",
     "output_type": "stream",
     "text": [
      "          *\n",
      "         * *\n",
      "        * * *\n",
      "       * * * *\n",
      "      * * * * *\n",
      "     * * * * * *\n",
      "    * * * * * * *\n",
      "   * * * * * * * *\n",
      "  * * * * * * * * *\n",
      "           *\n",
      "           * *\n",
      "           * * *\n",
      "           * * * *\n",
      "          * * * * *\n",
      "          * * * * * *\n",
      "          * * * * * * *\n",
      "          * * * * * * * *\n",
      "          * * * * * * * * *\n"
     ]
    }
   ],
   "source": [
    "N = 10\n",
    "print(\"\\n\".join([\" \" * (N-i) + \" *\" *  i for i in range(1,N)]))\n",
    "\n",
    "print(\"\\n\".join([\" \" * (N-i//5) + \" *\" *  i for i in range(1, N)]))"
   ]
  },
  {
   "cell_type": "markdown",
   "metadata": {},
   "source": [
    "# 7. Write a function that prints all the prime numbers between 0 and `limit` where limit is a parameter."
   ]
  },
  {
   "cell_type": "code",
   "execution_count": 38,
   "metadata": {},
   "outputs": [
    {
     "name": "stdout",
     "output_type": "stream",
     "text": [
      "Enter a numer, I will tell you if all range of this numer is odd or even:  2\n",
      "0 Is not a prime number\n",
      "1 Is not a prime number\n",
      "2 Is a prime number\n"
     ]
    }
   ],
   "source": [
    "lim = input(\"Enter a numer, I will tell you if all range of this numer is odd or even:  \")\n",
    "\n",
    "def prime_numbers(l):\n",
    "    try:\n",
    "        l = int(l)\n",
    "        for i in range(l+1):\n",
    "            if i > 1:\n",
    "                for j in range(2,i):\n",
    "                    if (i % j == 0):\n",
    "                        print(i, \"Is not a prime number\")\n",
    "                        break\n",
    "                else:\n",
    "                        print(i, \"Is a prime number\")\n",
    "            else:\n",
    "                print(i, \"Is not a prime number\")   \n",
    "            \n",
    "    except ValueError:\n",
    "        print( 'Ops!', \"You inserted a letter, I cannot work with that!\")\n",
    "        \n",
    "prime_numbers(lim)"
   ]
  },
  {
   "cell_type": "code",
   "execution_count": null,
   "metadata": {},
   "outputs": [],
   "source": []
  }
 ],
 "metadata": {
  "kernelspec": {
   "display_name": "Python [conda env:python-env] *",
   "language": "python",
   "name": "conda-env-python-env-py"
  },
  "language_info": {
   "codemirror_mode": {
    "name": "ipython",
    "version": 3
   },
   "file_extension": ".py",
   "mimetype": "text/x-python",
   "name": "python",
   "nbconvert_exporter": "python",
   "pygments_lexer": "ipython3",
   "version": "3.7.4"
  }
 },
 "nbformat": 4,
 "nbformat_minor": 2
}
