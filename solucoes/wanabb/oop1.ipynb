{
 "cells": [
  {
   "cell_type": "markdown",
   "metadata": {},
   "source": [
    "Exercícios Orientação a Objeto\n",
    "Modele uma classe que realiza as seguintes operações em um arquivo texto\n",
    "* Represente um texto como uma lista de Strings\n",
    "* Retorne individualmente cada palavra do texto\n",
    "* Conte a quantidade de ocorrências de cada palavra do texto\n",
    "* Retorne as 10 palavras mais frequentes\n",
    "* Retorne a média e desvio padrão da quantidade de ocorrências\n",
    "* Cadastre StopWords (A classe deve possuir um atributo com uma lista de StopWords)\n",
    "* Retorne um novo arquivo eliminando todas as StopWords do texto\n",
    "* Inclua um método que retorne a distância entre duas palavras\n",
    "\n",
    "Observações:\n",
    "\n",
    "* StopWords : são palavras que são consideradas irrelevantes para o conjunto de resultados a ser exibido em uma busca realizada em uma search engine. Exemplos: as, e, os, de, para, com, sem, foi.\n",
    "\n",
    "* Exemplo de texto que pode ser usado como entrada: https://ocw.mit.edu/ans7870/6/6.006/s08/lecturenotes/files/t8.shakespeare.txt\n",
    "\n",
    "* Você pode criar um método próprio para medir a distância entre duas palavras, ou pode se basear em métodos existentes, como por exemplo, alguns citados aqui: https://itnext.io/string-similarity-the-basic-know-your-algorithms-guide-3de3d7346227\n"
   ]
  },
  {
   "cell_type": "code",
   "execution_count": 53,
   "metadata": {},
   "outputs": [
    {
     "name": "stdout",
     "output_type": "stream",
     "text": [
      "['This', 'is', 'the', '100th', 'Etext', 'file', 'presented', 'by', 'Project', 'Gutenberg,', 'and', 'is', 'presented', 'in', 'cooperation', 'with', 'World', 'Library,', 'Inc.,', 'from', 'their', 'Library', 'of', 'the', 'Future', 'and', 'Shakespeare', 'CDROMS.', 'Project', 'Gutenberg', 'often', 'releases', 'Etexts', 'that', 'are', 'NOT', 'placed', 'in', 'the', 'Public', 'Domain!!', 'Shakespeare', '*This', 'Etext', 'has', 'certain', 'copyright', 'implications', 'you', 'should', 'read!*', '<<THIS', 'ELECTRONIC', 'VERSION', 'OF', 'THE', 'COMPLETE', 'WORKS', 'OF', 'WILLIAM', 'SHAKESPEARE', 'IS', 'COPYRIGHT', '1990-1993', 'BY', 'WORLD', 'LIBRARY,', 'INC.,', 'AND', 'IS', 'PROVIDED', 'BY', 'PROJECT', 'GUTENBERG', 'ETEXT', 'OF', 'ILLINOIS', 'BENEDICTINE', 'COLLEGE', 'WITH', 'PERMISSION.', 'ELECTRONIC', 'AND', 'MACHINE', 'READABLE', 'COPIES', 'MAY', 'BE', 'DISTRIBUTED', 'SO', 'LONG', 'AS', 'SUCH', 'COPIES', '(1)', 'ARE', 'FOR', 'YOUR', 'OR', 'OTHERS', 'PERSONAL', 'USE', 'ONLY,', 'AND', '(2)', 'ARE', 'NOT', 'DISTRIBUTED', 'OR', 'USED', 'COMMERCIALLY.', 'PROHIBITED', 'COMMERCIAL', 'DISTRIBUTION', 'INCLUDES', 'BY', 'ANY', 'SERVICE', 'THAT', 'CHARGES', 'FOR', 'DOWNLOAD', 'TIME', 'OR', 'FOR', 'MEMBERSHIP.>>', '*Project', 'Gutenberg', 'is', 'proud', 'to', 'cooperate', 'with', 'The', 'World', 'Library*', 'in', 'the', 'presentation', 'of', 'The', 'Complete', 'Works', 'of', 'William', 'Shakespeare', 'for', 'your', 'reading', 'for', 'education', 'and', 'entertainment.', 'HOWEVER,', 'THIS', 'IS', 'NEITHER', 'SHAREWARE', 'NOR', 'PUBLIC', 'DOMAIN.', '.', '.AND', 'UNDER', 'THE', 'LIBRARY', 'OF', 'THE', 'FUTURE', 'CONDITIONS', 'OF', 'THIS', 'PRESENTATION.', '.', '.NO', 'CHARGES', 'MAY', 'BE', 'MADE', 'FOR', '*ANY*', 'ACCESS', 'TO', 'THIS', 'MATERIAL.', 'YOU', 'ARE', 'ENCOURAGED!!', 'TO', 'GIVE', 'IT', 'AWAY', 'TO', 'ANYONE', 'YOU', 'LIKE,', 'BUT', 'NO', 'CHARGES', 'ARE', 'ALLOWED!!', '**Welcome', 'To', 'The', 'World', 'of', 'Free', 'Plain', 'Vanilla', 'Electronic', 'Texts**', '**Etexts', 'Readable', 'By', 'Both', 'Humans', 'and', 'By', 'Computers,', 'Since', '1971**', '*These', 'Etexts', 'Prepared', 'By', 'Hundreds', 'of', 'Volunteers', 'and', 'Donations*', 'Information', 'on', 'contacting', 'Project', 'Gutenberg', 'to', 'get', 'Etexts,', 'and', 'further', 'information', 'is', 'included', 'below.', 'We', 'need', 'your', 'donations.', 'The', 'Complete', 'Works', 'of', 'William', 'Shakespeare', 'January,', '1994', '[Etext', '#100]', 'The', 'Library', 'of', 'the', 'Future', 'Complete', 'Works', 'of', 'William', 'Shakespeare', 'Library', 'of', 'the', 'Future', 'is', 'a', 'TradeMark', '(TM)', 'of', 'World', 'Library', 'Inc.', '******This', 'file', 'should', 'be', 'named', 'shaks12.txt', 'or', 'shaks12.zip*****', 'Corrected', 'EDITIONS', 'of', 'our', 'etexts', 'get', 'a', 'new', 'NUMBER,', 'shaks13.txt', 'VERSIONS', 'based', 'on', 'separate', 'sources', 'get', 'new', 'LETTER,', 'shaks10a.txt', 'If', 'you', 'would', 'like', 'further', 'information', 'about', 'World', 'Library,', 'Inc.', 'Please', 'call', 'them', 'at', '1-800-443-0238', 'or', 'email', 'julianc@netcom.com', 'Please', 'give', 'them', 'our', 'thanks', 'for', 'their', 'Shakespeare', 'cooperation!', 'The', 'official', 'release', 'date', 'of', 'all', 'Project', 'Gutenberg', 'Etexts', 'is', 'at', 'Midnight,', 'Central', 'Time,', 'of', 'the', 'last', 'day', 'of', 'the', 'stated', 'month.', 'A', 'preliminary', 'version', 'may', 'often', 'be', 'posted', 'for', 'suggestion,', 'comment', 'and', 'editing', 'by', 'those', 'who', 'wish', 'to', 'do', 'so.', 'To', 'be', 'sure', 'you', 'have', 'an', 'up', 'to', 'date', 'first', 'edition', '[xxxxx10x.xxx]', 'please', 'check', 'file', 'sizes', 'in', 'the', 'first', 'week', 'of', 'the', 'next', 'month.', 'Since', 'our', 'ftp', 'program', 'has', 'a', 'bug', 'in', 'it', 'that', 'scrambles', 'the', 'date', '[tried', 'to', 'fix', 'and', 'failed]', 'a', 'look', 'at', 'the', 'file', 'size', 'will', 'have', 'to', 'do,', 'but', 'we', 'will', 'try', 'to', 'see', 'a', 'new', 'copy', 'has', 'at', 'least', 'one', 'byte', 'more', 'or', 'less.', 'Information', 'about', 'Project', 'Gutenberg', '(one', 'page)', 'We', 'produce', 'about', 'two', 'million', 'dollars', 'for', 'each', 'hour', 'we', 'work.', 'The', 'fifty', 'hours', 'is', 'one', 'conservative', 'estimate', 'for', 'how', 'long', 'it', 'we', 'take', 'to', 'get', 'any', 'etext', 'selected,', 'entered,', 'proofread,', 'edited,', 'copyright', 'searched', 'and', 'analyzed,', 'the', 'copyright', 'letters', 'written,', 'etc.', 'This', 'projected', 'audience', 'is', 'one', 'hundred', 'million', 'readers.', 'If']\n"
     ]
    },
    {
     "data": {
      "text/plain": [
       "[['If'], ['If']]"
      ]
     },
     "execution_count": 53,
     "metadata": {},
     "output_type": "execute_result"
    }
   ],
   "source": [
    "class op_file:\n",
    "    def __init__(self,file):\n",
    "        self.file = file\n",
    "    #Represente um texto como uma lista de Strings   \n",
    "    def read_file(self):\n",
    "        word_list = []\n",
    "        rf = open(self.file, 'r')\n",
    "        for line in rf:\n",
    "            line = line.strip('\\n')\n",
    "            word_list.extend(line.split())\n",
    "\n",
    "        return word_list[:500]\n",
    "    # Conte a quantidade de ocorrências de cada palavra do texto\n",
    "    def count_word(self, word_list):\n",
    "        for i in range(len(word_list)):\n",
    "            l_lista = []\n",
    "            for j in range(len(word_list)):\n",
    "                if word_list[i] == word_list[j]:\n",
    "                     l_lista.append([word_list[i]])\n",
    "        return l_lista\n",
    "    \n",
    "a = op_file('text.txt')\n",
    "f = a.read_file()\n",
    "print(f)\n",
    "a.count_word(f)"
   ]
  },
  {
   "cell_type": "code",
   "execution_count": null,
   "metadata": {},
   "outputs": [],
   "source": []
  },
  {
   "cell_type": "code",
   "execution_count": null,
   "metadata": {},
   "outputs": [],
   "source": []
  }
 ],
 "metadata": {
  "kernelspec": {
   "display_name": "Python [conda env:python-env] *",
   "language": "python",
   "name": "conda-env-python-env-py"
  },
  "language_info": {
   "codemirror_mode": {
    "name": "ipython",
    "version": 3
   },
   "file_extension": ".py",
   "mimetype": "text/x-python",
   "name": "python",
   "nbconvert_exporter": "python",
   "pygments_lexer": "ipython3",
   "version": "3.7.4"
  }
 },
 "nbformat": 4,
 "nbformat_minor": 2
}
