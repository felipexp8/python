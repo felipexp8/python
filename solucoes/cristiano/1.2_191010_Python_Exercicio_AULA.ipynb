{
 "cells": [
  {
   "cell_type": "code",
   "execution_count": 8,
   "metadata": {},
   "outputs": [
    {
     "name": "stdout",
     "output_type": "stream",
     "text": [
      "a\n",
      "a\n",
      "['a', 'e', 'i', 'o', 'u']\n",
      "['a', 'e', 'i', 'o', 'u']\n",
      "['a', 'e', 'i', 'o', 'u']\n",
      "[[ 2.   3.   2.  10. ]\n",
      " [ 1.2 -0.2  0.   2. ]]\n",
      "[[ 1.   3.   2.  10. ]\n",
      " [ 1.2 -0.2  0.   2. ]]\n"
     ]
    }
   ],
   "source": [
    "import copy\n",
    "import numpy as np\n",
    "\n",
    "vowels = ['a', 'e', 'i', 'o', 'u']\n",
    "print(vowels[0])\n",
    "print(vowels[0])\n",
    "\n",
    "lista = vowels\n",
    "print (lista)\n",
    "\n",
    "lista1 = 'z'\n",
    "\n",
    "print(lista)\n",
    "print(vowels)\n",
    "\n",
    "list_2D = np.array([[1, 3, 2, 10], [1.2, -0.2, 0, 2]])\n",
    "c = copy.deepcopy(list_2D)\n",
    "c[0][0] = 2\n",
    "print(c)\n",
    "print(list_2D)"
   ]
  },
  {
   "cell_type": "code",
   "execution_count": 9,
   "metadata": {},
   "outputs": [
    {
     "name": "stdout",
     "output_type": "stream",
     "text": [
      "a\n",
      "a\n",
      "['a', 'e', 'i', 'o', 'u']\n",
      "['a', 'e', 'i', 'o', 'u']\n",
      "['a', 'e', 'i', 'o', 'u']\n",
      "[[2, 3, 2, 10], [1.2, -0.2, 0, 2]]\n",
      "[[1, 3, 2, 10], [1.2, -0.2, 0, 2]]\n"
     ]
    }
   ],
   "source": [
    "import copy\n",
    "\n",
    "vowels = ['a', 'e', 'i', 'o', 'u']\n",
    "print(vowels[0])\n",
    "print(vowels[0])\n",
    "\n",
    "lista = vowels\n",
    "print (lista)\n",
    "\n",
    "lista1 = 'z'\n",
    "\n",
    "print(lista)\n",
    "print(vowels)\n",
    "\n",
    "list_2D = [[1, 3, 2, 10], [1.2, -0.2, 0, 2]]\n",
    "c = copy.deepcopy(list_2D)\n",
    "c[0][0] = 2\n",
    "print(c)\n",
    "print(list_2D)"
   ]
  },
  {
   "cell_type": "code",
   "execution_count": 11,
   "metadata": {},
   "outputs": [
    {
     "name": "stdout",
     "output_type": "stream",
     "text": [
      "['c', 'a']\n",
      "['a', 'c']\n"
     ]
    }
   ],
   "source": [
    "books = []\n",
    "books.append(\"c\")\n",
    "books.append(\"a\")\n",
    "             \n",
    "print(books)\n",
    "             \n",
    "books.sort()\n",
    "print(books)\n",
    "\n"
   ]
  },
  {
   "cell_type": "code",
   "execution_count": 14,
   "metadata": {},
   "outputs": [
    {
     "name": "stdout",
     "output_type": "stream",
     "text": [
      "['q', 3, 1.3, 0]\n"
     ]
    },
    {
     "ename": "TypeError",
     "evalue": "'<' not supported between instances of 'int' and 'str'",
     "output_type": "error",
     "traceback": [
      "\u001b[0;31m---------------------------------------------------------------------------\u001b[0m",
      "\u001b[0;31mTypeError\u001b[0m                                 Traceback (most recent call last)",
      "\u001b[0;32m<ipython-input-14-b95af8949919>\u001b[0m in \u001b[0;36m<module>\u001b[0;34m\u001b[0m\n\u001b[1;32m      2\u001b[0m \u001b[0mprint\u001b[0m\u001b[0;34m(\u001b[0m\u001b[0mb\u001b[0m\u001b[0;34m)\u001b[0m\u001b[0;34m\u001b[0m\u001b[0;34m\u001b[0m\u001b[0m\n\u001b[1;32m      3\u001b[0m \u001b[0;34m\u001b[0m\u001b[0m\n\u001b[0;32m----> 4\u001b[0;31m \u001b[0mb\u001b[0m\u001b[0;34m.\u001b[0m\u001b[0msort\u001b[0m\u001b[0;34m(\u001b[0m\u001b[0;34m)\u001b[0m\u001b[0;34m\u001b[0m\u001b[0;34m\u001b[0m\u001b[0m\n\u001b[0m\u001b[1;32m      5\u001b[0m \u001b[0;34m\u001b[0m\u001b[0m\n\u001b[1;32m      6\u001b[0m \u001b[0mprint\u001b[0m\u001b[0;34m(\u001b[0m\u001b[0mb\u001b[0m\u001b[0;34m)\u001b[0m\u001b[0;34m\u001b[0m\u001b[0;34m\u001b[0m\u001b[0m\n",
      "\u001b[0;31mTypeError\u001b[0m: '<' not supported between instances of 'int' and 'str'"
     ]
    }
   ],
   "source": [
    "b = ['q', 3, 1.3, 0]\n",
    "print(b)\n",
    "\n",
    "b.sort()\n",
    "\n",
    "print(b)\n",
    "\n",
    "# ELE NAO ORDENA SE MISTURARMOS STRING COM NUMEROS"
   ]
  },
  {
   "cell_type": "code",
   "execution_count": 15,
   "metadata": {},
   "outputs": [
    {
     "ename": "SyntaxError",
     "evalue": "invalid syntax (<ipython-input-15-0a250476d149>, line 1)",
     "output_type": "error",
     "traceback": [
      "\u001b[0;36m  File \u001b[0;32m\"<ipython-input-15-0a250476d149>\"\u001b[0;36m, line \u001b[0;32m1\u001b[0m\n\u001b[0;31m    eng2sp =\u001b[0m\n\u001b[0m             ^\u001b[0m\n\u001b[0;31mSyntaxError\u001b[0m\u001b[0;31m:\u001b[0m invalid syntax\n"
     ]
    }
   ],
   "source": [
    "eng2sp = \n",
    ">>>eng2sp['one'] = 'uno'\n",
    ">>>eng2sp['two'] = 'dos'\n",
    ">>>\n"
   ]
  },
  {
   "cell_type": "code",
   "execution_count": 25,
   "metadata": {},
   "outputs": [
    {
     "name": "stdout",
     "output_type": "stream",
     "text": [
      "{'Rahul': 86, 'Ravi': 92, 'Rohit': 75}\n",
      "dict_keys(['Rahul', 'Ravi', 'Rohit'])\n",
      "dict_values([86, 92, 75])\n"
     ]
    }
   ],
   "source": [
    "marks = {'Rahul' : 86, 'Ravi' : 92, 'Rohit' : 75}\n",
    "print(marks)\n",
    "print(marks.keys())\n",
    "print(marks.values())"
   ]
  },
  {
   "cell_type": "code",
   "execution_count": 26,
   "metadata": {},
   "outputs": [
    {
     "name": "stdout",
     "output_type": "stream",
     "text": [
      "86\n",
      "92\n",
      "75\n"
     ]
    }
   ],
   "source": [
    "novalista = []\n",
    "for it in marks.values():\n",
    "    novalista.append(it)\n",
    "    print(it)"
   ]
  },
  {
   "cell_type": "code",
   "execution_count": 36,
   "metadata": {},
   "outputs": [
    {
     "name": "stdout",
     "output_type": "stream",
     "text": [
      "Digite um numero \n",
      "5\n",
      "[1, 6, 5, 7, 7]\n"
     ]
    }
   ],
   "source": [
    "#EXERCICIO PROPOSTO PELO SILVIO DURANTE O EXERCICIO)\n",
    "\n",
    "import random\n",
    "\n",
    "inputSize = int(input('Digite um numero \\n'))\n",
    "vetorNumbers = []\n",
    "\n",
    "for i in range (inputSize):\n",
    "    vetorNumbers.append(random.randint(0, 100000))\n",
    "print (vetorNumbers)\n",
    "\n"
   ]
  },
  {
   "cell_type": "code",
   "execution_count": 39,
   "metadata": {},
   "outputs": [
    {
     "name": "stdout",
     "output_type": "stream",
     "text": [
      "Digite um numero \n",
      "3\n",
      "[0, 1, 2]\n"
     ]
    }
   ],
   "source": [
    "import random\n",
    "\n",
    "inputSize = int(input('Digite um numero \\n'))\n",
    "vetorNumbers = []\n",
    "\n",
    "for i in range (inputSize):\n",
    "    vetorNumbers.append(i)\n",
    "print (vetorNumbers)"
   ]
  },
  {
   "cell_type": "code",
   "execution_count": 42,
   "metadata": {},
   "outputs": [
    {
     "name": "stdout",
     "output_type": "stream",
     "text": [
      "Insira um numero: 3\n",
      "[4, 4, 4]\n"
     ]
    }
   ],
   "source": [
    "num = input(\"Insira um numero: \")\n",
    "lista = [4]*(int(num))\n",
    "print (lista)"
   ]
  },
  {
   "cell_type": "code",
   "execution_count": 16,
   "metadata": {},
   "outputs": [
    {
     "name": "stdout",
     "output_type": "stream",
     "text": [
      "Digite a letra inicial do nome: D\n",
      "Alessandra\n",
      "Alexandre\n",
      "André\n",
      "Bruna\n",
      "Cristiano\n",
      "Felipe\n",
      "Gabriel\n",
      "Gabriela\n",
      "Harrison\n",
      "Jéssica\n",
      "Leonardo\n",
      "Letícia\n",
      "Lucas\n",
      "Lázaro\n",
      "Muriel\n",
      "Rafael\n",
      "Sávio\n",
      "Vitor\n",
      "Wana\n"
     ]
    }
   ],
   "source": [
    "lista = [\"André\", \"daniel\", \"Cristiano\", \"Wana\", \"Duan\", \"Harrison\", \"Alessandra\", \"Bruna\", \"Alexandre\", \"Lázaro\", \"Vitor\", \"Leonardo\", \"Sávio\", \"Lucas\", \"Rafael\", \"Jéssica\", \"Letícia\", \"Gabriel\", \"Gabriela\", \"Felipe\", \"Muriel\"] \n",
    "lista.sort()\n",
    "\n",
    "letraEntrada = input(\"Digite a letra inicial do nome: \")\n",
    "\n",
    "    \n",
    "for i in range (len(lista)):\n",
    "    if not lista[i].upper().startswith(letraEntrada.upper()):\n",
    "        print(lista[i])\n",
    "    "
   ]
  },
  {
   "cell_type": "code",
   "execution_count": 46,
   "metadata": {},
   "outputs": [],
   "source": [
    "def listaSemD(nomes):\n",
    "    \n",
    "    if not type(nomes)==list: return\n",
    "    auxiliar = list()\n",
    "    for elemento in nomes:\n",
    "        if not elemento[0].lower() == 'd':\n",
    "            auxiliar.append(elemento)\n",
    "    return auxiliar "
   ]
  },
  {
   "cell_type": "code",
   "execution_count": null,
   "metadata": {},
   "outputs": [],
   "source": []
  }
 ],
 "metadata": {
  "kernelspec": {
   "display_name": "Python 3",
   "language": "python",
   "name": "python3"
  },
  "language_info": {
   "codemirror_mode": {
    "name": "ipython",
    "version": 3
   },
   "file_extension": ".py",
   "mimetype": "text/x-python",
   "name": "python",
   "nbconvert_exporter": "python",
   "pygments_lexer": "ipython3",
   "version": "3.7.3"
  }
 },
 "nbformat": 4,
 "nbformat_minor": 2
}
