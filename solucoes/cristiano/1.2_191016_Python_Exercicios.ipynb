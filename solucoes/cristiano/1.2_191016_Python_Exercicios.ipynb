{
 "cells": [
  {
   "cell_type": "markdown",
   "metadata": {},
   "source": [
    "## EXERCICIO\n",
    "Crie uma classe python que controla clientes de um banco que podem ser pessoa física (CPF) ou jurídica (CNPJ), utilizando herança. Crie outra classe em PYthon que controla contas bancarias, que pode ser corrente ou poupança, o estado da conta é o saldo, e os métodos são saque ou depósito um atributo da conta bancária é a referencia a um objeto cliente quando voltarem do intervalo, querem que tentem resolver esse exercício"
   ]
  },
  {
   "cell_type": "code",
   "execution_count": 1,
   "metadata": {},
   "outputs": [],
   "source": [
    "class pessoa():\n",
    "    nome = \"nulo\"\n",
    "    __cpf = 0\n",
    "    __cnpj = 0\n",
    " \n",
    "    def __cpf(self, novoCpf):\n",
    "        self.__cpf = novoCpf\n",
    "\n",
    "    def __cnpj(self, novoCnpj):\n",
    "        self.__novoCnpj = novoCnpj\n",
    "\n",
    "    def getCpf(self):\n",
    "        return(self.__cpf)\n",
    "\n",
    "    def getCnpj(self):\n",
    "        return(self.__cnpj)    "
   ]
  },
  {
   "cell_type": "code",
   "execution_count": 2,
   "metadata": {},
   "outputs": [
    {
     "name": "stdout",
     "output_type": "stream",
     "text": [
      "nulo\n",
      "<bound method pessoa.__cpf of <__main__.pessoa object at 0x7f5290735cf8>>\n"
     ]
    }
   ],
   "source": [
    "objeto = pessoa()\n",
    "print(objeto.nome)\n",
    "print(objeto.getCpf())\n",
    "#objeto.nome = 33\n",
    "#print(objeto.nome)\n",
    "\n",
    "#print(objeto.getidade())\n",
    "#objeto.setidade(42)\n",
    "#print(objeto.getidade())\n",
    "\n",
    "#objeto = None"
   ]
  },
  {
   "cell_type": "code",
   "execution_count": null,
   "metadata": {},
   "outputs": [],
   "source": []
  }
 ],
 "metadata": {
  "kernelspec": {
   "display_name": "Python 3",
   "language": "python",
   "name": "python3"
  },
  "language_info": {
   "codemirror_mode": {
    "name": "ipython",
    "version": 3
   },
   "file_extension": ".py",
   "mimetype": "text/x-python",
   "name": "python",
   "nbconvert_exporter": "python",
   "pygments_lexer": "ipython3",
   "version": "3.7.3"
  }
 },
 "nbformat": 4,
 "nbformat_minor": 2
}
