{
 "cells": [
  {
   "cell_type": "code",
   "execution_count": 1,
   "metadata": {},
   "outputs": [
    {
     "name": "stdout",
     "output_type": "stream",
     "text": [
      "Hello\n",
      "World\n",
      "teste\n",
      "<class 'function'>\n",
      "Hello\n",
      "World\n",
      "teste\n",
      "resultado do square 49\n",
      "100\n",
      "x > 25\n",
      "ex for : i:  1\n",
      "ex for : i:  2\n",
      "ex for : i:  3\n",
      "ex for : i:  4\n",
      "y  10 z  50\n",
      "while 1\n",
      "while 2\n",
      "while 3\n",
      "10.4\n",
      "<class 'float'>\n",
      "314160.0\n",
      "<class 'float'>\n",
      "25799367407978799736465427099151582\n",
      "<class 'int'>\n",
      "FIEP Cristiano\n",
      "29.200000000000003\n",
      "FIEPFIEPFIEPFIEPFIEPFIEPFIEPFIEPFIEPFIEP\n",
      "FIEPFIEPFIEPFIEPFIEPFIEPFIEPFIEPFIEPFIEP 3 10.4 FIEP  Cristiano\n"
     ]
    }
   ],
   "source": [
    "def helloworld():\n",
    "\tprint(\"Hello\")\n",
    "\tprint(\"World\")\n",
    "\tprint(\"teste\")\n",
    "\n",
    "helloworld()\n",
    "\n",
    "print(type(helloworld))\n",
    "\n",
    "def square(num):\n",
    "\thelloworld()\n",
    "#\tprint(total2)\n",
    "\ttotal=num*num\n",
    "\treturn(total)\n",
    "\n",
    "print (\"resultado do square\", square(7))\n",
    "\n",
    "\n",
    "x=100\n",
    "print(x)\n",
    "\n",
    "if x > 25:\n",
    "\tprint(\"x > 25\") \n",
    "\ty=10\n",
    "\tz=50\n",
    "else:\n",
    "\tprint(\"else\")\n",
    "\tz=0\n",
    "\ty=0\n",
    "\n",
    "for i in range(1, 5):\n",
    "\tprint(\"ex for : i: \", i)\n",
    "\n",
    "print (\"y \", y, \"z \", z)\n",
    "\n",
    "x=0\n",
    "while (x<3):\n",
    "\tx=x+1\n",
    "\tprint(\"while\", x)\n",
    "\n",
    "f=10.4\n",
    "print (f)\n",
    "\n",
    "print(type(f))\n",
    "\n",
    "sci_numa = 3.1416e5\n",
    "print (sci_numa)\n",
    "print(type(sci_numa))\n",
    "\n",
    "total = 34599999999999999646569*745646456878\n",
    "print (total)\n",
    "print(type(total))\n",
    "\n",
    "str1=\"FIEP\"\n",
    "str2=\" Cristiano\"\n",
    "\n",
    "str3=str1+str2\n",
    "print(str3)\n",
    "\n",
    "\n",
    "total=x*f-2\n",
    "print (total)\n",
    "\n",
    "multstr=str1*10\n",
    "print(multstr)\n",
    "\n",
    "\n",
    "print(multstr, x, f, str1, str2)\n",
    "\n",
    "\n"
   ]
  },
  {
   "cell_type": "code",
   "execution_count": 1,
   "metadata": {},
   "outputs": [
    {
     "name": "stdout",
     "output_type": "stream",
     "text": [
      "Resultado da soma: 5\n"
     ]
    }
   ],
   "source": [
    "# PROBLEM 1: Open a new Python interpreter and use it to \n",
    "#find the value of 2 + 3.\n",
    "def soma(a, b):\n",
    "    a = 2\n",
    "    b = 3\n",
    "    soma = a + b\n",
    "    return(soma)\n",
    "print (\"Resultado da soma:\", soma(2, 3))"
   ]
  },
  {
   "cell_type": "code",
   "execution_count": 2,
   "metadata": {},
   "outputs": [
    {
     "name": "stdout",
     "output_type": "stream",
     "text": [
      "Hello World!\n",
      "Hello World!\n",
      "Hello World!\n",
      "Hello World!\n"
     ]
    }
   ],
   "source": [
    "# PROBLEM 2: Create a python script to print \"hello, world!\"\n",
    "#four times.\n",
    "\n",
    "x=0\n",
    "while (x<4):\n",
    "    x=x+1\n",
    "    print(\"Hello World!\")"
   ]
  },
  {
   "cell_type": "code",
   "execution_count": 79,
   "metadata": {},
   "outputs": [
    {
     "data": {
      "text/plain": [
       "3"
      ]
     },
     "execution_count": 79,
     "metadata": {},
     "output_type": "execute_result"
    }
   ],
   "source": [
    "# PROBLEM 3: Create a python script with the following text and see the output: 1 + 2\n",
    "\n",
    "1+2\n",
    "\n",
    "# Possivelmente porque falta o print"
   ]
  },
  {
   "cell_type": "code",
   "execution_count": 74,
   "metadata": {},
   "outputs": [
    {
     "name": "stdout",
     "output_type": "stream",
     "text": [
      "4 5\n"
     ]
    }
   ],
   "source": [
    "# PROBLEM 4: What will be output of the following program.\n",
    "#    x = 4\n",
    "#    y = x + 1\n",
    "#    x = 2\n",
    "#    print x, y\n",
    "    \n",
    "# apresenta dois erros: Faltam os parênteses no Print e a variável x foi definida duas vezes\n",
    "\n",
    "x = 4\n",
    "y = x + 1\n",
    "#x = 2\n",
    "print (x, y)"
   ]
  },
  {
   "cell_type": "code",
   "execution_count": 75,
   "metadata": {},
   "outputs": [
    {
     "ename": "SyntaxError",
     "evalue": "Missing parentheses in call to 'print'. Did you mean print(x, y)? (<ipython-input-75-0eca48d13487>, line 5)",
     "output_type": "error",
     "traceback": [
      "\u001b[0;36m  File \u001b[0;32m\"<ipython-input-75-0eca48d13487>\"\u001b[0;36m, line \u001b[0;32m5\u001b[0m\n\u001b[0;31m    print x, y\u001b[0m\n\u001b[0m          ^\u001b[0m\n\u001b[0;31mSyntaxError\u001b[0m\u001b[0;31m:\u001b[0m Missing parentheses in call to 'print'. Did you mean print(x, y)?\n"
     ]
    }
   ],
   "source": [
    "# PROBLEM 5: What will be the output of the following program.\n",
    "\n",
    "x, y = 2, 6\n",
    "x, y = y, x + 2\n",
    "print x, y\n",
    "\n",
    "# Dá erro porque faltam os parênteses"
   ]
  },
  {
   "cell_type": "code",
   "execution_count": 77,
   "metadata": {},
   "outputs": [
    {
     "name": "stdout",
     "output_type": "stream",
     "text": [
      "6 4\n"
     ]
    }
   ],
   "source": [
    "# PROBLEM 6: What will be the output of the following program.\n",
    "\n",
    "(x, y) = (2, 6)\n",
    "(x, y) = (y, x + 2)\n",
    "print (x, y)"
   ]
  },
  {
   "cell_type": "code",
   "execution_count": 81,
   "metadata": {},
   "outputs": [
    {
     "ename": "SyntaxError",
     "evalue": "Missing parentheses in call to 'print'. Did you mean print(a, b, c)? (<ipython-input-81-176db42fbbe8>, line 5)",
     "output_type": "error",
     "traceback": [
      "\u001b[0;36m  File \u001b[0;32m\"<ipython-input-81-176db42fbbe8>\"\u001b[0;36m, line \u001b[0;32m5\u001b[0m\n\u001b[0;31m    print a, b, c\u001b[0m\n\u001b[0m          ^\u001b[0m\n\u001b[0;31mSyntaxError\u001b[0m\u001b[0;31m:\u001b[0m Missing parentheses in call to 'print'. Did you mean print(a, b, c)?\n"
     ]
    }
   ],
   "source": [
    "# PROBLEM 7: What will be the output of the following program\n",
    "\n",
    "a, b = 2, 3\n",
    "c, b = a, c + 1\n",
    "print a, b, c\n",
    "\n",
    "# Dois erros: faltam os parênteses e a variável b é declarada como dependente de c que aparece na mesma linha"
   ]
  },
  {
   "cell_type": "code",
   "execution_count": 82,
   "metadata": {},
   "outputs": [
    {
     "name": "stdout",
     "output_type": "stream",
     "text": [
      "2 3 2\n"
     ]
    }
   ],
   "source": [
    "# PROBLEM 8: What will be the output of the following program\n",
    "\n",
    "(a, b) = (2, 3)\n",
    "(c, b) = (a, a + 1)\n",
    "print (a, b, c)"
   ]
  },
  {
   "cell_type": "code",
   "execution_count": 86,
   "metadata": {},
   "outputs": [
    {
     "name": "stdout",
     "output_type": "stream",
     "text": [
      "25\n",
      "100\n"
     ]
    }
   ],
   "source": [
    "# PROBLEM 9: How many multiplications are performed when each of the following lines of code is executed?\n",
    "numcalls = 0\n",
    "def square(x):\n",
    "    global numcalls\n",
    "    numcalls = numcalls + 1\n",
    "    return x * x\n",
    "\n",
    "print (square(5))\n",
    "print (square(2*5))\n",
    "\n",
    "# Não consegui entender o problema"
   ]
  },
  {
   "cell_type": "code",
   "execution_count": 116,
   "metadata": {},
   "outputs": [
    {
     "name": "stdout",
     "output_type": "stream",
     "text": [
      "1\n",
      "1\n",
      "A resposta será duas vezes o número 1\n"
     ]
    }
   ],
   "source": [
    "# PROBLEM 10: What will be the output of the following program?\n",
    "#    >>> count_digits(5)\n",
    "#    1\n",
    "#    >>> count_digits(12345)\n",
    "#    5\n",
    "\n",
    "x = 1\n",
    "def f():\n",
    "    return x\n",
    "print (x)\n",
    "print (f())\n",
    "\n",
    "# RESPOSTA: \n",
    "print(\"A resposta será duas vezes o número 1\")"
   ]
  },
  {
   "cell_type": "code",
   "execution_count": 164,
   "metadata": {},
   "outputs": [
    {
     "name": "stdout",
     "output_type": "stream",
     "text": [
      "1\n",
      "5\n"
     ]
    }
   ],
   "source": [
    "#PROBLEM 11: Write a function (count_digits) to find number of digits in the given number.\n",
    "\n",
    "#    >>> count_digits(5)\n",
    "#    1\n",
    "#    >>> count_digits(12345)\n",
    "#    5\n",
    "\n",
    "x = 1\n",
    "def count_digits():\n",
    "    count_digits = len(str(x))\n",
    "    return count_digits\n",
    "print(count_digits())\n",
    "\n",
    "x = 12345\n",
    "def count_digits():\n",
    "    count_digits = len(str(x))\n",
    "    return count_digits\n",
    "print(count_digits())\n"
   ]
  },
  {
   "cell_type": "code",
   "execution_count": 198,
   "metadata": {},
   "outputs": [
    {
     "name": "stdout",
     "output_type": "stream",
     "text": [
      "True\n",
      "True\n",
      "False\n"
     ]
    }
   ],
   "source": [
    "#PROBLEM 12: Write a function istrcmp to compare two strings, ignoring the case.\n",
    "#    >>> istrcmp('python', 'Python')\n",
    "#    True\n",
    "#    >>> istrcmp('LaTeX', 'Latex')\n",
    "#    True\n",
    "#    >>> istrcmp('a', 'b')\n",
    "#    False\n",
    "\n",
    "\n",
    "a = (\"Python\")\n",
    "b = (\"python\")\n",
    "c = (\"LateX\")\n",
    "d = (\"latex\")\n",
    "e = (\"a\")\n",
    "f = (\"b\")\n",
    "\n",
    "a = str.casefold(a)\n",
    "b = str.casefold(b)\n",
    "c = str.casefold(c)\n",
    "d = str.casefold(d)\n",
    "e = str.casefold(e)\n",
    "f = str.casefold(f)\n",
    "\n",
    "if a == b:\n",
    "    print(\"True\")\n",
    "else:\n",
    "    print(\"False\")\n",
    "    \n",
    "if c == d:\n",
    "    print(\"True\")\n",
    "else:\n",
    "    print(\"False\")\n",
    "    \n",
    "if e == f:\n",
    "    print(\"True\")\n",
    "else:\n",
    "    print(\"False\")"
   ]
  },
  {
   "cell_type": "code",
   "execution_count": 202,
   "metadata": {},
   "outputs": [
    {
     "name": "stdout",
     "output_type": "stream",
     "text": [
      "2 9\n"
     ]
    }
   ],
   "source": [
    "# PROBLEM 13: What will be the output of the following program?\n",
    "#    x = 2\n",
    "#    def f(a):\n",
    "#        x = a * a\n",
    "#        return x\n",
    "#    y = f(3)\n",
    "#    print x, y\n",
    "\n",
    "x = 2\n",
    "def f(a):\n",
    "        x = a * a\n",
    "        return x\n",
    "y = f(3)\n",
    "print (x, y)"
   ]
  },
  {
   "cell_type": "code",
   "execution_count": 209,
   "metadata": {},
   "outputs": [
    {
     "name": "stdout",
     "output_type": "stream",
     "text": [
      "True\n",
      "True\n",
      "True\n",
      "False\n"
     ]
    }
   ],
   "source": [
    "#PROBLEM 14: What will be output of the following program?\n",
    "\n",
    "#    print 2 < 3 and 3 > 1\n",
    "#    print 2 < 3 or 3 > 1\n",
    "#    print 2 < 3 or not 3 > 1\n",
    "#    print 2 < 3 and not 3 > 1\n",
    "\n",
    "print (2 < 3 and 3 > 1)\n",
    "print (2 < 3 or 3 > 1)\n",
    "print (2 < 3 or not 3 > 1)\n",
    "print (2 < 3 and not 3 > 1)"
   ]
  },
  {
   "cell_type": "code",
   "execution_count": 218,
   "metadata": {},
   "outputs": [
    {
     "name": "stdout",
     "output_type": "stream",
     "text": [
      "True\n"
     ]
    }
   ],
   "source": [
    "#PROBLEM 15: What will be output of the following program?\n",
    "\n",
    "#    x = 4\n",
    "#    y = 5\n",
    "#    p = x < y or x < z\n",
    "#    print p\n",
    "\n",
    "x = 4\n",
    "y = 5\n",
    "p = x < y or x < z #FALTOU DEFINIR z\n",
    "print(p)"
   ]
  },
  {
   "cell_type": "code",
   "execution_count": 224,
   "metadata": {},
   "outputs": [
    {
     "ename": "SyntaxError",
     "evalue": "can't assign to keyword (<ipython-input-224-1d891c860349>, line 7)",
     "output_type": "error",
     "traceback": [
      "\u001b[0;36m  File \u001b[0;32m\"<ipython-input-224-1d891c860349>\"\u001b[0;36m, line \u001b[0;32m7\u001b[0m\n\u001b[0;31m    True, False = False, True\u001b[0m\n\u001b[0m                             ^\u001b[0m\n\u001b[0;31mSyntaxError\u001b[0m\u001b[0;31m:\u001b[0m can't assign to keyword\n"
     ]
    }
   ],
   "source": [
    "#PROBLEM 16: What will be output of the following program?\n",
    "\n",
    "#    True, False = False, True\n",
    "#    print True, False\n",
    "#    print 2 < 3\n",
    "\n",
    "True, False = False, True\n",
    "print (True, False)\n",
    "print (2 < 3)\n",
    "\n",
    "# A VARIÁVEL TRUE E FALSE SÃO RESERVADAS"
   ]
  },
  {
   "cell_type": "code",
   "execution_count": 230,
   "metadata": {},
   "outputs": [
    {
     "name": "stdout",
     "output_type": "stream",
     "text": [
      "5\n"
     ]
    }
   ],
   "source": [
    "#PROBLEM 17: What happens when the following code is executed? Will it give any error? Explain the reasons.\n",
    "\n",
    "#    x = 2\n",
    "#    if x == 2:\n",
    "#        print x\n",
    "#    else:\n",
    "#        print y\n",
    "\n",
    "x = 2\n",
    "if x == 2:\n",
    "    print (x)\n",
    "else:\n",
    "    print (y)\n",
    "\n",
    "# A VARIÁVEL y não está definida"
   ]
  },
  {
   "cell_type": "code",
   "execution_count": 236,
   "metadata": {},
   "outputs": [
    {
     "ename": "SyntaxError",
     "evalue": "invalid syntax (<ipython-input-236-ff57a08d7f41>, line 12)",
     "output_type": "error",
     "traceback": [
      "\u001b[0;36m  File \u001b[0;32m\"<ipython-input-236-ff57a08d7f41>\"\u001b[0;36m, line \u001b[0;32m12\u001b[0m\n\u001b[0;31m    x+\u001b[0m\n\u001b[0m      ^\u001b[0m\n\u001b[0;31mSyntaxError\u001b[0m\u001b[0;31m:\u001b[0m invalid syntax\n"
     ]
    }
   ],
   "source": [
    "#PROBLEM 18: What happens the following code is executed? Will it give any error? Explain the reasons.\n",
    "#    x = 2\n",
    "#    if x == 2:\n",
    "#        print x\n",
    "#    else:\n",
    "#        x +\n",
    "\n",
    "x = 2\n",
    "if x == 2:\n",
    "    print (x)\n",
    "else:\n",
    "    x+\n",
    "# INCOMPLETO"
   ]
  }
 ],
 "metadata": {
  "kernelspec": {
   "display_name": "Python 3",
   "language": "python",
   "name": "python3"
  },
  "language_info": {
   "codemirror_mode": {
    "name": "ipython",
    "version": 3
   },
   "file_extension": ".py",
   "mimetype": "text/x-python",
   "name": "python",
   "nbconvert_exporter": "python",
   "pygments_lexer": "ipython3",
   "version": "3.7.3"
  }
 },
 "nbformat": 4,
 "nbformat_minor": 2
}
