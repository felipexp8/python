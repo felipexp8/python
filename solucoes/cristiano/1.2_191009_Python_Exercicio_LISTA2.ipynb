{
 "cells": [
  {
   "cell_type": "code",
   "execution_count": 243,
   "metadata": {},
   "outputs": [
    {
     "name": "stdout",
     "output_type": "stream",
     "text": [
      "Smallest element is: 1\n"
     ]
    }
   ],
   "source": [
    "#EXERCICIO 1: Escreva um programa que, dados 2 números diferentes (a e b), encontre o menor deles.\n",
    "\n",
    "a = 1\n",
    "b = 2\n",
    "list = [b, a] \n",
    "  \n",
    "list.sort() \n",
    "\n",
    "print(\"Smallest element is:\", *list1[:1]) "
   ]
  },
  {
   "cell_type": "code",
   "execution_count": 21,
   "metadata": {},
   "outputs": [
    {
     "name": "stdout",
     "output_type": "stream",
     "text": [
      "Qual seu peso? \n",
      "1\n",
      "Qual sua idade? \n",
      "2\n",
      "Dormiu pelo menos 6 h nas ultimas 24 h? \n",
      "S\n",
      "Voce nao pode ser um doador\n"
     ]
    }
   ],
   "source": [
    "# EXERCICIO 2: Para doar sangue é necessário:\n",
    "# Ter entre 16 e 69 anos.\n",
    "# Pesar mais de 50 kg.\n",
    "# Estar descansado (ter dormido pelo menos 6 horas nas últimas 24 horas).\n",
    "# Faça um programa que pergunte a idade, o peso e quanto dormiu nas \n",
    "# últimas 24 h para uma pessoa e diga se ela pode doar sangue ou não.\n",
    "\n",
    "weight = input('Qual seu peso? \\n')\n",
    "age = input('Qual sua idade? \\n')\n",
    "rest = input('Dormiu pelo menos 6 h nas ultimas 24 h? \\n')\n",
    "#rest = str(input('Dormiu pelo menos 6 h nas últimas 24 h (S/N)? \\n'))\n",
    "\n",
    "if int(age) >= 16 and int(age) < 69 and int(weight) > 50 and rest == \"S\":\n",
    "    print (\"Voce pode ser um doador\")\n",
    "\n",
    "else:\n",
    "    print (\"Voce nao pode ser um doador\")"
   ]
  },
  {
   "cell_type": "code",
   "execution_count": 12,
   "metadata": {},
   "outputs": [
    {
     "name": "stdout",
     "output_type": "stream",
     "text": [
      "Considerando uma equação de segundo grau [f(x) = ax² + bx¹ = cx⁰, informe os valores de a, b e c\n",
      "Valor de a \n",
      "1\n",
      "Valor de b \n",
      "2\n",
      "Valor de c \n",
      "30\n",
      "A equação não possui raizes reais.\n"
     ]
    }
   ],
   "source": [
    "# EXERCICIO 3: Considere uma equação do segundo grau f(x)=a⋅x2+b⋅x+c.\n",
    "#A partir dos coeficientes, determine se a equação possui duas raízes reais, uma, ou se não possui.\n",
    "import math\n",
    "\n",
    "print(\"Considerando uma equação de segundo grau [f(x) = ax² + bx¹ = cx⁰, informe os valores de a, b e c\")\n",
    "a = int(input('Valor de a \\n'))\n",
    "b = int(input('Valor de b \\n'))\n",
    "c = int(input('Valor de c \\n'))\n",
    "delta = b*b - 4 * a * c\n",
    "\n",
    "if delta < 0:\n",
    "    print(\"A equação não possui raizes reais.\")\n",
    "elif delta == 0:\n",
    "    raiz = (-1*b + math.sqrt(delta))/(2 * a)\n",
    "    print(\"A equacao possui apenas uma raiz que e \",raiz)\n",
    "elif delta > 0:\n",
    "    raiz1 =(-1*b + math.sqrt(float(delta))/(2 * a))\n",
    "    raiz2 =(-1*b + math.sqrt(float(delta))/(2 * a))\n",
    "    print(\"As raizes da equacao sao \",raiz1, \"e\",raiz2)"
   ]
  },
  {
   "cell_type": "code",
   "execution_count": 8,
   "metadata": {},
   "outputs": [
    {
     "name": "stdout",
     "output_type": "stream",
     "text": [
      "Digite o primeiro numero \n",
      "1\n",
      "Digite o segundo numero \n",
      "10\n",
      "6\n"
     ]
    }
   ],
   "source": [
    "# EXERCICIO 4: Leia dois números e efetue a adição. Caso o valor somado seja maior que 20,\n",
    "# este deverá ser apresentado somando-se a ele mais 8;\n",
    "# caso o valor somado seja menor ou igual a 20, este deverá ser apresentado subtraindo-se 5.\n",
    "\n",
    "n1 = input('Digite o primeiro numero \\n')\n",
    "n2 = input('Digite o segundo numero \\n')\n",
    "\n",
    "n3 = int(n1) + int(n2)\n",
    "n4 = int(n3) + 8\n",
    "n5 = int(n3) - 5\n",
    "if n3 > 20:\n",
    "    print (n4)\n",
    "else:\n",
    "    print (n5)"
   ]
  },
  {
   "cell_type": "code",
   "execution_count": 17,
   "metadata": {},
   "outputs": [
    {
     "name": "stdout",
     "output_type": "stream",
     "text": [
      "Digite um numero \n",
      "10\n",
      "3.1622776601683795\n"
     ]
    }
   ],
   "source": [
    "# EXERCICIO 5: Leia um número e imprima a raiz quadrada do número caso ele seja positivo\n",
    "# ou igual a zero e o quadrado do número caso ele seja negativo.\n",
    "import math\n",
    "\n",
    "n1 = input('Digite um numero \\n')\n",
    "n2 = math.sqrt(float(n1))\n",
    "\n",
    "if n2 >= 0:\n",
    "    print (n2)\n",
    "else:\n",
    "    print (\"0\")"
   ]
  },
  {
   "cell_type": "code",
   "execution_count": 11,
   "metadata": {},
   "outputs": [
    {
     "name": "stdout",
     "output_type": "stream",
     "text": [
      "Digite um numero \n",
      "2\n",
      "1.4142135623730951\n"
     ]
    }
   ],
   "source": [
    "# EXERCICIO 6: Leia um número inteiro entre 1 e 12 e escreva o mês correspondente.\n",
    "# Caso o usuário digite um número fora desse intervalo, deverá aparecer uma mensagem informando \n",
    "# que não existe mês com este número.\n",
    "\n",
    "import math\n",
    "\n",
    "n1 = input('Digite um numero \\n')\n",
    "n2 = math.sqrt(float(n1))\n",
    "\n",
    "if n2 >= 0:\n",
    "    print (n2)\n",
    "else:\n",
    "    print (\"0\")"
   ]
  },
  {
   "cell_type": "code",
   "execution_count": null,
   "metadata": {},
   "outputs": [],
   "source": []
  }
 ],
 "metadata": {
  "kernelspec": {
   "display_name": "Python 3",
   "language": "python",
   "name": "python3"
  },
  "language_info": {
   "codemirror_mode": {
    "name": "ipython",
    "version": 3
   },
   "file_extension": ".py",
   "mimetype": "text/x-python",
   "name": "python",
   "nbconvert_exporter": "python",
   "pygments_lexer": "ipython3",
   "version": "3.7.3"
  }
 },
 "nbformat": 4,
 "nbformat_minor": 2
}
