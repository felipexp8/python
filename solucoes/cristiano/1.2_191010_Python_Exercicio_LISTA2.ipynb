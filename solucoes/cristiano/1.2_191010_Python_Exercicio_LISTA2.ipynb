{
 "cells": [
  {
   "cell_type": "code",
   "execution_count": 7,
   "metadata": {},
   "outputs": [
    {
     "name": "stdout",
     "output_type": "stream",
     "text": [
      "Largest element is: 2\n"
     ]
    }
   ],
   "source": [
    "#EXERCICIO 1: Write a function that returns the maximum of two numbers.\n",
    "\n",
    "a = 1\n",
    "b = 2\n",
    "list = [b, a] \n",
    "  \n",
    "list.sort() \n",
    "\n",
    "print(\"Largest element is:\", list[-1])\n",
    "\n",
    "#Se usar a funcao max não precisa ordenar por sort\n",
    "#print(\"Largest element is:\", max(list))"
   ]
  },
  {
   "cell_type": "code",
   "execution_count": 4,
   "metadata": {},
   "outputs": [
    {
     "data": {
      "text/plain": [
       "2"
      ]
     },
     "execution_count": 4,
     "metadata": {},
     "output_type": "execute_result"
    }
   ],
   "source": [
    "#PROBLEMA 1\n",
    "\n",
    "def max(num1, num2):\n",
    "    if(num1 < num2):\n",
    "        return(num1)\n",
    "    else:\n",
    "        return(num2)\n",
    "    \n",
    "max(2, 3)"
   ]
  },
  {
   "cell_type": "code",
   "execution_count": 4,
   "metadata": {},
   "outputs": [
    {
     "name": "stdout",
     "output_type": "stream",
     "text": [
      "Enter your number:5\n",
      "5 is divisible by 5\n"
     ]
    }
   ],
   "source": [
    "# EXERCICIO 2: Write a function called fizz_buzz that takes a number.\n",
    "#If the number is divisible by 3, it should return “Fizz”.\n",
    "#If it is divisible by 5, it should return “Buzz”.\n",
    "#If it is divisible by both 3 and 5, it should return “FizzBuzz”.\n",
    "#Otherwise, it should return the same number.\n",
    "\n",
    "num=int(input(\"Enter your number:\"))\n",
    "\n",
    "def fizz_buzz(num):\n",
    "    if(num%3==0) and (num%5==0):\n",
    "        print(\"{} is divisible by 3 and by 5\".format(num))\n",
    "    elif(num%3==0):\n",
    "        print(\"{} is divisible by 3\".format(num))\n",
    "    elif(num%5==0):\n",
    "        print(\"{} is divisible by 5\".format(num))\n",
    "fizz_buzz(num)"
   ]
  },
  {
   "cell_type": "code",
   "execution_count": 1,
   "metadata": {},
   "outputs": [
    {
     "name": "stdout",
     "output_type": "stream",
     "text": [
      "Enter your number:5\n",
      "Buzz\n"
     ]
    }
   ],
   "source": [
    "# EXERCICIO 2: Write a function called fizz_buzz that takes a number.\n",
    "#If the number is divisible by 3, it should return “Fizz”.\n",
    "#If it is divisible by 5, it should return “Buzz”.\n",
    "#If it is divisible by both 3 and 5, it should return “FizzBuzz”.\n",
    "#Otherwise, it should return the same number.\n",
    "\n",
    "num=int(input(\"Enter your number:\"))\n",
    "\n",
    "def fizz_buzz(num):\n",
    "    if(num%3==0) and (num%5==0):\n",
    "        print(\"FizzBuzz\".format(num))\n",
    "    elif(num%3==0):\n",
    "        print(\"Fizz\".format(num))\n",
    "    elif(num%5==0):\n",
    "        print(\"Buzz\".format(num))\n",
    "fizz_buzz(num)"
   ]
  },
  {
   "cell_type": "code",
   "execution_count": 7,
   "metadata": {},
   "outputs": [
    {
     "name": "stdout",
     "output_type": "stream",
     "text": [
      "Enter the driver's speed \n",
      "90\n",
      "Points received 4\n"
     ]
    }
   ],
   "source": [
    "# EXERCICIO 3: Write a function for checking the speed of drivers. This function should have one parameter: speed.\n",
    "#If speed is less than 70, it should print “Ok”.\n",
    "#Otherwise, for every 5km above the speed limit (70), it should give the driver one demerit point and print\n",
    "#the total number of demerit points. For example, if the speed is 80, it should print: “Points: 2”.\n",
    "#If the driver gets more than 12 points, the function should print: “License suspended”\n",
    "\n",
    "dspeed=float(input(\"Enter the driver's speed \\n\"))\n",
    "\n",
    "def speed(num):\n",
    "    if dspeed <= 70:\n",
    "        print(\"OK\")\n",
    "    elif dspeed >= 135:\n",
    "        print(\"License suspended\")\n",
    "    else:\n",
    "        check = int((dspeed - 70) //5)\n",
    "        print(\"Points received:\", check)\n",
    "    return\n",
    "speed(135)"
   ]
  },
  {
   "cell_type": "code",
   "execution_count": 2,
   "metadata": {},
   "outputs": [
    {
     "name": "stdout",
     "output_type": "stream",
     "text": [
      "3\n"
     ]
    }
   ],
   "source": [
    "# EXERCICIO 4: Write a function called showNumbers that takes a parameter called limit.\n",
    "# It should print all the numbers between 0 and limit with a label to identify the even and odd numbers. \n",
    "# For example, if the limit is 3, it should print:\n",
    "#0 EVEN\n",
    "#1 ODD\n",
    "#2 EVEN\n",
    "#3 ODD\n",
    "\n",
    "def showNumbers(limit):\n",
    "\n",
    "\n",
    "    showNumbers(3)\n",
    "print(3)"
   ]
  },
  {
   "cell_type": "code",
   "execution_count": 27,
   "metadata": {},
   "outputs": [
    {
     "name": "stdout",
     "output_type": "stream",
     "text": [
      "3\n",
      "8\n"
     ]
    }
   ],
   "source": [
    "# EXERCICIO 5: Write a function that returns the sum of multiples of 3 and 5 between 0 and limit (parameter). \n",
    "#For example, if limit is 20, it should return the sum of 3, 5, 6, 9, 10, 12, 15, 18, 20.\n",
    "\n",
    "nums = [3, 5]\n",
    "limit = 5\n",
    "\n",
    "result = 0\n",
    "for num in nums:\n",
    "    for i in range(1,limit+1):\n",
    "        if num*i < limit:\n",
    "            result += num*i\n",
    "print (result)\n",
    "\n",
    "\n",
    "result = 0\n",
    "for i in range(0,limit+1):\n",
    "    if i%3 == 0 or i%5 == 0:\n",
    "        result += i\n",
    "\n",
    "print (result)"
   ]
  },
  {
   "cell_type": "code",
   "execution_count": 24,
   "metadata": {},
   "outputs": [
    {
     "name": "stdout",
     "output_type": "stream",
     "text": [
      "Give me a number \n",
      "3\n",
      "\n",
      "*\n",
      "**\n",
      "***\n"
     ]
    }
   ],
   "source": [
    "# EXERCICIO 6: Write a function called show_stars(rows). If rows is 5, it should print the following:\n",
    "#*\n",
    "#**\n",
    "#***\n",
    "#****\n",
    "#*****\n",
    "\n",
    "rows = int(input (\"Give me a number \\n\"))\n",
    "\n",
    "def show_stars(rows): \n",
    "    myList = []\n",
    "    for i in range(0, rows+1): \n",
    "        myList.append(\"*\"*i)\n",
    "    print(\"\\n\".join(myList))\n",
    "\n",
    "show_stars(rows)"
   ]
  },
  {
   "cell_type": "code",
   "execution_count": 5,
   "metadata": {},
   "outputs": [
    {
     "name": "stdout",
     "output_type": "stream",
     "text": [
      "Give me a number \n",
      "5\n",
      "Prime numbers: [2, 3, 5]\n",
      "Not prime numbers: [0, 1, 4]\n"
     ]
    }
   ],
   "source": [
    "# EXERCICIO 7: Write a function that prints all the prime numbers between 0 and limit where limit is a parameter.\n",
    "\n",
    "num = int(input (\"Give me a number \\n\"))\n",
    "\n",
    "lista = []\n",
    "lista2 = []\n",
    "\n",
    "for val in range(0, num+1):\n",
    "    if val > 1:\n",
    "        for i in range (2, val):\n",
    "            if (val % i) == 0:\n",
    "                lista2.append(val)\n",
    "                break\n",
    "        else:\n",
    "            lista.append(val)\n",
    "    else:\n",
    "        lista2.append(val)\n",
    "print(\"Prime numbers:\", lista)\n",
    "print(\"Not prime numbers:\", lista2)"
   ]
  },
  {
   "cell_type": "code",
   "execution_count": 3,
   "metadata": {},
   "outputs": [
    {
     "name": "stdout",
     "output_type": "stream",
     "text": [
      "1 \r\n",
      "1 2 \r\n",
      "1 2 3 \r\n",
      "1 2 3 4 \r\n",
      "1 2 3 4 5 \r\n",
      "1 2 3 4 5 6 \r\n",
      "1 2 3 4 5 6 7 \r\n",
      "1 2 3 4 5 6 7 8 \r\n",
      "1 2 3 4 5 6 7 8 9 \r\n",
      "1 2 3 4 5 6 7 8 9 10 \r\n"
     ]
    }
   ],
   "source": [
    "# Python 3.x code to demonstrate star pattern \n",
    "\n",
    "# Function to demonstrate printing pattern of numbers \n",
    "def numpat(n): \n",
    "\t\n",
    "\t# initialising starting number \n",
    "\tnum = 1\n",
    "\n",
    "\t# outer loop to handle number of rows \n",
    "\tfor i in range(0, n): \n",
    "\t\n",
    "\t\t# re assigning num \n",
    "\t\tnum = 1\n",
    "\t\n",
    "\t\t# inner loop to handle number of columns \n",
    "\t\t\t# values changing acc. to outer loop \n",
    "\t\tfor j in range(0, i+1): \n",
    "\t\t\n",
    "\t\t\t\t# printing number \n",
    "\t\t\tprint(num, end=\" \") \n",
    "\t\t\n",
    "\t\t\t# incrementing number at each column \n",
    "\t\t\tnum = num + 1\n",
    "\t\n",
    "\t\t# ending line after each row \n",
    "\t\tprint(\"\\r\") \n",
    "\n",
    "# Driver code \n",
    "n = 10\n",
    "numpat(n) \n"
   ]
  },
  {
   "cell_type": "code",
   "execution_count": 9,
   "metadata": {},
   "outputs": [
    {
     "name": "stdout",
     "output_type": "stream",
     "text": [
      "John#Peter#Vicky\n"
     ]
    }
   ],
   "source": [
    "myTuple = (\"John\", \"Peter\", \"Vicky\")\n",
    "\n",
    "x = \"#\".join(myTuple)\n",
    "\n",
    "print(x)"
   ]
  },
  {
   "cell_type": "code",
   "execution_count": 29,
   "metadata": {},
   "outputs": [
    {
     "name": "stdout",
     "output_type": "stream",
     "text": [
      "* \n",
      "** \n",
      "*** \n",
      "**** \n",
      "***** \n"
     ]
    }
   ],
   "source": [
    "def show_stars(rows): \n",
    "    aux = 1\n",
    "    for i in range(rows): \n",
    "            for x in range (aux):\n",
    "                print(\"*\", end = \"\")\n",
    "            print(\" \")\n",
    "            aux = aux + 1\n",
    "\n",
    "show_stars(5)"
   ]
  },
  {
   "cell_type": "code",
   "execution_count": 46,
   "metadata": {},
   "outputs": [
    {
     "name": "stdout",
     "output_type": "stream",
     "text": [
      "<class 'int'>\n",
      "*\n",
      "**\n",
      "***\n",
      "****\n",
      "*****\n"
     ]
    }
   ],
   "source": [
    "def shows(rows):\n",
    "    print(type(rows))\n",
    "    i = 0\n",
    "    var = \"\"\n",
    "    while i < rows:\n",
    "        var = var+\"*\"\n",
    "        print(var)\n",
    "        i += 1\n",
    "shows(5)  "
   ]
  },
  {
   "cell_type": "code",
   "execution_count": 45,
   "metadata": {},
   "outputs": [
    {
     "name": "stdout",
     "output_type": "stream",
     "text": [
      "     *\n",
      "    * *\n",
      "   * * *\n",
      "  * * * *\n",
      " * * * * *\n"
     ]
    }
   ],
   "source": [
    "N = 5\n",
    "print('\\n'.join([\" \" * (N-i) + \" *\" * i for i in range(1,N+1)]))"
   ]
  },
  {
   "cell_type": "code",
   "execution_count": null,
   "metadata": {},
   "outputs": [],
   "source": []
  }
 ],
 "metadata": {
  "kernelspec": {
   "display_name": "Python 3",
   "language": "python",
   "name": "python3"
  },
  "language_info": {
   "codemirror_mode": {
    "name": "ipython",
    "version": 3
   },
   "file_extension": ".py",
   "mimetype": "text/x-python",
   "name": "python",
   "nbconvert_exporter": "python",
   "pygments_lexer": "ipython3",
   "version": "3.7.3"
  }
 },
 "nbformat": 4,
 "nbformat_minor": 2
}
