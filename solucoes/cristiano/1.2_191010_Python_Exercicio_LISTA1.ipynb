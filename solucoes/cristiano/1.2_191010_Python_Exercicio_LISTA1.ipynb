{
 "cells": [
  {
   "cell_type": "code",
   "execution_count": 22,
   "metadata": {},
   "outputs": [
    {
     "name": "stdout",
     "output_type": "stream",
     "text": [
      "[0, 1, [2]]\n",
      "[0, 1, [3]]\n",
      "[0, 1, [3, 4]]\n",
      "[0, 1, 2]\n"
     ]
    }
   ],
   "source": [
    "#problem 1: What will be the output of the following program?\n",
    "\n",
    "x = [0, 1, [2]]\n",
    "print (x)\n",
    "\n",
    "x[2][0] = 3\n",
    "print (x)\n",
    "\n",
    "x[2].append(4)\n",
    "print (x)\n",
    "\n",
    "x[2] = 2\n",
    "print (x)\n",
    "\n",
    "# 1: Foi criado um array com um array dentro. Foi trocada a variável na posição especificada [0][2],\n",
    "# mudando o número de 2 para 3.\n",
    "\n",
    "# 2: append adiciona o valor ao final do array"
   ]
  },
  {
   "cell_type": "code",
   "execution_count": 1,
   "metadata": {},
   "outputs": [
    {
     "name": "stdout",
     "output_type": "stream",
     "text": [
      "Enter Number to calculate sum: 4\n",
      "SUM of first 4 numbers is:  10\n"
     ]
    }
   ],
   "source": [
    "#problem 2: Python has a built-in function sum to find sum of all elements of a list.\n",
    "# Provide an implementation for sum.\n",
    "\n",
    "n = int(input(\"Enter Number to calculate sum: \"))\n",
    "sum = 0\n",
    "\n",
    "for num in range(0,n+1,1):\n",
    "    sum = sum+num\n",
    "\n",
    "print(\"SUM of first\", n,\"numbers is: \", sum )"
   ]
  },
  {
   "cell_type": "code",
   "execution_count": 74,
   "metadata": {},
   "outputs": [
    {
     "name": "stdout",
     "output_type": "stream",
     "text": [
      "['abcd', 'efgh', 'ijkl']\n",
      "['efgh', 'ijkl']\n",
      "['ijkl']\n"
     ]
    }
   ],
   "source": [
    "word = [\"abcd\", \"efgh\", \"ijkl\"]\n",
    "\n",
    "for i in range(0, len(word)):\n",
    "    print(word[i:i+3])"
   ]
  },
  {
   "cell_type": "code",
   "execution_count": 14,
   "metadata": {},
   "outputs": [
    {
     "name": "stdout",
     "output_type": "stream",
     "text": [
      "Input 1:hello\n",
      "Input 2:world\n",
      "Result = helloworld\n"
     ]
    }
   ],
   "source": [
    "#problem 3: What happens when the above sum function is called with a list of strings?\n",
    "#Can you make your sum function work for a list of strings as well?\n",
    "\n",
    "\n",
    "#sum([\"hello\", \"world\"])\n",
    "\n",
    "#sum([\"aa\", \"bb\", \"cc\"])\n",
    "\n",
    "#NAO FUNCIONA. PRECISA SOMAR DA FORMA CONVENCIONAL\n",
    "\n",
    "s1 = str(input('Input 1:'))\n",
    "s2 = str(input('Input 2:'))\n",
    "\n",
    "print('Result =', s1 + s2)\n"
   ]
  },
  {
   "cell_type": "code",
   "execution_count": 3,
   "metadata": {},
   "outputs": [
    {
     "name": "stdout",
     "output_type": "stream",
     "text": [
      "6\n"
     ]
    }
   ],
   "source": [
    "#problem 4: Implement a function product, to compute product of a list of numbers.\n",
    "\n",
    "\n",
    "lista = [1, 2, 3]\n",
    "result = 1\n",
    "for x in lista:\n",
    "    result = result * x\n",
    "print(result)"
   ]
  },
  {
   "cell_type": "code",
   "execution_count": 5,
   "metadata": {},
   "outputs": [
    {
     "name": "stdout",
     "output_type": "stream",
     "text": [
      "The factorial of 3 is : 6\n"
     ]
    }
   ],
   "source": [
    "#problem 5: Write a function factorial to compute factorial of a number.\n",
    "#Can you use the product function defined in the previous example to compute factorial?\n",
    "\n",
    "n = 3\n",
    "fact = 1\n",
    "  \n",
    "for i in range(1,n+1): \n",
    "    fact = fact * i \n",
    "      \n",
    "print (\"The factorial of\", n, \"is :\", fact) "
   ]
  },
  {
   "cell_type": "code",
   "execution_count": 28,
   "metadata": {},
   "outputs": [
    {
     "name": "stdout",
     "output_type": "stream",
     "text": [
      "[1, 2, 3, 4, 5]\n",
      "[5, 4, 3, 2, 1]\n",
      "[1, 2, 3, 4, 5]\n",
      "[5, 4, 3, 2, 1]\n",
      "[5, 4, 3, 2, 1] [1, 2, 3, 4, 5]\n",
      "lista2: \n",
      " [5, 4, 3, 2, 1]\n"
     ]
    }
   ],
   "source": [
    "# problem 6: Write a function reverse to reverse a list. Can you do this without using list slicing?\n",
    "\n",
    "lista = [1, 2, 3, 4, 5]\n",
    "print(lista)\n",
    "lista.reverse()\n",
    "print(lista)\n",
    "\n",
    "lista.reverse()\n",
    "print(lista)\n",
    "\n",
    "print(lista[::-1])\n",
    "print(lista[::-1], lista[::-1][::-1])\n",
    "lista2 = lista[::-1]\n",
    "print(\"lista2: \\n\", lista2)"
   ]
  },
  {
   "cell_type": "code",
   "execution_count": 23,
   "metadata": {},
   "outputs": [
    {
     "name": "stdout",
     "output_type": "stream",
     "text": [
      "['z', 'o', 'c', 'a', '2']\n",
      "['2', 'a', 'c', 'o', 'z']\n",
      "The first and last element of list are : ['2', 'z']\n"
     ]
    }
   ],
   "source": [
    "# problem 7: Python has built-in functions min and max to compute minimum and maximum of a given list.Provide an\n",
    "#implementation for these functions. What happens when you call your min and max functions with a list of strings?\n",
    "\n",
    "\n",
    "#NAO FUNCIONA PORQUE MAX E MIN SÓ FUNCIONA EM NUMEROS. PARA STRING É PRECISO ORDENAR.\n",
    "\n",
    "lista = [\"z\", \"a\", \"c\", \"o\", \"2\"]\n",
    "\n",
    "lista.sort(reverse=True)\n",
    "print(lista)\n",
    "\n",
    "lista.sort()\n",
    "print(lista)\n",
    "\n",
    "res = [ lista[0], lista[-1] ]  \n",
    "  \n",
    "# printing result \n",
    "print (\"The first and last element of list are : \" +  str(res))"
   ]
  },
  {
   "cell_type": "code",
   "execution_count": 3,
   "metadata": {},
   "outputs": [
    {
     "name": "stdout",
     "output_type": "stream",
     "text": [
      "[2, 7, 14, 25, 27, 117, 121440]\n"
     ]
    }
   ],
   "source": [
    "# problem 8: Cumulative sum of a list [a, b, c, ...] is defined as [a, a+b, a+b+c, ...].\n",
    "# Write a function cumulative_sum to compute cumulative sum of a list.\n",
    "# Does your implementation work for a list of strings?\n",
    "\n",
    "entryList = [2, 5, 7, 11, 2, 90, 121323]\n",
    "#entryList = [\"a\", \"b\"] - SOMA NÃO FUNCIONA COM STRING\n",
    "\n",
    "cumulativeSum = []\n",
    "x = 0\n",
    "\n",
    "for i in entryList:\n",
    "    x = x + i\n",
    "    cumulativeSum.append(x)\n",
    "#    print(i)\n",
    "print(cumulativeSum)"
   ]
  },
  {
   "cell_type": "code",
   "execution_count": 17,
   "metadata": {},
   "outputs": [
    {
     "name": "stdout",
     "output_type": "stream",
     "text": [
      "entryList:  [1, 2, 3, 4]\n",
      "cumulative List:  [1, 2, 6, 24]\n",
      "entryList:  [4, 3, 2, 1]\n",
      "cumulative List:  [4, 12, 24, 24]\n"
     ]
    }
   ],
   "source": [
    "# problem 9: Write a function cumulative_product to compute cumulative product \n",
    "# of a list of numbers.\n",
    "\n",
    "entryList = [1, 2, 3, 4]\n",
    "\n",
    "\n",
    "def cumulative():\n",
    "\n",
    "    print(\"entryList: \", entryList)\n",
    "    cumulativeProduct = []\n",
    "    x = 1\n",
    "\n",
    "    for i in entryList:\n",
    "        x = x * i\n",
    "        cumulativeProduct.append(x)\n",
    "    #    print(i)\n",
    "    print(\"cumulative List: \", cumulativeProduct)\n",
    "\n",
    "cumulative()\n",
    "entryList.reverse()\n",
    "cumulative()\n"
   ]
  },
  {
   "cell_type": "code",
   "execution_count": 2,
   "metadata": {},
   "outputs": [
    {
     "name": "stdout",
     "output_type": "stream",
     "text": [
      "unique numbers:  [1, 2, 5, 6, 67]\n"
     ]
    }
   ],
   "source": [
    "#problem 10: Write a function unique to find all the unique elements of a list.\n",
    "\n",
    "entryList = [1, 2, 5, 67, 67, 67, 2, 5, 6, 6]\n",
    "finalList = []\n",
    "\n",
    "def unique():\n",
    "    for x in entryList:\n",
    "        if x not in finalList:\n",
    "            finalList.append(x)\n",
    "    finalList.sort()\n",
    "    print (\"unique numbers: \", finalList)\n",
    "unique()"
   ]
  },
  {
   "cell_type": "code",
   "execution_count": 20,
   "metadata": {},
   "outputs": [
    {
     "name": "stdout",
     "output_type": "stream",
     "text": [
      "Entry list: [6, 7, 11, 15, 15, 20, 20, 20, 30, 30, 40, 40, 50, 50]\n",
      "Unique List: [6, 7, 11, 15, 20, 30, 40, 50]\n",
      "Duplicated List: [15, 20, 30, 40, 50]\n"
     ]
    }
   ],
   "source": [
    "# problem 11: Write a function dups to find all duplicates in the list.\n",
    "# dups([1, 2, 1, 3, 2, 5])\n",
    "# [1, 2]\n",
    "\n",
    "entryList = [20,30,20,30,40,50,15,11,20,40,50,15,6,7]\n",
    " \n",
    "entryList.sort()\n",
    "print(\"Entry list:\", entryList)\n",
    " \n",
    "new_list = sorted(set(entryList))\n",
    "print(\"Unique List:\", new_list)\n",
    "dup_list =[]\n",
    " \n",
    "for i in range(len(new_list)):\n",
    "        if (my_list.count(new_list[i]) > 1 ):\n",
    "            dup_list.append(new_list[i])\n",
    "        \n",
    "print(\"Duplicated List:\", dup_list) "
   ]
  },
  {
   "cell_type": "code",
   "execution_count": 26,
   "metadata": {},
   "outputs": [
    {
     "name": "stdout",
     "output_type": "stream",
     "text": [
      "{6, 7, 40, 11, 15, 50, 20, 30}\n",
      "[20, 30, 20, 40, 50, 15]\n"
     ]
    }
   ],
   "source": [
    "# problem 11: Write a function dups to find all duplicates in the list.\n",
    "# dups([1, 2, 1, 3, 2, 5])\n",
    "# [1, 2]\n",
    "\n",
    "lista = [20,30,20,30,40,50,15,11,20,40,50,15,6,7]\n",
    "seen = set()\n",
    "unique = []\n",
    "\n",
    "for x in lista:\n",
    "    if x not in seen:\n",
    "        seen.add(x)\n",
    "    else:\n",
    "        unique.append(x)\n",
    "print(seen)\n",
    "print(unique)"
   ]
  },
  {
   "cell_type": "code",
   "execution_count": 28,
   "metadata": {},
   "outputs": [
    {
     "name": "stdout",
     "output_type": "stream",
     "text": [
      "[[1, 2, 3], [4, 5, 6], [7, 8, 9]]\n"
     ]
    }
   ],
   "source": [
    "#problem 12: Write a function group(list, size) that take a list and splits into smaller lists of given size.\n",
    "#    >>> group([1, 2, 3, 4, 5, 6, 7, 8, 9], 3)\n",
    "#    [[1, 2, 3], [4, 5, 6], [7, 8, 9]]\n",
    "#    >>> group([1, 2, 3, 4, 5, 6, 7, 8, 9], 4)\n",
    "#    [[1, 2, 3, 4], [5, 6, 7, 8], [9]]    \n",
    "\n",
    "def group(entryList):\n",
    "    result = [1, 2, 3, 4, 5, 6, 7, 8, 9]\n",
    "    lenght = 3\n",
    "    \n",
    "    print([result[j:j+lenght] for j in range(0, len(result), lenght)])\n",
    "\n",
    "group(entryList)"
   ]
  },
  {
   "cell_type": "markdown",
   "metadata": {},
   "source": [
    "### Problem 14: Write a function `lensort` to sort a list of strings based on length.\n",
    "\n",
    "\n",
    "    >>> lensort(['python', 'perl', 'java', 'c', 'haskell', 'ruby'])\n",
    "    ['c', 'perl', 'java', 'ruby', 'python', 'haskell']"
   ]
  },
  {
   "cell_type": "code",
   "execution_count": 6,
   "metadata": {},
   "outputs": [
    {
     "name": "stdout",
     "output_type": "stream",
     "text": [
      "['python', 'perl', 'java', 'c', 'haskell', 'ruby']\n",
      "['c', 'haskell', 'java', 'perl', 'python', 'ruby']\n"
     ]
    }
   ],
   "source": [
    "lista1 = ['python', 'perl', 'java', 'c', 'haskell', 'ruby']\n",
    "\n",
    "def lensort(lista1):\n",
    "    lista2 = sorted(lista1, key = len)\n",
    "    return lista2\n",
    "print(lista1)\n",
    "print(lensort(lista1))"
   ]
  },
  {
   "cell_type": "markdown",
   "metadata": {},
   "source": [
    "### Problem 15:\n",
    "\n",
    "#### Improve the unique function written in previous problems to take an optional key function as argument and use the return value of the key function to check for uniqueness.\n",
    "\n",
    "unique([\"python\", \"java\", \"Python\", \"Java\"], key=lambda s:s.lower())\n",
    "\n",
    "[\"python\", \"java\"]"
   ]
  },
  {
   "cell_type": "code",
   "execution_count": 7,
   "metadata": {},
   "outputs": [
    {
     "name": "stdout",
     "output_type": "stream",
     "text": [
      "['python', 'java', 'Python', 'Java']\n",
      "['python', 'java']\n"
     ]
    }
   ],
   "source": [
    "# 15 # FALTA FAZER\n",
    "lista = [\"python\", \"java\", \"Python\", \"Java\"]\n",
    "\n",
    "import copy\n",
    "def uniqueString(vector):\n",
    "    vectorOriginal = copy.deepcopy(vector)\n",
    "    print(vectorOriginal)\n",
    "    dupVector = []\n",
    "    for i in range(len(vector)):\n",
    "        for j in range(i, len(vector)-1):\n",
    "            if vector[j+1].lower() == vector[i].lower():\n",
    "                dupVector.append(vector[i])\n",
    "    return dupVector\n",
    "    \n",
    "print(uniqueString(lista))"
   ]
  },
  {
   "cell_type": "markdown",
   "metadata": {},
   "source": [
    "### Problem 16:\n",
    "#### Reimplement the unique function implemented in the earlier examples using sets."
   ]
  },
  {
   "cell_type": "code",
   "execution_count": 42,
   "metadata": {},
   "outputs": [
    {
     "name": "stdout",
     "output_type": "stream",
     "text": [
      "{2, 5}\n",
      "{1, 2, 5}\n"
     ]
    }
   ],
   "source": [
    "entryList = [1, 2, 2, 5, 5]\n",
    "\n",
    "seen = set()\n",
    "uniq = set()\n",
    "for x in entryList:\n",
    "    if x not in seen:\n",
    "        seen.add(x)\n",
    "    else:\n",
    "        uniq.add(x)\n",
    "print(uniq)\n",
    "print(seen)\n",
    "\n",
    "# SET é covardia. Ele organiza os itens únicos de um conjunto\n",
    "# excludindo repetidos"
   ]
  },
  {
   "cell_type": "code",
   "execution_count": 35,
   "metadata": {},
   "outputs": [
    {
     "name": "stdout",
     "output_type": "stream",
     "text": [
      "[5, 23, 7]\n"
     ]
    }
   ],
   "source": [
    "# Python code to illustrate filter() with lambda() \n",
    "lista = [5, 23, 22, 7]\n",
    "lista_impares = list(filter(lambda x: (x%2 != 0), lista))\n",
    "print(lista_impares)"
   ]
  },
  {
   "cell_type": "markdown",
   "metadata": {},
   "source": [
    "### Problem 17:\n",
    "#### Write a function extsort to sort a list of files based on extension.\n",
    "\n",
    "    >>> extsort(['a.c', 'a.py', 'b.py', 'bar.txt', 'foo.txt', 'x.c'])\n",
    "    ['a.c', 'x.c', 'a.py', 'b.py', 'bar.txt', 'foo.txt']"
   ]
  },
  {
   "cell_type": "code",
   "execution_count": 1,
   "metadata": {},
   "outputs": [
    {
     "name": "stdout",
     "output_type": "stream",
     "text": [
      "['a.c', 'a.py', 'b.py', 'bar.txt', 'foo.txt', 'x.c']\n",
      "['a.c', 'x.c', 'a.py', 'b.py', 'bar.txt', 'foo.txt']\n"
     ]
    }
   ],
   "source": [
    "lista = ['a.c', 'a.py', 'b.py', 'bar.txt', 'foo.txt', 'x.c']\n",
    "\n",
    "teste0 = []\n",
    "teste1 = []\n",
    "for s in lista:\n",
    "    a = s.split(\".\")\n",
    "    teste0.append(a[1]+\".\"+a[0])\n",
    "\n",
    "print(lista)\n",
    "teste0.sort()\n",
    "\n",
    "for s in teste0:\n",
    "    a = s.split(\".\")\n",
    "    teste1.append(a[1]+\".\"+a[0])\n",
    "print(teste1)"
   ]
  },
  {
   "cell_type": "code",
   "execution_count": 54,
   "metadata": {},
   "outputs": [
    {
     "name": "stdout",
     "output_type": "stream",
     "text": [
      "['a.c', 'a.py', 'b.py', 'bar.txt', 'foo.txt', 'x.c']\n"
     ]
    }
   ],
   "source": [
    "def sortex(listagem):\n",
    "    return listagem.sort(key=lambda x: x.split(\".\")[1])\n",
    "\n",
    "listagem = ['a.c', 'a.py', 'b.py', 'bar.txt', 'foo.txt', 'x.c']\n",
    "\n",
    "print((listagem))"
   ]
  },
  {
   "cell_type": "code",
   "execution_count": 55,
   "metadata": {},
   "outputs": [
    {
     "name": "stdout",
     "output_type": "stream",
     "text": [
      "['a.c', 'x.c', 'C.py', 'b.py', 'bar.txt', 'foo.txt']\n"
     ]
    }
   ],
   "source": [
    "files_list = ['a.c', 'C.py', 'b.py', 'bar.txt', 'foo.txt', 'x.c']\n",
    "\n",
    "def takefile(param1):\n",
    "    extensao = param1.split(\".\")\n",
    "    return(extensao[1]) \n",
    "\n",
    "\n",
    "def extsort(lista):\n",
    "    lista.sort(key=takefile)\n",
    "    print(lista)\n",
    "\n",
    "extsort(files_list)"
   ]
  },
  {
   "cell_type": "markdown",
   "metadata": {},
   "source": [
    "### Problem 18:\n",
    "#### Write a program `reverse.py` to print lines of a file in reverse order.\n",
    "\n",
    "      $ cat she.txt\n",
    "      She sells seashells on the seashore;\n",
    "      The shells that she sells are seashells I'm sure.\n",
    "      So if she sells seashells on the seashore,\n",
    "      I'm sure that the shells are seashore shells.\n",
    "\n",
    "      $ python reverse.py she.txt\n",
    "      I'm sure that the shells are seashore shells.\n",
    "      So if she sells seashells on the seashore,\n",
    "      The shells that she sells are seashells I'm sure.\n",
    "      She sells seashells on the seashore;"
   ]
  },
  {
   "cell_type": "code",
   "execution_count": 23,
   "metadata": {},
   "outputs": [
    {
     "name": "stdout",
     "output_type": "stream",
     "text": [
      "['text1', 'text2', 'text3', 'text4']\n",
      "text4\n",
      "text3\n",
      "text2\n",
      "text1\n"
     ]
    }
   ],
   "source": [
    "varText = \"She sells seashells on the seashore;\\n\"\n",
    "varText += \"The shells that she sells are seashells I'm sure.\\n\"\n",
    "varText += \"So if she sells seashells on the seashore,\\n\"\n",
    "varText += \"I'm sure that the shells are seashore shells.\"\n",
    "\n",
    "vr = [\"text1\", \"text2\", \"text3\", \"text4\"]\n",
    "print(vr)\n",
    "\n",
    "i = len(vr) -1\n",
    "\n",
    "while i >= 0 :\n",
    "    print(vr[i]) \n",
    "    i -= 1    "
   ]
  },
  {
   "cell_type": "markdown",
   "metadata": {},
   "source": [
    "### Problem 19:\n",
    "#### Write a program to print each line of a file in reverse order."
   ]
  },
  {
   "cell_type": "code",
   "execution_count": 99,
   "metadata": {},
   "outputs": [
    {
     "name": "stdout",
     "output_type": "stream",
     "text": [
      "erohsaes eht no sllehsaes slles ehS\n",
      ".erus m'I sllehsaes era slles ehs taht sllehs ehT\n"
     ]
    }
   ],
   "source": [
    "lista = [\"She sells seashells on the seashore\", \"The shells that she sells are seashells I'm sure.\"] \n",
    "reversa = []\n",
    "\n",
    "for i in lista:\n",
    "    reversa = i\n",
    "    print(reversa[::-1])"
   ]
  },
  {
   "cell_type": "markdown",
   "metadata": {},
   "source": [
    "### Problem 20:\n",
    "####  Implement unix commands `head` and `tail`. The `head` and `tail` commands take a file as argument and prints its first and last 10 lines of the file respectively."
   ]
  },
  {
   "cell_type": "code",
   "execution_count": 85,
   "metadata": {},
   "outputs": [
    {
     "name": "stdout",
     "output_type": "stream",
     "text": [
      "Namespaces are one honking great idea--let's do more of those!\n",
      " \n",
      "\n",
      "Beautiful is better than ugly.\n",
      "Explicit is better than implicit.\n",
      "Simple is better than complex.\n",
      "Complex is better than complicated.\n",
      "Flat is better than nested.\n",
      "\n",
      "Now is better than never.\n",
      "Although never is often better than right now.\n",
      "If the implementation is hard to explain, it's a bad idea.\n",
      "If the implementation is easy to explain, it may be a good idea.\n",
      "Namespaces are one honking great idea--let's do more of those!\n"
     ]
    }
   ],
   "source": [
    "caminho=\"exercicio20.txt\"\n",
    "head = 5\n",
    "tail = 5\n",
    "with open(caminho, \"r\") as hat:\n",
    "    lines=hat.readlines()\n",
    "    for i in range(0, head):\n",
    "        print(lines[i].rstrip())\n",
    "    print(\"\")\n",
    "    \n",
    "    for i in range(-tail, 0):\n",
    "        print(lines[i].rstrip())\n",
    "#print(open(caminho, \"r\").readlines()[-1+len(open(caminho, \"r\").readlines())])"
   ]
  },
  {
   "cell_type": "markdown",
   "metadata": {},
   "source": [
    "### Problem 21:\n",
    "#### Implement unix command `grep`. The `grep` command takes a string and a file as arguments and prints all lines in the file which contain the specified string.\n",
    "\n",
    "    $ python grep.py she.txt sure\n",
    "    The shells that she sells are seashells I'm sure.\n",
    "    I'm sure that the shells are seashore shells.\n"
   ]
  },
  {
   "cell_type": "code",
   "execution_count": 89,
   "metadata": {},
   "outputs": [
    {
     "name": "stdout",
     "output_type": "stream",
     "text": [
      "Beautiful is better than ugly.\n",
      "Explicit is better than implicit.\n",
      "Simple is better than complex.\n",
      "Complex is better than complicated.\n",
      "Flat is better than nested.\n",
      "Sparse is better than dense.\n",
      "Now is better than never.\n",
      "Although never is often better than right now.\n"
     ]
    }
   ],
   "source": [
    "caminho=\"exercicio20.txt\"\n",
    "string = \"better\"\n",
    "\n",
    "with open(caminho, \"r\") as hat:\n",
    "    for line in hat:\n",
    "        if string in line:\n",
    "            print (line.rstrip())"
   ]
  },
  {
   "cell_type": "markdown",
   "metadata": {},
   "source": [
    "### Problem 22:\n",
    "#### Write a program `wrap.py` that takes filename and width as aruguments and wraps the lines longer than `width`.\n",
    "\n",
    "    $ python wrap.py she.txt 30\n",
    "    I'm sure that the shells are s\n",
    "    eashore shells.\n",
    "    So if she sells seashells on t\n",
    "    he seashore,\n",
    "    The shells that she sells are \n",
    "    seashells I'm sure.\n",
    "    She sells seashells on the sea\n",
    "    shore;"
   ]
  },
  {
   "cell_type": "code",
   "execution_count": 10,
   "metadata": {
    "scrolled": true
   },
   "outputs": [
    {
     "name": "stdout",
     "output_type": "stream",
     "text": [
      "Beautiful is better \n",
      "than ugly.\n",
      "Explicit is better t\n",
      "han implicit.\n",
      "Simple is better tha\n",
      "n complex.\n",
      "Complex is better th\n",
      "an complicated.\n",
      "Flat is better than \n",
      "nested.\n",
      "Sparse is better tha\n",
      "n dense.\n",
      "Readability counts.\n",
      "Special cases aren't\n",
      " special enough to b\n",
      "reak the rules.\n",
      "Although practicalit\n",
      "y beats purity.\n",
      "Errors should never \n",
      "pass silently.\n",
      "Unless explicitly si\n",
      "lenced.\n",
      "In the face of ambig\n",
      "uity, refuse the tem\n",
      "ptation to guess.\n",
      "There should be one-\n",
      "-and preferably only\n",
      " one--obvious way to\n",
      " do it.\n",
      "Although that way ma\n",
      "y not be obvious at \n",
      "first unless you're \n",
      "Dutch.\n",
      "Now is better than n\n",
      "ever.\n",
      "Although never is of\n",
      "ten better than righ\n",
      "t now.\n",
      "If the implementatio\n",
      "n is hard to explain\n",
      ", it's a bad idea.\n",
      "If the implementatio\n",
      "n is easy to explain\n",
      ", it may be a good i\n",
      "dea.\n",
      "Namespaces are one h\n",
      "onking great idea--l\n",
      "et's do more of thos\n",
      "e!\n"
     ]
    }
   ],
   "source": [
    "caminho=\"exercicio20.txt\"\n",
    "lenght = 20\n",
    "\n",
    "with open(caminho, \"r\") as file:\n",
    "    for line in file:\n",
    "        [print(line.rstrip()[i:i+lenght]) for i in range(0, len(line), lenght)]\n",
    "\n",
    "        #REPLACE TAMBEM FUNCIONA NO LUGAR DE RSTRIP"
   ]
  },
  {
   "cell_type": "code",
   "execution_count": 62,
   "metadata": {},
   "outputs": [],
   "source": [
    "def wrap(caminho,size):\n",
    "    arquivo = open(caminho, 'r')\n",
    "    texto = arquivo.readlines()\n",
    "    for linha in texto:\n",
    "        if (len(linha)%size) != 0:\n",
    "            quebras = int(len(linha)/size) + 1\n",
    "        else:\n",
    "            quebras = int(len(linha)/size)\n",
    "        a = 0\n",
    "        b = size\n",
    "        for i in range(quebras):\n",
    "            print(linha[a:b:])\n",
    "            a += size\n",
    "            b += size\n",
    "        a = 0\n",
    "        b = 0\n",
    "    arquivo.close()"
   ]
  },
  {
   "cell_type": "code",
   "execution_count": 63,
   "metadata": {},
   "outputs": [
    {
     "name": "stdout",
     "output_type": "stream",
     "text": [
      "Beautiful is better than ugly.\n",
      "\n",
      "\n",
      "Explicit is better than implic\n",
      "it.\n",
      "\n",
      "Simple is better than complex.\n",
      "\n",
      "\n",
      "Complex is better than complic\n",
      "ated.\n",
      "\n",
      "Flat is better than nested.\n",
      "\n",
      "Sparse is better than dense.\n",
      "\n",
      "Readability counts.\n",
      "\n",
      "Special cases aren't special e\n",
      "nough to break the rules.\n",
      "\n",
      "Although practicality beats pu\n",
      "rity.\n",
      "\n",
      "Errors should never pass silen\n",
      "tly.\n",
      "\n",
      "Unless explicitly silenced.\n",
      "\n",
      "In the face of ambiguity, refu\n",
      "se the temptation to guess.\n",
      "\n",
      "There should be one--and prefe\n",
      "rably only one--obvious way to\n",
      " do it.\n",
      "\n",
      "Although that way may not be o\n",
      "bvious at first unless you're \n",
      "Dutch.\n",
      "\n",
      "Now is better than never.\n",
      "\n",
      "Although never is often better\n",
      " than right now.\n",
      "\n",
      "If the implementation is hard \n",
      "to explain, it's a bad idea.\n",
      "\n",
      "If the implementation is easy \n",
      "to explain, it may be a good i\n",
      "dea.\n",
      "\n",
      "Namespaces are one honking gre\n",
      "at idea--let's do more of thos\n",
      "e!\n",
      "\n"
     ]
    }
   ],
   "source": [
    "wrap('exercicio20.txt',30)"
   ]
  },
  {
   "cell_type": "markdown",
   "metadata": {},
   "source": [
    "### Problem 23:\n",
    "#### The above wrap program is not so nice because it is breaking the line at middle of any word. Can you write a new program `wordwrap.py` that works like `wrap.py`, but breaks the line only at the word boundaries?\n",
    "\n",
    "    $ python wordwrap.py she.txt 30\n",
    "    I'm sure that the shells are\n",
    "    seashore shells.\n",
    "    So if she sells seashells on\n",
    "    the seashore,\n",
    "    The shells that she sells are\n",
    "    seashells I'm sure.\n",
    "    She sells seashells on the\n",
    "    seashore;"
   ]
  },
  {
   "cell_type": "code",
   "execution_count": 41,
   "metadata": {},
   "outputs": [
    {
     "ename": "SyntaxError",
     "evalue": "invalid syntax (<ipython-input-41-fdd2b900ff75>, line 6)",
     "output_type": "error",
     "traceback": [
      "\u001b[0;36m  File \u001b[0;32m\"<ipython-input-41-fdd2b900ff75>\"\u001b[0;36m, line \u001b[0;32m6\u001b[0m\n\u001b[0;31m    for linhas:\u001b[0m\n\u001b[0m              ^\u001b[0m\n\u001b[0;31mSyntaxError\u001b[0m\u001b[0;31m:\u001b[0m invalid syntax\n"
     ]
    }
   ],
   "source": [
    "conteudo = open('exercicio23.txt', \"r\")\n",
    "tamanho = 30\n",
    "a = \"\"\n",
    "\n",
    "linhas = [linha for linha in conteudo]\n",
    "for linhas:\n",
    "    if len(a) + len(palavras) + len(\" \") < tamanho:\n",
    "        a = a+ palavras + \" \"\n",
    "    else:\n",
    "        break\n",
    "print(a)"
   ]
  },
  {
   "cell_type": "code",
   "execution_count": 4,
   "metadata": {},
   "outputs": [
    {
     "name": "stdout",
     "output_type": "stream",
     "text": [
      "1banana 2laranjapera 3maca \n",
      "4pera 5uva 6abacate 7abacaxi \n",
      "8moranguinho 9jilo 10cebola \n",
      "11tomate 12u 13quibe 14pizza \n",
      "15trufa\n"
     ]
    }
   ],
   "source": [
    "linha = \"1banana 2laranjapera 3maca 4pera 5uva 6abacate 7abacaxi 8moranguinho 9jilo 10cebola 11tomate 12u 13quibe 14pizza 15trufa\"\n",
    "a = \"\"\n",
    "tamanho = 30\n",
    "tam_linha = len(linha)\n",
    "while (tam_linha > tamanho):\n",
    "    for palavra in linha.split():\n",
    "        if len(a)+len(palavra + \" \") <= tamanho: \n",
    "            a += palavra + \" \"\n",
    "        else:\n",
    "            break\n",
    "    linha = linha[len(a)::]\n",
    "    tam_linha = len(linha)\n",
    "    print(a)\n",
    "    a = \"\"\n",
    "print(linha)"
   ]
  },
  {
   "cell_type": "code",
   "execution_count": 8,
   "metadata": {},
   "outputs": [],
   "source": [
    "#EXERCICIO 23\n",
    "\n",
    "def wordwrap(caminho,tamanho):\n",
    "    arquivo = open(caminho, 'r')\n",
    "    linhas = arquivo.readlines()\n",
    "    a = \"\"\n",
    "    for linha in linhas:\n",
    "        tam_linha = len(linha)\n",
    "#        print(\"LINHA INTEIRA: \", tam_linha, linha)\n",
    "        while (tam_linha > tamanho):\n",
    "            for palavra in linha.split():\n",
    "                if len(a)+len(palavra + \" \") <= tamanho: \n",
    "                    a += palavra + \" \"\n",
    "                else:\n",
    "                    break\n",
    "#            print(len(a), a)\n",
    "            print(a)\n",
    "            linha = linha[len(a)::]\n",
    "            a = \"\"\n",
    "            tam_linha = len(linha)\n",
    "#        print(tam_linha, linha)\n",
    "        print(linha)\n",
    "\n",
    "        arquivo.close()"
   ]
  },
  {
   "cell_type": "code",
   "execution_count": 9,
   "metadata": {},
   "outputs": [
    {
     "name": "stdout",
     "output_type": "stream",
     "text": [
      "Although never is often \n",
      "better than right now.\n",
      "\n",
      "If the implementation is hard \n",
      "to explain, it's a bad idea.\n",
      "\n",
      "If the implementation is easy \n",
      "to explain, it may be a good \n",
      "idea.\n",
      "\n",
      "Namespaces are one honking \n",
      "great idea--let's do more of \n",
      "those!\n",
      "\n"
     ]
    }
   ],
   "source": [
    "wordwrap('exercicio23.txt', 30)"
   ]
  },
  {
   "cell_type": "markdown",
   "metadata": {},
   "source": [
    "### Problem 24:\n",
    "#### Write a program `center_align.py` to center align all lines in the given file.\n",
    "\n",
    "    $ python center_align.py she.txt\n",
    "      I'm sure that the shells are seashore shells.  \n",
    "        So if she sells seashells on the seashore,   \n",
    "    The shells that she sells are seashells I'm sure.\n",
    "She sells seashells on the seashore; "
   ]
  },
  {
   "cell_type": "code",
   "execution_count": 54,
   "metadata": {},
   "outputs": [],
   "source": [
    "def center_align(path):\n",
    "    arq = open(path, 'r')\n",
    "    texto = arq.readlines()\n",
    "    for linha in texto:\n",
    "        print(linha.center(50))\n",
    "    arq.close()"
   ]
  },
  {
   "cell_type": "code",
   "execution_count": 55,
   "metadata": {},
   "outputs": [
    {
     "name": "stdout",
     "output_type": "stream",
     "text": [
      " Although never is often better than right now.\n",
      "  \n",
      "If the implementation is hard to explain, it's a bad idea.\n",
      "\n",
      "If the implementation is easy to explain, it may be a good idea.\n",
      "\n",
      "Namespaces are one honking great idea--let's do more of those!\n",
      "\n"
     ]
    }
   ],
   "source": [
    "center_align('exercicio23.txt')"
   ]
  },
  {
   "cell_type": "markdown",
   "metadata": {},
   "source": [
    "## List comprehensions\n",
    "\n",
    "### Problem 25:\n",
    "#### Provide an implementation for zip function using list comprehensions.\n",
    "\n",
    "    >>> zip([1, 2, 3], [\"a\", \"b\", \"c\"])\n",
    "    [(1, \"a\"), (2, \"b\"), (3, \"c\")]"
   ]
  },
  {
   "cell_type": "code",
   "execution_count": 192,
   "metadata": {},
   "outputs": [
    {
     "data": {
      "text/plain": [
       "[(1, 'a'), (2, 'b'), (3, 'c')]"
      ]
     },
     "execution_count": 192,
     "metadata": {},
     "output_type": "execute_result"
    }
   ],
   "source": [
    "list1 = [1, 2, 3]\n",
    "list2 = [\"a\", \"b\", \"c\"]\n",
    "\n",
    "list(zip(list1, list2))"
   ]
  },
  {
   "cell_type": "code",
   "execution_count": 58,
   "metadata": {},
   "outputs": [
    {
     "data": {
      "text/plain": [
       "[(1, 'a'), (2, 'b'), (3, 'c')]"
      ]
     },
     "execution_count": 58,
     "metadata": {},
     "output_type": "execute_result"
    }
   ],
   "source": [
    "def zipar(lista1, lista2):\n",
    "    result = [(lista1[i], lista2[i]) for i in range(len(lista1))]\n",
    "    return result\n",
    "\n",
    "zipar([1, 2, 3], [\"a\", \"b\", \"c\"])    "
   ]
  },
  {
   "cell_type": "code",
   "execution_count": 70,
   "metadata": {},
   "outputs": [],
   "source": [
    "list1 = [1, 2, 3]\n",
    "list2 = [\"a\", \"b\", \"c\"]\n",
    "\n",
    "def zipp(list1,list2):\n",
    "    lista3 = []\n",
    "    lista4 = []\n",
    "    for a in range(len(list1)):\n",
    "        lista3.append(list1[a])\n",
    "        lista3.append(list2[a])\n",
    "        lista4.append(tuple(lista3))\n",
    "        lista3 = []\n",
    "    print(lista4)"
   ]
  },
  {
   "cell_type": "code",
   "execution_count": 71,
   "metadata": {},
   "outputs": [
    {
     "name": "stdout",
     "output_type": "stream",
     "text": [
      "[(1, 'a'), (2, 'b'), (3, 'c')]\n"
     ]
    }
   ],
   "source": [
    "zipp(list1, list2)"
   ]
  },
  {
   "cell_type": "markdown",
   "metadata": {},
   "source": [
    "### Problem 26:\n",
    "#### Python provides a built-in function `map` that applies a function to each element of a list. Provide an implementation for `map` using list comprehensions.\n",
    "\n",
    "    >>> def square(x): return x * x\n",
    "    ...\n",
    "    >>> map(square, range(5))\n",
    "    [0, 1, 4, 9, 16]\n"
   ]
  },
  {
   "cell_type": "code",
   "execution_count": 45,
   "metadata": {},
   "outputs": [],
   "source": [
    "def square(x):\n",
    "    return x*x\n",
    "\n",
    "def mapp (func, size):\n",
    "    out = []\n",
    "    for i in size:\n",
    "        out.append(func(i))\n",
    "    print(out)"
   ]
  },
  {
   "cell_type": "code",
   "execution_count": 46,
   "metadata": {
    "scrolled": true
   },
   "outputs": [
    {
     "name": "stdout",
     "output_type": "stream",
     "text": [
      "[0, 1, 4, 9, 16]\n"
     ]
    }
   ],
   "source": [
    "mapp(square,range(5))"
   ]
  },
  {
   "cell_type": "markdown",
   "metadata": {},
   "source": [
    "### Problem 27:\n",
    "#### Python provides a built-in function `filter(f, a)` that returns items of the list `a` for which `f(item)` returns true. Provide an implementation for `filter` using list comprehensions.\n",
    "\n",
    "    >>> def even(x): return x %2 == 0\n",
    "    ...\n",
    "    >>> filter(even, range(10))\n",
    "    [0, 2, 4, 6, 8]"
   ]
  },
  {
   "cell_type": "code",
   "execution_count": 82,
   "metadata": {},
   "outputs": [
    {
     "name": "stdout",
     "output_type": "stream",
     "text": [
      "[0, 2, 4, 6, 8]\n",
      "[0, 2, 4, 6, 8]\n"
     ]
    }
   ],
   "source": [
    "num_pares = [num for num in range(10) if num % 2 == 0] \n",
    "print(num_pares)\n",
    "\n",
    "print([num for num in range(10) if num % 2 == 0])"
   ]
  },
  {
   "cell_type": "code",
   "execution_count": 41,
   "metadata": {},
   "outputs": [
    {
     "name": "stdout",
     "output_type": "stream",
     "text": [
      "[0, 2, 4, 6, 8, 10, 12, 14, 16, 18]\n"
     ]
    }
   ],
   "source": [
    "#lista = [1, 2, 3, 4, 5, 6, 7, 8, 9, 10]\n",
    "lista = range(20)\n",
    "\n",
    "def even(lista):\n",
    "    return [x for x in lista if x % 2 ==0]\n",
    "print(even(lista))"
   ]
  },
  {
   "cell_type": "code",
   "execution_count": 77,
   "metadata": {},
   "outputs": [
    {
     "name": "stdout",
     "output_type": "stream",
     "text": [
      "[0, 2, 4, 6, 8]\n"
     ]
    }
   ],
   "source": [
    "def even(x): return x %2 == 0\n",
    "\n",
    "def filterr(func, size):\n",
    "    out = []\n",
    "    for i in size:\n",
    "        if func(i) == True:\n",
    "            out.append(i)\n",
    "    print(out)\n",
    "filterr(even, range(10))"
   ]
  },
  {
   "cell_type": "markdown",
   "metadata": {},
   "source": [
    "### Problem 28:\n",
    "#### Write a function `triplets` that takes a number `n` as argument and returns a list of triplets such that sum of first two elements of the triplet equals the third element using numbers below `n`. Please note that `(a, b, c)` and `(b, a, c)` represent same triplet.\n",
    "\n",
    "    >>> triplets(5)\n",
    "    [(1, 1, 2), (1, 2, 3), (1, 3, 4), (2, 2, 4)]"
   ]
  },
  {
   "cell_type": "code",
   "execution_count": 83,
   "metadata": {},
   "outputs": [
    {
     "name": "stdout",
     "output_type": "stream",
     "text": [
      "[(1, 1, 2), (1, 2, 3), (1, 3, 4), (2, 2, 4)]\n"
     ]
    }
   ],
   "source": [
    "def tripletos(m):\n",
    "    lista = [(k, i-k, i) for i in range(1, m) for k in range(1, i) if k <= i-k]\n",
    "    return lista\n",
    "print(tripletos(5))"
   ]
  },
  {
   "cell_type": "code",
   "execution_count": 75,
   "metadata": {},
   "outputs": [
    {
     "name": "stdout",
     "output_type": "stream",
     "text": [
      "{'Potencia de 1': 1, 'Potencia de 2': 4, 'Potencia de 3': 9, 'Potencia de 4': 16, 'Potencia de 5': 25, 'Potencia de 6': 36, 'Potencia de 7': 49, 'Potencia de 8': 64, 'Potencia de 9': 81}\n"
     ]
    }
   ],
   "source": [
    "#TESTE: CRIAR DICIONÁRIO COM 10 contendo o número e apotencia {potencia de 1, 1}\n",
    "\n",
    "result = {\"Potencia de %d\" %i: i*i for i in range(1, 10)}\n",
    "print(result)"
   ]
  },
  {
   "cell_type": "code",
   "execution_count": 66,
   "metadata": {},
   "outputs": [
    {
     "name": "stdout",
     "output_type": "stream",
     "text": [
      "[(0, 0), (0, 1), (0, 2), (0, 3), (2, 0), (2, 1), (2, 2), (2, 3), (4, 0), (4, 1), (4, 2), (4, 3), (6, 0), (6, 1), (6, 2), (6, 3), (8, 0), (8, 1), (8, 2), (8, 3)]\n"
     ]
    }
   ],
   "source": [
    "result = [(i, j) for i in range(0, 10) for j in range(0, 4) if i % 2 == 0]\n",
    "print(result)"
   ]
  },
  {
   "cell_type": "code",
   "execution_count": 88,
   "metadata": {},
   "outputs": [
    {
     "name": "stdout",
     "output_type": "stream",
     "text": [
      "A laranja tem 4 faces de area total 3.14\n"
     ]
    }
   ],
   "source": [
    "var1 = \"laranja\"\n",
    "var2 = 4\n",
    "var3 = 3.1416\n",
    "\n",
    "frase = \"A %s tem %d faces de area total %.2f\"%(var1, var2, var3)\n",
    "print(frase)"
   ]
  },
  {
   "cell_type": "code",
   "execution_count": 122,
   "metadata": {},
   "outputs": [
    {
     "name": "stdout",
     "output_type": "stream",
     "text": [
      "Contagem regressiva: 10, 9, 8, 7, 6, 5, 4, 3, 2, 1\n"
     ]
    }
   ],
   "source": [
    "lista1 = [str(i) for i in range(10, 0, -1)]\n",
    "\n",
    "lista_final = \", \".join(lista1)\n",
    "\n",
    "print(\"Contagem regressiva: %s\" % lista_final)"
   ]
  },
  {
   "cell_type": "code",
   "execution_count": 125,
   "metadata": {},
   "outputs": [
    {
     "name": "stdout",
     "output_type": "stream",
     "text": [
      "Contagem regressiva: 10, 9, 8, 7, 6, 5, 4, 3, 2, 1\n"
     ]
    }
   ],
   "source": [
    "print(\"Contagem regressiva: %s\" % \", \".join([str(i) for i in range(10, 0, -1)]))"
   ]
  },
  {
   "cell_type": "code",
   "execution_count": 162,
   "metadata": {},
   "outputs": [
    {
     "name": "stdout",
     "output_type": "stream",
     "text": [
      "[1, 8, 9, 64, 25, 216, 49]\n"
     ]
    }
   ],
   "source": [
    "def funcao(x):\n",
    "    return x*x if x %2 != 0 else x**3\n",
    "\n",
    "lista = [funcao(x) for x in range(1, 8)]\n",
    "print(lista)"
   ]
  },
  {
   "cell_type": "markdown",
   "metadata": {},
   "source": [
    "### Problem 29:\n",
    "#### Write a function `enumerate` that takes a list and returns a list of tuples containing `(index,item)` for each item in the list.\n",
    "\n",
    "\n",
    "    >>> enumerate([\"a\", \"b\", \"c\"])\n",
    "    [(0, \"a\"), (1, \"b\"), (2, \"c\")]\n",
    "    >>> for index, value in enumerate([\"a\", \"b\", \"c\"]):\n",
    "    ...     print index, value\n",
    "    0 a\n",
    "    1 b\n",
    "    2 c"
   ]
  },
  {
   "cell_type": "code",
   "execution_count": 7,
   "metadata": {},
   "outputs": [
    {
     "data": {
      "text/plain": [
       "[(1, 'a'), (2, 'b'), (3, 'c')]"
      ]
     },
     "execution_count": 7,
     "metadata": {},
     "output_type": "execute_result"
    }
   ],
   "source": [
    "def enumerate(lista1, lista2):\n",
    "    result = [(lista1[i], lista2[i]) for i in range(len(lista1))]\n",
    "    return result\n",
    "\n",
    "enumerate([1, 2, 3], [\"a\", \"b\", \"c\"])"
   ]
  },
  {
   "cell_type": "code",
   "execution_count": 18,
   "metadata": {},
   "outputs": [
    {
     "data": {
      "text/plain": [
       "[(0, 'x'), (1, 'y'), (2, 'z')]"
      ]
     },
     "execution_count": 18,
     "metadata": {},
     "output_type": "execute_result"
    }
   ],
   "source": [
    "def enumerate2(list3, list4):\n",
    "    resultado = [(list3[i], list4[i]) for i in range(len(list4))]\n",
    "    return resultado\n",
    "\n",
    "enumerate2([0, 1, 2], [\"x\", \"y\", \"z\"])"
   ]
  },
  {
   "cell_type": "markdown",
   "metadata": {},
   "source": [
    "### Problem 30:\n",
    "#### Write a function `array` to create an 2-dimensional array. The function should take both dimensions as arguments. Value of each element can be initialized to None:\n",
    "\n",
    "    >>> a = array(2, 3)\n",
    "    >>> a\n",
    "    [[None, None, None], [None, None, None]]\n",
    "    >>> a[0][0] = 5\n",
    "    [[5, None, None], [None, None, None]]"
   ]
  },
  {
   "cell_type": "code",
   "execution_count": 37,
   "metadata": {},
   "outputs": [],
   "source": [
    "def arrayy(f,a):\n",
    "    out = []\n",
    "    out0 = []\n",
    "    for x in range(f):\n",
    "        for y in range(a):\n",
    "            out0.append(None)\n",
    "        out.append(out0)\n",
    "        out0 = []\n",
    "    print(out)"
   ]
  },
  {
   "cell_type": "code",
   "execution_count": 38,
   "metadata": {},
   "outputs": [
    {
     "name": "stdout",
     "output_type": "stream",
     "text": [
      "[[None, None, None], [None, None, None]]\n"
     ]
    }
   ],
   "source": [
    "a = arrayy(2,3)"
   ]
  },
  {
   "cell_type": "markdown",
   "metadata": {},
   "source": [
    "### Problem 31:\n",
    "#### Write a python function `parse_csv` to parse csv (comma separated values) files.\n",
    "\n",
    "    >>> print open('a.csv').read()\n",
    "    a,b,c\n",
    "    1,2,3\n",
    "    2,3,4\n",
    "    3,4,5\n",
    "    >>> parse_csv('a.csv')\n",
    "    [['a', 'b', 'c'], ['1', '2', '3'], ['2', '3', '4'], ['3', '4', '5']]"
   ]
  },
  {
   "cell_type": "code",
   "execution_count": 44,
   "metadata": {},
   "outputs": [
    {
     "name": "stdout",
     "output_type": "stream",
     "text": [
      "1,2,3\n",
      "\n",
      "a,b,c\n",
      "\n",
      "d,e,f\n",
      "\n",
      "4,5,6\n",
      "\n"
     ]
    }
   ],
   "source": [
    "arquivo = open('a.csv', 'r')\n",
    "\n",
    "for linhas in arquivo.readlines():\n",
    "    print(linhas)"
   ]
  },
  {
   "cell_type": "code",
   "execution_count": 65,
   "metadata": {},
   "outputs": [],
   "source": [
    "def parse_csv(path):\n",
    "    arquivo = open(path, 'r')\n",
    "    texto = arquivo.readlines()\n",
    "    saida = [[a.replace(\"\\n\",\"\") for a in linha.split(\",\")] for linha in texto]\n",
    "    print(saida)"
   ]
  },
  {
   "cell_type": "code",
   "execution_count": 66,
   "metadata": {},
   "outputs": [
    {
     "name": "stdout",
     "output_type": "stream",
     "text": [
      "[['1', '2', '3'], ['a', 'b', 'c'], ['d', 'e', 'f'], ['4', '5', '6']]\n"
     ]
    }
   ],
   "source": [
    " parse_csv('a.csv')"
   ]
  },
  {
   "cell_type": "code",
   "execution_count": 78,
   "metadata": {},
   "outputs": [],
   "source": [
    "def parse2_csv(path):\n",
    "    arq = open(path, 'r')\n",
    "    out = []\n",
    "    for texto in arq.readlines():\n",
    "        a =  texto.strip().split()\n",
    "        out.append(a)\n",
    "    print(out)"
   ]
  },
  {
   "cell_type": "code",
   "execution_count": 79,
   "metadata": {
    "scrolled": true
   },
   "outputs": [
    {
     "name": "stdout",
     "output_type": "stream",
     "text": [
      "[['1,2,3'], ['a,b,c'], ['d,e,f'], ['4,5,6']]\n"
     ]
    }
   ],
   "source": [
    "parse2_csv('a.csv')"
   ]
  },
  {
   "cell_type": "code",
   "execution_count": 97,
   "metadata": {},
   "outputs": [
    {
     "name": "stdout",
     "output_type": "stream",
     "text": [
      "done writing!\n",
      "\n"
     ]
    },
    {
     "data": {
      "text/plain": [
       "'problem32b.csv'"
      ]
     },
     "execution_count": 97,
     "metadata": {},
     "output_type": "execute_result"
    }
   ],
   "source": [
    "a = \"\"\"# elements are separated by ! and comment indicator is #\n",
    "a!b!c\n",
    "1!2!3\n",
    "2!3!4\n",
    "3!4!5\"\"\"\n",
    "\n",
    "def write_file(text, nome):\n",
    "    with open(nome, 'w') as f:\n",
    "        f.writelines(text)\n",
    "        f.close()\n",
    "        print(\"done writing!\\n\")\n",
    "    return nome\n",
    "\n",
    "write_file(a, 'problem32b.csv')"
   ]
  },
  {
   "cell_type": "markdown",
   "metadata": {},
   "source": [
    "### Problem 32:\n",
    "#### Generalize the above implementation of csv parser to support any delimiter and comments.\n",
    "\n",
    "    >>> print open('a.txt').read()\n",
    "    # elements are separated by ! and comment indicator is #\n",
    "    a!b!c\n",
    "    1!2!3\n",
    "    2!3!4\n",
    "    3!4!5\n",
    "    >>> parse('a.txt', '!', '#')\n",
    "    [['a', 'b', 'c'], ['1', '2', '3'], ['2', '3', '4'], ['3', '4', '5']]"
   ]
  },
  {
   "cell_type": "code",
   "execution_count": 118,
   "metadata": {},
   "outputs": [],
   "source": [
    "def parse3_csv(path,sep, sep2):\n",
    "    arquivo = open(path, 'r')\n",
    "    texto = arquivo.readlines()\n",
    "    saida = [[a.strip() for a in linha.split(sep)] for linha in texto if linha[0] !=sep2]\n",
    "    print(saida)"
   ]
  },
  {
   "cell_type": "code",
   "execution_count": 119,
   "metadata": {},
   "outputs": [
    {
     "name": "stdout",
     "output_type": "stream",
     "text": [
      "[['a', 'b', 'c'], ['1', '2', '3'], ['2', '3', '4'], ['3', '4', '5']]\n"
     ]
    }
   ],
   "source": [
    "parse3_csv('problem32b.csv', \"!\", \"#\")"
   ]
  },
  {
   "cell_type": "markdown",
   "metadata": {},
   "source": [
    "## Problem 33:\n",
    "### Write a function `mutate` to compute all words generated by a single mutation on a given word. A mutation is defined as inserting a character, deleting a character, replacing a character, or swapping 2 consecutive characters in a string. For simplicity consider only letters from `a` to `z`.\n",
    "\n",
    "    >>> words = mutate('hello')\n",
    "    >>> 'helo' in words\n",
    "    True\n",
    "    >>> 'cello' in words\n",
    "    True\n",
    "    >>> 'helol' in words\n",
    "    True"
   ]
  },
  {
   "cell_type": "code",
   "execution_count": 10,
   "metadata": {},
   "outputs": [],
   "source": [
    "from string import ascii_letters\n",
    "\n",
    "def mutacao(word):\n",
    "    deletar = [word]"
   ]
  },
  {
   "cell_type": "code",
   "execution_count": 22,
   "metadata": {},
   "outputs": [],
   "source": [
    "from string import ascii_lowercase\n",
    "\n",
    "def mutate(word):\n",
    "    deleting = [word[:i]+word[i+1:] for i in range(len(word))] \n",
    "    replacing = [word[:i]+letra+word[i+1:] for i in range(len(word)) for letra in ascii_lowercase]\n",
    "    inserting = [word[:i]+letra+word[i:] for i in range(len(word)+1) for letra in ascii_lowercase]\n",
    "    swapping = [word[:i]+word[i+1]+word[i]+word[i+2:] for i in range(len(word)-1)] \n",
    "#    return replacing\n",
    "\n",
    "    return set(deleting + replacing + inserting + swapping)"
   ]
  },
  {
   "cell_type": "code",
   "execution_count": 21,
   "metadata": {},
   "outputs": [
    {
     "name": "stdout",
     "output_type": "stream",
     "text": [
      "['ello', 'hllo', 'helo', 'helo', 'hell', 'aello', 'bello', 'cello', 'dello', 'eello', 'fello', 'gello', 'hello', 'iello', 'jello', 'kello', 'lello', 'mello', 'nello', 'oello', 'pello', 'qello', 'rello', 'sello', 'tello', 'uello', 'vello', 'wello', 'xello', 'yello', 'zello', 'hallo', 'hbllo', 'hcllo', 'hdllo', 'hello', 'hfllo', 'hgllo', 'hhllo', 'hillo', 'hjllo', 'hkllo', 'hlllo', 'hmllo', 'hnllo', 'hollo', 'hpllo', 'hqllo', 'hrllo', 'hsllo', 'htllo', 'hullo', 'hvllo', 'hwllo', 'hxllo', 'hyllo', 'hzllo', 'healo', 'heblo', 'heclo', 'hedlo', 'heelo', 'heflo', 'heglo', 'hehlo', 'heilo', 'hejlo', 'heklo', 'hello', 'hemlo', 'henlo', 'heolo', 'heplo', 'heqlo', 'herlo', 'heslo', 'hetlo', 'heulo', 'hevlo', 'hewlo', 'hexlo', 'heylo', 'hezlo', 'helao', 'helbo', 'helco', 'heldo', 'heleo', 'helfo', 'helgo', 'helho', 'helio', 'heljo', 'helko', 'hello', 'helmo', 'helno', 'heloo', 'helpo', 'helqo', 'helro', 'helso', 'helto', 'heluo', 'helvo', 'helwo', 'helxo', 'helyo', 'helzo', 'hella', 'hellb', 'hellc', 'helld', 'helle', 'hellf', 'hellg', 'hellh', 'helli', 'hellj', 'hellk', 'helll', 'hellm', 'helln', 'hello', 'hellp', 'hellq', 'hellr', 'hells', 'hellt', 'hellu', 'hellv', 'hellw', 'hellx', 'helly', 'hellz', 'ahello', 'bhello', 'chello', 'dhello', 'ehello', 'fhello', 'ghello', 'hhello', 'ihello', 'jhello', 'khello', 'lhello', 'mhello', 'nhello', 'ohello', 'phello', 'qhello', 'rhello', 'shello', 'thello', 'uhello', 'vhello', 'whello', 'xhello', 'yhello', 'zhello', 'haello', 'hbello', 'hcello', 'hdello', 'heello', 'hfello', 'hgello', 'hhello', 'hiello', 'hjello', 'hkello', 'hlello', 'hmello', 'hnello', 'hoello', 'hpello', 'hqello', 'hrello', 'hsello', 'htello', 'huello', 'hvello', 'hwello', 'hxello', 'hyello', 'hzello', 'heallo', 'hebllo', 'hecllo', 'hedllo', 'heello', 'hefllo', 'hegllo', 'hehllo', 'heillo', 'hejllo', 'hekllo', 'helllo', 'hemllo', 'henllo', 'heollo', 'hepllo', 'heqllo', 'herllo', 'hesllo', 'hetllo', 'heullo', 'hevllo', 'hewllo', 'hexllo', 'heyllo', 'hezllo', 'helalo', 'helblo', 'helclo', 'heldlo', 'helelo', 'helflo', 'helglo', 'helhlo', 'helilo', 'heljlo', 'helklo', 'helllo', 'helmlo', 'helnlo', 'helolo', 'helplo', 'helqlo', 'helrlo', 'helslo', 'heltlo', 'helulo', 'helvlo', 'helwlo', 'helxlo', 'helylo', 'helzlo', 'hellao', 'hellbo', 'hellco', 'helldo', 'helleo', 'hellfo', 'hellgo', 'hellho', 'hellio', 'helljo', 'hellko', 'helllo', 'hellmo', 'hellno', 'helloo', 'hellpo', 'hellqo', 'hellro', 'hellso', 'hellto', 'helluo', 'hellvo', 'hellwo', 'hellxo', 'hellyo', 'hellzo', 'helloa', 'hellob', 'helloc', 'hellod', 'helloe', 'hellof', 'hellog', 'helloh', 'helloi', 'helloj', 'hellok', 'hellol', 'hellom', 'hellon', 'helloo', 'hellop', 'helloq', 'hellor', 'hellos', 'hellot', 'hellou', 'hellov', 'hellow', 'hellox', 'helloy', 'helloz', 'ehllo', 'hlelo', 'hello', 'helol']\n",
      "True\n",
      "True\n",
      "True\n"
     ]
    }
   ],
   "source": [
    "original_word = \"hello\"\n",
    "words = mutate(original_word)\n",
    "print(words)\n",
    "print('helo' in words)\n",
    "print('cello' in words)\n",
    "print('helol' in words)"
   ]
  },
  {
   "cell_type": "code",
   "execution_count": 17,
   "metadata": {},
   "outputs": [],
   "source": [
    "import string\n",
    "\n",
    "def f1(word):\n",
    "    return set(word[:i:] + c + word[i:] for i in range(len(word) + 1) for c in string.ascii_lowercase)\n",
    "\n",
    "def f2(word):\n",
    "    return set((word[:i:] + word[i + 1:]) for i in range(len(word)))\n",
    "\n",
    "def f3(word):\n",
    "    return set((word[:i:] + c + word[i + 1:] for i in range(len(word)) for c in string.ascii_lowercase))\n",
    "\n",
    "def f4(word):\n",
    "    return set((word[:i:] + word[i + 1] + word[i] + word[i + 2:]) for i in range(len(word) - 1))\n",
    "\n",
    "mutate = lambda word: set(f1(word) | f2(word) | f3(word) | f4(word))"
   ]
  },
  {
   "cell_type": "code",
   "execution_count": 18,
   "metadata": {},
   "outputs": [
    {
     "name": "stdout",
     "output_type": "stream",
     "text": [
      "True\n",
      "True\n",
      "True\n"
     ]
    }
   ],
   "source": [
    "words = mutate(\"hello\")\n",
    "print('helo' in words)\n",
    "print('cello' in words)\n",
    "print('helol' in words)"
   ]
  },
  {
   "cell_type": "markdown",
   "metadata": {},
   "source": [
    "### Problem 34:\n",
    "#### Write a function `nearly_equal` to test whether two strings are nearly equal. Two strings `a` and `b` are nearly equal when `a` can be generated by a single mutation on `b`.\n",
    "\n",
    "    >>> nearly_equal('python', 'perl')\n",
    "    False\n",
    "    >>> nearly_equal('perl', 'pearl')\n",
    "    True\n",
    "    >>> nearly_equal('python', 'jython')\n",
    "    True\n",
    "    >>> nearly_equal('man', 'woman')\n",
    "    False"
   ]
  },
  {
   "cell_type": "code",
   "execution_count": 24,
   "metadata": {},
   "outputs": [
    {
     "name": "stdout",
     "output_type": "stream",
     "text": [
      "False\n",
      "True\n",
      "True\n",
      "False\n"
     ]
    }
   ],
   "source": [
    "from string import ascii_lowercase\n",
    "\n",
    "def mutate(word):\n",
    "    deleting = [word[:i]+word[i+1:] for i in range(len(word))] \n",
    "    replacing = [word[:i]+letra+word[i+1:] for i in range(len(word)) for letra in ascii_lowercase]\n",
    "    inserting = [word[:i]+letra+word[i:] for i in range(len(word)+1) for letra in ascii_lowercase]\n",
    "    swapping = [word[:i]+word[i+1]+word[i]+word[i+2:] for i in range(len(word)-1)] \n",
    "    return deleting + replacing + inserting + swapping\n",
    "\n",
    "def nearly_equal(str1, str2):\n",
    "    mutations = mutate(str2)\n",
    "    return True if str1 in mutations else False\n",
    "\n",
    "print(nearly_equal('python', 'perl'))\n",
    "print(nearly_equal('perl', 'pearl'))\n",
    "print(nearly_equal('python', 'jython'))\n",
    "print(nearly_equal('man', 'woman'))"
   ]
  },
  {
   "cell_type": "markdown",
   "metadata": {},
   "source": [
    "## Dictionaries\n",
    "\n",
    "### Problem 36:\n",
    "#### Write a program to count frequency of characters in a given file. Can you use character frequency to tell whether the given file is a Python program file, C program file or a text file?"
   ]
  },
  {
   "cell_type": "code",
   "execution_count": 78,
   "metadata": {},
   "outputs": [
    {
     "name": "stdout",
     "output_type": "stream",
     "text": [
      "Counter({'is': 10, 'better': 8, 'than': 8, 'to': 5, 'the': 5, 'Although': 3, 'be': 3, 'should': 2, 'never': 2, 'of': 2, 'way': 2, 'do': 2, 'may': 2, 'If': 2, 'implementation': 2, 'explain,': 2, 'a': 2, 'idea.': 2, 'Beautiful': 1, 'ugly.': 1, 'Explicit': 1, 'implicit.': 1, 'Simple': 1, 'complex.': 1, 'Complex': 1, 'complicated.': 1, 'Flat': 1, 'nested.': 1, 'Sparse': 1, 'dense.': 1, 'Readability': 1, 'counts.': 1, 'Special': 1, 'cases': 1, \"aren't\": 1, 'special': 1, 'enough': 1, 'break': 1, 'rules.': 1, 'practicality': 1, 'beats': 1, 'purity.': 1, 'Errors': 1, 'pass': 1, 'silently.': 1, 'Unless': 1, 'explicitly': 1, 'silenced.': 1, 'In': 1, 'face': 1, 'ambiguity,': 1, 'refuse': 1, 'temptation': 1, 'guess.': 1, 'There': 1, 'one--and': 1, 'preferably': 1, 'only': 1, 'one--obvious': 1, 'it.': 1, 'that': 1, 'not': 1, 'obvious': 1, 'at': 1, 'first': 1, 'unless': 1, \"you're\": 1, 'Dutch.': 1, 'Now': 1, 'never.': 1, 'often': 1, 'right': 1, 'now.': 1, 'hard': 1, \"it's\": 1, 'bad': 1, 'easy': 1, 'it': 1, 'good': 1, 'Namespaces': 1, 'are': 1, 'one': 1, 'honking': 1, 'great': 1, \"idea--let's\": 1, 'more': 1, 'those!': 1})\n"
     ]
    }
   ],
   "source": [
    "from collections import Counter\n",
    "\n",
    "def frequencia(arquivo):\n",
    "    with open(arquivo, \"r\") as file:\n",
    "        return Counter(file.read().split())\n",
    "\n",
    "print(frequencia(\"exercicio20.txt\"))"
   ]
  },
  {
   "cell_type": "markdown",
   "metadata": {},
   "source": [
    "### Problem 37:\n",
    "#### Write a program to find anagrams in a given list of words. Two words are called anagrams if one word can be formed by rearranging letters of another. For example 'eat', 'ate' and 'tea' are anagrams.\n",
    "\n",
    "\n",
    "    >>> anagrams(['eat', 'ate', 'done', 'tea', 'soup', 'node'])\n",
    "    [['eat', 'ate', 'tea], ['done', 'node'], ['soup']]"
   ]
  },
  {
   "cell_type": "code",
   "execution_count": 36,
   "metadata": {},
   "outputs": [],
   "source": [
    "def anagrams(lista):\n",
    "    anagrama = []\n",
    "    temp = [[item for item in lista if sorted(item) == sorted(palavra)] for palavra in lista]\n",
    "    for item in temp:\n",
    "        if item not in anagrama:\n",
    "            anagrama.append(item)\n",
    "    print(anagrama)"
   ]
  },
  {
   "cell_type": "code",
   "execution_count": 37,
   "metadata": {},
   "outputs": [
    {
     "name": "stdout",
     "output_type": "stream",
     "text": [
      "[['eat', 'ate', 'tea'], ['done', 'node'], ['soup']]\n"
     ]
    }
   ],
   "source": [
    "anagrams(['eat', 'ate', 'done', 'tea', 'soup', 'node'])"
   ]
  },
  {
   "cell_type": "markdown",
   "metadata": {},
   "source": [
    "### Problem 38:\n",
    "#### Write a function `valuesort` to sort values of a dictionary based on the key.\n",
    "\n",
    "    >>> valuesort({'x': 1, 'y': 2, 'a': 3})\n",
    "    [3, 1, 2]"
   ]
  },
  {
   "cell_type": "code",
   "execution_count": 14,
   "metadata": {},
   "outputs": [
    {
     "data": {
      "text/plain": [
       "[3, 2, 1]"
      ]
     },
     "execution_count": 14,
     "metadata": {},
     "output_type": "execute_result"
    }
   ],
   "source": [
    "def sort_dict(my_dict):\n",
    "    return [my_dict[laranja] for laranja in sorted(my_dict)]\n",
    "\n",
    "my_dict = {'c': 1, 'b': 2, 'a': 3}\n",
    "sort_dict(my_dict)"
   ]
  },
  {
   "cell_type": "markdown",
   "metadata": {},
   "source": [
    "### Problem 39:\n",
    "#### Write a function `invertdict` to interchange keys and values in a dictionary. For simplicity, assume that all values are unique.\n",
    "\n",
    "\n",
    "    >>> invertdict({'x': 1, 'y': 2, 'z': 3})\n",
    "    {1: 'x', 2: 'y', 3: 'z'}"
   ]
  },
  {
   "cell_type": "code",
   "execution_count": 62,
   "metadata": {},
   "outputs": [
    {
     "data": {
      "text/plain": [
       "{3: 'a', 4: 'b', 5: 'c', 6: 'd'}"
      ]
     },
     "execution_count": 62,
     "metadata": {},
     "output_type": "execute_result"
    }
   ],
   "source": [
    "def invertdict(my_dict):\n",
    "    return {my_dict[laranja]: laranja for laranja in my_dict}\n",
    "\n",
    "my_dict = {'a': 3, 'b': 4, 'c': 5, 'd': 6}\n",
    "invertdict(my_dict)"
   ]
  },
  {
   "cell_type": "code",
   "execution_count": 27,
   "metadata": {},
   "outputs": [
    {
     "name": "stdout",
     "output_type": "stream",
     "text": [
      "{3: 'a', 4: 'b', 5: 'c', 6: 'd'}\n"
     ]
    }
   ],
   "source": [
    "dicionario1 = {'a': 3, 'b': 4, 'c': 5, 'd': 6}\n",
    "rev_dict = {v: k for k, v in dicionario1.items()}\n",
    "print(rev_dict)"
   ]
  },
  {
   "cell_type": "code",
   "execution_count": 24,
   "metadata": {},
   "outputs": [],
   "source": [
    "#SOLUCAO LUCAS\n",
    "\n",
    "def invertdict(dicionario):\n",
    "    dicionario_inv={}\n",
    "    for valor in sorted(dicionario.values()):\n",
    "        for key, value in dicionario.items():\n",
    "            if value == valor:\n",
    "                dicionario_inv[value] = key\n",
    "    return dicionario_inv"
   ]
  },
  {
   "cell_type": "code",
   "execution_count": 25,
   "metadata": {},
   "outputs": [
    {
     "data": {
      "text/plain": [
       "{'x': 1, 'y': 2, 'z': 3}"
      ]
     },
     "execution_count": 25,
     "metadata": {},
     "output_type": "execute_result"
    }
   ],
   "source": [
    "dicionario={1: 'x', 2: 'y', 3: 'z'}\n",
    "invertdict(dicionario)"
   ]
  },
  {
   "cell_type": "code",
   "execution_count": null,
   "metadata": {},
   "outputs": [],
   "source": []
  }
 ],
 "metadata": {
  "kernelspec": {
   "display_name": "Python 3",
   "language": "python",
   "name": "python3"
  },
  "language_info": {
   "codemirror_mode": {
    "name": "ipython",
    "version": 3
   },
   "file_extension": ".py",
   "mimetype": "text/x-python",
   "name": "python",
   "nbconvert_exporter": "python",
   "pygments_lexer": "ipython3",
   "version": "3.7.3"
  }
 },
 "nbformat": 4,
 "nbformat_minor": 2
}
