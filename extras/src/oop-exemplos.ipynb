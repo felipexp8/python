{
 "cells": [
  {
   "cell_type": "code",
   "execution_count": 35,
   "metadata": {},
   "outputs": [],
   "source": [
    "class MyClass2:\n",
    "    variable = \"blah\"\n",
    "    \n",
    "    def function(self):\n",
    "        print(\"This is a message inside the class.\")"
   ]
  },
  {
   "cell_type": "code",
   "execution_count": 36,
   "metadata": {},
   "outputs": [
    {
     "name": "stdout",
     "output_type": "stream",
     "text": [
      "This is a message inside the class.\n",
      "blah\n",
      "blah2\n",
      "blah\n",
      "<blah>\n"
     ]
    }
   ],
   "source": [
    "#novo objeto classe MyClass\n",
    "myobjectx = MyClass2()\n",
    "\n",
    "myobjectx.function()\n",
    "\n",
    "print(myobjectx.variable)\n",
    "\n",
    "myobj = MyClass2()\n",
    "myobj.variable = \"blah2\"\n",
    "\n",
    "print(myobj.variable)\n",
    "print(myobjectx.variable)\n",
    "print(myobjectx)"
   ]
  },
  {
   "cell_type": "code",
   "execution_count": null,
   "metadata": {},
   "outputs": [],
   "source": [
    "class MyClass2:\n",
    "    variable = \"blah\"\n",
    "    \n",
    "    def __str__(self):\n",
    "        # Representação em string da coordenada\n",
    "        return \"<\" + str(self.variable) + \">\"\n",
    "    \n",
    "    def function(self):\n",
    "        print(\"This is a message inside the class.\")"
   ]
  },
  {
   "cell_type": "code",
   "execution_count": null,
   "metadata": {},
   "outputs": [],
   "source": [
    "print(myobjectx)"
   ]
  },
  {
   "cell_type": "code",
   "execution_count": 7,
   "metadata": {},
   "outputs": [],
   "source": [
    "class MyClass:\n",
    "    __variable = 0\n",
    "\n",
    "    def setvariable(self,newvar):\n",
    "        self.__variable = newvar\n",
    "\n",
    "    def getvariable(self):\n",
    "        return (self.__variable)\n",
    "\n",
    "    def function(self):\n",
    "        print(\"This is a message inside the class.\")\n",
    "\n"
   ]
  },
  {
   "cell_type": "code",
   "execution_count": 9,
   "metadata": {},
   "outputs": [
    {
     "name": "stdout",
     "output_type": "stream",
     "text": [
      "This is a message inside the class.\n",
      "0\n",
      "rs3\n"
     ]
    }
   ],
   "source": [
    "var=\"rs2\"\n",
    "myobjectx = MyClass()\n",
    "\n",
    "myobjectx.function()\n",
    "\n",
    "#print(myobjectx.__variable)\n",
    "\n",
    "print(myobjectx.getvariable())\n",
    "\n",
    "var=\"rs3\"\n",
    "myobjectx.setvariable(var)\n",
    "print(myobjectx.getvariable())"
   ]
  },
  {
   "cell_type": "code",
   "execution_count": null,
   "metadata": {},
   "outputs": [],
   "source": [
    "#constructor\n",
    "\n"
   ]
  },
  {
   "cell_type": "code",
   "execution_count": 23,
   "metadata": {},
   "outputs": [],
   "source": [
    "# EXAMPLE: Classe que representa uma coordenada X Y\n",
    "class Coordinate(object):\n",
    "\n",
    "    def __init__(self, x, y):\n",
    "        # configura coordenada x e y\n",
    "        self.x = x\n",
    "        self.y = y\n",
    "    def __str__(self):\n",
    "        # Representação em string da coordenada\n",
    "        return \"<\" + str(self.x) + \",\" + str(self.y) + \">\"\n",
    "    \n",
    "    def distance(self, other):\n",
    "        # Calcula distancia euclidiana entre dois pontos\n",
    "        x_diff_sq = (self.x-other.x)**2\n",
    "        y_diff_sq = (self.y-other.y)**2\n",
    "        return (x_diff_sq + y_diff_sq)**0.5\n",
    "\n"
   ]
  },
  {
   "cell_type": "code",
   "execution_count": 24,
   "metadata": {},
   "outputs": [
    {
     "name": "stdout",
     "output_type": "stream",
     "text": [
      "Coordenada 1:\n",
      "<3,4>\n",
      "Coordenada 2:\n",
      "<-3,-4>\n",
      "Origem:\n",
      "<0,0>\n",
      "25.495097567963924\n",
      "5.0\n",
      "5.0\n",
      "5.0\n",
      "5.0\n",
      "<3,4>\n",
      "25\n"
     ]
    }
   ],
   "source": [
    "c = Coordinate(3,4)\n",
    "c2 = Coordinate(-3,-4)\n",
    "c3 = Coordinate(5,25)\n",
    "origin = Coordinate(0,0)\n",
    "print(\"Coordenada 1:\")\n",
    "print(c)\n",
    "print(\"Coordenada 2:\")\n",
    "print(c2)\n",
    "print(\"Origem:\")\n",
    "print(origin)\n",
    "\n",
    "print(c3.distance(origin))\n",
    "print(c2.distance(origin))\n",
    "print(c.distance(origin))\n",
    "print(Coordinate.distance(c, origin))\n",
    "print(origin.distance(c))\n",
    "print(c)\n",
    "\n",
    "\n",
    "print(c3.y)\n"
   ]
  },
  {
   "cell_type": "code",
   "execution_count": 31,
   "metadata": {},
   "outputs": [],
   "source": [
    "# EXAMPLE: Classe que representa uma coordenada X Y\n",
    "class Coordinate(object):\n",
    "\n",
    "    def __init__(self, x, y):\n",
    "        # configura coordenada x e y\n",
    "        self.__x = x\n",
    "        self.__y = y\n",
    "    def __str__(self):\n",
    "        # Representação em string da coordenada\n",
    "        return \"<\" + str(self.__x) + \",\" + str(self.__y) + \">\"\n",
    "    \n",
    "    def getXY(self):\n",
    "        return (self.__x , self.__y)\n",
    "    \n",
    "    def distance(self, other):\n",
    "        xvar, yvar = other.getXY()\n",
    "        # Calcula distancia euclidiana entre dois pontos\n",
    "        x_diff_sq = (self.__x-xvar)**2\n",
    "        y_diff_sq = (self.__y-yvar)**2\n",
    "        return (x_diff_sq + y_diff_sq)**0.5"
   ]
  },
  {
   "cell_type": "code",
   "execution_count": 33,
   "metadata": {},
   "outputs": [
    {
     "name": "stdout",
     "output_type": "stream",
     "text": [
      "xvar  3  yvar  4\n",
      "Coordenada 1:\n",
      "<3,4>\n",
      "Coordenada 2:\n",
      "<-3,-4>\n",
      "Origem:\n",
      "<0,0>\n",
      "25.495097567963924\n",
      "5.0\n",
      "5.0\n",
      "5.0\n",
      "5.0\n",
      "<3,4>\n"
     ]
    }
   ],
   "source": [
    "c = Coordinate(3,4)\n",
    "xvar,yvar = c.getXY()\n",
    "print(\"xvar \",xvar,\" yvar \",yvar)\n",
    "\n",
    "c2 = Coordinate(-3,-4)\n",
    "c3 = Coordinate(5,25)\n",
    "origin = Coordinate(0,0)\n",
    "print(\"Coordenada 1:\")\n",
    "print(c)\n",
    "print(\"Coordenada 2:\")\n",
    "print(c2)\n",
    "print(\"Origem:\")\n",
    "print(origin)\n",
    "\n",
    "print(c3.distance(origin))\n",
    "print(c2.distance(origin))\n",
    "print(c.distance(origin))\n",
    "print(Coordinate.distance(c, origin))\n",
    "print(origin.distance(c))\n",
    "print(c)\n",
    "\n",
    "\n",
    "\n"
   ]
  },
  {
   "cell_type": "code",
   "execution_count": null,
   "metadata": {},
   "outputs": [],
   "source": []
  }
 ],
 "metadata": {
  "kernelspec": {
   "display_name": "Python [conda env:.conda-trackml6]",
   "language": "python",
   "name": "conda-env-.conda-trackml6-py"
  },
  "language_info": {
   "codemirror_mode": {
    "name": "ipython",
    "version": 3
   },
   "file_extension": ".py",
   "mimetype": "text/x-python",
   "name": "python",
   "nbconvert_exporter": "python",
   "pygments_lexer": "ipython3",
   "version": "3.7.4"
  }
 },
 "nbformat": 4,
 "nbformat_minor": 2
}
